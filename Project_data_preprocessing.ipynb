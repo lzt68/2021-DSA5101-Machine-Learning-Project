{
 "cells": [
  {
   "cell_type": "code",
   "execution_count": null,
   "outputs": [],
   "source": [],
   "metadata": {
    "collapsed": false,
    "pycharm": {
     "name": "#%%\n"
    }
   }
  },
  {
   "cell_type": "markdown",
   "source": [
    "- some source code:\n",
    "1. PCA\n",
    "2. (https://stackoverflow.com/questions/50796024/feature-variable-importance-after-a-pca-analysis)\n",
    "3. Correlation regarding to categorical data\n",
    "4. (https://medium.com/@outside2SDs/an-overview-of-correlation-measures-between-categorical-and-continuous-variables-4c7f85610365)"
   ],
   "metadata": {
    "collapsed": false
   }
  },
  {
   "cell_type": "code",
   "execution_count": 1,
   "outputs": [],
   "source": [
    "import pandas as pd\n",
    "import numpy as np\n",
    "from sklearn.model_selection import KFold\n",
    "import seaborn as sns\n",
    "import matplotlib as plt\n",
    "from xgboost import XGBClassifier\n",
    "from sklearn.metrics import matthews_corrcoef\n",
    "from sklearn import svm\n",
    "from sklearn import preprocessing\n",
    "from sklearn.model_selection import cross_val_score\n",
    "from sklearn.utils import resample\n",
    "from sklearn.model_selection import KFold\n",
    "from sklearn.model_selection import StratifiedKFold\n",
    "from sklearn.model_selection import GridSearchCV\n",
    "from sklearn.svm import SVC\n",
    "import prince\n",
    "from sklearn.model_selection import train_test_split\n",
    "from matplotlib import pyplot"
   ],
   "metadata": {
    "collapsed": false,
    "pycharm": {
     "name": "#%%\n"
    }
   }
  },
  {
   "cell_type": "code",
   "execution_count": 2,
   "outputs": [
    {
     "data": {
      "text/plain": "'1.3.3'"
     },
     "execution_count": 2,
     "metadata": {},
     "output_type": "execute_result"
    }
   ],
   "source": [
    "pd.__version__"
   ],
   "metadata": {
    "collapsed": false,
    "pycharm": {
     "name": "#%%\n"
    }
   }
  },
  {
   "cell_type": "code",
   "execution_count": 3,
   "outputs": [],
   "source": [
    "df = pd.read_csv('C:/Users/Jake/PycharmProjects/DSML_Study/data/bank-full.csv')"
   ],
   "metadata": {
    "collapsed": false,
    "pycharm": {
     "name": "#%%\n"
    }
   }
  },
  {
   "cell_type": "code",
   "execution_count": 4,
   "outputs": [
    {
     "data": {
      "text/plain": "(45211, 2)"
     },
     "execution_count": 4,
     "metadata": {},
     "output_type": "execute_result"
    }
   ],
   "source": [
    "df.shape"
   ],
   "metadata": {
    "collapsed": false,
    "pycharm": {
     "name": "#%%\n"
    }
   }
  },
  {
   "cell_type": "code",
   "execution_count": 5,
   "outputs": [],
   "source": [
    "name_list = list(df.columns)[0].split(';')\n",
    "target = list(df.columns)[0]"
   ],
   "metadata": {
    "collapsed": false,
    "pycharm": {
     "name": "#%%\n"
    }
   }
  },
  {
   "cell_type": "code",
   "execution_count": 6,
   "outputs": [],
   "source": [
    "df[name_list] = df[target].str.split(pat=\";\", expand=True)"
   ],
   "metadata": {
    "collapsed": false,
    "pycharm": {
     "name": "#%%\n"
    }
   }
  },
  {
   "cell_type": "code",
   "execution_count": 7,
   "outputs": [],
   "source": [
    "df = df.drop(columns = target)"
   ],
   "metadata": {
    "collapsed": false,
    "pycharm": {
     "name": "#%%\n"
    }
   }
  },
  {
   "cell_type": "code",
   "execution_count": 8,
   "outputs": [
    {
     "data": {
      "text/plain": "   year age           job  marital  education default balance housing loan  \\\n0  2008  58    management  married   tertiary      no    2143     yes   no   \n1  2008  44    technician   single  secondary      no      29     yes   no   \n2  2008  33  entrepreneur  married  secondary      no       2     yes  yes   \n3  2008  47   blue-collar  married    unknown      no    1506     yes   no   \n4  2008  33       unknown   single    unknown      no       1      no   no   \n\n   contact day month duration campaign pdays previous poutcome   y  \n0  unknown   5   may      261        1    -1        0  unknown  no  \n1  unknown   5   may      151        1    -1        0  unknown  no  \n2  unknown   5   may       76        1    -1        0  unknown  no  \n3  unknown   5   may       92        1    -1        0  unknown  no  \n4  unknown   5   may      198        1    -1        0  unknown  no  ",
      "text/html": "<div>\n<style scoped>\n    .dataframe tbody tr th:only-of-type {\n        vertical-align: middle;\n    }\n\n    .dataframe tbody tr th {\n        vertical-align: top;\n    }\n\n    .dataframe thead th {\n        text-align: right;\n    }\n</style>\n<table border=\"1\" class=\"dataframe\">\n  <thead>\n    <tr style=\"text-align: right;\">\n      <th></th>\n      <th>year</th>\n      <th>age</th>\n      <th>job</th>\n      <th>marital</th>\n      <th>education</th>\n      <th>default</th>\n      <th>balance</th>\n      <th>housing</th>\n      <th>loan</th>\n      <th>contact</th>\n      <th>day</th>\n      <th>month</th>\n      <th>duration</th>\n      <th>campaign</th>\n      <th>pdays</th>\n      <th>previous</th>\n      <th>poutcome</th>\n      <th>y</th>\n    </tr>\n  </thead>\n  <tbody>\n    <tr>\n      <th>0</th>\n      <td>2008</td>\n      <td>58</td>\n      <td>management</td>\n      <td>married</td>\n      <td>tertiary</td>\n      <td>no</td>\n      <td>2143</td>\n      <td>yes</td>\n      <td>no</td>\n      <td>unknown</td>\n      <td>5</td>\n      <td>may</td>\n      <td>261</td>\n      <td>1</td>\n      <td>-1</td>\n      <td>0</td>\n      <td>unknown</td>\n      <td>no</td>\n    </tr>\n    <tr>\n      <th>1</th>\n      <td>2008</td>\n      <td>44</td>\n      <td>technician</td>\n      <td>single</td>\n      <td>secondary</td>\n      <td>no</td>\n      <td>29</td>\n      <td>yes</td>\n      <td>no</td>\n      <td>unknown</td>\n      <td>5</td>\n      <td>may</td>\n      <td>151</td>\n      <td>1</td>\n      <td>-1</td>\n      <td>0</td>\n      <td>unknown</td>\n      <td>no</td>\n    </tr>\n    <tr>\n      <th>2</th>\n      <td>2008</td>\n      <td>33</td>\n      <td>entrepreneur</td>\n      <td>married</td>\n      <td>secondary</td>\n      <td>no</td>\n      <td>2</td>\n      <td>yes</td>\n      <td>yes</td>\n      <td>unknown</td>\n      <td>5</td>\n      <td>may</td>\n      <td>76</td>\n      <td>1</td>\n      <td>-1</td>\n      <td>0</td>\n      <td>unknown</td>\n      <td>no</td>\n    </tr>\n    <tr>\n      <th>3</th>\n      <td>2008</td>\n      <td>47</td>\n      <td>blue-collar</td>\n      <td>married</td>\n      <td>unknown</td>\n      <td>no</td>\n      <td>1506</td>\n      <td>yes</td>\n      <td>no</td>\n      <td>unknown</td>\n      <td>5</td>\n      <td>may</td>\n      <td>92</td>\n      <td>1</td>\n      <td>-1</td>\n      <td>0</td>\n      <td>unknown</td>\n      <td>no</td>\n    </tr>\n    <tr>\n      <th>4</th>\n      <td>2008</td>\n      <td>33</td>\n      <td>unknown</td>\n      <td>single</td>\n      <td>unknown</td>\n      <td>no</td>\n      <td>1</td>\n      <td>no</td>\n      <td>no</td>\n      <td>unknown</td>\n      <td>5</td>\n      <td>may</td>\n      <td>198</td>\n      <td>1</td>\n      <td>-1</td>\n      <td>0</td>\n      <td>unknown</td>\n      <td>no</td>\n    </tr>\n  </tbody>\n</table>\n</div>"
     },
     "execution_count": 8,
     "metadata": {},
     "output_type": "execute_result"
    }
   ],
   "source": [
    "'removing \"\" in the dataframe'\n",
    "df = df.replace('\"','', regex =True)\n",
    "df.columns = df.columns.str.replace('\"','')\n",
    "df.head()"
   ],
   "metadata": {
    "collapsed": false,
    "pycharm": {
     "name": "#%%\n"
    }
   }
  },
  {
   "cell_type": "markdown",
   "source": [
    "# 1. Knowing the data"
   ],
   "metadata": {
    "collapsed": false
   }
  },
  {
   "cell_type": "code",
   "execution_count": 9,
   "outputs": [
    {
     "name": "stdout",
     "output_type": "stream",
     "text": [
      "Data shape: (45211, 18)\n"
     ]
    }
   ],
   "source": [
    "def table(my_df):\n",
    "    total = len(my_df)\n",
    "    print('Data shape:' , my_df.shape)\n",
    "    summary = pd.DataFrame(my_df.dtypes, columns = ['data_type'])\n",
    "    summary['Missing data in %'] = my_df.isnull().sum().values/total *100\n",
    "    summary['Unique'] = my_df.nunique().values\n",
    "    summary['First Value'] = my_df.loc[0].values\n",
    "    summary['Second Value'] = my_df.loc[1].values\n",
    "    summary['Third Value'] = my_df.loc[2].values\n",
    "\n",
    "    return summary\n",
    "\n",
    "def intersection(lst_1, lst_2):\n",
    "    lst_3 = [value for value in lst_1 if value in lst_2]\n",
    "    return lst_3\n",
    "\n",
    "t = table(df)\n",
    "temp_df = df"
   ],
   "metadata": {
    "collapsed": false,
    "pycharm": {
     "name": "#%%\n"
    }
   }
  },
  {
   "cell_type": "code",
   "execution_count": 10,
   "outputs": [
    {
     "data": {
      "text/plain": "          data_type  Missing data in %  Unique First Value Second Value  \\\nyear          int64                0.0       3        2008         2008   \nage          object                0.0      77          58           44   \njob          object                0.0      12  management   technician   \nmarital      object                0.0       3     married       single   \neducation    object                0.0       4    tertiary    secondary   \ndefault      object                0.0       2          no           no   \nbalance      object                0.0    7168        2143           29   \nhousing      object                0.0       2         yes          yes   \nloan         object                0.0       2          no           no   \ncontact      object                0.0       3     unknown      unknown   \nday          object                0.0      31           5            5   \nmonth        object                0.0      12         may          may   \nduration     object                0.0    1573         261          151   \ncampaign     object                0.0      48           1            1   \npdays        object                0.0     559          -1           -1   \nprevious     object                0.0      41           0            0   \npoutcome     object                0.0       4     unknown      unknown   \ny            object                0.0       2          no           no   \n\n            Third Value  \nyear               2008  \nage                  33  \njob        entrepreneur  \nmarital         married  \neducation     secondary  \ndefault              no  \nbalance               2  \nhousing             yes  \nloan                yes  \ncontact         unknown  \nday                   5  \nmonth               may  \nduration             76  \ncampaign              1  \npdays                -1  \nprevious              0  \npoutcome        unknown  \ny                    no  ",
      "text/html": "<div>\n<style scoped>\n    .dataframe tbody tr th:only-of-type {\n        vertical-align: middle;\n    }\n\n    .dataframe tbody tr th {\n        vertical-align: top;\n    }\n\n    .dataframe thead th {\n        text-align: right;\n    }\n</style>\n<table border=\"1\" class=\"dataframe\">\n  <thead>\n    <tr style=\"text-align: right;\">\n      <th></th>\n      <th>data_type</th>\n      <th>Missing data in %</th>\n      <th>Unique</th>\n      <th>First Value</th>\n      <th>Second Value</th>\n      <th>Third Value</th>\n    </tr>\n  </thead>\n  <tbody>\n    <tr>\n      <th>year</th>\n      <td>int64</td>\n      <td>0.0</td>\n      <td>3</td>\n      <td>2008</td>\n      <td>2008</td>\n      <td>2008</td>\n    </tr>\n    <tr>\n      <th>age</th>\n      <td>object</td>\n      <td>0.0</td>\n      <td>77</td>\n      <td>58</td>\n      <td>44</td>\n      <td>33</td>\n    </tr>\n    <tr>\n      <th>job</th>\n      <td>object</td>\n      <td>0.0</td>\n      <td>12</td>\n      <td>management</td>\n      <td>technician</td>\n      <td>entrepreneur</td>\n    </tr>\n    <tr>\n      <th>marital</th>\n      <td>object</td>\n      <td>0.0</td>\n      <td>3</td>\n      <td>married</td>\n      <td>single</td>\n      <td>married</td>\n    </tr>\n    <tr>\n      <th>education</th>\n      <td>object</td>\n      <td>0.0</td>\n      <td>4</td>\n      <td>tertiary</td>\n      <td>secondary</td>\n      <td>secondary</td>\n    </tr>\n    <tr>\n      <th>default</th>\n      <td>object</td>\n      <td>0.0</td>\n      <td>2</td>\n      <td>no</td>\n      <td>no</td>\n      <td>no</td>\n    </tr>\n    <tr>\n      <th>balance</th>\n      <td>object</td>\n      <td>0.0</td>\n      <td>7168</td>\n      <td>2143</td>\n      <td>29</td>\n      <td>2</td>\n    </tr>\n    <tr>\n      <th>housing</th>\n      <td>object</td>\n      <td>0.0</td>\n      <td>2</td>\n      <td>yes</td>\n      <td>yes</td>\n      <td>yes</td>\n    </tr>\n    <tr>\n      <th>loan</th>\n      <td>object</td>\n      <td>0.0</td>\n      <td>2</td>\n      <td>no</td>\n      <td>no</td>\n      <td>yes</td>\n    </tr>\n    <tr>\n      <th>contact</th>\n      <td>object</td>\n      <td>0.0</td>\n      <td>3</td>\n      <td>unknown</td>\n      <td>unknown</td>\n      <td>unknown</td>\n    </tr>\n    <tr>\n      <th>day</th>\n      <td>object</td>\n      <td>0.0</td>\n      <td>31</td>\n      <td>5</td>\n      <td>5</td>\n      <td>5</td>\n    </tr>\n    <tr>\n      <th>month</th>\n      <td>object</td>\n      <td>0.0</td>\n      <td>12</td>\n      <td>may</td>\n      <td>may</td>\n      <td>may</td>\n    </tr>\n    <tr>\n      <th>duration</th>\n      <td>object</td>\n      <td>0.0</td>\n      <td>1573</td>\n      <td>261</td>\n      <td>151</td>\n      <td>76</td>\n    </tr>\n    <tr>\n      <th>campaign</th>\n      <td>object</td>\n      <td>0.0</td>\n      <td>48</td>\n      <td>1</td>\n      <td>1</td>\n      <td>1</td>\n    </tr>\n    <tr>\n      <th>pdays</th>\n      <td>object</td>\n      <td>0.0</td>\n      <td>559</td>\n      <td>-1</td>\n      <td>-1</td>\n      <td>-1</td>\n    </tr>\n    <tr>\n      <th>previous</th>\n      <td>object</td>\n      <td>0.0</td>\n      <td>41</td>\n      <td>0</td>\n      <td>0</td>\n      <td>0</td>\n    </tr>\n    <tr>\n      <th>poutcome</th>\n      <td>object</td>\n      <td>0.0</td>\n      <td>4</td>\n      <td>unknown</td>\n      <td>unknown</td>\n      <td>unknown</td>\n    </tr>\n    <tr>\n      <th>y</th>\n      <td>object</td>\n      <td>0.0</td>\n      <td>2</td>\n      <td>no</td>\n      <td>no</td>\n      <td>no</td>\n    </tr>\n  </tbody>\n</table>\n</div>"
     },
     "execution_count": 10,
     "metadata": {},
     "output_type": "execute_result"
    }
   ],
   "source": [
    "t"
   ],
   "metadata": {
    "collapsed": false,
    "pycharm": {
     "name": "#%%\n"
    }
   }
  },
  {
   "cell_type": "code",
   "execution_count": 11,
   "outputs": [
    {
     "data": {
      "text/plain": "         data_type  Missing data in %  Unique First Value Second Value  \\\nloan        object                0.0       2          no           no   \ncontact     object                0.0       3     unknown      unknown   \nday         object                0.0      31           5            5   \nmonth       object                0.0      12         may          may   \nduration    object                0.0    1573         261          151   \ncampaign    object                0.0      48           1            1   \npdays       object                0.0     559          -1           -1   \nprevious    object                0.0      41           0            0   \npoutcome    object                0.0       4     unknown      unknown   \ny           object                0.0       2          no           no   \n\n         Third Value  \nloan             yes  \ncontact      unknown  \nday                5  \nmonth            may  \nduration          76  \ncampaign           1  \npdays             -1  \nprevious           0  \npoutcome     unknown  \ny                 no  ",
      "text/html": "<div>\n<style scoped>\n    .dataframe tbody tr th:only-of-type {\n        vertical-align: middle;\n    }\n\n    .dataframe tbody tr th {\n        vertical-align: top;\n    }\n\n    .dataframe thead th {\n        text-align: right;\n    }\n</style>\n<table border=\"1\" class=\"dataframe\">\n  <thead>\n    <tr style=\"text-align: right;\">\n      <th></th>\n      <th>data_type</th>\n      <th>Missing data in %</th>\n      <th>Unique</th>\n      <th>First Value</th>\n      <th>Second Value</th>\n      <th>Third Value</th>\n    </tr>\n  </thead>\n  <tbody>\n    <tr>\n      <th>loan</th>\n      <td>object</td>\n      <td>0.0</td>\n      <td>2</td>\n      <td>no</td>\n      <td>no</td>\n      <td>yes</td>\n    </tr>\n    <tr>\n      <th>contact</th>\n      <td>object</td>\n      <td>0.0</td>\n      <td>3</td>\n      <td>unknown</td>\n      <td>unknown</td>\n      <td>unknown</td>\n    </tr>\n    <tr>\n      <th>day</th>\n      <td>object</td>\n      <td>0.0</td>\n      <td>31</td>\n      <td>5</td>\n      <td>5</td>\n      <td>5</td>\n    </tr>\n    <tr>\n      <th>month</th>\n      <td>object</td>\n      <td>0.0</td>\n      <td>12</td>\n      <td>may</td>\n      <td>may</td>\n      <td>may</td>\n    </tr>\n    <tr>\n      <th>duration</th>\n      <td>object</td>\n      <td>0.0</td>\n      <td>1573</td>\n      <td>261</td>\n      <td>151</td>\n      <td>76</td>\n    </tr>\n    <tr>\n      <th>campaign</th>\n      <td>object</td>\n      <td>0.0</td>\n      <td>48</td>\n      <td>1</td>\n      <td>1</td>\n      <td>1</td>\n    </tr>\n    <tr>\n      <th>pdays</th>\n      <td>object</td>\n      <td>0.0</td>\n      <td>559</td>\n      <td>-1</td>\n      <td>-1</td>\n      <td>-1</td>\n    </tr>\n    <tr>\n      <th>previous</th>\n      <td>object</td>\n      <td>0.0</td>\n      <td>41</td>\n      <td>0</td>\n      <td>0</td>\n      <td>0</td>\n    </tr>\n    <tr>\n      <th>poutcome</th>\n      <td>object</td>\n      <td>0.0</td>\n      <td>4</td>\n      <td>unknown</td>\n      <td>unknown</td>\n      <td>unknown</td>\n    </tr>\n    <tr>\n      <th>y</th>\n      <td>object</td>\n      <td>0.0</td>\n      <td>2</td>\n      <td>no</td>\n      <td>no</td>\n      <td>no</td>\n    </tr>\n  </tbody>\n</table>\n</div>"
     },
     "execution_count": 11,
     "metadata": {},
     "output_type": "execute_result"
    }
   ],
   "source": [
    "t.tail(10)\n",
    "#t[t['Missing data in %'] >= 80]\n",
    "#print(t[:25])\n",
    "#print(type(t))"
   ],
   "metadata": {
    "collapsed": false,
    "pycharm": {
     "name": "#%%\n"
    }
   }
  },
  {
   "cell_type": "markdown",
   "source": [
    "**Categorical Features - Transaction**\n",
    "\n",
    "- Job\n",
    "- Marital\n",
    "- Education\n",
    "- Default\n",
    "- Housing\n",
    "- Loan\n",
    "- Contact\n",
    "- Month (could convert to numerical)\n",
    "- Poutcome\n",
    "- y (the outcome that we need to predict)\n",
    "\n",
    "First we pay attention to the distribution of the data."
   ],
   "metadata": {
    "collapsed": false
   }
  },
  {
   "cell_type": "markdown",
   "source": [
    "# 2. Target Distribution\n"
   ],
   "metadata": {
    "collapsed": false
   }
  },
  {
   "cell_type": "code",
   "execution_count": 12,
   "outputs": [],
   "source": [
    "list1 = df['y'].values.tolist()\n",
    "yes_count = 0\n",
    "no_count = 0\n",
    "for counter in list1:\n",
    "    if counter == 'yes':\n",
    "        yes_count +=1\n",
    "    else:\n",
    "        no_count +=1\n",
    "yes_ratio = yes_count/len(list1)\n",
    "no_ratio= no_count/len(list1)"
   ],
   "metadata": {
    "collapsed": false,
    "pycharm": {
     "name": "#%%\n"
    }
   }
  },
  {
   "cell_type": "code",
   "execution_count": 13,
   "outputs": [
    {
     "name": "stdout",
     "output_type": "stream",
     "text": [
      "7.548118737001324\n"
     ]
    },
    {
     "data": {
      "text/plain": "<Figure size 360x360 with 1 Axes>",
      "image/png": "[encoded data removed]"
     },
     "metadata": {},
     "output_type": "display_data"
    }
   ],
   "source": [
    "sns.set_theme(style = 'whitegrid')\n",
    "ax = sns.displot(data = df['y'])\n",
    "ax.set_xlabels('No ratio ' + '{:1.2f}%'.format(no_ratio*100) + ' Vs ' + 'Yes ratio '+'{:1.2f}%'.format(yes_ratio*100))\n",
    "my_scale_pos_weight = no_count/yes_count\n",
    "print(my_scale_pos_weight)"
   ],
   "metadata": {
    "collapsed": false,
    "pycharm": {
     "name": "#%%\n"
    }
   }
  },
  {
   "cell_type": "markdown",
   "source": [
    "We have only 11.7% 'yes' in our dataset, hence the data is somehow imbalanced."
   ],
   "metadata": {
    "collapsed": false
   }
  },
  {
   "cell_type": "markdown",
   "source": [
    "Now let's take a look at the distribution of some numerical feature."
   ],
   "metadata": {
    "collapsed": false
   }
  },
  {
   "cell_type": "code",
   "execution_count": 14,
   "outputs": [],
   "source": [
    "numeric_list = ['balance','duration', 'pdays', 'previous', 'age', 'campaign', 'day']\n",
    "\n",
    "df['balance'] = pd.to_numeric(df['balance'])\n",
    "df['duration'] = pd.to_numeric(df['duration'])\n",
    "df['pdays'] = pd.to_numeric(df['pdays'])\n",
    "df['previous'] = pd.to_numeric(df['previous'])\n",
    "df['age'] = pd.to_numeric(df['age'])\n",
    "df['campaign'] = pd.to_numeric(df['campaign'])\n",
    "df['day'] = pd.to_numeric((df['day']))"
   ],
   "metadata": {
    "collapsed": false,
    "pycharm": {
     "name": "#%%\n"
    }
   }
  },
  {
   "cell_type": "code",
   "execution_count": 15,
   "outputs": [
    {
     "data": {
      "text/plain": "<AxesSubplot:ylabel='balance'>"
     },
     "execution_count": 15,
     "metadata": {},
     "output_type": "execute_result"
    },
    {
     "data": {
      "text/plain": "<Figure size 432x288 with 1 Axes>",
      "image/png": "[encoded data removed]"
     },
     "metadata": {},
     "output_type": "display_data"
    }
   ],
   "source": [
    "sns.scatterplot(data = df['balance'])"
   ],
   "metadata": {
    "collapsed": false,
    "pycharm": {
     "name": "#%%\n"
    }
   }
  },
  {
   "cell_type": "code",
   "execution_count": 16,
   "outputs": [
    {
     "data": {
      "text/plain": "'pdays: number of days that passed by after the client was last contacted from a previous campaign (numeric, -1 means client was not previously contacted)'"
     },
     "execution_count": 16,
     "metadata": {},
     "output_type": "execute_result"
    },
    {
     "data": {
      "text/plain": "<Figure size 432x288 with 1 Axes>",
      "image/png": "[encoded data removed]"
     },
     "metadata": {},
     "output_type": "display_data"
    }
   ],
   "source": [
    "sns.scatterplot(data = df['pdays'])\n",
    "'pdays: number of days that passed by after the client was last contacted from ' \\\n",
    "'a previous campaign (numeric, -1 means client was not previously contacted)'"
   ],
   "metadata": {
    "collapsed": false,
    "pycharm": {
     "name": "#%%\n"
    }
   }
  },
  {
   "cell_type": "code",
   "execution_count": 17,
   "outputs": [],
   "source": [
    "def Calculate_outliers(df_num):\n",
    "    # calculating mean and std of the array\n",
    "    data_mean, data_std = np.mean(df_num), np.std(df_num)\n",
    "    cut = data_std * 3\n",
    "    lower, upper = data_mean - cut, data_mean + cut\n",
    "\n",
    "    # creating an array of lower, higher and total outlier values\n",
    "    outliers_lower = [x for x in df_num if x < lower]\n",
    "    outliers_higher = [x for x in df_num if x > upper]\n",
    "    outliers_total = [x for x in df_num if x < lower or x > upper]\n",
    "\n",
    "    # array without outlier values\n",
    "    outliers_removed = [x for x in df_num if x > lower and x < upper]\n",
    "\n",
    "    print('Identified lowest outliers: %d' % len(outliers_lower)) # printing total number of values in lower cut of outliers\n",
    "    print('Identified upper outliers: %d' % len(outliers_higher)) # printing total number of values in higher cut of outliers\n",
    "    print('Total outlier observations: %d' % len(outliers_total)) # printing total number of values outliers of both sides\n",
    "    print('Non-outlier observations: %d' % len(outliers_removed)) # printing total number of non outlier values\n",
    "    print(\"Total percentual of Outliers: \", round((len(outliers_total) / len(outliers_removed) )*100, 4)) # Percentual of outliers in points\n",
    "\n",
    "    return outliers_total"
   ],
   "metadata": {
    "collapsed": false,
    "pycharm": {
     "name": "#%%\n"
    }
   }
  },
  {
   "cell_type": "code",
   "execution_count": 18,
   "outputs": [
    {
     "name": "stdout",
     "output_type": "stream",
     "text": [
      "Identified lowest outliers: 1\n",
      "Identified upper outliers: 744\n",
      "Total outlier observations: 745\n",
      "Non-outlier observations: 44466\n",
      "Total percentual of Outliers:  1.6754\n"
     ]
    }
   ],
   "source": [
    "out_balance = Calculate_outliers(df['balance'])"
   ],
   "metadata": {
    "collapsed": false,
    "pycharm": {
     "name": "#%%\n"
    }
   }
  },
  {
   "cell_type": "code",
   "execution_count": 19,
   "outputs": [
    {
     "data": {
      "text/plain": "10500"
     },
     "execution_count": 19,
     "metadata": {},
     "output_type": "execute_result"
    }
   ],
   "source": [
    "minimal = min(out_balance)\n",
    "pos_out = out_balance.copy()\n",
    "pos_out.remove(minimal)\n",
    "min(pos_out) #get the positive minimal of the outliers"
   ],
   "metadata": {
    "collapsed": false,
    "pycharm": {
     "name": "#%%\n"
    }
   }
  },
  {
   "cell_type": "code",
   "execution_count": 20,
   "outputs": [
    {
     "data": {
      "text/plain": "     year  age         job marital education default  balance housing loan  \\\n446  2008   39  technician  single   unknown      no    45248     yes   no   \n\n     contact  day month  duration  campaign  pdays  previous poutcome    y  \n446  unknown    6   may      1623         1     -1         0  unknown  yes  ",
      "text/html": "<div>\n<style scoped>\n    .dataframe tbody tr th:only-of-type {\n        vertical-align: middle;\n    }\n\n    .dataframe tbody tr th {\n        vertical-align: top;\n    }\n\n    .dataframe thead th {\n        text-align: right;\n    }\n</style>\n<table border=\"1\" class=\"dataframe\">\n  <thead>\n    <tr style=\"text-align: right;\">\n      <th></th>\n      <th>year</th>\n      <th>age</th>\n      <th>job</th>\n      <th>marital</th>\n      <th>education</th>\n      <th>default</th>\n      <th>balance</th>\n      <th>housing</th>\n      <th>loan</th>\n      <th>contact</th>\n      <th>day</th>\n      <th>month</th>\n      <th>duration</th>\n      <th>campaign</th>\n      <th>pdays</th>\n      <th>previous</th>\n      <th>poutcome</th>\n      <th>y</th>\n    </tr>\n  </thead>\n  <tbody>\n    <tr>\n      <th>446</th>\n      <td>2008</td>\n      <td>39</td>\n      <td>technician</td>\n      <td>single</td>\n      <td>unknown</td>\n      <td>no</td>\n      <td>45248</td>\n      <td>yes</td>\n      <td>no</td>\n      <td>unknown</td>\n      <td>6</td>\n      <td>may</td>\n      <td>1623</td>\n      <td>1</td>\n      <td>-1</td>\n      <td>0</td>\n      <td>unknown</td>\n      <td>yes</td>\n    </tr>\n  </tbody>\n</table>\n</div>"
     },
     "execution_count": 20,
     "metadata": {},
     "output_type": "execute_result"
    }
   ],
   "source": [
    "'Here we list an example for one of outliers'\n",
    "df.loc[df['balance'] == out_balance[3]]"
   ],
   "metadata": {
    "collapsed": false,
    "pycharm": {
     "name": "#%%\n"
    }
   }
  },
  {
   "cell_type": "markdown",
   "source": [
    "- In general, we will avoid the outliers and has more confidence in our distribution regarding to balance if\n",
    "we set our balance value in the range(0, 10558)\n",
    "- Notice that the ourliers only constitude 1.68% of the whole data and we have 40K rows in total."
   ],
   "metadata": {
    "collapsed": false
   }
  },
  {
   "cell_type": "code",
   "execution_count": 21,
   "outputs": [
    {
     "name": "stdout",
     "output_type": "stream",
     "text": [
      "Identified lowest outliers: 0\n",
      "Identified upper outliers: 1723\n",
      "Total outlier observations: 1723\n",
      "Non-outlier observations: 43488\n",
      "Total percentual of Outliers:  3.962\n"
     ]
    }
   ],
   "source": [
    "out_pdays = Calculate_outliers(df['pdays'])"
   ],
   "metadata": {
    "collapsed": false,
    "pycharm": {
     "name": "#%%\n"
    }
   }
  },
  {
   "cell_type": "code",
   "execution_count": 22,
   "outputs": [
    {
     "data": {
      "text/plain": "341"
     },
     "execution_count": 22,
     "metadata": {},
     "output_type": "execute_result"
    }
   ],
   "source": [
    "min(out_pdays)"
   ],
   "metadata": {
    "collapsed": false,
    "pycharm": {
     "name": "#%%\n"
    }
   }
  },
  {
   "cell_type": "code",
   "execution_count": 23,
   "outputs": [
    {
     "data": {
      "text/plain": "       year  age          job  marital  education default  balance housing  \\\n32111  2009   32     services  married  secondary      no     1129     yes   \n33073  2009   36  blue-collar  married  secondary      no     1589     yes   \n33074  2009   32       admin.  married  secondary      no      413     yes   \n\n      loan   contact  day month  duration  campaign  pdays  previous poutcome  \\\n32111   no  cellular   15   apr       903         2    341         2  failure   \n33073   no  cellular   20   apr       345         2    341         6    other   \n33074   no  cellular   20   apr        95         3    341         2  failure   \n\n         y  \n32111  yes  \n33073   no  \n33074   no  ",
      "text/html": "<div>\n<style scoped>\n    .dataframe tbody tr th:only-of-type {\n        vertical-align: middle;\n    }\n\n    .dataframe tbody tr th {\n        vertical-align: top;\n    }\n\n    .dataframe thead th {\n        text-align: right;\n    }\n</style>\n<table border=\"1\" class=\"dataframe\">\n  <thead>\n    <tr style=\"text-align: right;\">\n      <th></th>\n      <th>year</th>\n      <th>age</th>\n      <th>job</th>\n      <th>marital</th>\n      <th>education</th>\n      <th>default</th>\n      <th>balance</th>\n      <th>housing</th>\n      <th>loan</th>\n      <th>contact</th>\n      <th>day</th>\n      <th>month</th>\n      <th>duration</th>\n      <th>campaign</th>\n      <th>pdays</th>\n      <th>previous</th>\n      <th>poutcome</th>\n      <th>y</th>\n    </tr>\n  </thead>\n  <tbody>\n    <tr>\n      <th>32111</th>\n      <td>2009</td>\n      <td>32</td>\n      <td>services</td>\n      <td>married</td>\n      <td>secondary</td>\n      <td>no</td>\n      <td>1129</td>\n      <td>yes</td>\n      <td>no</td>\n      <td>cellular</td>\n      <td>15</td>\n      <td>apr</td>\n      <td>903</td>\n      <td>2</td>\n      <td>341</td>\n      <td>2</td>\n      <td>failure</td>\n      <td>yes</td>\n    </tr>\n    <tr>\n      <th>33073</th>\n      <td>2009</td>\n      <td>36</td>\n      <td>blue-collar</td>\n      <td>married</td>\n      <td>secondary</td>\n      <td>no</td>\n      <td>1589</td>\n      <td>yes</td>\n      <td>no</td>\n      <td>cellular</td>\n      <td>20</td>\n      <td>apr</td>\n      <td>345</td>\n      <td>2</td>\n      <td>341</td>\n      <td>6</td>\n      <td>other</td>\n      <td>no</td>\n    </tr>\n    <tr>\n      <th>33074</th>\n      <td>2009</td>\n      <td>32</td>\n      <td>admin.</td>\n      <td>married</td>\n      <td>secondary</td>\n      <td>no</td>\n      <td>413</td>\n      <td>yes</td>\n      <td>no</td>\n      <td>cellular</td>\n      <td>20</td>\n      <td>apr</td>\n      <td>95</td>\n      <td>3</td>\n      <td>341</td>\n      <td>2</td>\n      <td>failure</td>\n      <td>no</td>\n    </tr>\n  </tbody>\n</table>\n</div>"
     },
     "execution_count": 23,
     "metadata": {},
     "output_type": "execute_result"
    }
   ],
   "source": [
    "'Here list some outliers as previous'\n",
    "df.loc[df['pdays'] == out_pdays[0]].head(3)"
   ],
   "metadata": {
    "collapsed": false,
    "pycharm": {
     "name": "#%%\n"
    }
   }
  },
  {
   "cell_type": "markdown",
   "source": [
    "Now we try to deal with categorical data\n",
    "- For day and month, since the column for year is missing, we can not transfer the day and month comlumn to datetime data type\n",
    "- Hence, we regard the day as numeric data and month as categorical data and group by season for further investigation.\n",
    "\n",
    "- First we try xgboost, note xgboost has support for categorical data using gpu_hist and gpu_predictor.\n"
   ],
   "metadata": {
    "collapsed": false
   }
  },
  {
   "cell_type": "markdown",
   "source": [
    "# 3. Feature Engineering"
   ],
   "metadata": {
    "collapsed": false
   }
  },
  {
   "cell_type": "markdown",
   "source": [
    "- First encode the categorical data and drop the outliers for pdays, it is reasonable since"
   ],
   "metadata": {
    "collapsed": false
   }
  },
  {
   "cell_type": "code",
   "execution_count": 24,
   "outputs": [],
   "source": [
    "one_hot_columns = ['job', 'marital', 'education', 'contact', 'poutcome', 'month']"
   ],
   "metadata": {
    "collapsed": false,
    "pycharm": {
     "name": "#%%\n"
    }
   }
  },
  {
   "cell_type": "code",
   "execution_count": 25,
   "outputs": [],
   "source": [
    "one_hot_df = df[one_hot_columns]\n",
    "one_hot_df = pd.get_dummies(one_hot_df, columns=one_hot_columns)\n",
    "df_drop = df.drop(one_hot_columns, axis = 1)\n",
    "df_one_hot = pd.concat([df_drop, one_hot_df], axis=1)"
   ],
   "metadata": {
    "collapsed": false,
    "pycharm": {
     "name": "#%%\n"
    }
   }
  },
  {
   "cell_type": "markdown",
   "source": [
    "- We change the binary categorical data to numerical data"
   ],
   "metadata": {
    "collapsed": false
   }
  },
  {
   "cell_type": "code",
   "execution_count": 26,
   "outputs": [
    {
     "data": {
      "text/plain": "(45211, 50)"
     },
     "execution_count": 26,
     "metadata": {},
     "output_type": "execute_result"
    }
   ],
   "source": [
    "binary_list = ['default', 'housing', 'loan', 'y']\n",
    "df_one_hot[binary_list] = df_one_hot[binary_list].replace(to_replace='yes', value=1)\n",
    "df_one_hot[binary_list] = df_one_hot[binary_list].replace(to_replace='no', value=0)\n",
    "df_one_hot.shape"
   ],
   "metadata": {
    "collapsed": false,
    "pycharm": {
     "name": "#%%\n"
    }
   }
  },
  {
   "cell_type": "code",
   "execution_count": 27,
   "outputs": [
    {
     "data": {
      "text/plain": "   year  age  default  balance  housing  loan  day  duration  campaign  pdays  \\\n0  2008   58        0     2143        1     0    5       261         1     -1   \n\n   ...  month_dec  month_feb  month_jan  month_jul  month_jun  month_mar  \\\n0  ...          0          0          0          0          0          0   \n\n   month_may  month_nov  month_oct  month_sep  \n0          1          0          0          0  \n\n[1 rows x 50 columns]",
      "text/html": "<div>\n<style scoped>\n    .dataframe tbody tr th:only-of-type {\n        vertical-align: middle;\n    }\n\n    .dataframe tbody tr th {\n        vertical-align: top;\n    }\n\n    .dataframe thead th {\n        text-align: right;\n    }\n</style>\n<table border=\"1\" class=\"dataframe\">\n  <thead>\n    <tr style=\"text-align: right;\">\n      <th></th>\n      <th>year</th>\n      <th>age</th>\n      <th>default</th>\n      <th>balance</th>\n      <th>housing</th>\n      <th>loan</th>\n      <th>day</th>\n      <th>duration</th>\n      <th>campaign</th>\n      <th>pdays</th>\n      <th>...</th>\n      <th>month_dec</th>\n      <th>month_feb</th>\n      <th>month_jan</th>\n      <th>month_jul</th>\n      <th>month_jun</th>\n      <th>month_mar</th>\n      <th>month_may</th>\n      <th>month_nov</th>\n      <th>month_oct</th>\n      <th>month_sep</th>\n    </tr>\n  </thead>\n  <tbody>\n    <tr>\n      <th>0</th>\n      <td>2008</td>\n      <td>58</td>\n      <td>0</td>\n      <td>2143</td>\n      <td>1</td>\n      <td>0</td>\n      <td>5</td>\n      <td>261</td>\n      <td>1</td>\n      <td>-1</td>\n      <td>...</td>\n      <td>0</td>\n      <td>0</td>\n      <td>0</td>\n      <td>0</td>\n      <td>0</td>\n      <td>0</td>\n      <td>1</td>\n      <td>0</td>\n      <td>0</td>\n      <td>0</td>\n    </tr>\n  </tbody>\n</table>\n<p>1 rows × 50 columns</p>\n</div>"
     },
     "execution_count": 27,
     "metadata": {},
     "output_type": "execute_result"
    }
   ],
   "source": [
    "df_one_hot.head(1)\n"
   ],
   "metadata": {
    "collapsed": false,
    "pycharm": {
     "name": "#%%\n"
    }
   }
  }
 ],
 "metadata": {
  "kernelspec": {
   "display_name": "Python 3",
   "language": "python",
   "name": "python3"
  },
  "language_info": {
   "codemirror_mode": {
    "name": "ipython",
    "version": 2
   },
   "file_extension": ".py",
   "mimetype": "text/x-python",
   "name": "python",
   "nbconvert_exporter": "python",
   "pygments_lexer": "ipython2",
   "version": "2.7.6"
  }
 },
 "nbformat": 4,
 "nbformat_minor": 0
}