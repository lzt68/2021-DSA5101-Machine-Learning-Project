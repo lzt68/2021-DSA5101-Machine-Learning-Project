{
 "cells": [
  {
   "cell_type": "markdown",
   "metadata": {},
   "source": [
    "# Use Forward Selecetion to carry on more meticulous feature selection on Random Forest\n",
    "\n",
    "As we can see in the Model Selection part, \"duration\" and \"age\" have much higher feature importances compared to other features. We would use \"duration\" and \"age\" as our initial features."
   ]
  },
  {
   "cell_type": "code",
   "execution_count": 2,
   "metadata": {
    "code_folding": [
     0
    ]
   },
   "outputs": [
    {
     "name": "stdout",
     "output_type": "stream",
     "text": [
      "number of yes in train 4232, in test 1057, in predict 1122, mcc score is 0.3841\n",
      "number of yes in train 4242, in test 1047, in predict 1140, mcc score is 0.3728\n",
      "number of yes in train 4149, in test 1140, in predict 1165, mcc score is 0.4039\n",
      "number of yes in train 4264, in test 1025, in predict 1071, mcc score is 0.3580\n",
      "number of yes in train 4269, in test 1020, in predict 1109, mcc score is 0.3867\n",
      "mean score 0.3811\n"
     ]
    }
   ],
   "source": [
    "# Initialize the module\n",
    "\n",
    "%reset -f\n",
    "from copy import deepcopy\n",
    "\n",
    "from xgboost.sklearn import XGBClassifier\n",
    "\n",
    "import pandas as pd\n",
    "import numpy as np\n",
    "import matplotlib.pyplot as plt\n",
    "import seaborn as sns\n",
    "\n",
    "from sklearn.tree import DecisionTreeClassifier \n",
    "from sklearn.ensemble import RandomForestClassifier\n",
    "\n",
    "from sklearn.model_selection import cross_val_score\n",
    "from sklearn.metrics import matthews_corrcoef, make_scorer\n",
    "\n",
    "from sklearn.preprocessing import OneHotEncoder\n",
    "from sklearn.model_selection import KFold\n",
    "from sklearn.model_selection import KFold\n",
    "from sklearn.metrics import confusion_matrix\n",
    "\n",
    "from sklearn.model_selection import GridSearchCV\n",
    "\n",
    "from imblearn.over_sampling import SMOTE\n",
    "from imblearn.over_sampling import SMOTENC\n",
    "from imblearn.pipeline import Pipeline as imbpipeline\n",
    "\n",
    "from sklearn.preprocessing import PolynomialFeatures\n",
    "\n",
    "data = pd.read_csv(\"bank-full-add_timestamp.csv\", sep=',', engine=\"python\")\n",
    "\n",
    "y = data['y'].replace({\"yes\":1,\"no\":0})\n",
    "X = deepcopy(data[['duration', 'age']])\n",
    "             \n",
    "# rft {'class_weight': {0: 1, 1: 3}, 'criterion': 'gini', 'max_depth': 15, 'min_samples_leaf': 10, 'n_estimators': 100}\n",
    "para = {'class_weight': {0: 1, 1: 3}, 'criterion': 'gini', 'max_depth': 15, 'min_samples_leaf': 10, 'n_estimators': 100}\n",
    "rftree = RandomForestClassifier(**para)\n",
    "kf = KFold(n_splits=5, shuffle = True, random_state = 123)\n",
    "\n",
    "score_array = np.zeros(5)\n",
    "for (ii, (train_index, test_index)) in enumerate(kf.split(X, y)):\n",
    "#     print(\"TRAIN:\", train_index, \"TEST:\", test_index)\n",
    "    X_train, X_test = X.loc[train_index], X.loc[test_index]\n",
    "    y_train, y_test = y.iloc[train_index], y.iloc[test_index]\n",
    "    rftree.fit(X_train, y_train)\n",
    "    y_predict = rftree.predict(X_test)\n",
    "    myscore = matthews_corrcoef(y_test, y_predict)\n",
    "    score_array[ii] = myscore\n",
    "    print(\"number of yes in train {:d}, in test {:d}, in predict {:d}, mcc score is {:.4f}\".format(y_train.value_counts()[1],\\\n",
    "                                                                                                  y_test.value_counts()[1],\\\n",
    "                                                                                                  sum(y_predict),\\\n",
    "                                                                                                  myscore))\n",
    "print(\"mean score {:.4f}\".format(np.mean(score_array)))\n"
   ]
  },
  {
   "cell_type": "markdown",
   "metadata": {},
   "source": [
    "The baseline score would be 0.3811, following we will carry on forward selection"
   ]
  },
  {
   "cell_type": "markdown",
   "metadata": {
    "heading_collapsed": true
   },
   "source": [
    "## 猜想一：\n",
    "\n",
    "1. 只有对风险厌恶的人才会搞定期存款，而金融危机会提高人们对风险厌恶程度，所以2008年的定期存款会变多\n",
    "2. 只有当经济条件高的时候，人们才会搞定期存款，因此2008年的定期存款会变少\n",
    "\n",
    "数据： 2010年搞定期的人会变多， 2008年最少\n",
    "\n",
    "加入year并且dummy 提升到了0.4853\n",
    "\n",
    "引入duration和year交叉项，在0.4853上多提升了0.01，因此我们考虑不加入交叉项"
   ]
  },
  {
   "cell_type": "code",
   "execution_count": 6,
   "metadata": {
    "hidden": true
   },
   "outputs": [
    {
     "data": {
      "text/plain": [
       "Index(['age', 'job', 'marital', 'education', 'default', 'balance', 'housing',\n",
       "       'loan', 'contact', 'day', 'month', 'duration', 'campaign', 'pdays',\n",
       "       'previous', 'poutcome', 'y', 'timestamp', 'weekday', 'year_2008',\n",
       "       'year_2009', 'year_2010'],\n",
       "      dtype='object')"
      ]
     },
     "execution_count": 6,
     "metadata": {},
     "output_type": "execute_result"
    }
   ],
   "source": [
    "data['y'].replace({\"yes\":1,\"no\":0}, inplace = True)\n",
    "newdata = pd.get_dummies(data, columns = ['year'])\n",
    "\n",
    "newdata.columns"
   ]
  },
  {
   "cell_type": "code",
   "execution_count": 7,
   "metadata": {
    "hidden": true,
    "scrolled": true
   },
   "outputs": [
    {
     "data": {
      "text/html": [
       "<div>\n",
       "<style scoped>\n",
       "    .dataframe tbody tr th:only-of-type {\n",
       "        vertical-align: middle;\n",
       "    }\n",
       "\n",
       "    .dataframe tbody tr th {\n",
       "        vertical-align: top;\n",
       "    }\n",
       "\n",
       "    .dataframe thead th {\n",
       "        text-align: right;\n",
       "    }\n",
       "</style>\n",
       "<table border=\"1\" class=\"dataframe\">\n",
       "  <thead>\n",
       "    <tr style=\"text-align: right;\">\n",
       "      <th></th>\n",
       "      <th>year_2008</th>\n",
       "      <th>year_2009</th>\n",
       "      <th>year_2010</th>\n",
       "      <th>y</th>\n",
       "    </tr>\n",
       "  </thead>\n",
       "  <tbody>\n",
       "    <tr>\n",
       "      <th>year_2008</th>\n",
       "      <td>1.000000</td>\n",
       "      <td>-0.881329</td>\n",
       "      <td>-0.312366</td>\n",
       "      <td>-0.260426</td>\n",
       "    </tr>\n",
       "    <tr>\n",
       "      <th>year_2009</th>\n",
       "      <td>-0.881329</td>\n",
       "      <td>1.000000</td>\n",
       "      <td>-0.173563</td>\n",
       "      <td>0.116816</td>\n",
       "    </tr>\n",
       "    <tr>\n",
       "      <th>year_2010</th>\n",
       "      <td>-0.312366</td>\n",
       "      <td>-0.173563</td>\n",
       "      <td>1.000000</td>\n",
       "      <td>0.307940</td>\n",
       "    </tr>\n",
       "    <tr>\n",
       "      <th>y</th>\n",
       "      <td>-0.260426</td>\n",
       "      <td>0.116816</td>\n",
       "      <td>0.307940</td>\n",
       "      <td>1.000000</td>\n",
       "    </tr>\n",
       "  </tbody>\n",
       "</table>\n",
       "</div>"
      ],
      "text/plain": [
       "           year_2008  year_2009  year_2010         y\n",
       "year_2008   1.000000  -0.881329  -0.312366 -0.260426\n",
       "year_2009  -0.881329   1.000000  -0.173563  0.116816\n",
       "year_2010  -0.312366  -0.173563   1.000000  0.307940\n",
       "y          -0.260426   0.116816   0.307940  1.000000"
      ]
     },
     "execution_count": 7,
     "metadata": {},
     "output_type": "execute_result"
    }
   ],
   "source": [
    "newdata[['year_2008', 'year_2009', 'year_2010', 'y']].corr()"
   ]
  },
  {
   "cell_type": "code",
   "execution_count": 8,
   "metadata": {
    "hidden": true
   },
   "outputs": [
    {
     "data": {
      "text/plain": [
       "0.05052472141079736"
      ]
     },
     "execution_count": 8,
     "metadata": {},
     "output_type": "execute_result"
    }
   ],
   "source": [
    "sum(newdata[newdata['year_2008'] == 1]['y']) / len(newdata[newdata['year_2008'] == 1]['y'])"
   ]
  },
  {
   "cell_type": "code",
   "execution_count": 9,
   "metadata": {
    "hidden": true
   },
   "outputs": [
    {
     "data": {
      "text/plain": [
       "0.17063652267527923"
      ]
     },
     "execution_count": 9,
     "metadata": {},
     "output_type": "execute_result"
    }
   ],
   "source": [
    "sum(newdata[newdata['year_2009'] == 1]['y']) / len(newdata[newdata['year_2009'] == 1]['y'])"
   ]
  },
  {
   "cell_type": "code",
   "execution_count": 10,
   "metadata": {
    "hidden": true
   },
   "outputs": [
    {
     "data": {
      "text/plain": [
       "0.516030534351145"
      ]
     },
     "execution_count": 10,
     "metadata": {},
     "output_type": "execute_result"
    }
   ],
   "source": [
    "sum(newdata[newdata['year_2010'] == 1]['y']) / len(newdata[newdata['year_2010'] == 1]['y'])"
   ]
  },
  {
   "cell_type": "code",
   "execution_count": 11,
   "metadata": {
    "code_folding": [
     0
    ],
    "hidden": true
   },
   "outputs": [
    {
     "name": "stdout",
     "output_type": "stream",
     "text": [
      "number of yes in train 4232, in test 1057, in predict 1312, mcc score is 0.4815\n",
      "number of yes in train 4242, in test 1047, in predict 1294, mcc score is 0.4680\n",
      "number of yes in train 4149, in test 1140, in predict 1431, mcc score is 0.4980\n",
      "number of yes in train 4264, in test 1025, in predict 1325, mcc score is 0.4831\n",
      "number of yes in train 4269, in test 1020, in predict 1302, mcc score is 0.4960\n",
      "mean score 0.4853\n"
     ]
    }
   ],
   "source": [
    "# add columns ['year_2008', 'year_2009', 'year_2010'] to X\n",
    "X[['year_2008', 'year_2009', 'year_2010']] = newdata[['year_2008', 'year_2009', 'year_2010']]\n",
    "\n",
    "# rft {'class_weight': {0: 1, 1: 3}, 'criterion': 'gini', 'max_depth': 15, 'min_samples_leaf': 10, 'n_estimators': 100}\n",
    "para = {'class_weight': {0: 1, 1: 3}, 'criterion': 'gini', 'max_depth': 15, 'min_samples_leaf': 10, 'n_estimators': 100}\n",
    "rftree = RandomForestClassifier(**para)\n",
    "kf = KFold(n_splits=5, shuffle = True, random_state = 123)\n",
    "\n",
    "score_array = np.zeros(5)\n",
    "for (ii, (train_index, test_index)) in enumerate(kf.split(X, y)):\n",
    "#     print(\"TRAIN:\", train_index, \"TEST:\", test_index)\n",
    "    X_train, X_test = X.loc[train_index], X.loc[test_index]\n",
    "    y_train, y_test = y.iloc[train_index], y.iloc[test_index]\n",
    "    rftree.fit(X_train, y_train)\n",
    "    y_predict = rftree.predict(X_test)\n",
    "    myscore = matthews_corrcoef(y_test, y_predict)\n",
    "    score_array[ii] = myscore\n",
    "    print(\"number of yes in train {:d}, in test {:d}, in predict {:d}, mcc score is {:.4f}\".format(y_train.value_counts()[1],\\\n",
    "                                                                                                  y_test.value_counts()[1],\\\n",
    "                                                                                                  sum(y_predict),\\\n",
    "                                                                                                  myscore))\n",
    "print(\"mean score {:.4f}\".format(np.mean(score_array)))"
   ]
  },
  {
   "cell_type": "code",
   "execution_count": 13,
   "metadata": {
    "code_folding": [
     0
    ],
    "hidden": true
   },
   "outputs": [
    {
     "name": "stdout",
     "output_type": "stream",
     "text": [
      "number of yes in train 4232, in test 1057, in predict 1293, mcc score is 0.4817\n",
      "number of yes in train 4242, in test 1047, in predict 1272, mcc score is 0.4620\n",
      "number of yes in train 4149, in test 1140, in predict 1421, mcc score is 0.5089\n",
      "number of yes in train 4264, in test 1025, in predict 1299, mcc score is 0.4771\n",
      "number of yes in train 4269, in test 1020, in predict 1317, mcc score is 0.5029\n",
      "mean score 0.4865\n"
     ]
    }
   ],
   "source": [
    "# add cross term between ['year_2008', 'year_2009', 'year_2010'] and duration to X\n",
    "X['duration-year_2008'] = X['duration'] * X['year_2008']\n",
    "X['duration-year_2009'] = X['duration'] * X['year_2009']\n",
    "X['duration-year_2010'] = X['duration'] * X['year_2010']\n",
    "\n",
    "# rft {'class_weight': {0: 1, 1: 3}, 'criterion': 'gini', 'max_depth': 15, 'min_samples_leaf': 10, 'n_estimators': 100}\n",
    "para = {'class_weight': {0: 1, 1: 3}, 'criterion': 'gini', 'max_depth': 15, 'min_samples_leaf': 10, 'n_estimators': 100}\n",
    "rftree = RandomForestClassifier(**para)\n",
    "kf = KFold(n_splits=5, shuffle = True, random_state = 123)\n",
    "\n",
    "score_array = np.zeros(5)\n",
    "for (ii, (train_index, test_index)) in enumerate(kf.split(X, y)):\n",
    "#     print(\"TRAIN:\", train_index, \"TEST:\", test_index)\n",
    "    X_train, X_test = X.loc[train_index], X.loc[test_index]\n",
    "    y_train, y_test = y.iloc[train_index], y.iloc[test_index]\n",
    "    rftree.fit(X_train, y_train)\n",
    "    y_predict = rftree.predict(X_test)\n",
    "    myscore = matthews_corrcoef(y_test, y_predict)\n",
    "    score_array[ii] = myscore\n",
    "    print(\"number of yes in train {:d}, in test {:d}, in predict {:d}, mcc score is {:.4f}\".format(y_train.value_counts()[1],\\\n",
    "                                                                                                  y_test.value_counts()[1],\\\n",
    "                                                                                                  sum(y_predict),\\\n",
    "                                                                                                  myscore))\n",
    "print(\"mean score {:.4f}\".format(np.mean(score_array)))"
   ]
  },
  {
   "cell_type": "code",
   "execution_count": 14,
   "metadata": {
    "hidden": true
   },
   "outputs": [],
   "source": [
    "# drop the cross term\n",
    "X.drop(columns = ['duration-year_2008', 'duration-year_2009', 'duration-year_2010'], inplace = True)"
   ]
  },
  {
   "cell_type": "markdown",
   "metadata": {
    "heading_collapsed": true
   },
   "source": [
    "## 猜想二：balance有些取值很诡异，我很难想象有人的年预算会是1欧元这种\n",
    "从猜想一的结果来看，应该收入更高的人会有更高的定期存款？猜想是正确的\n",
    "\n",
    "加入未经处理的连续型balance，提升到了0.4953\n",
    "\n",
    "把balance离散化，提升到了0.4909，效果并不明显\n",
    "\n",
    "把duration和balance相乘，得到0.4961，效果并不明显"
   ]
  },
  {
   "cell_type": "code",
   "execution_count": 15,
   "metadata": {
    "collapsed": true,
    "hidden": true
   },
   "outputs": [
    {
     "data": {
      "text/html": [
       "<div>\n",
       "<style scoped>\n",
       "    .dataframe tbody tr th:only-of-type {\n",
       "        vertical-align: middle;\n",
       "    }\n",
       "\n",
       "    .dataframe tbody tr th {\n",
       "        vertical-align: top;\n",
       "    }\n",
       "\n",
       "    .dataframe thead th {\n",
       "        text-align: right;\n",
       "    }\n",
       "</style>\n",
       "<table border=\"1\" class=\"dataframe\">\n",
       "  <thead>\n",
       "    <tr style=\"text-align: right;\">\n",
       "      <th></th>\n",
       "      <th>balance</th>\n",
       "      <th>y</th>\n",
       "    </tr>\n",
       "  </thead>\n",
       "  <tbody>\n",
       "    <tr>\n",
       "      <th>count</th>\n",
       "      <td>45211.000000</td>\n",
       "      <td>45211.000000</td>\n",
       "    </tr>\n",
       "    <tr>\n",
       "      <th>mean</th>\n",
       "      <td>1362.272058</td>\n",
       "      <td>0.116985</td>\n",
       "    </tr>\n",
       "    <tr>\n",
       "      <th>std</th>\n",
       "      <td>3044.765829</td>\n",
       "      <td>0.321406</td>\n",
       "    </tr>\n",
       "    <tr>\n",
       "      <th>min</th>\n",
       "      <td>-8019.000000</td>\n",
       "      <td>0.000000</td>\n",
       "    </tr>\n",
       "    <tr>\n",
       "      <th>25%</th>\n",
       "      <td>72.000000</td>\n",
       "      <td>0.000000</td>\n",
       "    </tr>\n",
       "    <tr>\n",
       "      <th>50%</th>\n",
       "      <td>448.000000</td>\n",
       "      <td>0.000000</td>\n",
       "    </tr>\n",
       "    <tr>\n",
       "      <th>75%</th>\n",
       "      <td>1428.000000</td>\n",
       "      <td>0.000000</td>\n",
       "    </tr>\n",
       "    <tr>\n",
       "      <th>max</th>\n",
       "      <td>102127.000000</td>\n",
       "      <td>1.000000</td>\n",
       "    </tr>\n",
       "  </tbody>\n",
       "</table>\n",
       "</div>"
      ],
      "text/plain": [
       "             balance             y\n",
       "count   45211.000000  45211.000000\n",
       "mean     1362.272058      0.116985\n",
       "std      3044.765829      0.321406\n",
       "min     -8019.000000      0.000000\n",
       "25%        72.000000      0.000000\n",
       "50%       448.000000      0.000000\n",
       "75%      1428.000000      0.000000\n",
       "max    102127.000000      1.000000"
      ]
     },
     "execution_count": 15,
     "metadata": {},
     "output_type": "execute_result"
    }
   ],
   "source": [
    "newdata[['balance', 'y']].describe()"
   ]
  },
  {
   "cell_type": "code",
   "execution_count": 16,
   "metadata": {
    "hidden": true
   },
   "outputs": [
    {
     "data": {
      "text/plain": [
       "0.07235325412307146"
      ]
     },
     "execution_count": 16,
     "metadata": {},
     "output_type": "execute_result"
    }
   ],
   "source": [
    "sum(newdata[newdata['balance']<72]['y']) / len(newdata[newdata['balance']<72]['y'])"
   ]
  },
  {
   "cell_type": "code",
   "execution_count": 17,
   "metadata": {
    "collapsed": true,
    "hidden": true
   },
   "outputs": [
    {
     "name": "stderr",
     "output_type": "stream",
     "text": [
      "E:\\anaconda\\envs\\py36\\lib\\site-packages\\ipykernel_launcher.py:1: UserWarning: Boolean Series key will be reindexed to match DataFrame index.\n",
      "  \"\"\"Entry point for launching an IPython kernel.\n",
      "E:\\anaconda\\envs\\py36\\lib\\site-packages\\ipykernel_launcher.py:1: UserWarning: Boolean Series key will be reindexed to match DataFrame index.\n",
      "  \"\"\"Entry point for launching an IPython kernel.\n"
     ]
    },
    {
     "data": {
      "text/plain": [
       "0.10873614190687361"
      ]
     },
     "execution_count": 17,
     "metadata": {},
     "output_type": "execute_result"
    }
   ],
   "source": [
    "sum(newdata[newdata['balance']>72][newdata['balance']<448]['y']) / len(newdata[newdata['balance']>72][newdata['balance']<448]['y'])"
   ]
  },
  {
   "cell_type": "code",
   "execution_count": 18,
   "metadata": {
    "collapsed": true,
    "hidden": true
   },
   "outputs": [
    {
     "name": "stderr",
     "output_type": "stream",
     "text": [
      "E:\\anaconda\\envs\\py36\\lib\\site-packages\\ipykernel_launcher.py:1: UserWarning: Boolean Series key will be reindexed to match DataFrame index.\n",
      "  \"\"\"Entry point for launching an IPython kernel.\n",
      "E:\\anaconda\\envs\\py36\\lib\\site-packages\\ipykernel_launcher.py:1: UserWarning: Boolean Series key will be reindexed to match DataFrame index.\n",
      "  \"\"\"Entry point for launching an IPython kernel.\n"
     ]
    },
    {
     "data": {
      "text/plain": [
       "0.1252323214443756"
      ]
     },
     "execution_count": 18,
     "metadata": {},
     "output_type": "execute_result"
    }
   ],
   "source": [
    "sum(newdata[newdata['balance']>448][newdata['balance']<1428]['y']) / len(newdata[newdata['balance']>448][newdata['balance']<1428]['y'])"
   ]
  },
  {
   "cell_type": "code",
   "execution_count": 19,
   "metadata": {
    "hidden": true
   },
   "outputs": [
    {
     "data": {
      "text/plain": [
       "0.1615473134460476"
      ]
     },
     "execution_count": 19,
     "metadata": {},
     "output_type": "execute_result"
    }
   ],
   "source": [
    "sum(newdata[newdata['balance']>1428]['y']) / len(newdata[newdata['balance']>1428]['y'])"
   ]
  },
  {
   "cell_type": "code",
   "execution_count": 21,
   "metadata": {
    "code_folding": [
     0
    ],
    "hidden": true
   },
   "outputs": [
    {
     "name": "stdout",
     "output_type": "stream",
     "text": [
      "number of yes in train 4232, in test 1057, in predict 1303, mcc score is 0.5054\n",
      "number of yes in train 4242, in test 1047, in predict 1316, mcc score is 0.4711\n",
      "number of yes in train 4149, in test 1140, in predict 1398, mcc score is 0.5232\n",
      "number of yes in train 4264, in test 1025, in predict 1296, mcc score is 0.4769\n",
      "number of yes in train 4269, in test 1020, in predict 1312, mcc score is 0.4993\n",
      "mean score 0.4952\n"
     ]
    }
   ],
   "source": [
    "# add ['balance'] to X\n",
    "X['balance'] = data['balance']\n",
    "\n",
    "# rft {'class_weight': {0: 1, 1: 3}, 'criterion': 'gini', 'max_depth': 15, 'min_samples_leaf': 10, 'n_estimators': 100}\n",
    "para = {'class_weight': {0: 1, 1: 3}, 'criterion': 'gini', 'max_depth': 15, 'min_samples_leaf': 10, 'n_estimators': 100}\n",
    "rftree = RandomForestClassifier(**para)\n",
    "kf = KFold(n_splits=5, shuffle = True, random_state = 123)\n",
    "\n",
    "score_array = np.zeros(5)\n",
    "for (ii, (train_index, test_index)) in enumerate(kf.split(X, y)):\n",
    "#     print(\"TRAIN:\", train_index, \"TEST:\", test_index)\n",
    "    X_train, X_test = X.loc[train_index], X.loc[test_index]\n",
    "    y_train, y_test = y.iloc[train_index], y.iloc[test_index]\n",
    "    rftree.fit(X_train, y_train)\n",
    "    y_predict = rftree.predict(X_test)\n",
    "    myscore = matthews_corrcoef(y_test, y_predict)\n",
    "    score_array[ii] = myscore\n",
    "    print(\"number of yes in train {:d}, in test {:d}, in predict {:d}, mcc score is {:.4f}\".format(y_train.value_counts()[1],\\\n",
    "                                                                                                  y_test.value_counts()[1],\\\n",
    "                                                                                                  sum(y_predict),\\\n",
    "                                                                                                  myscore))\n",
    "print(\"mean score {:.4f}\".format(np.mean(score_array)))"
   ]
  },
  {
   "cell_type": "code",
   "execution_count": 22,
   "metadata": {
    "hidden": true
   },
   "outputs": [
    {
     "data": {
      "text/plain": [
       "0.33    171.0\n",
       "0.66    927.6\n",
       "Name: balance, dtype: float64"
      ]
     },
     "execution_count": 22,
     "metadata": {},
     "output_type": "execute_result"
    }
   ],
   "source": [
    "data['balance'].quantile([0.33, 0.66])"
   ]
  },
  {
   "cell_type": "code",
   "execution_count": 23,
   "metadata": {
    "collapsed": true,
    "hidden": true
   },
   "outputs": [
    {
     "data": {
      "text/html": [
       "<div>\n",
       "<style scoped>\n",
       "    .dataframe tbody tr th:only-of-type {\n",
       "        vertical-align: middle;\n",
       "    }\n",
       "\n",
       "    .dataframe tbody tr th {\n",
       "        vertical-align: top;\n",
       "    }\n",
       "\n",
       "    .dataframe thead th {\n",
       "        text-align: right;\n",
       "    }\n",
       "</style>\n",
       "<table border=\"1\" class=\"dataframe\">\n",
       "  <thead>\n",
       "    <tr style=\"text-align: right;\">\n",
       "      <th></th>\n",
       "      <th>duration</th>\n",
       "      <th>age</th>\n",
       "      <th>year_2008</th>\n",
       "      <th>year_2009</th>\n",
       "      <th>year_2010</th>\n",
       "      <th>balance_encode</th>\n",
       "    </tr>\n",
       "  </thead>\n",
       "  <tbody>\n",
       "    <tr>\n",
       "      <th>0</th>\n",
       "      <td>261</td>\n",
       "      <td>58</td>\n",
       "      <td>1</td>\n",
       "      <td>0</td>\n",
       "      <td>0</td>\n",
       "      <td>high</td>\n",
       "    </tr>\n",
       "    <tr>\n",
       "      <th>1</th>\n",
       "      <td>151</td>\n",
       "      <td>44</td>\n",
       "      <td>1</td>\n",
       "      <td>0</td>\n",
       "      <td>0</td>\n",
       "      <td>low</td>\n",
       "    </tr>\n",
       "    <tr>\n",
       "      <th>2</th>\n",
       "      <td>76</td>\n",
       "      <td>33</td>\n",
       "      <td>1</td>\n",
       "      <td>0</td>\n",
       "      <td>0</td>\n",
       "      <td>low</td>\n",
       "    </tr>\n",
       "    <tr>\n",
       "      <th>3</th>\n",
       "      <td>92</td>\n",
       "      <td>47</td>\n",
       "      <td>1</td>\n",
       "      <td>0</td>\n",
       "      <td>0</td>\n",
       "      <td>high</td>\n",
       "    </tr>\n",
       "    <tr>\n",
       "      <th>4</th>\n",
       "      <td>198</td>\n",
       "      <td>33</td>\n",
       "      <td>1</td>\n",
       "      <td>0</td>\n",
       "      <td>0</td>\n",
       "      <td>low</td>\n",
       "    </tr>\n",
       "    <tr>\n",
       "      <th>5</th>\n",
       "      <td>139</td>\n",
       "      <td>35</td>\n",
       "      <td>1</td>\n",
       "      <td>0</td>\n",
       "      <td>0</td>\n",
       "      <td>mid</td>\n",
       "    </tr>\n",
       "    <tr>\n",
       "      <th>6</th>\n",
       "      <td>217</td>\n",
       "      <td>28</td>\n",
       "      <td>1</td>\n",
       "      <td>0</td>\n",
       "      <td>0</td>\n",
       "      <td>mid</td>\n",
       "    </tr>\n",
       "    <tr>\n",
       "      <th>7</th>\n",
       "      <td>380</td>\n",
       "      <td>42</td>\n",
       "      <td>1</td>\n",
       "      <td>0</td>\n",
       "      <td>0</td>\n",
       "      <td>low</td>\n",
       "    </tr>\n",
       "    <tr>\n",
       "      <th>8</th>\n",
       "      <td>50</td>\n",
       "      <td>58</td>\n",
       "      <td>1</td>\n",
       "      <td>0</td>\n",
       "      <td>0</td>\n",
       "      <td>low</td>\n",
       "    </tr>\n",
       "    <tr>\n",
       "      <th>9</th>\n",
       "      <td>55</td>\n",
       "      <td>43</td>\n",
       "      <td>1</td>\n",
       "      <td>0</td>\n",
       "      <td>0</td>\n",
       "      <td>mid</td>\n",
       "    </tr>\n",
       "  </tbody>\n",
       "</table>\n",
       "</div>"
      ],
      "text/plain": [
       "   duration  age  year_2008  year_2009  year_2010 balance_encode\n",
       "0       261   58          1          0          0           high\n",
       "1       151   44          1          0          0            low\n",
       "2        76   33          1          0          0            low\n",
       "3        92   47          1          0          0           high\n",
       "4       198   33          1          0          0            low\n",
       "5       139   35          1          0          0            mid\n",
       "6       217   28          1          0          0            mid\n",
       "7       380   42          1          0          0            low\n",
       "8        50   58          1          0          0            low\n",
       "9        55   43          1          0          0            mid"
      ]
     },
     "execution_count": 23,
     "metadata": {},
     "output_type": "execute_result"
    }
   ],
   "source": [
    "# drop ['balance']\n",
    "X.drop(columns = ['balance'], inplace = True)\n",
    "\n",
    "# encode ['balance']\n",
    "X['balance_encode'] = data['balance'].apply(lambda x: \"debt\" if x<0 else (\"low\" if x<=171 else (\"mid\" if x>171 and x<=927.6 else \"high\")))\n",
    "X.head(10)"
   ]
  },
  {
   "cell_type": "code",
   "execution_count": 25,
   "metadata": {
    "collapsed": true,
    "hidden": true
   },
   "outputs": [
    {
     "ename": "KeyError",
     "evalue": "\"None of [Index(['balance_encode'], dtype='object')] are in the [columns]\"",
     "output_type": "error",
     "traceback": [
      "\u001b[1;31m---------------------------------------------------------------------------\u001b[0m",
      "\u001b[1;31mKeyError\u001b[0m                                  Traceback (most recent call last)",
      "\u001b[1;32m<ipython-input-25-867cec1647df>\u001b[0m in \u001b[0;36m<module>\u001b[1;34m()\u001b[0m\n\u001b[1;32m----> 1\u001b[1;33m \u001b[0mX\u001b[0m \u001b[1;33m=\u001b[0m \u001b[0mpd\u001b[0m\u001b[1;33m.\u001b[0m\u001b[0mget_dummies\u001b[0m\u001b[1;33m(\u001b[0m\u001b[0mX\u001b[0m\u001b[1;33m,\u001b[0m \u001b[0mcolumns\u001b[0m \u001b[1;33m=\u001b[0m \u001b[1;33m[\u001b[0m\u001b[1;34m'balance_encode'\u001b[0m\u001b[1;33m]\u001b[0m\u001b[1;33m)\u001b[0m\u001b[1;33m\u001b[0m\u001b[0m\n\u001b[0m\u001b[0;32m      2\u001b[0m \u001b[1;33m\u001b[0m\u001b[0m\n\u001b[0;32m      3\u001b[0m \u001b[1;31m# rft {'class_weight': {0: 1, 1: 3}, 'criterion': 'gini', 'max_depth': 15, 'min_samples_leaf': 10, 'n_estimators': 100}\u001b[0m\u001b[1;33m\u001b[0m\u001b[1;33m\u001b[0m\u001b[0m\n\u001b[0;32m      4\u001b[0m \u001b[0mpara\u001b[0m \u001b[1;33m=\u001b[0m \u001b[1;33m{\u001b[0m\u001b[1;34m'class_weight'\u001b[0m\u001b[1;33m:\u001b[0m \u001b[1;33m{\u001b[0m\u001b[1;36m0\u001b[0m\u001b[1;33m:\u001b[0m \u001b[1;36m1\u001b[0m\u001b[1;33m,\u001b[0m \u001b[1;36m1\u001b[0m\u001b[1;33m:\u001b[0m \u001b[1;36m3\u001b[0m\u001b[1;33m}\u001b[0m\u001b[1;33m,\u001b[0m \u001b[1;34m'criterion'\u001b[0m\u001b[1;33m:\u001b[0m \u001b[1;34m'gini'\u001b[0m\u001b[1;33m,\u001b[0m \u001b[1;34m'max_depth'\u001b[0m\u001b[1;33m:\u001b[0m \u001b[1;36m15\u001b[0m\u001b[1;33m,\u001b[0m \u001b[1;34m'min_samples_leaf'\u001b[0m\u001b[1;33m:\u001b[0m \u001b[1;36m10\u001b[0m\u001b[1;33m,\u001b[0m \u001b[1;34m'n_estimators'\u001b[0m\u001b[1;33m:\u001b[0m \u001b[1;36m100\u001b[0m\u001b[1;33m}\u001b[0m\u001b[1;33m\u001b[0m\u001b[0m\n\u001b[0;32m      5\u001b[0m \u001b[0mrftree\u001b[0m \u001b[1;33m=\u001b[0m \u001b[0mRandomForestClassifier\u001b[0m\u001b[1;33m(\u001b[0m\u001b[1;33m**\u001b[0m\u001b[0mpara\u001b[0m\u001b[1;33m)\u001b[0m\u001b[1;33m\u001b[0m\u001b[0m\n",
      "\u001b[1;32m~\\AppData\\Roaming\\Python\\Python36\\site-packages\\pandas\\core\\reshape\\reshape.py\u001b[0m in \u001b[0;36mget_dummies\u001b[1;34m(data, prefix, prefix_sep, dummy_na, columns, sparse, drop_first, dtype)\u001b[0m\n\u001b[0;32m    841\u001b[0m             \u001b[1;32mraise\u001b[0m \u001b[0mTypeError\u001b[0m\u001b[1;33m(\u001b[0m\u001b[1;34m\"Input must be a list-like for parameter `columns`\"\u001b[0m\u001b[1;33m)\u001b[0m\u001b[1;33m\u001b[0m\u001b[0m\n\u001b[0;32m    842\u001b[0m         \u001b[1;32melse\u001b[0m\u001b[1;33m:\u001b[0m\u001b[1;33m\u001b[0m\u001b[0m\n\u001b[1;32m--> 843\u001b[1;33m             \u001b[0mdata_to_encode\u001b[0m \u001b[1;33m=\u001b[0m \u001b[0mdata\u001b[0m\u001b[1;33m[\u001b[0m\u001b[0mcolumns\u001b[0m\u001b[1;33m]\u001b[0m\u001b[1;33m\u001b[0m\u001b[0m\n\u001b[0m\u001b[0;32m    844\u001b[0m \u001b[1;33m\u001b[0m\u001b[0m\n\u001b[0;32m    845\u001b[0m         \u001b[1;31m# validate prefixes and separator to avoid silently dropping cols\u001b[0m\u001b[1;33m\u001b[0m\u001b[1;33m\u001b[0m\u001b[0m\n",
      "\u001b[1;32m~\\AppData\\Roaming\\Python\\Python36\\site-packages\\pandas\\core\\frame.py\u001b[0m in \u001b[0;36m__getitem__\u001b[1;34m(self, key)\u001b[0m\n\u001b[0;32m   2910\u001b[0m             \u001b[1;32mif\u001b[0m \u001b[0mis_iterator\u001b[0m\u001b[1;33m(\u001b[0m\u001b[0mkey\u001b[0m\u001b[1;33m)\u001b[0m\u001b[1;33m:\u001b[0m\u001b[1;33m\u001b[0m\u001b[0m\n\u001b[0;32m   2911\u001b[0m                 \u001b[0mkey\u001b[0m \u001b[1;33m=\u001b[0m \u001b[0mlist\u001b[0m\u001b[1;33m(\u001b[0m\u001b[0mkey\u001b[0m\u001b[1;33m)\u001b[0m\u001b[1;33m\u001b[0m\u001b[0m\n\u001b[1;32m-> 2912\u001b[1;33m             \u001b[0mindexer\u001b[0m \u001b[1;33m=\u001b[0m \u001b[0mself\u001b[0m\u001b[1;33m.\u001b[0m\u001b[0mloc\u001b[0m\u001b[1;33m.\u001b[0m\u001b[0m_get_listlike_indexer\u001b[0m\u001b[1;33m(\u001b[0m\u001b[0mkey\u001b[0m\u001b[1;33m,\u001b[0m \u001b[0maxis\u001b[0m\u001b[1;33m=\u001b[0m\u001b[1;36m1\u001b[0m\u001b[1;33m,\u001b[0m \u001b[0mraise_missing\u001b[0m\u001b[1;33m=\u001b[0m\u001b[1;32mTrue\u001b[0m\u001b[1;33m)\u001b[0m\u001b[1;33m[\u001b[0m\u001b[1;36m1\u001b[0m\u001b[1;33m]\u001b[0m\u001b[1;33m\u001b[0m\u001b[0m\n\u001b[0m\u001b[0;32m   2913\u001b[0m \u001b[1;33m\u001b[0m\u001b[0m\n\u001b[0;32m   2914\u001b[0m         \u001b[1;31m# take() does not accept boolean indexers\u001b[0m\u001b[1;33m\u001b[0m\u001b[1;33m\u001b[0m\u001b[0m\n",
      "\u001b[1;32m~\\AppData\\Roaming\\Python\\Python36\\site-packages\\pandas\\core\\indexing.py\u001b[0m in \u001b[0;36m_get_listlike_indexer\u001b[1;34m(self, key, axis, raise_missing)\u001b[0m\n\u001b[0;32m   1252\u001b[0m             \u001b[0mkeyarr\u001b[0m\u001b[1;33m,\u001b[0m \u001b[0mindexer\u001b[0m\u001b[1;33m,\u001b[0m \u001b[0mnew_indexer\u001b[0m \u001b[1;33m=\u001b[0m \u001b[0max\u001b[0m\u001b[1;33m.\u001b[0m\u001b[0m_reindex_non_unique\u001b[0m\u001b[1;33m(\u001b[0m\u001b[0mkeyarr\u001b[0m\u001b[1;33m)\u001b[0m\u001b[1;33m\u001b[0m\u001b[0m\n\u001b[0;32m   1253\u001b[0m \u001b[1;33m\u001b[0m\u001b[0m\n\u001b[1;32m-> 1254\u001b[1;33m         \u001b[0mself\u001b[0m\u001b[1;33m.\u001b[0m\u001b[0m_validate_read_indexer\u001b[0m\u001b[1;33m(\u001b[0m\u001b[0mkeyarr\u001b[0m\u001b[1;33m,\u001b[0m \u001b[0mindexer\u001b[0m\u001b[1;33m,\u001b[0m \u001b[0maxis\u001b[0m\u001b[1;33m,\u001b[0m \u001b[0mraise_missing\u001b[0m\u001b[1;33m=\u001b[0m\u001b[0mraise_missing\u001b[0m\u001b[1;33m)\u001b[0m\u001b[1;33m\u001b[0m\u001b[0m\n\u001b[0m\u001b[0;32m   1255\u001b[0m         \u001b[1;32mreturn\u001b[0m \u001b[0mkeyarr\u001b[0m\u001b[1;33m,\u001b[0m \u001b[0mindexer\u001b[0m\u001b[1;33m\u001b[0m\u001b[0m\n\u001b[0;32m   1256\u001b[0m \u001b[1;33m\u001b[0m\u001b[0m\n",
      "\u001b[1;32m~\\AppData\\Roaming\\Python\\Python36\\site-packages\\pandas\\core\\indexing.py\u001b[0m in \u001b[0;36m_validate_read_indexer\u001b[1;34m(self, key, indexer, axis, raise_missing)\u001b[0m\n\u001b[0;32m   1296\u001b[0m             \u001b[1;32mif\u001b[0m \u001b[0mmissing\u001b[0m \u001b[1;33m==\u001b[0m \u001b[0mlen\u001b[0m\u001b[1;33m(\u001b[0m\u001b[0mindexer\u001b[0m\u001b[1;33m)\u001b[0m\u001b[1;33m:\u001b[0m\u001b[1;33m\u001b[0m\u001b[0m\n\u001b[0;32m   1297\u001b[0m                 \u001b[0maxis_name\u001b[0m \u001b[1;33m=\u001b[0m \u001b[0mself\u001b[0m\u001b[1;33m.\u001b[0m\u001b[0mobj\u001b[0m\u001b[1;33m.\u001b[0m\u001b[0m_get_axis_name\u001b[0m\u001b[1;33m(\u001b[0m\u001b[0maxis\u001b[0m\u001b[1;33m)\u001b[0m\u001b[1;33m\u001b[0m\u001b[0m\n\u001b[1;32m-> 1298\u001b[1;33m                 \u001b[1;32mraise\u001b[0m \u001b[0mKeyError\u001b[0m\u001b[1;33m(\u001b[0m\u001b[1;34mf\"None of [{key}] are in the [{axis_name}]\"\u001b[0m\u001b[1;33m)\u001b[0m\u001b[1;33m\u001b[0m\u001b[0m\n\u001b[0m\u001b[0;32m   1299\u001b[0m \u001b[1;33m\u001b[0m\u001b[0m\n\u001b[0;32m   1300\u001b[0m             \u001b[1;31m# We (temporarily) allow for some missing keys with .loc, except in\u001b[0m\u001b[1;33m\u001b[0m\u001b[1;33m\u001b[0m\u001b[0m\n",
      "\u001b[1;31mKeyError\u001b[0m: \"None of [Index(['balance_encode'], dtype='object')] are in the [columns]\""
     ]
    }
   ],
   "source": [
    "X = pd.get_dummies(X, columns = ['balance_encode'])"
   ]
  },
  {
   "cell_type": "code",
   "execution_count": 26,
   "metadata": {
    "code_folding": [
     0
    ],
    "collapsed": true,
    "hidden": true
   },
   "outputs": [
    {
     "name": "stdout",
     "output_type": "stream",
     "text": [
      "number of yes in train 4232, in test 1057, in predict 1368, mcc score is 0.4929\n",
      "number of yes in train 4242, in test 1047, in predict 1361, mcc score is 0.4702\n",
      "number of yes in train 4149, in test 1140, in predict 1488, mcc score is 0.5206\n",
      "number of yes in train 4264, in test 1025, in predict 1376, mcc score is 0.4778\n",
      "number of yes in train 4269, in test 1020, in predict 1399, mcc score is 0.4932\n",
      "mean score 0.4909\n"
     ]
    },
    {
     "data": {
      "text/html": [
       "<div>\n",
       "<style scoped>\n",
       "    .dataframe tbody tr th:only-of-type {\n",
       "        vertical-align: middle;\n",
       "    }\n",
       "\n",
       "    .dataframe tbody tr th {\n",
       "        vertical-align: top;\n",
       "    }\n",
       "\n",
       "    .dataframe thead th {\n",
       "        text-align: right;\n",
       "    }\n",
       "</style>\n",
       "<table border=\"1\" class=\"dataframe\">\n",
       "  <thead>\n",
       "    <tr style=\"text-align: right;\">\n",
       "      <th></th>\n",
       "      <th>duration</th>\n",
       "      <th>age</th>\n",
       "      <th>year_2008</th>\n",
       "      <th>year_2009</th>\n",
       "      <th>year_2010</th>\n",
       "      <th>balance_encode_debt</th>\n",
       "      <th>balance_encode_high</th>\n",
       "      <th>balance_encode_low</th>\n",
       "      <th>balance_encode_mid</th>\n",
       "    </tr>\n",
       "  </thead>\n",
       "  <tbody>\n",
       "    <tr>\n",
       "      <th>0</th>\n",
       "      <td>261</td>\n",
       "      <td>58</td>\n",
       "      <td>1</td>\n",
       "      <td>0</td>\n",
       "      <td>0</td>\n",
       "      <td>0</td>\n",
       "      <td>1</td>\n",
       "      <td>0</td>\n",
       "      <td>0</td>\n",
       "    </tr>\n",
       "    <tr>\n",
       "      <th>1</th>\n",
       "      <td>151</td>\n",
       "      <td>44</td>\n",
       "      <td>1</td>\n",
       "      <td>0</td>\n",
       "      <td>0</td>\n",
       "      <td>0</td>\n",
       "      <td>0</td>\n",
       "      <td>1</td>\n",
       "      <td>0</td>\n",
       "    </tr>\n",
       "    <tr>\n",
       "      <th>2</th>\n",
       "      <td>76</td>\n",
       "      <td>33</td>\n",
       "      <td>1</td>\n",
       "      <td>0</td>\n",
       "      <td>0</td>\n",
       "      <td>0</td>\n",
       "      <td>0</td>\n",
       "      <td>1</td>\n",
       "      <td>0</td>\n",
       "    </tr>\n",
       "    <tr>\n",
       "      <th>3</th>\n",
       "      <td>92</td>\n",
       "      <td>47</td>\n",
       "      <td>1</td>\n",
       "      <td>0</td>\n",
       "      <td>0</td>\n",
       "      <td>0</td>\n",
       "      <td>1</td>\n",
       "      <td>0</td>\n",
       "      <td>0</td>\n",
       "    </tr>\n",
       "    <tr>\n",
       "      <th>4</th>\n",
       "      <td>198</td>\n",
       "      <td>33</td>\n",
       "      <td>1</td>\n",
       "      <td>0</td>\n",
       "      <td>0</td>\n",
       "      <td>0</td>\n",
       "      <td>0</td>\n",
       "      <td>1</td>\n",
       "      <td>0</td>\n",
       "    </tr>\n",
       "    <tr>\n",
       "      <th>5</th>\n",
       "      <td>139</td>\n",
       "      <td>35</td>\n",
       "      <td>1</td>\n",
       "      <td>0</td>\n",
       "      <td>0</td>\n",
       "      <td>0</td>\n",
       "      <td>0</td>\n",
       "      <td>0</td>\n",
       "      <td>1</td>\n",
       "    </tr>\n",
       "    <tr>\n",
       "      <th>6</th>\n",
       "      <td>217</td>\n",
       "      <td>28</td>\n",
       "      <td>1</td>\n",
       "      <td>0</td>\n",
       "      <td>0</td>\n",
       "      <td>0</td>\n",
       "      <td>0</td>\n",
       "      <td>0</td>\n",
       "      <td>1</td>\n",
       "    </tr>\n",
       "    <tr>\n",
       "      <th>7</th>\n",
       "      <td>380</td>\n",
       "      <td>42</td>\n",
       "      <td>1</td>\n",
       "      <td>0</td>\n",
       "      <td>0</td>\n",
       "      <td>0</td>\n",
       "      <td>0</td>\n",
       "      <td>1</td>\n",
       "      <td>0</td>\n",
       "    </tr>\n",
       "    <tr>\n",
       "      <th>8</th>\n",
       "      <td>50</td>\n",
       "      <td>58</td>\n",
       "      <td>1</td>\n",
       "      <td>0</td>\n",
       "      <td>0</td>\n",
       "      <td>0</td>\n",
       "      <td>0</td>\n",
       "      <td>1</td>\n",
       "      <td>0</td>\n",
       "    </tr>\n",
       "    <tr>\n",
       "      <th>9</th>\n",
       "      <td>55</td>\n",
       "      <td>43</td>\n",
       "      <td>1</td>\n",
       "      <td>0</td>\n",
       "      <td>0</td>\n",
       "      <td>0</td>\n",
       "      <td>0</td>\n",
       "      <td>0</td>\n",
       "      <td>1</td>\n",
       "    </tr>\n",
       "  </tbody>\n",
       "</table>\n",
       "</div>"
      ],
      "text/plain": [
       "   duration  age  year_2008  year_2009  year_2010  balance_encode_debt  \\\n",
       "0       261   58          1          0          0                    0   \n",
       "1       151   44          1          0          0                    0   \n",
       "2        76   33          1          0          0                    0   \n",
       "3        92   47          1          0          0                    0   \n",
       "4       198   33          1          0          0                    0   \n",
       "5       139   35          1          0          0                    0   \n",
       "6       217   28          1          0          0                    0   \n",
       "7       380   42          1          0          0                    0   \n",
       "8        50   58          1          0          0                    0   \n",
       "9        55   43          1          0          0                    0   \n",
       "\n",
       "   balance_encode_high  balance_encode_low  balance_encode_mid  \n",
       "0                    1                   0                   0  \n",
       "1                    0                   1                   0  \n",
       "2                    0                   1                   0  \n",
       "3                    1                   0                   0  \n",
       "4                    0                   1                   0  \n",
       "5                    0                   0                   1  \n",
       "6                    0                   0                   1  \n",
       "7                    0                   1                   0  \n",
       "8                    0                   1                   0  \n",
       "9                    0                   0                   1  "
      ]
     },
     "execution_count": 26,
     "metadata": {},
     "output_type": "execute_result"
    }
   ],
   "source": [
    "# rft {'class_weight': {0: 1, 1: 3}, 'criterion': 'gini', 'max_depth': 15, 'min_samples_leaf': 10, 'n_estimators': 100}\n",
    "para = {'class_weight': {0: 1, 1: 3}, 'criterion': 'gini', 'max_depth': 15, 'min_samples_leaf': 10, 'n_estimators': 100}\n",
    "rftree = RandomForestClassifier(**para)\n",
    "kf = KFold(n_splits=5, shuffle = True, random_state = 123)\n",
    "\n",
    "score_array = np.zeros(5)\n",
    "for (ii, (train_index, test_index)) in enumerate(kf.split(X, y)):\n",
    "#     print(\"TRAIN:\", train_index, \"TEST:\", test_index)\n",
    "    X_train, X_test = X.loc[train_index], X.loc[test_index]\n",
    "    y_train, y_test = y.iloc[train_index], y.iloc[test_index]\n",
    "    rftree.fit(X_train, y_train)\n",
    "    y_predict = rftree.predict(X_test)\n",
    "    myscore = matthews_corrcoef(y_test, y_predict)\n",
    "    score_array[ii] = myscore\n",
    "    print(\"number of yes in train {:d}, in test {:d}, in predict {:d}, mcc score is {:.4f}\".format(y_train.value_counts()[1],\\\n",
    "                                                                                                  y_test.value_counts()[1],\\\n",
    "                                                                                                  sum(y_predict),\\\n",
    "                                                                                                  myscore))\n",
    "print(\"mean score {:.4f}\".format(np.mean(score_array)))\n",
    "X.head(10)"
   ]
  },
  {
   "cell_type": "code",
   "execution_count": 27,
   "metadata": {
    "collapsed": true,
    "hidden": true
   },
   "outputs": [
    {
     "data": {
      "text/html": [
       "<div>\n",
       "<style scoped>\n",
       "    .dataframe tbody tr th:only-of-type {\n",
       "        vertical-align: middle;\n",
       "    }\n",
       "\n",
       "    .dataframe tbody tr th {\n",
       "        vertical-align: top;\n",
       "    }\n",
       "\n",
       "    .dataframe thead th {\n",
       "        text-align: right;\n",
       "    }\n",
       "</style>\n",
       "<table border=\"1\" class=\"dataframe\">\n",
       "  <thead>\n",
       "    <tr style=\"text-align: right;\">\n",
       "      <th></th>\n",
       "      <th>duration</th>\n",
       "      <th>age</th>\n",
       "      <th>year_2008</th>\n",
       "      <th>year_2009</th>\n",
       "      <th>year_2010</th>\n",
       "    </tr>\n",
       "  </thead>\n",
       "  <tbody>\n",
       "    <tr>\n",
       "      <th>0</th>\n",
       "      <td>261</td>\n",
       "      <td>58</td>\n",
       "      <td>1</td>\n",
       "      <td>0</td>\n",
       "      <td>0</td>\n",
       "    </tr>\n",
       "    <tr>\n",
       "      <th>1</th>\n",
       "      <td>151</td>\n",
       "      <td>44</td>\n",
       "      <td>1</td>\n",
       "      <td>0</td>\n",
       "      <td>0</td>\n",
       "    </tr>\n",
       "    <tr>\n",
       "      <th>2</th>\n",
       "      <td>76</td>\n",
       "      <td>33</td>\n",
       "      <td>1</td>\n",
       "      <td>0</td>\n",
       "      <td>0</td>\n",
       "    </tr>\n",
       "    <tr>\n",
       "      <th>3</th>\n",
       "      <td>92</td>\n",
       "      <td>47</td>\n",
       "      <td>1</td>\n",
       "      <td>0</td>\n",
       "      <td>0</td>\n",
       "    </tr>\n",
       "    <tr>\n",
       "      <th>4</th>\n",
       "      <td>198</td>\n",
       "      <td>33</td>\n",
       "      <td>1</td>\n",
       "      <td>0</td>\n",
       "      <td>0</td>\n",
       "    </tr>\n",
       "    <tr>\n",
       "      <th>5</th>\n",
       "      <td>139</td>\n",
       "      <td>35</td>\n",
       "      <td>1</td>\n",
       "      <td>0</td>\n",
       "      <td>0</td>\n",
       "    </tr>\n",
       "    <tr>\n",
       "      <th>6</th>\n",
       "      <td>217</td>\n",
       "      <td>28</td>\n",
       "      <td>1</td>\n",
       "      <td>0</td>\n",
       "      <td>0</td>\n",
       "    </tr>\n",
       "    <tr>\n",
       "      <th>7</th>\n",
       "      <td>380</td>\n",
       "      <td>42</td>\n",
       "      <td>1</td>\n",
       "      <td>0</td>\n",
       "      <td>0</td>\n",
       "    </tr>\n",
       "    <tr>\n",
       "      <th>8</th>\n",
       "      <td>50</td>\n",
       "      <td>58</td>\n",
       "      <td>1</td>\n",
       "      <td>0</td>\n",
       "      <td>0</td>\n",
       "    </tr>\n",
       "    <tr>\n",
       "      <th>9</th>\n",
       "      <td>55</td>\n",
       "      <td>43</td>\n",
       "      <td>1</td>\n",
       "      <td>0</td>\n",
       "      <td>0</td>\n",
       "    </tr>\n",
       "  </tbody>\n",
       "</table>\n",
       "</div>"
      ],
      "text/plain": [
       "   duration  age  year_2008  year_2009  year_2010\n",
       "0       261   58          1          0          0\n",
       "1       151   44          1          0          0\n",
       "2        76   33          1          0          0\n",
       "3        92   47          1          0          0\n",
       "4       198   33          1          0          0\n",
       "5       139   35          1          0          0\n",
       "6       217   28          1          0          0\n",
       "7       380   42          1          0          0\n",
       "8        50   58          1          0          0\n",
       "9        55   43          1          0          0"
      ]
     },
     "execution_count": 27,
     "metadata": {},
     "output_type": "execute_result"
    }
   ],
   "source": [
    "X.drop(columns = [item for item in X.columns if item.split('_')[0] == \"balance\"], inplace = True)\n",
    "X.head(10)"
   ]
  },
  {
   "cell_type": "code",
   "execution_count": 29,
   "metadata": {
    "hidden": true
   },
   "outputs": [],
   "source": [
    "# 引入duration和balance的交叉项\n",
    "X['duration-balance'] = data['duration'] * data['balance']"
   ]
  },
  {
   "cell_type": "code",
   "execution_count": 31,
   "metadata": {
    "code_folding": [
     0
    ],
    "collapsed": true,
    "hidden": true
   },
   "outputs": [
    {
     "name": "stdout",
     "output_type": "stream",
     "text": [
      "number of yes in train 4232, in test 1057, in predict 1283, mcc score is 0.4952\n",
      "number of yes in train 4242, in test 1047, in predict 1285, mcc score is 0.4684\n",
      "number of yes in train 4149, in test 1140, in predict 1419, mcc score is 0.5240\n",
      "number of yes in train 4264, in test 1025, in predict 1321, mcc score is 0.4793\n",
      "number of yes in train 4269, in test 1020, in predict 1314, mcc score is 0.4987\n",
      "mean score 0.4931\n"
     ]
    },
    {
     "data": {
      "text/html": [
       "<div>\n",
       "<style scoped>\n",
       "    .dataframe tbody tr th:only-of-type {\n",
       "        vertical-align: middle;\n",
       "    }\n",
       "\n",
       "    .dataframe tbody tr th {\n",
       "        vertical-align: top;\n",
       "    }\n",
       "\n",
       "    .dataframe thead th {\n",
       "        text-align: right;\n",
       "    }\n",
       "</style>\n",
       "<table border=\"1\" class=\"dataframe\">\n",
       "  <thead>\n",
       "    <tr style=\"text-align: right;\">\n",
       "      <th></th>\n",
       "      <th>duration</th>\n",
       "      <th>age</th>\n",
       "      <th>year_2008</th>\n",
       "      <th>year_2009</th>\n",
       "      <th>year_2010</th>\n",
       "      <th>duration-balance</th>\n",
       "    </tr>\n",
       "  </thead>\n",
       "  <tbody>\n",
       "    <tr>\n",
       "      <th>0</th>\n",
       "      <td>261</td>\n",
       "      <td>58</td>\n",
       "      <td>1</td>\n",
       "      <td>0</td>\n",
       "      <td>0</td>\n",
       "      <td>559323</td>\n",
       "    </tr>\n",
       "    <tr>\n",
       "      <th>1</th>\n",
       "      <td>151</td>\n",
       "      <td>44</td>\n",
       "      <td>1</td>\n",
       "      <td>0</td>\n",
       "      <td>0</td>\n",
       "      <td>4379</td>\n",
       "    </tr>\n",
       "    <tr>\n",
       "      <th>2</th>\n",
       "      <td>76</td>\n",
       "      <td>33</td>\n",
       "      <td>1</td>\n",
       "      <td>0</td>\n",
       "      <td>0</td>\n",
       "      <td>152</td>\n",
       "    </tr>\n",
       "    <tr>\n",
       "      <th>3</th>\n",
       "      <td>92</td>\n",
       "      <td>47</td>\n",
       "      <td>1</td>\n",
       "      <td>0</td>\n",
       "      <td>0</td>\n",
       "      <td>138552</td>\n",
       "    </tr>\n",
       "    <tr>\n",
       "      <th>4</th>\n",
       "      <td>198</td>\n",
       "      <td>33</td>\n",
       "      <td>1</td>\n",
       "      <td>0</td>\n",
       "      <td>0</td>\n",
       "      <td>198</td>\n",
       "    </tr>\n",
       "    <tr>\n",
       "      <th>5</th>\n",
       "      <td>139</td>\n",
       "      <td>35</td>\n",
       "      <td>1</td>\n",
       "      <td>0</td>\n",
       "      <td>0</td>\n",
       "      <td>32109</td>\n",
       "    </tr>\n",
       "    <tr>\n",
       "      <th>6</th>\n",
       "      <td>217</td>\n",
       "      <td>28</td>\n",
       "      <td>1</td>\n",
       "      <td>0</td>\n",
       "      <td>0</td>\n",
       "      <td>96999</td>\n",
       "    </tr>\n",
       "    <tr>\n",
       "      <th>7</th>\n",
       "      <td>380</td>\n",
       "      <td>42</td>\n",
       "      <td>1</td>\n",
       "      <td>0</td>\n",
       "      <td>0</td>\n",
       "      <td>760</td>\n",
       "    </tr>\n",
       "    <tr>\n",
       "      <th>8</th>\n",
       "      <td>50</td>\n",
       "      <td>58</td>\n",
       "      <td>1</td>\n",
       "      <td>0</td>\n",
       "      <td>0</td>\n",
       "      <td>6050</td>\n",
       "    </tr>\n",
       "    <tr>\n",
       "      <th>9</th>\n",
       "      <td>55</td>\n",
       "      <td>43</td>\n",
       "      <td>1</td>\n",
       "      <td>0</td>\n",
       "      <td>0</td>\n",
       "      <td>32615</td>\n",
       "    </tr>\n",
       "  </tbody>\n",
       "</table>\n",
       "</div>"
      ],
      "text/plain": [
       "   duration  age  year_2008  year_2009  year_2010  duration-balance\n",
       "0       261   58          1          0          0            559323\n",
       "1       151   44          1          0          0              4379\n",
       "2        76   33          1          0          0               152\n",
       "3        92   47          1          0          0            138552\n",
       "4       198   33          1          0          0               198\n",
       "5       139   35          1          0          0             32109\n",
       "6       217   28          1          0          0             96999\n",
       "7       380   42          1          0          0               760\n",
       "8        50   58          1          0          0              6050\n",
       "9        55   43          1          0          0             32615"
      ]
     },
     "execution_count": 31,
     "metadata": {},
     "output_type": "execute_result"
    }
   ],
   "source": [
    "# rft {'class_weight': {0: 1, 1: 3}, 'criterion': 'gini', 'max_depth': 15, 'min_samples_leaf': 10, 'n_estimators': 100}\n",
    "para = {'class_weight': {0: 1, 1: 3}, 'criterion': 'gini', 'max_depth': 15, 'min_samples_leaf': 10, 'n_estimators': 100}\n",
    "rftree = RandomForestClassifier(**para)\n",
    "kf = KFold(n_splits=5, shuffle = True, random_state = 123)\n",
    "\n",
    "score_array = np.zeros(5)\n",
    "for (ii, (train_index, test_index)) in enumerate(kf.split(X, y)):\n",
    "#     print(\"TRAIN:\", train_index, \"TEST:\", test_index)\n",
    "    X_train, X_test = X.loc[train_index], X.loc[test_index]\n",
    "    y_train, y_test = y.iloc[train_index], y.iloc[test_index]\n",
    "    rftree.fit(X_train, y_train)\n",
    "    y_predict = rftree.predict(X_test)\n",
    "    myscore = matthews_corrcoef(y_test, y_predict)\n",
    "    score_array[ii] = myscore\n",
    "    print(\"number of yes in train {:d}, in test {:d}, in predict {:d}, mcc score is {:.4f}\".format(y_train.value_counts()[1],\\\n",
    "                                                                                                  y_test.value_counts()[1],\\\n",
    "                                                                                                  sum(y_predict),\\\n",
    "                                                                                                  myscore))\n",
    "print(\"mean score {:.4f}\".format(np.mean(score_array)))\n",
    "X.head(10)"
   ]
  },
  {
   "cell_type": "code",
   "execution_count": 32,
   "metadata": {
    "hidden": true
   },
   "outputs": [],
   "source": [
    "X.drop(columns = ['duration-balance'], inplace = True)\n",
    "X['balance'] = data['balance']"
   ]
  },
  {
   "cell_type": "markdown",
   "metadata": {
    "heading_collapsed": true
   },
   "source": [
    "## 猜想三：job\n",
    "有了猜想一二的结果，那么或许我们可以给job编码，如果某个job下定期存款高，我们姑且认为这个job收入会高，因此定期存款高，\n",
    "\n",
    "然后我们手动来把job分成与'y'正相关，负相关，若job为未知，则取为未知，提升到了0.5011\n",
    "\n",
    "用duration与encode之后的变量做交叉项，效果为0.4937，提升效果并不明显"
   ]
  },
  {
   "cell_type": "code",
   "execution_count": null,
   "metadata": {
    "hidden": true
   },
   "outputs": [],
   "source": [
    "data = pd.get_dummies(data, columns = ['job'])"
   ]
  },
  {
   "cell_type": "code",
   "execution_count": 33,
   "metadata": {
    "hidden": true
   },
   "outputs": [
    {
     "data": {
      "text/plain": [
       "Index(['age', 'marital', 'education', 'default', 'balance', 'housing', 'loan',\n",
       "       'contact', 'day', 'month', 'duration', 'campaign', 'pdays', 'previous',\n",
       "       'poutcome', 'y', 'year', 'timestamp', 'weekday', 'job_admin.',\n",
       "       'job_blue-collar', 'job_entrepreneur', 'job_housemaid',\n",
       "       'job_management', 'job_retired', 'job_self-employed', 'job_services',\n",
       "       'job_student', 'job_technician', 'job_unemployed', 'job_unknown'],\n",
       "      dtype='object')"
      ]
     },
     "execution_count": 33,
     "metadata": {},
     "output_type": "execute_result"
    }
   ],
   "source": [
    "newdata = pd.get_dummies(data, columns = ['job'])\n",
    "\n",
    "newdata.columns"
   ]
  },
  {
   "cell_type": "code",
   "execution_count": 41,
   "metadata": {
    "hidden": true
   },
   "outputs": [],
   "source": [
    "corr_job = newdata[['job_admin.',\n",
    "                   'job_blue-collar', 'job_entrepreneur', 'job_housemaid',\n",
    "                   'job_management', 'job_retired', 'job_self-employed', 'job_services',\n",
    "                   'job_student', 'job_technician', 'job_unemployed', 'y']].corr()['y']"
   ]
  },
  {
   "cell_type": "code",
   "execution_count": 42,
   "metadata": {
    "collapsed": true,
    "hidden": true
   },
   "outputs": [
    {
     "data": {
      "text/plain": [
       "job_admin.           0.005637\n",
       "job_blue-collar     -0.072083\n",
       "job_entrepreneur    -0.019662\n",
       "job_housemaid       -0.015195\n",
       "job_management       0.032919\n",
       "job_retired          0.079245\n",
       "job_self-employed    0.000855\n",
       "job_services        -0.027864\n",
       "job_student          0.076897\n",
       "job_technician      -0.008970\n",
       "job_unemployed       0.020390\n",
       "y                    1.000000\n",
       "Name: y, dtype: float64"
      ]
     },
     "execution_count": 42,
     "metadata": {},
     "output_type": "execute_result"
    }
   ],
   "source": [
    "corr_job"
   ]
  },
  {
   "cell_type": "code",
   "execution_count": 43,
   "metadata": {
    "hidden": true
   },
   "outputs": [
    {
     "data": {
      "text/plain": [
       "-0.07208313870994996"
      ]
     },
     "execution_count": 43,
     "metadata": {},
     "output_type": "execute_result"
    }
   ],
   "source": [
    "corr_job[\"job_blue-collar\"]"
   ]
  },
  {
   "cell_type": "code",
   "execution_count": 45,
   "metadata": {
    "collapsed": true,
    "hidden": true
   },
   "outputs": [
    {
     "data": {
      "text/html": [
       "<div>\n",
       "<style scoped>\n",
       "    .dataframe tbody tr th:only-of-type {\n",
       "        vertical-align: middle;\n",
       "    }\n",
       "\n",
       "    .dataframe tbody tr th {\n",
       "        vertical-align: top;\n",
       "    }\n",
       "\n",
       "    .dataframe thead th {\n",
       "        text-align: right;\n",
       "    }\n",
       "</style>\n",
       "<table border=\"1\" class=\"dataframe\">\n",
       "  <thead>\n",
       "    <tr style=\"text-align: right;\">\n",
       "      <th></th>\n",
       "      <th>duration</th>\n",
       "      <th>age</th>\n",
       "      <th>year_2008</th>\n",
       "      <th>year_2009</th>\n",
       "      <th>year_2010</th>\n",
       "      <th>balance</th>\n",
       "      <th>job_encode</th>\n",
       "    </tr>\n",
       "  </thead>\n",
       "  <tbody>\n",
       "    <tr>\n",
       "      <th>0</th>\n",
       "      <td>261</td>\n",
       "      <td>58</td>\n",
       "      <td>1</td>\n",
       "      <td>0</td>\n",
       "      <td>0</td>\n",
       "      <td>2143</td>\n",
       "      <td>positive</td>\n",
       "    </tr>\n",
       "    <tr>\n",
       "      <th>1</th>\n",
       "      <td>151</td>\n",
       "      <td>44</td>\n",
       "      <td>1</td>\n",
       "      <td>0</td>\n",
       "      <td>0</td>\n",
       "      <td>29</td>\n",
       "      <td>negative</td>\n",
       "    </tr>\n",
       "    <tr>\n",
       "      <th>2</th>\n",
       "      <td>76</td>\n",
       "      <td>33</td>\n",
       "      <td>1</td>\n",
       "      <td>0</td>\n",
       "      <td>0</td>\n",
       "      <td>2</td>\n",
       "      <td>negative</td>\n",
       "    </tr>\n",
       "    <tr>\n",
       "      <th>3</th>\n",
       "      <td>92</td>\n",
       "      <td>47</td>\n",
       "      <td>1</td>\n",
       "      <td>0</td>\n",
       "      <td>0</td>\n",
       "      <td>1506</td>\n",
       "      <td>negative</td>\n",
       "    </tr>\n",
       "    <tr>\n",
       "      <th>4</th>\n",
       "      <td>198</td>\n",
       "      <td>33</td>\n",
       "      <td>1</td>\n",
       "      <td>0</td>\n",
       "      <td>0</td>\n",
       "      <td>1</td>\n",
       "      <td>unknown</td>\n",
       "    </tr>\n",
       "    <tr>\n",
       "      <th>5</th>\n",
       "      <td>139</td>\n",
       "      <td>35</td>\n",
       "      <td>1</td>\n",
       "      <td>0</td>\n",
       "      <td>0</td>\n",
       "      <td>231</td>\n",
       "      <td>positive</td>\n",
       "    </tr>\n",
       "    <tr>\n",
       "      <th>6</th>\n",
       "      <td>217</td>\n",
       "      <td>28</td>\n",
       "      <td>1</td>\n",
       "      <td>0</td>\n",
       "      <td>0</td>\n",
       "      <td>447</td>\n",
       "      <td>positive</td>\n",
       "    </tr>\n",
       "    <tr>\n",
       "      <th>7</th>\n",
       "      <td>380</td>\n",
       "      <td>42</td>\n",
       "      <td>1</td>\n",
       "      <td>0</td>\n",
       "      <td>0</td>\n",
       "      <td>2</td>\n",
       "      <td>negative</td>\n",
       "    </tr>\n",
       "    <tr>\n",
       "      <th>8</th>\n",
       "      <td>50</td>\n",
       "      <td>58</td>\n",
       "      <td>1</td>\n",
       "      <td>0</td>\n",
       "      <td>0</td>\n",
       "      <td>121</td>\n",
       "      <td>positive</td>\n",
       "    </tr>\n",
       "    <tr>\n",
       "      <th>9</th>\n",
       "      <td>55</td>\n",
       "      <td>43</td>\n",
       "      <td>1</td>\n",
       "      <td>0</td>\n",
       "      <td>0</td>\n",
       "      <td>593</td>\n",
       "      <td>negative</td>\n",
       "    </tr>\n",
       "  </tbody>\n",
       "</table>\n",
       "</div>"
      ],
      "text/plain": [
       "   duration  age  year_2008  year_2009  year_2010  balance job_encode\n",
       "0       261   58          1          0          0     2143   positive\n",
       "1       151   44          1          0          0       29   negative\n",
       "2        76   33          1          0          0        2   negative\n",
       "3        92   47          1          0          0     1506   negative\n",
       "4       198   33          1          0          0        1    unknown\n",
       "5       139   35          1          0          0      231   positive\n",
       "6       217   28          1          0          0      447   positive\n",
       "7       380   42          1          0          0        2   negative\n",
       "8        50   58          1          0          0      121   positive\n",
       "9        55   43          1          0          0      593   negative"
      ]
     },
     "execution_count": 45,
     "metadata": {},
     "output_type": "execute_result"
    }
   ],
   "source": [
    "# encode ['job']\n",
    "X['job_encode'] = data['job'].apply(lambda x: \"unknown\" if x == 'unknown' else (\"positive\" if corr_job[\"job_\"+x]>0 else \"negative\"))\n",
    "X.head(10)"
   ]
  },
  {
   "cell_type": "code",
   "execution_count": 47,
   "metadata": {
    "collapsed": true,
    "hidden": true
   },
   "outputs": [
    {
     "data": {
      "text/html": [
       "<div>\n",
       "<style scoped>\n",
       "    .dataframe tbody tr th:only-of-type {\n",
       "        vertical-align: middle;\n",
       "    }\n",
       "\n",
       "    .dataframe tbody tr th {\n",
       "        vertical-align: top;\n",
       "    }\n",
       "\n",
       "    .dataframe thead th {\n",
       "        text-align: right;\n",
       "    }\n",
       "</style>\n",
       "<table border=\"1\" class=\"dataframe\">\n",
       "  <thead>\n",
       "    <tr style=\"text-align: right;\">\n",
       "      <th></th>\n",
       "      <th>duration</th>\n",
       "      <th>age</th>\n",
       "      <th>year_2008</th>\n",
       "      <th>year_2009</th>\n",
       "      <th>year_2010</th>\n",
       "      <th>balance</th>\n",
       "      <th>job_encode_negative</th>\n",
       "      <th>job_encode_positive</th>\n",
       "      <th>job_encode_unknown</th>\n",
       "    </tr>\n",
       "  </thead>\n",
       "  <tbody>\n",
       "    <tr>\n",
       "      <th>0</th>\n",
       "      <td>261</td>\n",
       "      <td>58</td>\n",
       "      <td>1</td>\n",
       "      <td>0</td>\n",
       "      <td>0</td>\n",
       "      <td>2143</td>\n",
       "      <td>0</td>\n",
       "      <td>1</td>\n",
       "      <td>0</td>\n",
       "    </tr>\n",
       "    <tr>\n",
       "      <th>1</th>\n",
       "      <td>151</td>\n",
       "      <td>44</td>\n",
       "      <td>1</td>\n",
       "      <td>0</td>\n",
       "      <td>0</td>\n",
       "      <td>29</td>\n",
       "      <td>1</td>\n",
       "      <td>0</td>\n",
       "      <td>0</td>\n",
       "    </tr>\n",
       "    <tr>\n",
       "      <th>2</th>\n",
       "      <td>76</td>\n",
       "      <td>33</td>\n",
       "      <td>1</td>\n",
       "      <td>0</td>\n",
       "      <td>0</td>\n",
       "      <td>2</td>\n",
       "      <td>1</td>\n",
       "      <td>0</td>\n",
       "      <td>0</td>\n",
       "    </tr>\n",
       "    <tr>\n",
       "      <th>3</th>\n",
       "      <td>92</td>\n",
       "      <td>47</td>\n",
       "      <td>1</td>\n",
       "      <td>0</td>\n",
       "      <td>0</td>\n",
       "      <td>1506</td>\n",
       "      <td>1</td>\n",
       "      <td>0</td>\n",
       "      <td>0</td>\n",
       "    </tr>\n",
       "    <tr>\n",
       "      <th>4</th>\n",
       "      <td>198</td>\n",
       "      <td>33</td>\n",
       "      <td>1</td>\n",
       "      <td>0</td>\n",
       "      <td>0</td>\n",
       "      <td>1</td>\n",
       "      <td>0</td>\n",
       "      <td>0</td>\n",
       "      <td>1</td>\n",
       "    </tr>\n",
       "    <tr>\n",
       "      <th>5</th>\n",
       "      <td>139</td>\n",
       "      <td>35</td>\n",
       "      <td>1</td>\n",
       "      <td>0</td>\n",
       "      <td>0</td>\n",
       "      <td>231</td>\n",
       "      <td>0</td>\n",
       "      <td>1</td>\n",
       "      <td>0</td>\n",
       "    </tr>\n",
       "    <tr>\n",
       "      <th>6</th>\n",
       "      <td>217</td>\n",
       "      <td>28</td>\n",
       "      <td>1</td>\n",
       "      <td>0</td>\n",
       "      <td>0</td>\n",
       "      <td>447</td>\n",
       "      <td>0</td>\n",
       "      <td>1</td>\n",
       "      <td>0</td>\n",
       "    </tr>\n",
       "    <tr>\n",
       "      <th>7</th>\n",
       "      <td>380</td>\n",
       "      <td>42</td>\n",
       "      <td>1</td>\n",
       "      <td>0</td>\n",
       "      <td>0</td>\n",
       "      <td>2</td>\n",
       "      <td>1</td>\n",
       "      <td>0</td>\n",
       "      <td>0</td>\n",
       "    </tr>\n",
       "    <tr>\n",
       "      <th>8</th>\n",
       "      <td>50</td>\n",
       "      <td>58</td>\n",
       "      <td>1</td>\n",
       "      <td>0</td>\n",
       "      <td>0</td>\n",
       "      <td>121</td>\n",
       "      <td>0</td>\n",
       "      <td>1</td>\n",
       "      <td>0</td>\n",
       "    </tr>\n",
       "    <tr>\n",
       "      <th>9</th>\n",
       "      <td>55</td>\n",
       "      <td>43</td>\n",
       "      <td>1</td>\n",
       "      <td>0</td>\n",
       "      <td>0</td>\n",
       "      <td>593</td>\n",
       "      <td>1</td>\n",
       "      <td>0</td>\n",
       "      <td>0</td>\n",
       "    </tr>\n",
       "  </tbody>\n",
       "</table>\n",
       "</div>"
      ],
      "text/plain": [
       "   duration  age  year_2008  year_2009  year_2010  balance  \\\n",
       "0       261   58          1          0          0     2143   \n",
       "1       151   44          1          0          0       29   \n",
       "2        76   33          1          0          0        2   \n",
       "3        92   47          1          0          0     1506   \n",
       "4       198   33          1          0          0        1   \n",
       "5       139   35          1          0          0      231   \n",
       "6       217   28          1          0          0      447   \n",
       "7       380   42          1          0          0        2   \n",
       "8        50   58          1          0          0      121   \n",
       "9        55   43          1          0          0      593   \n",
       "\n",
       "   job_encode_negative  job_encode_positive  job_encode_unknown  \n",
       "0                    0                    1                   0  \n",
       "1                    1                    0                   0  \n",
       "2                    1                    0                   0  \n",
       "3                    1                    0                   0  \n",
       "4                    0                    0                   1  \n",
       "5                    0                    1                   0  \n",
       "6                    0                    1                   0  \n",
       "7                    1                    0                   0  \n",
       "8                    0                    1                   0  \n",
       "9                    1                    0                   0  "
      ]
     },
     "execution_count": 47,
     "metadata": {},
     "output_type": "execute_result"
    }
   ],
   "source": [
    "X = pd.get_dummies(X, columns = ['job_encode'])\n",
    "X.head(10)"
   ]
  },
  {
   "cell_type": "code",
   "execution_count": 48,
   "metadata": {
    "code_folding": [
     0
    ],
    "hidden": true
   },
   "outputs": [
    {
     "name": "stdout",
     "output_type": "stream",
     "text": [
      "number of yes in train 4232, in test 1057, in predict 1340, mcc score is 0.4993\n",
      "number of yes in train 4242, in test 1047, in predict 1328, mcc score is 0.4797\n",
      "number of yes in train 4149, in test 1140, in predict 1455, mcc score is 0.5337\n",
      "number of yes in train 4264, in test 1025, in predict 1361, mcc score is 0.4856\n",
      "number of yes in train 4269, in test 1020, in predict 1334, mcc score is 0.5072\n",
      "mean score 0.5011\n"
     ]
    }
   ],
   "source": [
    "# rft {'class_weight': {0: 1, 1: 3}, 'criterion': 'gini', 'max_depth': 15, 'min_samples_leaf': 10, 'n_estimators': 100}\n",
    "para = {'class_weight': {0: 1, 1: 3}, 'criterion': 'gini', 'max_depth': 15, 'min_samples_leaf': 10, 'n_estimators': 100}\n",
    "rftree = RandomForestClassifier(**para)\n",
    "kf = KFold(n_splits=5, shuffle = True, random_state = 123)\n",
    "\n",
    "score_array = np.zeros(5)\n",
    "for (ii, (train_index, test_index)) in enumerate(kf.split(X, y)):\n",
    "#     print(\"TRAIN:\", train_index, \"TEST:\", test_index)\n",
    "    X_train, X_test = X.loc[train_index], X.loc[test_index]\n",
    "    y_train, y_test = y.iloc[train_index], y.iloc[test_index]\n",
    "    rftree.fit(X_train, y_train)\n",
    "    y_predict = rftree.predict(X_test)\n",
    "    myscore = matthews_corrcoef(y_test, y_predict)\n",
    "    score_array[ii] = myscore\n",
    "    print(\"number of yes in train {:d}, in test {:d}, in predict {:d}, mcc score is {:.4f}\".format(y_train.value_counts()[1],\\\n",
    "                                                                                                  y_test.value_counts()[1],\\\n",
    "                                                                                                  sum(y_predict),\\\n",
    "                                                                                                  myscore))\n",
    "print(\"mean score {:.4f}\".format(np.mean(score_array)))"
   ]
  },
  {
   "cell_type": "code",
   "execution_count": 53,
   "metadata": {
    "code_folding": [],
    "collapsed": true,
    "hidden": true
   },
   "outputs": [
    {
     "ename": "KeyError",
     "evalue": "'job_encode_negative'",
     "output_type": "error",
     "traceback": [
      "\u001b[1;31m---------------------------------------------------------------------------\u001b[0m",
      "\u001b[1;31mKeyError\u001b[0m                                  Traceback (most recent call last)",
      "\u001b[1;32m~\\AppData\\Roaming\\Python\\Python36\\site-packages\\pandas\\core\\indexes\\base.py\u001b[0m in \u001b[0;36mget_loc\u001b[1;34m(self, key, method, tolerance)\u001b[0m\n\u001b[0;32m   2897\u001b[0m             \u001b[1;32mtry\u001b[0m\u001b[1;33m:\u001b[0m\u001b[1;33m\u001b[0m\u001b[0m\n\u001b[1;32m-> 2898\u001b[1;33m                 \u001b[1;32mreturn\u001b[0m \u001b[0mself\u001b[0m\u001b[1;33m.\u001b[0m\u001b[0m_engine\u001b[0m\u001b[1;33m.\u001b[0m\u001b[0mget_loc\u001b[0m\u001b[1;33m(\u001b[0m\u001b[0mcasted_key\u001b[0m\u001b[1;33m)\u001b[0m\u001b[1;33m\u001b[0m\u001b[0m\n\u001b[0m\u001b[0;32m   2899\u001b[0m             \u001b[1;32mexcept\u001b[0m \u001b[0mKeyError\u001b[0m \u001b[1;32mas\u001b[0m \u001b[0merr\u001b[0m\u001b[1;33m:\u001b[0m\u001b[1;33m\u001b[0m\u001b[0m\n",
      "\u001b[1;32mpandas\\_libs\\index.pyx\u001b[0m in \u001b[0;36mpandas._libs.index.IndexEngine.get_loc\u001b[1;34m()\u001b[0m\n",
      "\u001b[1;32mpandas\\_libs\\index.pyx\u001b[0m in \u001b[0;36mpandas._libs.index.IndexEngine.get_loc\u001b[1;34m()\u001b[0m\n",
      "\u001b[1;32mpandas\\_libs\\hashtable_class_helper.pxi\u001b[0m in \u001b[0;36mpandas._libs.hashtable.PyObjectHashTable.get_item\u001b[1;34m()\u001b[0m\n",
      "\u001b[1;32mpandas\\_libs\\hashtable_class_helper.pxi\u001b[0m in \u001b[0;36mpandas._libs.hashtable.PyObjectHashTable.get_item\u001b[1;34m()\u001b[0m\n",
      "\u001b[1;31mKeyError\u001b[0m: 'job_encode_negative'",
      "\nThe above exception was the direct cause of the following exception:\n",
      "\u001b[1;31mKeyError\u001b[0m                                  Traceback (most recent call last)",
      "\u001b[1;32m<ipython-input-53-8494e073837b>\u001b[0m in \u001b[0;36m<module>\u001b[1;34m()\u001b[0m\n\u001b[0;32m      1\u001b[0m \u001b[1;31m# generate cross term by duration\u001b[0m\u001b[1;33m\u001b[0m\u001b[1;33m\u001b[0m\u001b[0m\n\u001b[1;32m----> 2\u001b[1;33m \u001b[0mX\u001b[0m\u001b[1;33m[\u001b[0m\u001b[1;34m'duration-job_encode_negative'\u001b[0m\u001b[1;33m]\u001b[0m \u001b[1;33m=\u001b[0m \u001b[0mX\u001b[0m\u001b[1;33m[\u001b[0m\u001b[1;34m'duration'\u001b[0m\u001b[1;33m]\u001b[0m \u001b[1;33m*\u001b[0m \u001b[0mX\u001b[0m\u001b[1;33m[\u001b[0m\u001b[1;34m'job_encode_negative'\u001b[0m\u001b[1;33m]\u001b[0m\u001b[1;33m\u001b[0m\u001b[0m\n\u001b[0m\u001b[0;32m      3\u001b[0m \u001b[0mX\u001b[0m\u001b[1;33m[\u001b[0m\u001b[1;34m'duration-job_encode_positive'\u001b[0m\u001b[1;33m]\u001b[0m \u001b[1;33m=\u001b[0m \u001b[0mX\u001b[0m\u001b[1;33m[\u001b[0m\u001b[1;34m'duration'\u001b[0m\u001b[1;33m]\u001b[0m \u001b[1;33m*\u001b[0m \u001b[0mX\u001b[0m\u001b[1;33m[\u001b[0m\u001b[1;34m'job_encode_positive'\u001b[0m\u001b[1;33m]\u001b[0m\u001b[1;33m\u001b[0m\u001b[0m\n\u001b[0;32m      4\u001b[0m \u001b[0mX\u001b[0m\u001b[1;33m[\u001b[0m\u001b[1;34m'duration-job_encode_unkonwn'\u001b[0m\u001b[1;33m]\u001b[0m \u001b[1;33m=\u001b[0m \u001b[0mX\u001b[0m\u001b[1;33m[\u001b[0m\u001b[1;34m'duration'\u001b[0m\u001b[1;33m]\u001b[0m \u001b[1;33m*\u001b[0m \u001b[0mX\u001b[0m\u001b[1;33m[\u001b[0m\u001b[1;34m'job_encode_unknown'\u001b[0m\u001b[1;33m]\u001b[0m\u001b[1;33m\u001b[0m\u001b[0m\n\u001b[0;32m      5\u001b[0m \u001b[0mX\u001b[0m\u001b[1;33m.\u001b[0m\u001b[0mdrop\u001b[0m\u001b[1;33m(\u001b[0m\u001b[0mcolumns\u001b[0m \u001b[1;33m=\u001b[0m \u001b[1;33m[\u001b[0m\u001b[1;34m'job_encode_negative'\u001b[0m\u001b[1;33m,\u001b[0m \u001b[1;34m'job_encode_positive'\u001b[0m\u001b[1;33m,\u001b[0m \u001b[1;34m'job_encode_unkonwn'\u001b[0m\u001b[1;33m]\u001b[0m\u001b[1;33m,\u001b[0m \u001b[0minplace\u001b[0m \u001b[1;33m=\u001b[0m \u001b[1;32mTrue\u001b[0m\u001b[1;33m)\u001b[0m\u001b[1;33m\u001b[0m\u001b[0m\n",
      "\u001b[1;32m~\\AppData\\Roaming\\Python\\Python36\\site-packages\\pandas\\core\\frame.py\u001b[0m in \u001b[0;36m__getitem__\u001b[1;34m(self, key)\u001b[0m\n\u001b[0;32m   2904\u001b[0m             \u001b[1;32mif\u001b[0m \u001b[0mself\u001b[0m\u001b[1;33m.\u001b[0m\u001b[0mcolumns\u001b[0m\u001b[1;33m.\u001b[0m\u001b[0mnlevels\u001b[0m \u001b[1;33m>\u001b[0m \u001b[1;36m1\u001b[0m\u001b[1;33m:\u001b[0m\u001b[1;33m\u001b[0m\u001b[0m\n\u001b[0;32m   2905\u001b[0m                 \u001b[1;32mreturn\u001b[0m \u001b[0mself\u001b[0m\u001b[1;33m.\u001b[0m\u001b[0m_getitem_multilevel\u001b[0m\u001b[1;33m(\u001b[0m\u001b[0mkey\u001b[0m\u001b[1;33m)\u001b[0m\u001b[1;33m\u001b[0m\u001b[0m\n\u001b[1;32m-> 2906\u001b[1;33m             \u001b[0mindexer\u001b[0m \u001b[1;33m=\u001b[0m \u001b[0mself\u001b[0m\u001b[1;33m.\u001b[0m\u001b[0mcolumns\u001b[0m\u001b[1;33m.\u001b[0m\u001b[0mget_loc\u001b[0m\u001b[1;33m(\u001b[0m\u001b[0mkey\u001b[0m\u001b[1;33m)\u001b[0m\u001b[1;33m\u001b[0m\u001b[0m\n\u001b[0m\u001b[0;32m   2907\u001b[0m             \u001b[1;32mif\u001b[0m \u001b[0mis_integer\u001b[0m\u001b[1;33m(\u001b[0m\u001b[0mindexer\u001b[0m\u001b[1;33m)\u001b[0m\u001b[1;33m:\u001b[0m\u001b[1;33m\u001b[0m\u001b[0m\n\u001b[0;32m   2908\u001b[0m                 \u001b[0mindexer\u001b[0m \u001b[1;33m=\u001b[0m \u001b[1;33m[\u001b[0m\u001b[0mindexer\u001b[0m\u001b[1;33m]\u001b[0m\u001b[1;33m\u001b[0m\u001b[0m\n",
      "\u001b[1;32m~\\AppData\\Roaming\\Python\\Python36\\site-packages\\pandas\\core\\indexes\\base.py\u001b[0m in \u001b[0;36mget_loc\u001b[1;34m(self, key, method, tolerance)\u001b[0m\n\u001b[0;32m   2898\u001b[0m                 \u001b[1;32mreturn\u001b[0m \u001b[0mself\u001b[0m\u001b[1;33m.\u001b[0m\u001b[0m_engine\u001b[0m\u001b[1;33m.\u001b[0m\u001b[0mget_loc\u001b[0m\u001b[1;33m(\u001b[0m\u001b[0mcasted_key\u001b[0m\u001b[1;33m)\u001b[0m\u001b[1;33m\u001b[0m\u001b[0m\n\u001b[0;32m   2899\u001b[0m             \u001b[1;32mexcept\u001b[0m \u001b[0mKeyError\u001b[0m \u001b[1;32mas\u001b[0m \u001b[0merr\u001b[0m\u001b[1;33m:\u001b[0m\u001b[1;33m\u001b[0m\u001b[0m\n\u001b[1;32m-> 2900\u001b[1;33m                 \u001b[1;32mraise\u001b[0m \u001b[0mKeyError\u001b[0m\u001b[1;33m(\u001b[0m\u001b[0mkey\u001b[0m\u001b[1;33m)\u001b[0m \u001b[1;32mfrom\u001b[0m \u001b[0merr\u001b[0m\u001b[1;33m\u001b[0m\u001b[0m\n\u001b[0m\u001b[0;32m   2901\u001b[0m \u001b[1;33m\u001b[0m\u001b[0m\n\u001b[0;32m   2902\u001b[0m         \u001b[1;32mif\u001b[0m \u001b[0mtolerance\u001b[0m \u001b[1;32mis\u001b[0m \u001b[1;32mnot\u001b[0m \u001b[1;32mNone\u001b[0m\u001b[1;33m:\u001b[0m\u001b[1;33m\u001b[0m\u001b[0m\n",
      "\u001b[1;31mKeyError\u001b[0m: 'job_encode_negative'"
     ]
    }
   ],
   "source": [
    "# generate cross term by duration\n",
    "X['duration-job_encode_negative'] = X['duration'] * X['job_encode_negative']\n",
    "X['duration-job_encode_positive'] = X['duration'] * X['job_encode_positive']\n",
    "X['duration-job_encode_unkonwn'] = X['duration'] * X['job_encode_unknown']\n",
    "X.drop(columns = ['job_encode_negative', 'job_encode_positive', 'job_encode_unkonwn'], inplace = True)\n",
    "X.head(10)"
   ]
  },
  {
   "cell_type": "code",
   "execution_count": 51,
   "metadata": {
    "code_folding": [
     0
    ],
    "hidden": true
   },
   "outputs": [
    {
     "name": "stdout",
     "output_type": "stream",
     "text": [
      "number of yes in train 4232, in test 1057, in predict 1294, mcc score is 0.4912\n",
      "number of yes in train 4242, in test 1047, in predict 1303, mcc score is 0.4735\n",
      "number of yes in train 4149, in test 1140, in predict 1410, mcc score is 0.5228\n",
      "number of yes in train 4264, in test 1025, in predict 1343, mcc score is 0.4794\n",
      "number of yes in train 4269, in test 1020, in predict 1326, mcc score is 0.5014\n",
      "mean score 0.4937\n"
     ]
    }
   ],
   "source": [
    "# rft {'class_weight': {0: 1, 1: 3}, 'criterion': 'gini', 'max_depth': 15, 'min_samples_leaf': 10, 'n_estimators': 100}\n",
    "para = {'class_weight': {0: 1, 1: 3}, 'criterion': 'gini', 'max_depth': 15, 'min_samples_leaf': 10, 'n_estimators': 100}\n",
    "rftree = RandomForestClassifier(**para)\n",
    "kf = KFold(n_splits=5, shuffle = True, random_state = 123)\n",
    "\n",
    "score_array = np.zeros(5)\n",
    "for (ii, (train_index, test_index)) in enumerate(kf.split(X, y)):\n",
    "#     print(\"TRAIN:\", train_index, \"TEST:\", test_index)\n",
    "    X_train, X_test = X.loc[train_index], X.loc[test_index]\n",
    "    y_train, y_test = y.iloc[train_index], y.iloc[test_index]\n",
    "    rftree.fit(X_train, y_train)\n",
    "    y_predict = rftree.predict(X_test)\n",
    "    myscore = matthews_corrcoef(y_test, y_predict)\n",
    "    score_array[ii] = myscore\n",
    "    print(\"number of yes in train {:d}, in test {:d}, in predict {:d}, mcc score is {:.4f}\".format(y_train.value_counts()[1],\\\n",
    "                                                                                                  y_test.value_counts()[1],\\\n",
    "                                                                                                  sum(y_predict),\\\n",
    "                                                                                                  myscore))\n",
    "print(\"mean score {:.4f}\".format(np.mean(score_array)))"
   ]
  },
  {
   "cell_type": "code",
   "execution_count": 55,
   "metadata": {
    "collapsed": true,
    "hidden": true
   },
   "outputs": [
    {
     "data": {
      "text/html": [
       "<div>\n",
       "<style scoped>\n",
       "    .dataframe tbody tr th:only-of-type {\n",
       "        vertical-align: middle;\n",
       "    }\n",
       "\n",
       "    .dataframe tbody tr th {\n",
       "        vertical-align: top;\n",
       "    }\n",
       "\n",
       "    .dataframe thead th {\n",
       "        text-align: right;\n",
       "    }\n",
       "</style>\n",
       "<table border=\"1\" class=\"dataframe\">\n",
       "  <thead>\n",
       "    <tr style=\"text-align: right;\">\n",
       "      <th></th>\n",
       "      <th>duration</th>\n",
       "      <th>age</th>\n",
       "      <th>year_2008</th>\n",
       "      <th>year_2009</th>\n",
       "      <th>year_2010</th>\n",
       "      <th>balance</th>\n",
       "      <th>job_encode</th>\n",
       "    </tr>\n",
       "  </thead>\n",
       "  <tbody>\n",
       "    <tr>\n",
       "      <th>0</th>\n",
       "      <td>261</td>\n",
       "      <td>58</td>\n",
       "      <td>1</td>\n",
       "      <td>0</td>\n",
       "      <td>0</td>\n",
       "      <td>2143</td>\n",
       "      <td>positive</td>\n",
       "    </tr>\n",
       "    <tr>\n",
       "      <th>1</th>\n",
       "      <td>151</td>\n",
       "      <td>44</td>\n",
       "      <td>1</td>\n",
       "      <td>0</td>\n",
       "      <td>0</td>\n",
       "      <td>29</td>\n",
       "      <td>negative</td>\n",
       "    </tr>\n",
       "    <tr>\n",
       "      <th>2</th>\n",
       "      <td>76</td>\n",
       "      <td>33</td>\n",
       "      <td>1</td>\n",
       "      <td>0</td>\n",
       "      <td>0</td>\n",
       "      <td>2</td>\n",
       "      <td>negative</td>\n",
       "    </tr>\n",
       "    <tr>\n",
       "      <th>3</th>\n",
       "      <td>92</td>\n",
       "      <td>47</td>\n",
       "      <td>1</td>\n",
       "      <td>0</td>\n",
       "      <td>0</td>\n",
       "      <td>1506</td>\n",
       "      <td>negative</td>\n",
       "    </tr>\n",
       "    <tr>\n",
       "      <th>4</th>\n",
       "      <td>198</td>\n",
       "      <td>33</td>\n",
       "      <td>1</td>\n",
       "      <td>0</td>\n",
       "      <td>0</td>\n",
       "      <td>1</td>\n",
       "      <td>unknown</td>\n",
       "    </tr>\n",
       "    <tr>\n",
       "      <th>5</th>\n",
       "      <td>139</td>\n",
       "      <td>35</td>\n",
       "      <td>1</td>\n",
       "      <td>0</td>\n",
       "      <td>0</td>\n",
       "      <td>231</td>\n",
       "      <td>positive</td>\n",
       "    </tr>\n",
       "    <tr>\n",
       "      <th>6</th>\n",
       "      <td>217</td>\n",
       "      <td>28</td>\n",
       "      <td>1</td>\n",
       "      <td>0</td>\n",
       "      <td>0</td>\n",
       "      <td>447</td>\n",
       "      <td>positive</td>\n",
       "    </tr>\n",
       "    <tr>\n",
       "      <th>7</th>\n",
       "      <td>380</td>\n",
       "      <td>42</td>\n",
       "      <td>1</td>\n",
       "      <td>0</td>\n",
       "      <td>0</td>\n",
       "      <td>2</td>\n",
       "      <td>negative</td>\n",
       "    </tr>\n",
       "    <tr>\n",
       "      <th>8</th>\n",
       "      <td>50</td>\n",
       "      <td>58</td>\n",
       "      <td>1</td>\n",
       "      <td>0</td>\n",
       "      <td>0</td>\n",
       "      <td>121</td>\n",
       "      <td>positive</td>\n",
       "    </tr>\n",
       "    <tr>\n",
       "      <th>9</th>\n",
       "      <td>55</td>\n",
       "      <td>43</td>\n",
       "      <td>1</td>\n",
       "      <td>0</td>\n",
       "      <td>0</td>\n",
       "      <td>593</td>\n",
       "      <td>negative</td>\n",
       "    </tr>\n",
       "  </tbody>\n",
       "</table>\n",
       "</div>"
      ],
      "text/plain": [
       "   duration  age  year_2008  year_2009  year_2010  balance job_encode\n",
       "0       261   58          1          0          0     2143   positive\n",
       "1       151   44          1          0          0       29   negative\n",
       "2        76   33          1          0          0        2   negative\n",
       "3        92   47          1          0          0     1506   negative\n",
       "4       198   33          1          0          0        1    unknown\n",
       "5       139   35          1          0          0      231   positive\n",
       "6       217   28          1          0          0      447   positive\n",
       "7       380   42          1          0          0        2   negative\n",
       "8        50   58          1          0          0      121   positive\n",
       "9        55   43          1          0          0      593   negative"
      ]
     },
     "execution_count": 55,
     "metadata": {},
     "output_type": "execute_result"
    }
   ],
   "source": [
    "X.drop(columns = ['duration-job_encode_negative', 'duration-job_encode_positive', 'duration-job_encode_unkonwn'], inplace = True)\n",
    "X['job_encode'] = data['job'].apply(lambda x: \"unknown\" if x == 'unknown' else (\"positive\" if corr_job[\"job_\"+x]>0 else \"negative\"))\n",
    "X.head(10)"
   ]
  },
  {
   "cell_type": "code",
   "execution_count": 56,
   "metadata": {
    "hidden": true
   },
   "outputs": [],
   "source": [
    "X = pd.get_dummies(X, columns = ['job_encode'])"
   ]
  },
  {
   "cell_type": "code",
   "execution_count": 59,
   "metadata": {
    "hidden": true
   },
   "outputs": [
    {
     "data": {
      "text/plain": [
       "0.1499541350842466"
      ]
     },
     "execution_count": 59,
     "metadata": {},
     "output_type": "execute_result"
    }
   ],
   "source": [
    "sum(y[X['job_encode_positive'] == 1]) / len(y[X['job_encode_positive'] == 1])"
   ]
  },
  {
   "cell_type": "code",
   "execution_count": 60,
   "metadata": {
    "hidden": true
   },
   "outputs": [
    {
     "data": {
      "text/plain": [
       "0.08876497315159025"
      ]
     },
     "execution_count": 60,
     "metadata": {},
     "output_type": "execute_result"
    }
   ],
   "source": [
    "sum(y[X['job_encode_negative'] == 1]) / len(y[X['job_encode_negative'] == 1])"
   ]
  },
  {
   "cell_type": "code",
   "execution_count": 61,
   "metadata": {
    "hidden": true
   },
   "outputs": [
    {
     "data": {
      "text/plain": [
       "0.11805555555555555"
      ]
     },
     "execution_count": 61,
     "metadata": {},
     "output_type": "execute_result"
    }
   ],
   "source": [
    "sum(y[X['job_encode_unknown'] == 1]) / len(y[X['job_encode_unknown'] == 1])"
   ]
  },
  {
   "cell_type": "markdown",
   "metadata": {
    "heading_collapsed": true
   },
   "source": [
    "## 猜想四 marital\n",
    "\n",
    "我很难理解结婚状态对定期存款的影响，可能结了婚的人因为追求生活稳定更愿意弄定期存款?\n",
    "\n",
    "结果是反的，结了婚的家庭更加不愿意弄第期存款，不过和之前job一样，线性相关系数很低就是了\n",
    "\n",
    "直接对marital作编码，效果为0.4975，效果不明显\n",
    "\n",
    "对marital编码后与duration作混合，效果为0.4964\n",
    "\n",
    "因此不把marital放入X中"
   ]
  },
  {
   "cell_type": "code",
   "execution_count": 63,
   "metadata": {
    "hidden": true
   },
   "outputs": [
    {
     "data": {
      "text/plain": [
       "Index(['age', 'job', 'marital', 'education', 'default', 'balance', 'housing',\n",
       "       'loan', 'contact', 'day', 'month', 'duration', 'campaign', 'pdays',\n",
       "       'previous', 'poutcome', 'y', 'year', 'timestamp', 'weekday'],\n",
       "      dtype='object')"
      ]
     },
     "execution_count": 63,
     "metadata": {},
     "output_type": "execute_result"
    }
   ],
   "source": [
    "data.columns"
   ]
  },
  {
   "cell_type": "code",
   "execution_count": 65,
   "metadata": {
    "hidden": true
   },
   "outputs": [],
   "source": [
    "newdata = pd.get_dummies(data, columns = ['marital'])"
   ]
  },
  {
   "cell_type": "code",
   "execution_count": 68,
   "metadata": {
    "hidden": true
   },
   "outputs": [
    {
     "data": {
      "text/plain": [
       "marital_divorced    0.002772\n",
       "marital_married    -0.060260\n",
       "marital_single      0.063526\n",
       "y                   1.000000\n",
       "Name: y, dtype: float64"
      ]
     },
     "execution_count": 68,
     "metadata": {},
     "output_type": "execute_result"
    }
   ],
   "source": [
    "newdata[[item for item in newdata.columns if item.split('_')[0] == \"marital\"] + ['y']].corr()['y']"
   ]
  },
  {
   "cell_type": "code",
   "execution_count": 69,
   "metadata": {
    "hidden": true
   },
   "outputs": [
    {
     "data": {
      "text/plain": [
       "0.11945458037257538"
      ]
     },
     "execution_count": 69,
     "metadata": {},
     "output_type": "execute_result"
    }
   ],
   "source": [
    "sum(y[newdata['marital_divorced'] == 1]) / len(y[newdata['marital_divorced'] == 1])"
   ]
  },
  {
   "cell_type": "code",
   "execution_count": 70,
   "metadata": {
    "hidden": true
   },
   "outputs": [
    {
     "data": {
      "text/plain": [
       "0.10123465863158668"
      ]
     },
     "execution_count": 70,
     "metadata": {},
     "output_type": "execute_result"
    }
   ],
   "source": [
    "sum(y[newdata['marital_married'] == 1]) / len(y[newdata['marital_married'] == 1])"
   ]
  },
  {
   "cell_type": "code",
   "execution_count": 71,
   "metadata": {
    "hidden": true
   },
   "outputs": [
    {
     "data": {
      "text/plain": [
       "0.1494917904612979"
      ]
     },
     "execution_count": 71,
     "metadata": {},
     "output_type": "execute_result"
    }
   ],
   "source": [
    "sum(y[newdata['marital_single'] == 1]) / len(y[newdata['marital_single'] == 1])"
   ]
  },
  {
   "cell_type": "code",
   "execution_count": 72,
   "metadata": {
    "hidden": true
   },
   "outputs": [],
   "source": [
    "X[['marital_single', 'marital_married', 'marital_divorced']] = newdata[['marital_single', 'marital_married', 'marital_divorced']]"
   ]
  },
  {
   "cell_type": "code",
   "execution_count": 75,
   "metadata": {
    "code_folding": [
     0
    ],
    "hidden": true
   },
   "outputs": [
    {
     "name": "stdout",
     "output_type": "stream",
     "text": [
      "number of yes in train 4232, in test 1057, in predict 1364, mcc score is 0.5045\n",
      "number of yes in train 4242, in test 1047, in predict 1325, mcc score is 0.4756\n",
      "number of yes in train 4149, in test 1140, in predict 1434, mcc score is 0.5301\n",
      "number of yes in train 4264, in test 1025, in predict 1371, mcc score is 0.4791\n",
      "number of yes in train 4269, in test 1020, in predict 1370, mcc score is 0.5045\n",
      "mean score 0.4988\n"
     ]
    }
   ],
   "source": [
    "# rft {'class_weight': {0: 1, 1: 3}, 'criterion': 'gini', 'max_depth': 15, 'min_samples_leaf': 10, 'n_estimators': 100}\n",
    "para = {'class_weight': {0: 1, 1: 3}, 'criterion': 'gini', 'max_depth': 15, 'min_samples_leaf': 10, 'n_estimators': 100}\n",
    "rftree = RandomForestClassifier(**para)\n",
    "kf = KFold(n_splits=5, shuffle = True, random_state = 123)\n",
    "\n",
    "score_array = np.zeros(5)\n",
    "for (ii, (train_index, test_index)) in enumerate(kf.split(X, y)):\n",
    "#     print(\"TRAIN:\", train_index, \"TEST:\", test_index)\n",
    "    X_train, X_test = X.loc[train_index], X.loc[test_index]\n",
    "    y_train, y_test = y.iloc[train_index], y.iloc[test_index]\n",
    "    rftree.fit(X_train, y_train)\n",
    "    y_predict = rftree.predict(X_test)\n",
    "    myscore = matthews_corrcoef(y_test, y_predict)\n",
    "    score_array[ii] = myscore\n",
    "    print(\"number of yes in train {:d}, in test {:d}, in predict {:d}, mcc score is {:.4f}\".format(y_train.value_counts()[1],\\\n",
    "                                                                                                  y_test.value_counts()[1],\\\n",
    "                                                                                                  sum(y_predict),\\\n",
    "                                                                                                  myscore))\n",
    "print(\"mean score {:.4f}\".format(np.mean(score_array)))"
   ]
  },
  {
   "cell_type": "code",
   "execution_count": 76,
   "metadata": {
    "hidden": true
   },
   "outputs": [],
   "source": [
    "# drop marital, using cross term\n",
    "X['duration-marital_single'] = X['duration'] * X['marital_single']\n",
    "X['duration-marital_married'] = X['duration'] * X['marital_married']\n",
    "X['duration-marital_divorced'] = X['duration'] * X['marital_divorced']\n",
    "X.drop(columns = ['marital_single', 'marital_married', 'marital_divorced'], inplace = True)"
   ]
  },
  {
   "cell_type": "code",
   "execution_count": 77,
   "metadata": {
    "hidden": true
   },
   "outputs": [
    {
     "name": "stdout",
     "output_type": "stream",
     "text": [
      "number of yes in train 4232, in test 1057, in predict 1360, mcc score is 0.5046\n",
      "number of yes in train 4242, in test 1047, in predict 1312, mcc score is 0.4770\n",
      "number of yes in train 4149, in test 1140, in predict 1415, mcc score is 0.5233\n",
      "number of yes in train 4264, in test 1025, in predict 1352, mcc score is 0.4810\n",
      "number of yes in train 4269, in test 1020, in predict 1372, mcc score is 0.4962\n",
      "mean score 0.4964\n"
     ]
    }
   ],
   "source": [
    "# rft {'class_weight': {0: 1, 1: 3}, 'criterion': 'gini', 'max_depth': 15, 'min_samples_leaf': 10, 'n_estimators': 100}\n",
    "para = {'class_weight': {0: 1, 1: 3}, 'criterion': 'gini', 'max_depth': 15, 'min_samples_leaf': 10, 'n_estimators': 100}\n",
    "rftree = RandomForestClassifier(**para)\n",
    "kf = KFold(n_splits=5, shuffle = True, random_state = 123)\n",
    "\n",
    "score_array = np.zeros(5)\n",
    "for (ii, (train_index, test_index)) in enumerate(kf.split(X, y)):\n",
    "#     print(\"TRAIN:\", train_index, \"TEST:\", test_index)\n",
    "    X_train, X_test = X.loc[train_index], X.loc[test_index]\n",
    "    y_train, y_test = y.iloc[train_index], y.iloc[test_index]\n",
    "    rftree.fit(X_train, y_train)\n",
    "    y_predict = rftree.predict(X_test)\n",
    "    myscore = matthews_corrcoef(y_test, y_predict)\n",
    "    score_array[ii] = myscore\n",
    "    print(\"number of yes in train {:d}, in test {:d}, in predict {:d}, mcc score is {:.4f}\".format(y_train.value_counts()[1],\\\n",
    "                                                                                                  y_test.value_counts()[1],\\\n",
    "                                                                                                  sum(y_predict),\\\n",
    "                                                                                                  myscore))\n",
    "print(\"mean score {:.4f}\".format(np.mean(score_array)))"
   ]
  },
  {
   "cell_type": "code",
   "execution_count": 78,
   "metadata": {
    "hidden": true
   },
   "outputs": [],
   "source": [
    "X.drop(columns = ['duration-marital_single', 'duration-marital_married', 'duration-marital_divorced'], inplace = True)"
   ]
  },
  {
   "cell_type": "code",
   "execution_count": 79,
   "metadata": {
    "collapsed": true,
    "hidden": true
   },
   "outputs": [
    {
     "data": {
      "text/html": [
       "<div>\n",
       "<style scoped>\n",
       "    .dataframe tbody tr th:only-of-type {\n",
       "        vertical-align: middle;\n",
       "    }\n",
       "\n",
       "    .dataframe tbody tr th {\n",
       "        vertical-align: top;\n",
       "    }\n",
       "\n",
       "    .dataframe thead th {\n",
       "        text-align: right;\n",
       "    }\n",
       "</style>\n",
       "<table border=\"1\" class=\"dataframe\">\n",
       "  <thead>\n",
       "    <tr style=\"text-align: right;\">\n",
       "      <th></th>\n",
       "      <th>duration</th>\n",
       "      <th>age</th>\n",
       "      <th>year_2008</th>\n",
       "      <th>year_2009</th>\n",
       "      <th>year_2010</th>\n",
       "      <th>balance</th>\n",
       "      <th>job_encode_negative</th>\n",
       "      <th>job_encode_positive</th>\n",
       "      <th>job_encode_unknown</th>\n",
       "    </tr>\n",
       "  </thead>\n",
       "  <tbody>\n",
       "    <tr>\n",
       "      <th>0</th>\n",
       "      <td>261</td>\n",
       "      <td>58</td>\n",
       "      <td>1</td>\n",
       "      <td>0</td>\n",
       "      <td>0</td>\n",
       "      <td>2143</td>\n",
       "      <td>0</td>\n",
       "      <td>1</td>\n",
       "      <td>0</td>\n",
       "    </tr>\n",
       "    <tr>\n",
       "      <th>1</th>\n",
       "      <td>151</td>\n",
       "      <td>44</td>\n",
       "      <td>1</td>\n",
       "      <td>0</td>\n",
       "      <td>0</td>\n",
       "      <td>29</td>\n",
       "      <td>1</td>\n",
       "      <td>0</td>\n",
       "      <td>0</td>\n",
       "    </tr>\n",
       "    <tr>\n",
       "      <th>2</th>\n",
       "      <td>76</td>\n",
       "      <td>33</td>\n",
       "      <td>1</td>\n",
       "      <td>0</td>\n",
       "      <td>0</td>\n",
       "      <td>2</td>\n",
       "      <td>1</td>\n",
       "      <td>0</td>\n",
       "      <td>0</td>\n",
       "    </tr>\n",
       "    <tr>\n",
       "      <th>3</th>\n",
       "      <td>92</td>\n",
       "      <td>47</td>\n",
       "      <td>1</td>\n",
       "      <td>0</td>\n",
       "      <td>0</td>\n",
       "      <td>1506</td>\n",
       "      <td>1</td>\n",
       "      <td>0</td>\n",
       "      <td>0</td>\n",
       "    </tr>\n",
       "    <tr>\n",
       "      <th>4</th>\n",
       "      <td>198</td>\n",
       "      <td>33</td>\n",
       "      <td>1</td>\n",
       "      <td>0</td>\n",
       "      <td>0</td>\n",
       "      <td>1</td>\n",
       "      <td>0</td>\n",
       "      <td>0</td>\n",
       "      <td>1</td>\n",
       "    </tr>\n",
       "    <tr>\n",
       "      <th>5</th>\n",
       "      <td>139</td>\n",
       "      <td>35</td>\n",
       "      <td>1</td>\n",
       "      <td>0</td>\n",
       "      <td>0</td>\n",
       "      <td>231</td>\n",
       "      <td>0</td>\n",
       "      <td>1</td>\n",
       "      <td>0</td>\n",
       "    </tr>\n",
       "    <tr>\n",
       "      <th>6</th>\n",
       "      <td>217</td>\n",
       "      <td>28</td>\n",
       "      <td>1</td>\n",
       "      <td>0</td>\n",
       "      <td>0</td>\n",
       "      <td>447</td>\n",
       "      <td>0</td>\n",
       "      <td>1</td>\n",
       "      <td>0</td>\n",
       "    </tr>\n",
       "    <tr>\n",
       "      <th>7</th>\n",
       "      <td>380</td>\n",
       "      <td>42</td>\n",
       "      <td>1</td>\n",
       "      <td>0</td>\n",
       "      <td>0</td>\n",
       "      <td>2</td>\n",
       "      <td>1</td>\n",
       "      <td>0</td>\n",
       "      <td>0</td>\n",
       "    </tr>\n",
       "    <tr>\n",
       "      <th>8</th>\n",
       "      <td>50</td>\n",
       "      <td>58</td>\n",
       "      <td>1</td>\n",
       "      <td>0</td>\n",
       "      <td>0</td>\n",
       "      <td>121</td>\n",
       "      <td>0</td>\n",
       "      <td>1</td>\n",
       "      <td>0</td>\n",
       "    </tr>\n",
       "    <tr>\n",
       "      <th>9</th>\n",
       "      <td>55</td>\n",
       "      <td>43</td>\n",
       "      <td>1</td>\n",
       "      <td>0</td>\n",
       "      <td>0</td>\n",
       "      <td>593</td>\n",
       "      <td>1</td>\n",
       "      <td>0</td>\n",
       "      <td>0</td>\n",
       "    </tr>\n",
       "  </tbody>\n",
       "</table>\n",
       "</div>"
      ],
      "text/plain": [
       "   duration  age  year_2008  year_2009  year_2010  balance  \\\n",
       "0       261   58          1          0          0     2143   \n",
       "1       151   44          1          0          0       29   \n",
       "2        76   33          1          0          0        2   \n",
       "3        92   47          1          0          0     1506   \n",
       "4       198   33          1          0          0        1   \n",
       "5       139   35          1          0          0      231   \n",
       "6       217   28          1          0          0      447   \n",
       "7       380   42          1          0          0        2   \n",
       "8        50   58          1          0          0      121   \n",
       "9        55   43          1          0          0      593   \n",
       "\n",
       "   job_encode_negative  job_encode_positive  job_encode_unknown  \n",
       "0                    0                    1                   0  \n",
       "1                    1                    0                   0  \n",
       "2                    1                    0                   0  \n",
       "3                    1                    0                   0  \n",
       "4                    0                    0                   1  \n",
       "5                    0                    1                   0  \n",
       "6                    0                    1                   0  \n",
       "7                    1                    0                   0  \n",
       "8                    0                    1                   0  \n",
       "9                    1                    0                   0  "
      ]
     },
     "execution_count": 79,
     "metadata": {},
     "output_type": "execute_result"
    }
   ],
   "source": [
    "X.head(10)"
   ]
  },
  {
   "cell_type": "markdown",
   "metadata": {
    "heading_collapsed": true
   },
   "source": [
    "## 猜想五 education\n",
    "难道说教育水平越高的人，投资意识越强，所以越不会存定期吗？\n",
    "\n",
    "直接编码能到0.5055\n",
    "\n",
    "与duration交叉之后，编码能到0.5049，效果不明显"
   ]
  },
  {
   "cell_type": "code",
   "execution_count": 81,
   "metadata": {
    "hidden": true
   },
   "outputs": [
    {
     "data": {
      "text/plain": [
       "education_primary     -0.040393\n",
       "education_secondary   -0.036388\n",
       "education_tertiary     0.066448\n",
       "education_unknown      0.012053\n",
       "y                      1.000000\n",
       "Name: y, dtype: float64"
      ]
     },
     "execution_count": 81,
     "metadata": {},
     "output_type": "execute_result"
    }
   ],
   "source": [
    "newdata = pd.get_dummies(data, columns = ['education'])\n",
    "newdata[[item for item in newdata.columns if item.split('_')[0] == 'education'] + ['y']].corr()['y']"
   ]
  },
  {
   "cell_type": "code",
   "execution_count": 82,
   "metadata": {
    "hidden": true
   },
   "outputs": [
    {
     "data": {
      "text/plain": [
       "0.08626477886439936"
      ]
     },
     "execution_count": 82,
     "metadata": {},
     "output_type": "execute_result"
    }
   ],
   "source": [
    "sum(y[newdata['education_primary'] == 1]) / len(y[newdata['education_primary'] == 1])"
   ]
  },
  {
   "cell_type": "code",
   "execution_count": 83,
   "metadata": {
    "hidden": true
   },
   "outputs": [
    {
     "data": {
      "text/plain": [
       "0.10559434531505904"
      ]
     },
     "execution_count": 83,
     "metadata": {},
     "output_type": "execute_result"
    }
   ],
   "source": [
    "sum(y[newdata['education_secondary'] == 1]) / len(y[newdata['education_secondary'] == 1])"
   ]
  },
  {
   "cell_type": "code",
   "execution_count": 84,
   "metadata": {
    "hidden": true
   },
   "outputs": [
    {
     "data": {
      "text/plain": [
       "0.15006390496955116"
      ]
     },
     "execution_count": 84,
     "metadata": {},
     "output_type": "execute_result"
    }
   ],
   "source": [
    "sum(y[newdata['education_tertiary'] == 1]) / len(y[newdata['education_tertiary'] == 1])"
   ]
  },
  {
   "cell_type": "code",
   "execution_count": 85,
   "metadata": {
    "hidden": true
   },
   "outputs": [
    {
     "data": {
      "text/plain": [
       "0.13570274636510501"
      ]
     },
     "execution_count": 85,
     "metadata": {},
     "output_type": "execute_result"
    }
   ],
   "source": [
    "sum(y[newdata['education_unknown'] == 1]) / len(y[newdata['education_unknown'] == 1])"
   ]
  },
  {
   "cell_type": "markdown",
   "metadata": {
    "hidden": true
   },
   "source": [
    "从条件概率上来说，感觉这个特征就不太靠谱的样子"
   ]
  },
  {
   "cell_type": "code",
   "execution_count": 86,
   "metadata": {
    "hidden": true
   },
   "outputs": [],
   "source": [
    "X[['education_unknown', 'education_primary', 'education_secondary', 'education_tertiary']] = newdata[['education_unknown', 'education_primary', 'education_secondary', 'education_tertiary']]"
   ]
  },
  {
   "cell_type": "code",
   "execution_count": 88,
   "metadata": {
    "hidden": true
   },
   "outputs": [
    {
     "name": "stdout",
     "output_type": "stream",
     "text": [
      "number of yes in train 4232, in test 1057, in predict 1359, mcc score is 0.5049\n",
      "number of yes in train 4242, in test 1047, in predict 1326, mcc score is 0.4831\n",
      "number of yes in train 4149, in test 1140, in predict 1449, mcc score is 0.5361\n",
      "number of yes in train 4264, in test 1025, in predict 1370, mcc score is 0.4901\n",
      "number of yes in train 4269, in test 1020, in predict 1374, mcc score is 0.5132\n",
      "mean score 0.5055\n"
     ]
    }
   ],
   "source": [
    "# rft {'class_weight': {0: 1, 1: 3}, 'criterion': 'gini', 'max_depth': 15, 'min_samples_leaf': 10, 'n_estimators': 100}\n",
    "para = {'class_weight': {0: 1, 1: 3}, 'criterion': 'gini', 'max_depth': 15, 'min_samples_leaf': 10, 'n_estimators': 100}\n",
    "rftree = RandomForestClassifier(**para)\n",
    "kf = KFold(n_splits=5, shuffle = True, random_state = 123)\n",
    "\n",
    "score_array = np.zeros(5)\n",
    "for (ii, (train_index, test_index)) in enumerate(kf.split(X, y)):\n",
    "#     print(\"TRAIN:\", train_index, \"TEST:\", test_index)\n",
    "    X_train, X_test = X.loc[train_index], X.loc[test_index]\n",
    "    y_train, y_test = y.iloc[train_index], y.iloc[test_index]\n",
    "    rftree.fit(X_train, y_train)\n",
    "    y_predict = rftree.predict(X_test)\n",
    "    myscore = matthews_corrcoef(y_test, y_predict)\n",
    "    score_array[ii] = myscore\n",
    "    print(\"number of yes in train {:d}, in test {:d}, in predict {:d}, mcc score is {:.4f}\".format(y_train.value_counts()[1],\\\n",
    "                                                                                                  y_test.value_counts()[1],\\\n",
    "                                                                                                  sum(y_predict),\\\n",
    "                                                                                                  myscore))\n",
    "print(\"mean score {:.4f}\".format(np.mean(score_array)))"
   ]
  },
  {
   "cell_type": "code",
   "execution_count": 90,
   "metadata": {
    "hidden": true
   },
   "outputs": [],
   "source": [
    "X['duration-education_unknown'] = X['duration'] * X['education_unknown']\n",
    "X['duration-education_primary'] = X['duration'] * X['education_primary']\n",
    "X['duration-education_secondary'] = X['duration'] * X['education_secondary']\n",
    "X['duration-education_tertiary'] = X['duration'] * X['education_tertiary']\n",
    "\n",
    "X.drop(columns = ['education_unknown', 'education_primary', 'education_secondary', 'education_tertiary'], inplace = True)"
   ]
  },
  {
   "cell_type": "code",
   "execution_count": 91,
   "metadata": {
    "collapsed": true,
    "hidden": true
   },
   "outputs": [
    {
     "data": {
      "text/html": [
       "<div>\n",
       "<style scoped>\n",
       "    .dataframe tbody tr th:only-of-type {\n",
       "        vertical-align: middle;\n",
       "    }\n",
       "\n",
       "    .dataframe tbody tr th {\n",
       "        vertical-align: top;\n",
       "    }\n",
       "\n",
       "    .dataframe thead th {\n",
       "        text-align: right;\n",
       "    }\n",
       "</style>\n",
       "<table border=\"1\" class=\"dataframe\">\n",
       "  <thead>\n",
       "    <tr style=\"text-align: right;\">\n",
       "      <th></th>\n",
       "      <th>duration</th>\n",
       "      <th>age</th>\n",
       "      <th>year_2008</th>\n",
       "      <th>year_2009</th>\n",
       "      <th>year_2010</th>\n",
       "      <th>balance</th>\n",
       "      <th>job_encode_negative</th>\n",
       "      <th>job_encode_positive</th>\n",
       "      <th>job_encode_unknown</th>\n",
       "      <th>duration-education_unknown</th>\n",
       "      <th>duration-education_primary</th>\n",
       "      <th>duration-education_secondary</th>\n",
       "      <th>duration-education_tertiary</th>\n",
       "    </tr>\n",
       "  </thead>\n",
       "  <tbody>\n",
       "    <tr>\n",
       "      <th>0</th>\n",
       "      <td>261</td>\n",
       "      <td>58</td>\n",
       "      <td>1</td>\n",
       "      <td>0</td>\n",
       "      <td>0</td>\n",
       "      <td>2143</td>\n",
       "      <td>0</td>\n",
       "      <td>1</td>\n",
       "      <td>0</td>\n",
       "      <td>0</td>\n",
       "      <td>0</td>\n",
       "      <td>0</td>\n",
       "      <td>261</td>\n",
       "    </tr>\n",
       "    <tr>\n",
       "      <th>1</th>\n",
       "      <td>151</td>\n",
       "      <td>44</td>\n",
       "      <td>1</td>\n",
       "      <td>0</td>\n",
       "      <td>0</td>\n",
       "      <td>29</td>\n",
       "      <td>1</td>\n",
       "      <td>0</td>\n",
       "      <td>0</td>\n",
       "      <td>0</td>\n",
       "      <td>0</td>\n",
       "      <td>151</td>\n",
       "      <td>0</td>\n",
       "    </tr>\n",
       "    <tr>\n",
       "      <th>2</th>\n",
       "      <td>76</td>\n",
       "      <td>33</td>\n",
       "      <td>1</td>\n",
       "      <td>0</td>\n",
       "      <td>0</td>\n",
       "      <td>2</td>\n",
       "      <td>1</td>\n",
       "      <td>0</td>\n",
       "      <td>0</td>\n",
       "      <td>0</td>\n",
       "      <td>0</td>\n",
       "      <td>76</td>\n",
       "      <td>0</td>\n",
       "    </tr>\n",
       "    <tr>\n",
       "      <th>3</th>\n",
       "      <td>92</td>\n",
       "      <td>47</td>\n",
       "      <td>1</td>\n",
       "      <td>0</td>\n",
       "      <td>0</td>\n",
       "      <td>1506</td>\n",
       "      <td>1</td>\n",
       "      <td>0</td>\n",
       "      <td>0</td>\n",
       "      <td>92</td>\n",
       "      <td>0</td>\n",
       "      <td>0</td>\n",
       "      <td>0</td>\n",
       "    </tr>\n",
       "    <tr>\n",
       "      <th>4</th>\n",
       "      <td>198</td>\n",
       "      <td>33</td>\n",
       "      <td>1</td>\n",
       "      <td>0</td>\n",
       "      <td>0</td>\n",
       "      <td>1</td>\n",
       "      <td>0</td>\n",
       "      <td>0</td>\n",
       "      <td>1</td>\n",
       "      <td>198</td>\n",
       "      <td>0</td>\n",
       "      <td>0</td>\n",
       "      <td>0</td>\n",
       "    </tr>\n",
       "    <tr>\n",
       "      <th>5</th>\n",
       "      <td>139</td>\n",
       "      <td>35</td>\n",
       "      <td>1</td>\n",
       "      <td>0</td>\n",
       "      <td>0</td>\n",
       "      <td>231</td>\n",
       "      <td>0</td>\n",
       "      <td>1</td>\n",
       "      <td>0</td>\n",
       "      <td>0</td>\n",
       "      <td>0</td>\n",
       "      <td>0</td>\n",
       "      <td>139</td>\n",
       "    </tr>\n",
       "    <tr>\n",
       "      <th>6</th>\n",
       "      <td>217</td>\n",
       "      <td>28</td>\n",
       "      <td>1</td>\n",
       "      <td>0</td>\n",
       "      <td>0</td>\n",
       "      <td>447</td>\n",
       "      <td>0</td>\n",
       "      <td>1</td>\n",
       "      <td>0</td>\n",
       "      <td>0</td>\n",
       "      <td>0</td>\n",
       "      <td>0</td>\n",
       "      <td>217</td>\n",
       "    </tr>\n",
       "    <tr>\n",
       "      <th>7</th>\n",
       "      <td>380</td>\n",
       "      <td>42</td>\n",
       "      <td>1</td>\n",
       "      <td>0</td>\n",
       "      <td>0</td>\n",
       "      <td>2</td>\n",
       "      <td>1</td>\n",
       "      <td>0</td>\n",
       "      <td>0</td>\n",
       "      <td>0</td>\n",
       "      <td>0</td>\n",
       "      <td>0</td>\n",
       "      <td>380</td>\n",
       "    </tr>\n",
       "    <tr>\n",
       "      <th>8</th>\n",
       "      <td>50</td>\n",
       "      <td>58</td>\n",
       "      <td>1</td>\n",
       "      <td>0</td>\n",
       "      <td>0</td>\n",
       "      <td>121</td>\n",
       "      <td>0</td>\n",
       "      <td>1</td>\n",
       "      <td>0</td>\n",
       "      <td>0</td>\n",
       "      <td>50</td>\n",
       "      <td>0</td>\n",
       "      <td>0</td>\n",
       "    </tr>\n",
       "    <tr>\n",
       "      <th>9</th>\n",
       "      <td>55</td>\n",
       "      <td>43</td>\n",
       "      <td>1</td>\n",
       "      <td>0</td>\n",
       "      <td>0</td>\n",
       "      <td>593</td>\n",
       "      <td>1</td>\n",
       "      <td>0</td>\n",
       "      <td>0</td>\n",
       "      <td>0</td>\n",
       "      <td>0</td>\n",
       "      <td>55</td>\n",
       "      <td>0</td>\n",
       "    </tr>\n",
       "  </tbody>\n",
       "</table>\n",
       "</div>"
      ],
      "text/plain": [
       "   duration  age  year_2008  year_2009  year_2010  balance  \\\n",
       "0       261   58          1          0          0     2143   \n",
       "1       151   44          1          0          0       29   \n",
       "2        76   33          1          0          0        2   \n",
       "3        92   47          1          0          0     1506   \n",
       "4       198   33          1          0          0        1   \n",
       "5       139   35          1          0          0      231   \n",
       "6       217   28          1          0          0      447   \n",
       "7       380   42          1          0          0        2   \n",
       "8        50   58          1          0          0      121   \n",
       "9        55   43          1          0          0      593   \n",
       "\n",
       "   job_encode_negative  job_encode_positive  job_encode_unknown  \\\n",
       "0                    0                    1                   0   \n",
       "1                    1                    0                   0   \n",
       "2                    1                    0                   0   \n",
       "3                    1                    0                   0   \n",
       "4                    0                    0                   1   \n",
       "5                    0                    1                   0   \n",
       "6                    0                    1                   0   \n",
       "7                    1                    0                   0   \n",
       "8                    0                    1                   0   \n",
       "9                    1                    0                   0   \n",
       "\n",
       "   duration-education_unknown  duration-education_primary  \\\n",
       "0                           0                           0   \n",
       "1                           0                           0   \n",
       "2                           0                           0   \n",
       "3                          92                           0   \n",
       "4                         198                           0   \n",
       "5                           0                           0   \n",
       "6                           0                           0   \n",
       "7                           0                           0   \n",
       "8                           0                          50   \n",
       "9                           0                           0   \n",
       "\n",
       "   duration-education_secondary  duration-education_tertiary  \n",
       "0                             0                          261  \n",
       "1                           151                            0  \n",
       "2                            76                            0  \n",
       "3                             0                            0  \n",
       "4                             0                            0  \n",
       "5                             0                          139  \n",
       "6                             0                          217  \n",
       "7                             0                          380  \n",
       "8                             0                            0  \n",
       "9                            55                            0  "
      ]
     },
     "execution_count": 91,
     "metadata": {},
     "output_type": "execute_result"
    }
   ],
   "source": [
    "X.head(10)"
   ]
  },
  {
   "cell_type": "code",
   "execution_count": 93,
   "metadata": {
    "hidden": true
   },
   "outputs": [
    {
     "name": "stdout",
     "output_type": "stream",
     "text": [
      "number of yes in train 4232, in test 1057, in predict 1361, mcc score is 0.5034\n",
      "number of yes in train 4242, in test 1047, in predict 1351, mcc score is 0.4834\n",
      "number of yes in train 4149, in test 1140, in predict 1478, mcc score is 0.5349\n",
      "number of yes in train 4264, in test 1025, in predict 1375, mcc score is 0.4917\n",
      "number of yes in train 4269, in test 1020, in predict 1384, mcc score is 0.5174\n",
      "mean score 0.5061\n"
     ]
    }
   ],
   "source": [
    "# rft {'cls_weasight': {0: 1, 1: 3}, 'criterion': 'gini', 'max_depth': 15, 'min_samples_leaf': 10, 'n_estimators': 100}\n",
    "para = {'class_weight': {0: 1, 1: 3}, 'criterion': 'gini', 'max_depth': 15, 'min_samples_leaf': 10, 'n_estimators': 100}\n",
    "rftree = RandomForestClassifier(**para)\n",
    "kf = KFold(n_splits=5, shuffle = True, random_state = 123)\n",
    "\n",
    "score_array = np.zeros(5)\n",
    "for (ii, (train_index, test_index)) in enumerate(kf.split(X, y)):\n",
    "#     print(\"TRAIN:\", train_index, \"TEST:\", test_index)\n",
    "    X_train, X_test = X.loc[train_index], X.loc[test_index]\n",
    "    y_train, y_test = y.iloc[train_index], y.iloc[test_index]\n",
    "    rftree.fit(X_train, y_train)\n",
    "    y_predict = rftree.predict(X_test)\n",
    "    myscore = matthews_corrcoef(y_test, y_predict)\n",
    "    score_array[ii] = myscore\n",
    "    print(\"number of yes in train {:d}, in test {:d}, in predict {:d}, mcc score is {:.4f}\".format(y_train.value_counts()[1],\\\n",
    "                                                                                                  y_test.value_counts()[1],\\\n",
    "                                                                                                  sum(y_predict),\\\n",
    "                                                                                                  myscore))\n",
    "print(\"mean score {:.4f}\".format(np.mean(score_array)))"
   ]
  },
  {
   "cell_type": "markdown",
   "metadata": {
    "hidden": true
   },
   "source": [
    "效果不明显"
   ]
  },
  {
   "cell_type": "code",
   "execution_count": 170,
   "metadata": {
    "hidden": true
   },
   "outputs": [],
   "source": [
    "X.drop(columns = ['duration-education_unknown', 'duration-education_primary', 'duration-education_secondary', 'duration-education_tertiary'],\n",
    "       inplace = True)"
   ]
  },
  {
   "cell_type": "markdown",
   "metadata": {
    "heading_collapsed": true
   },
   "source": [
    "## 猜想六 default\n",
    "根据之前的经验，这个变量应该很拉胯才对\n",
    "\n",
    "直接编码能到0.5076，有点超出预期\n",
    "\n",
    "与duration交叉之后，只有0.5014"
   ]
  },
  {
   "cell_type": "code",
   "execution_count": 95,
   "metadata": {
    "hidden": true
   },
   "outputs": [
    {
     "data": {
      "text/plain": [
       "default_yes   -0.022419\n",
       "default_no     0.022419\n",
       "y              1.000000\n",
       "Name: y, dtype: float64"
      ]
     },
     "execution_count": 95,
     "metadata": {},
     "output_type": "execute_result"
    }
   ],
   "source": [
    "newdata = pd.get_dummies(data, columns = ['default'])\n",
    "X[['default_yes', 'default_no']] = newdata[['default_yes', 'default_no']]\n",
    "newdata[['default_yes', 'default_no', 'y']].corr()['y']"
   ]
  },
  {
   "cell_type": "code",
   "execution_count": 97,
   "metadata": {
    "code_folding": [
     0
    ],
    "hidden": true
   },
   "outputs": [
    {
     "name": "stdout",
     "output_type": "stream",
     "text": [
      "number of yes in train 4232, in test 1057, in predict 1376, mcc score is 0.5100\n",
      "number of yes in train 4242, in test 1047, in predict 1375, mcc score is 0.4839\n",
      "number of yes in train 4149, in test 1140, in predict 1508, mcc score is 0.5379\n",
      "number of yes in train 4264, in test 1025, in predict 1408, mcc score is 0.4891\n",
      "number of yes in train 4269, in test 1020, in predict 1430, mcc score is 0.5171\n",
      "mean score 0.5076\n"
     ]
    }
   ],
   "source": [
    "# rft {'cls_weasight': {0: 1, 1: 3}, 'criterion': 'gini', 'max_depth': 15, 'min_samples_leaf': 10, 'n_estimators': 100}\n",
    "para = {'class_weight': {0: 1, 1: 3}, 'criterion': 'gini', 'max_depth': 15, 'min_samples_leaf': 10, 'n_estimators': 100}\n",
    "rftree = RandomForestClassifier(**para)\n",
    "kf = KFold(n_splits=5, shuffle = True, random_state = 123)\n",
    "\n",
    "score_array = np.zeros(5)\n",
    "for (ii, (train_index, test_index)) in enumerate(kf.split(X, y)):\n",
    "#     print(\"TRAIN:\", train_index, \"TEST:\", test_index)\n",
    "    X_train, X_test = X.loc[train_index], X.loc[test_index]\n",
    "    y_train, y_test = y.iloc[train_index], y.iloc[test_index]\n",
    "    rftree.fit(X_train, y_train)\n",
    "    y_predict = rftree.predict(X_test)\n",
    "    myscore = matthews_corrcoef(y_test, y_predict)\n",
    "    score_array[ii] = myscore\n",
    "    print(\"number of yes in train {:d}, in test {:d}, in predict {:d}, mcc score is {:.4f}\".format(y_train.value_counts()[1],\\\n",
    "                                                                                                  y_test.value_counts()[1],\\\n",
    "                                                                                                  sum(y_predict),\\\n",
    "                                                                                                  myscore))\n",
    "print(\"mean score {:.4f}\".format(np.mean(score_array)))"
   ]
  },
  {
   "cell_type": "code",
   "execution_count": 98,
   "metadata": {
    "hidden": true
   },
   "outputs": [],
   "source": [
    "X['duration-default_yes'] = X['duration'] * X['default_yes']\n",
    "X['duration-default_no'] = X['duration'] * X['default_no']\n",
    "X.drop(columns = ['default_yes', 'default_no'], inplace = True)"
   ]
  },
  {
   "cell_type": "code",
   "execution_count": 99,
   "metadata": {
    "collapsed": true,
    "hidden": true
   },
   "outputs": [
    {
     "data": {
      "text/html": [
       "<div>\n",
       "<style scoped>\n",
       "    .dataframe tbody tr th:only-of-type {\n",
       "        vertical-align: middle;\n",
       "    }\n",
       "\n",
       "    .dataframe tbody tr th {\n",
       "        vertical-align: top;\n",
       "    }\n",
       "\n",
       "    .dataframe thead th {\n",
       "        text-align: right;\n",
       "    }\n",
       "</style>\n",
       "<table border=\"1\" class=\"dataframe\">\n",
       "  <thead>\n",
       "    <tr style=\"text-align: right;\">\n",
       "      <th></th>\n",
       "      <th>duration</th>\n",
       "      <th>age</th>\n",
       "      <th>year_2008</th>\n",
       "      <th>year_2009</th>\n",
       "      <th>year_2010</th>\n",
       "      <th>balance</th>\n",
       "      <th>job_encode_negative</th>\n",
       "      <th>job_encode_positive</th>\n",
       "      <th>job_encode_unknown</th>\n",
       "      <th>duration-education_unknown</th>\n",
       "      <th>duration-education_primary</th>\n",
       "      <th>duration-education_secondary</th>\n",
       "      <th>duration-education_tertiary</th>\n",
       "      <th>duration-default_yes</th>\n",
       "      <th>duration-default_no</th>\n",
       "    </tr>\n",
       "  </thead>\n",
       "  <tbody>\n",
       "    <tr>\n",
       "      <th>0</th>\n",
       "      <td>261</td>\n",
       "      <td>58</td>\n",
       "      <td>1</td>\n",
       "      <td>0</td>\n",
       "      <td>0</td>\n",
       "      <td>2143</td>\n",
       "      <td>0</td>\n",
       "      <td>1</td>\n",
       "      <td>0</td>\n",
       "      <td>0</td>\n",
       "      <td>0</td>\n",
       "      <td>0</td>\n",
       "      <td>261</td>\n",
       "      <td>0</td>\n",
       "      <td>261</td>\n",
       "    </tr>\n",
       "    <tr>\n",
       "      <th>1</th>\n",
       "      <td>151</td>\n",
       "      <td>44</td>\n",
       "      <td>1</td>\n",
       "      <td>0</td>\n",
       "      <td>0</td>\n",
       "      <td>29</td>\n",
       "      <td>1</td>\n",
       "      <td>0</td>\n",
       "      <td>0</td>\n",
       "      <td>0</td>\n",
       "      <td>0</td>\n",
       "      <td>151</td>\n",
       "      <td>0</td>\n",
       "      <td>0</td>\n",
       "      <td>151</td>\n",
       "    </tr>\n",
       "    <tr>\n",
       "      <th>2</th>\n",
       "      <td>76</td>\n",
       "      <td>33</td>\n",
       "      <td>1</td>\n",
       "      <td>0</td>\n",
       "      <td>0</td>\n",
       "      <td>2</td>\n",
       "      <td>1</td>\n",
       "      <td>0</td>\n",
       "      <td>0</td>\n",
       "      <td>0</td>\n",
       "      <td>0</td>\n",
       "      <td>76</td>\n",
       "      <td>0</td>\n",
       "      <td>0</td>\n",
       "      <td>76</td>\n",
       "    </tr>\n",
       "    <tr>\n",
       "      <th>3</th>\n",
       "      <td>92</td>\n",
       "      <td>47</td>\n",
       "      <td>1</td>\n",
       "      <td>0</td>\n",
       "      <td>0</td>\n",
       "      <td>1506</td>\n",
       "      <td>1</td>\n",
       "      <td>0</td>\n",
       "      <td>0</td>\n",
       "      <td>92</td>\n",
       "      <td>0</td>\n",
       "      <td>0</td>\n",
       "      <td>0</td>\n",
       "      <td>0</td>\n",
       "      <td>92</td>\n",
       "    </tr>\n",
       "    <tr>\n",
       "      <th>4</th>\n",
       "      <td>198</td>\n",
       "      <td>33</td>\n",
       "      <td>1</td>\n",
       "      <td>0</td>\n",
       "      <td>0</td>\n",
       "      <td>1</td>\n",
       "      <td>0</td>\n",
       "      <td>0</td>\n",
       "      <td>1</td>\n",
       "      <td>198</td>\n",
       "      <td>0</td>\n",
       "      <td>0</td>\n",
       "      <td>0</td>\n",
       "      <td>0</td>\n",
       "      <td>198</td>\n",
       "    </tr>\n",
       "    <tr>\n",
       "      <th>5</th>\n",
       "      <td>139</td>\n",
       "      <td>35</td>\n",
       "      <td>1</td>\n",
       "      <td>0</td>\n",
       "      <td>0</td>\n",
       "      <td>231</td>\n",
       "      <td>0</td>\n",
       "      <td>1</td>\n",
       "      <td>0</td>\n",
       "      <td>0</td>\n",
       "      <td>0</td>\n",
       "      <td>0</td>\n",
       "      <td>139</td>\n",
       "      <td>0</td>\n",
       "      <td>139</td>\n",
       "    </tr>\n",
       "    <tr>\n",
       "      <th>6</th>\n",
       "      <td>217</td>\n",
       "      <td>28</td>\n",
       "      <td>1</td>\n",
       "      <td>0</td>\n",
       "      <td>0</td>\n",
       "      <td>447</td>\n",
       "      <td>0</td>\n",
       "      <td>1</td>\n",
       "      <td>0</td>\n",
       "      <td>0</td>\n",
       "      <td>0</td>\n",
       "      <td>0</td>\n",
       "      <td>217</td>\n",
       "      <td>0</td>\n",
       "      <td>217</td>\n",
       "    </tr>\n",
       "    <tr>\n",
       "      <th>7</th>\n",
       "      <td>380</td>\n",
       "      <td>42</td>\n",
       "      <td>1</td>\n",
       "      <td>0</td>\n",
       "      <td>0</td>\n",
       "      <td>2</td>\n",
       "      <td>1</td>\n",
       "      <td>0</td>\n",
       "      <td>0</td>\n",
       "      <td>0</td>\n",
       "      <td>0</td>\n",
       "      <td>0</td>\n",
       "      <td>380</td>\n",
       "      <td>380</td>\n",
       "      <td>0</td>\n",
       "    </tr>\n",
       "    <tr>\n",
       "      <th>8</th>\n",
       "      <td>50</td>\n",
       "      <td>58</td>\n",
       "      <td>1</td>\n",
       "      <td>0</td>\n",
       "      <td>0</td>\n",
       "      <td>121</td>\n",
       "      <td>0</td>\n",
       "      <td>1</td>\n",
       "      <td>0</td>\n",
       "      <td>0</td>\n",
       "      <td>50</td>\n",
       "      <td>0</td>\n",
       "      <td>0</td>\n",
       "      <td>0</td>\n",
       "      <td>50</td>\n",
       "    </tr>\n",
       "    <tr>\n",
       "      <th>9</th>\n",
       "      <td>55</td>\n",
       "      <td>43</td>\n",
       "      <td>1</td>\n",
       "      <td>0</td>\n",
       "      <td>0</td>\n",
       "      <td>593</td>\n",
       "      <td>1</td>\n",
       "      <td>0</td>\n",
       "      <td>0</td>\n",
       "      <td>0</td>\n",
       "      <td>0</td>\n",
       "      <td>55</td>\n",
       "      <td>0</td>\n",
       "      <td>0</td>\n",
       "      <td>55</td>\n",
       "    </tr>\n",
       "  </tbody>\n",
       "</table>\n",
       "</div>"
      ],
      "text/plain": [
       "   duration  age  year_2008  year_2009  year_2010  balance  \\\n",
       "0       261   58          1          0          0     2143   \n",
       "1       151   44          1          0          0       29   \n",
       "2        76   33          1          0          0        2   \n",
       "3        92   47          1          0          0     1506   \n",
       "4       198   33          1          0          0        1   \n",
       "5       139   35          1          0          0      231   \n",
       "6       217   28          1          0          0      447   \n",
       "7       380   42          1          0          0        2   \n",
       "8        50   58          1          0          0      121   \n",
       "9        55   43          1          0          0      593   \n",
       "\n",
       "   job_encode_negative  job_encode_positive  job_encode_unknown  \\\n",
       "0                    0                    1                   0   \n",
       "1                    1                    0                   0   \n",
       "2                    1                    0                   0   \n",
       "3                    1                    0                   0   \n",
       "4                    0                    0                   1   \n",
       "5                    0                    1                   0   \n",
       "6                    0                    1                   0   \n",
       "7                    1                    0                   0   \n",
       "8                    0                    1                   0   \n",
       "9                    1                    0                   0   \n",
       "\n",
       "   duration-education_unknown  duration-education_primary  \\\n",
       "0                           0                           0   \n",
       "1                           0                           0   \n",
       "2                           0                           0   \n",
       "3                          92                           0   \n",
       "4                         198                           0   \n",
       "5                           0                           0   \n",
       "6                           0                           0   \n",
       "7                           0                           0   \n",
       "8                           0                          50   \n",
       "9                           0                           0   \n",
       "\n",
       "   duration-education_secondary  duration-education_tertiary  \\\n",
       "0                             0                          261   \n",
       "1                           151                            0   \n",
       "2                            76                            0   \n",
       "3                             0                            0   \n",
       "4                             0                            0   \n",
       "5                             0                          139   \n",
       "6                             0                          217   \n",
       "7                             0                          380   \n",
       "8                             0                            0   \n",
       "9                            55                            0   \n",
       "\n",
       "   duration-default_yes  duration-default_no  \n",
       "0                     0                  261  \n",
       "1                     0                  151  \n",
       "2                     0                   76  \n",
       "3                     0                   92  \n",
       "4                     0                  198  \n",
       "5                     0                  139  \n",
       "6                     0                  217  \n",
       "7                   380                    0  \n",
       "8                     0                   50  \n",
       "9                     0                   55  "
      ]
     },
     "execution_count": 99,
     "metadata": {},
     "output_type": "execute_result"
    }
   ],
   "source": [
    "X.head(10)"
   ]
  },
  {
   "cell_type": "code",
   "execution_count": 100,
   "metadata": {
    "hidden": true
   },
   "outputs": [
    {
     "name": "stdout",
     "output_type": "stream",
     "text": [
      "number of yes in train 4232, in test 1057, in predict 1357, mcc score is 0.5015\n",
      "number of yes in train 4242, in test 1047, in predict 1317, mcc score is 0.4786\n",
      "number of yes in train 4149, in test 1140, in predict 1464, mcc score is 0.5313\n",
      "number of yes in train 4264, in test 1025, in predict 1365, mcc score is 0.4914\n",
      "number of yes in train 4269, in test 1020, in predict 1402, mcc score is 0.5040\n",
      "mean score 0.5014\n"
     ]
    }
   ],
   "source": [
    "# rft {'cls_weasight': {0: 1, 1: 3}, 'criterion': 'gini', 'max_depth': 15, 'min_samples_leaf': 10, 'n_estimators': 100}\n",
    "para = {'class_weight': {0: 1, 1: 3}, 'criterion': 'gini', 'max_depth': 15, 'min_samples_leaf': 10, 'n_estimators': 100}\n",
    "rftree = RandomForestClassifier(**para)\n",
    "kf = KFold(n_splits=5, shuffle = True, random_state = 123)\n",
    "\n",
    "score_array = np.zeros(5)\n",
    "for (ii, (train_index, test_index)) in enumerate(kf.split(X, y)):\n",
    "#     print(\"TRAIN:\", train_index, \"TEST:\", test_index)\n",
    "    X_train, X_test = X.loc[train_index], X.loc[test_index]\n",
    "    y_train, y_test = y.iloc[train_index], y.iloc[test_index]\n",
    "    rftree.fit(X_train, y_train)\n",
    "    y_predict = rftree.predict(X_test)\n",
    "    myscore = matthews_corrcoef(y_test, y_predict)\n",
    "    score_array[ii] = myscore\n",
    "    print(\"number of yes in train {:d}, in test {:d}, in predict {:d}, mcc score is {:.4f}\".format(y_train.value_counts()[1],\\\n",
    "                                                                                                  y_test.value_counts()[1],\\\n",
    "                                                                                                  sum(y_predict),\\\n",
    "                                                                                                  myscore))\n",
    "print(\"mean score {:.4f}\".format(np.mean(score_array)))"
   ]
  },
  {
   "cell_type": "code",
   "execution_count": 101,
   "metadata": {
    "hidden": true
   },
   "outputs": [],
   "source": [
    "X.drop(columns = ['duration-default_yes', 'duration-default_no'], inplace = True)"
   ]
  },
  {
   "cell_type": "markdown",
   "metadata": {
    "heading_collapsed": true
   },
   "source": [
    "## 猜想七 housing\n",
    "housing与房贷直接相关，关系到经济问题应该会有点用\n",
    "\n",
    "直接编码能到 0.5358\n",
    "\n",
    "与duration交叉能到 0.5347"
   ]
  },
  {
   "cell_type": "code",
   "execution_count": 102,
   "metadata": {
    "hidden": true
   },
   "outputs": [
    {
     "data": {
      "text/plain": [
       "housing_yes   -0.139173\n",
       "housing_no     0.139173\n",
       "y              1.000000\n",
       "Name: y, dtype: float64"
      ]
     },
     "execution_count": 102,
     "metadata": {},
     "output_type": "execute_result"
    }
   ],
   "source": [
    "newdata = pd.get_dummies(data, columns = ['housing'])\n",
    "X[['housing_yes', 'housing_no']] = newdata[['housing_yes', 'housing_no']]\n",
    "newdata[['housing_yes', 'housing_no', 'y']].corr()['y']"
   ]
  },
  {
   "cell_type": "code",
   "execution_count": 103,
   "metadata": {
    "code_folding": [
     0
    ],
    "hidden": true
   },
   "outputs": [
    {
     "name": "stdout",
     "output_type": "stream",
     "text": [
      "number of yes in train 4232, in test 1057, in predict 1498, mcc score is 0.5350\n",
      "number of yes in train 4242, in test 1047, in predict 1485, mcc score is 0.5122\n",
      "number of yes in train 4149, in test 1140, in predict 1635, mcc score is 0.5531\n",
      "number of yes in train 4264, in test 1025, in predict 1526, mcc score is 0.5300\n",
      "number of yes in train 4269, in test 1020, in predict 1495, mcc score is 0.5490\n",
      "mean score 0.5358\n"
     ]
    }
   ],
   "source": [
    "# rft {'cls_weasight': {0: 1, 1: 3}, 'criterion': 'gini', 'max_depth': 15, 'min_samples_leaf': 10, 'n_estimators': 100}\n",
    "para = {'class_weight': {0: 1, 1: 3}, 'criterion': 'gini', 'max_depth': 15, 'min_samples_leaf': 10, 'n_estimators': 100}\n",
    "rftree = RandomForestClassifier(**para)\n",
    "kf = KFold(n_splits=5, shuffle = True, random_state = 123)\n",
    "\n",
    "score_array = np.zeros(5)\n",
    "for (ii, (train_index, test_index)) in enumerate(kf.split(X, y)):\n",
    "#     print(\"TRAIN:\", train_index, \"TEST:\", test_index)\n",
    "    X_train, X_test = X.loc[train_index], X.loc[test_index]\n",
    "    y_train, y_test = y.iloc[train_index], y.iloc[test_index]\n",
    "    rftree.fit(X_train, y_train)\n",
    "    y_predict = rftree.predict(X_test)\n",
    "    myscore = matthews_corrcoef(y_test, y_predict)\n",
    "    score_array[ii] = myscore\n",
    "    print(\"number of yes in train {:d}, in test {:d}, in predict {:d}, mcc score is {:.4f}\".format(y_train.value_counts()[1],\\\n",
    "                                                                                                  y_test.value_counts()[1],\\\n",
    "                                                                                                  sum(y_predict),\\\n",
    "                                                                                                  myscore))\n",
    "print(\"mean score {:.4f}\".format(np.mean(score_array)))"
   ]
  },
  {
   "cell_type": "code",
   "execution_count": 104,
   "metadata": {
    "hidden": true
   },
   "outputs": [],
   "source": [
    "X['duration-housing_yes'] = X['duration'] * X['housing_yes']\n",
    "X['duration-housing_no'] = X['duration'] * X['housing_no']\n",
    "X.drop(columns = ['housing_yes', 'housing_no'], inplace = True)"
   ]
  },
  {
   "cell_type": "code",
   "execution_count": 106,
   "metadata": {
    "code_folding": [
     0
    ],
    "hidden": true
   },
   "outputs": [
    {
     "name": "stdout",
     "output_type": "stream",
     "text": [
      "number of yes in train 4232, in test 1057, in predict 1467, mcc score is 0.5373\n",
      "number of yes in train 4242, in test 1047, in predict 1473, mcc score is 0.5143\n",
      "number of yes in train 4149, in test 1140, in predict 1614, mcc score is 0.5503\n",
      "number of yes in train 4264, in test 1025, in predict 1517, mcc score is 0.5331\n",
      "number of yes in train 4269, in test 1020, in predict 1506, mcc score is 0.5387\n",
      "mean score 0.5347\n"
     ]
    }
   ],
   "source": [
    "# rft {'cls_weasight': {0: 1, 1: 3}, 'criterion': 'gini', 'max_depth': 15, 'min_samples_leaf': 10, 'n_estimators': 100}\n",
    "para = {'class_weight': {0: 1, 1: 3}, 'criterion': 'gini', 'max_depth': 15, 'min_samples_leaf': 10, 'n_estimators': 100}\n",
    "rftree = RandomForestClassifier(**para)\n",
    "kf = KFold(n_splits=5, shuffle = True, random_state = 123)\n",
    "\n",
    "score_array = np.zeros(5)\n",
    "for (ii, (train_index, test_index)) in enumerate(kf.split(X, y)):\n",
    "#     print(\"TRAIN:\", train_index, \"TEST:\", test_index)\n",
    "    X_train, X_test = X.loc[train_index], X.loc[test_index]\n",
    "    y_train, y_test = y.iloc[train_index], y.iloc[test_index]\n",
    "    rftree.fit(X_train, y_train)\n",
    "    y_predict = rftree.predict(X_test)\n",
    "    myscore = matthews_corrcoef(y_test, y_predict)\n",
    "    score_array[ii] = myscore\n",
    "    print(\"number of yes in train {:d}, in test {:d}, in predict {:d}, mcc score is {:.4f}\".format(y_train.value_counts()[1],\\\n",
    "                                                                                                  y_test.value_counts()[1],\\\n",
    "                                                                                                  sum(y_predict),\\\n",
    "                                                                                                  myscore))\n",
    "print(\"mean score {:.4f}\".format(np.mean(score_array)))"
   ]
  },
  {
   "cell_type": "code",
   "execution_count": 107,
   "metadata": {
    "hidden": true
   },
   "outputs": [
    {
     "data": {
      "text/plain": [
       "array([[7260,  762],\n",
       "       [ 276,  744]], dtype=int64)"
      ]
     },
     "execution_count": 107,
     "metadata": {},
     "output_type": "execute_result"
    }
   ],
   "source": [
    "confusion_matrix(y_test, y_predict)"
   ]
  },
  {
   "cell_type": "code",
   "execution_count": 114,
   "metadata": {
    "hidden": true
   },
   "outputs": [],
   "source": [
    "X.drop(columns = ['duration-housing_yes', 'duration-housing_no'], inplace = True)\n",
    "X[['housing_yes', 'housing_no']] = newdata[['housing_yes', 'housing_no']]"
   ]
  },
  {
   "cell_type": "markdown",
   "metadata": {
    "heading_collapsed": true
   },
   "source": [
    "## 关于duration: duration越大，搞定期存款的可能性越大"
   ]
  },
  {
   "cell_type": "code",
   "execution_count": 115,
   "metadata": {
    "hidden": true
   },
   "outputs": [
    {
     "data": {
      "text/plain": [
       "8"
      ]
     },
     "execution_count": 115,
     "metadata": {},
     "output_type": "execute_result"
    }
   ],
   "source": [
    "# 关于duration的 split\n",
    "duration_split = np.array([609.50, 130.00, 106.50, 438.50, 521.50, 459.50, 362.50, 799.50])\n",
    "duration_split = np.sort(duration_split)\n",
    "len(duration_split)"
   ]
  },
  {
   "cell_type": "code",
   "execution_count": 116,
   "metadata": {
    "hidden": true
   },
   "outputs": [
    {
     "data": {
      "text/plain": [
       "array([106.5, 130. , 362.5, 438.5, 459.5, 521.5, 609.5, 799.5])"
      ]
     },
     "execution_count": 116,
     "metadata": {},
     "output_type": "execute_result"
    }
   ],
   "source": [
    "duration_split"
   ]
  },
  {
   "cell_type": "code",
   "execution_count": 117,
   "metadata": {
    "hidden": true
   },
   "outputs": [
    {
     "data": {
      "text/plain": [
       "0.011967973029919933"
      ]
     },
     "execution_count": 117,
     "metadata": {},
     "output_type": "execute_result"
    }
   ],
   "source": [
    "sum(y[data['duration'] < duration_split[0]]) / len(y[data['duration'] < duration_split[0]])"
   ]
  },
  {
   "cell_type": "code",
   "execution_count": 118,
   "metadata": {
    "collapsed": true,
    "hidden": true
   },
   "outputs": [
    {
     "name": "stdout",
     "output_type": "stream",
     "text": [
      "106.500000-130.000000: 0.1695\n",
      "130.000000-362.500000: 0.3279\n",
      "362.500000-438.500000: 0.3834\n",
      "438.500000-459.500000: 0.3964\n",
      "459.500000-521.500000: 0.4390\n",
      "521.500000-609.500000: 0.4911\n",
      "609.500000-799.500000: 0.5702\n"
     ]
    }
   ],
   "source": [
    "for i in range(0, 7):\n",
    "    prob = sum(y[(data['duration'] >= duration_split[i]) & (data['duration'] >= duration_split[i+1])]) / len(y[(data['duration'] >= duration_split[i]) & (data['duration'] >= duration_split[i+1])])\n",
    "    print(\"{:f}-{:f}: {:.4f}\".format(duration_split[i], duration_split[i+1], prob))"
   ]
  },
  {
   "cell_type": "markdown",
   "metadata": {
    "heading_collapsed": true
   },
   "source": [
    "## 猜想八：loan\n",
    "loan也直接与经济状况相关，因此应该也有效\n",
    "\n",
    "直接编码 0.5355\n",
    "与duration生成交叉项，0.5355，这特征似乎没什么用"
   ]
  },
  {
   "cell_type": "code",
   "execution_count": 119,
   "metadata": {
    "hidden": true
   },
   "outputs": [
    {
     "data": {
      "text/plain": [
       "loan_yes   -0.068185\n",
       "loan_no     0.068185\n",
       "y           1.000000\n",
       "Name: y, dtype: float64"
      ]
     },
     "execution_count": 119,
     "metadata": {},
     "output_type": "execute_result"
    }
   ],
   "source": [
    "newdata = pd.get_dummies(data, columns = ['loan'])\n",
    "X[['loan_yes', 'loan_no']] = newdata[['loan_yes', 'loan_no']]\n",
    "newdata[['loan_yes', 'loan_no', 'y']].corr()['y']"
   ]
  },
  {
   "cell_type": "markdown",
   "metadata": {
    "hidden": true
   },
   "source": [
    "出乎意料地有点低"
   ]
  },
  {
   "cell_type": "code",
   "execution_count": 121,
   "metadata": {
    "hidden": true
   },
   "outputs": [
    {
     "data": {
      "text/plain": [
       "0.06681391496410823"
      ]
     },
     "execution_count": 121,
     "metadata": {},
     "output_type": "execute_result"
    }
   ],
   "source": [
    "sum(y[newdata['loan_yes'] == 1]) / len(y[newdata['loan_yes'] == 1])"
   ]
  },
  {
   "cell_type": "code",
   "execution_count": 122,
   "metadata": {
    "hidden": true
   },
   "outputs": [
    {
     "data": {
      "text/plain": [
       "0.12655727342165565"
      ]
     },
     "execution_count": 122,
     "metadata": {},
     "output_type": "execute_result"
    }
   ],
   "source": [
    "sum(y[newdata['loan_no'] == 1]) / len(y[newdata['loan_no'] == 1])"
   ]
  },
  {
   "cell_type": "code",
   "execution_count": 124,
   "metadata": {
    "code_folding": [
     0
    ],
    "hidden": true
   },
   "outputs": [
    {
     "name": "stdout",
     "output_type": "stream",
     "text": [
      "number of yes in train 4232, in test 1057, in predict 1474, mcc score is 0.5355\n",
      "number of yes in train 4242, in test 1047, in predict 1477, mcc score is 0.5105\n",
      "number of yes in train 4149, in test 1140, in predict 1611, mcc score is 0.5537\n",
      "number of yes in train 4264, in test 1025, in predict 1514, mcc score is 0.5292\n",
      "number of yes in train 4269, in test 1020, in predict 1515, mcc score is 0.5486\n",
      "mean score 0.5355\n"
     ]
    }
   ],
   "source": [
    "# rft {'cls_weasight': {0: 1, 1: 3}, 'criterion': 'gini', 'max_depth': 15, 'min_samples_leaf': 10, 'n_estimators': 100}\n",
    "para = {'class_weight': {0: 1, 1: 3}, 'criterion': 'gini', 'max_depth': 15, 'min_samples_leaf': 10, 'n_estimators': 100}\n",
    "rftree = RandomForestClassifier(**para)\n",
    "kf = KFold(n_splits=5, shuffle = True, random_state = 123)\n",
    "\n",
    "score_array = np.zeros(5)\n",
    "for (ii, (train_index, test_index)) in enumerate(kf.split(X, y)):\n",
    "#     print(\"TRAIN:\", train_index, \"TEST:\", test_index)\n",
    "    X_train, X_test = X.loc[train_index], X.loc[test_index]\n",
    "    y_train, y_test = y.iloc[train_index], y.iloc[test_index]\n",
    "    rftree.fit(X_train, y_train)\n",
    "    y_predict = rftree.predict(X_test)\n",
    "    myscore = matthews_corrcoef(y_test, y_predict)\n",
    "    score_array[ii] = myscore\n",
    "    print(\"number of yes in train {:d}, in test {:d}, in predict {:d}, mcc score is {:.4f}\".format(y_train.value_counts()[1],\\\n",
    "                                                                                                  y_test.value_counts()[1],\\\n",
    "                                                                                                  sum(y_predict),\\\n",
    "                                                                                                  myscore))\n",
    "print(\"mean score {:.4f}\".format(np.mean(score_array)))"
   ]
  },
  {
   "cell_type": "code",
   "execution_count": 125,
   "metadata": {
    "code_folding": [],
    "hidden": true
   },
   "outputs": [],
   "source": [
    "# generate cross term\n",
    "X['duration-loan_yes'] = X['duration'] * X['loan_yes']\n",
    "X['duration-loan_no'] = X['duration'] * X['loan_no']\n",
    "X.drop(columns = ['loan_yes', 'loan_no'], inplace = True)"
   ]
  },
  {
   "cell_type": "code",
   "execution_count": 126,
   "metadata": {
    "code_folding": [
     0
    ],
    "hidden": true
   },
   "outputs": [
    {
     "name": "stdout",
     "output_type": "stream",
     "text": [
      "number of yes in train 4232, in test 1057, in predict 1444, mcc score is 0.5377\n",
      "number of yes in train 4242, in test 1047, in predict 1452, mcc score is 0.5167\n",
      "number of yes in train 4149, in test 1140, in predict 1587, mcc score is 0.5491\n",
      "number of yes in train 4264, in test 1025, in predict 1482, mcc score is 0.5277\n",
      "number of yes in train 4269, in test 1020, in predict 1491, mcc score is 0.5462\n",
      "mean score 0.5355\n"
     ]
    }
   ],
   "source": [
    "# rft {'cls_weasight': {0: 1, 1: 3}, 'criterion': 'gini', 'max_depth': 15, 'min_samples_leaf': 10, 'n_estimators': 100}\n",
    "para = {'class_weight': {0: 1, 1: 3}, 'criterion': 'gini', 'max_depth': 15, 'min_samples_leaf': 10, 'n_estimators': 100}\n",
    "rftree = RandomForestClassifier(**para)\n",
    "kf = KFold(n_splits=5, shuffle = True, random_state = 123)\n",
    "\n",
    "score_array = np.zeros(5)\n",
    "for (ii, (train_index, test_index)) in enumerate(kf.split(X, y)):\n",
    "#     print(\"TRAIN:\", train_index, \"TEST:\", test_index)\n",
    "    X_train, X_test = X.loc[train_index], X.loc[test_index]\n",
    "    y_train, y_test = y.iloc[train_index], y.iloc[test_index]\n",
    "    rftree.fit(X_train, y_train)\n",
    "    y_predict = rftree.predict(X_test)\n",
    "    myscore = matthews_corrcoef(y_test, y_predict)\n",
    "    score_array[ii] = myscore\n",
    "    print(\"number of yes in train {:d}, in test {:d}, in predict {:d}, mcc score is {:.4f}\".format(y_train.value_counts()[1],\\\n",
    "                                                                                                  y_test.value_counts()[1],\\\n",
    "                                                                                                  sum(y_predict),\\\n",
    "                                                                                                  myscore))\n",
    "print(\"mean score {:.4f}\".format(np.mean(score_array)))"
   ]
  },
  {
   "cell_type": "code",
   "execution_count": 168,
   "metadata": {
    "hidden": true
   },
   "outputs": [],
   "source": [
    "X.drop(columns = ['duration-loan_yes', 'duration-loan_no'], inplace = True)"
   ]
  },
  {
   "cell_type": "markdown",
   "metadata": {
    "heading_collapsed": true
   },
   "source": [
    "## 猜想九 contact\n",
    "\n",
    "contact_cellular似乎和y有较强的相关关系、\n",
    "\n",
    "直接编码的话有 0.5406"
   ]
  },
  {
   "cell_type": "code",
   "execution_count": 127,
   "metadata": {
    "hidden": true
   },
   "outputs": [
    {
     "data": {
      "text/plain": [
       "contact_unknown     -0.150935\n",
       "contact_telephone    0.014042\n",
       "contact_cellular     0.135873\n",
       "y                    1.000000\n",
       "Name: y, dtype: float64"
      ]
     },
     "execution_count": 127,
     "metadata": {},
     "output_type": "execute_result"
    }
   ],
   "source": [
    "newdata = pd.get_dummies(data, columns = ['contact'])\n",
    "X[['contact_unknown', 'contact_telephone', 'contact_cellular']] = newdata[['contact_unknown', 'contact_telephone', 'contact_cellular']]\n",
    "newdata[['contact_unknown', 'contact_telephone', 'contact_cellular', 'y']].corr()['y']"
   ]
  },
  {
   "cell_type": "code",
   "execution_count": 128,
   "metadata": {
    "hidden": true
   },
   "outputs": [
    {
     "data": {
      "text/plain": [
       "0.040706605222734255"
      ]
     },
     "execution_count": 128,
     "metadata": {},
     "output_type": "execute_result"
    }
   ],
   "source": [
    "sum(y[newdata['contact_unknown'] == 1]) / len(y[newdata['contact_unknown'] == 1])"
   ]
  },
  {
   "cell_type": "code",
   "execution_count": 129,
   "metadata": {
    "hidden": true
   },
   "outputs": [
    {
     "data": {
      "text/plain": [
       "0.13420509291121818"
      ]
     },
     "execution_count": 129,
     "metadata": {},
     "output_type": "execute_result"
    }
   ],
   "source": [
    "sum(y[newdata['contact_telephone'] == 1]) / len(y[newdata['contact_telephone'] == 1])"
   ]
  },
  {
   "cell_type": "code",
   "execution_count": 130,
   "metadata": {
    "hidden": true
   },
   "outputs": [
    {
     "data": {
      "text/plain": [
       "0.14918900460986853"
      ]
     },
     "execution_count": 130,
     "metadata": {},
     "output_type": "execute_result"
    }
   ],
   "source": [
    "sum(y[newdata['contact_cellular'] == 1]) / len(y[newdata['contact_cellular'] == 1])"
   ]
  },
  {
   "cell_type": "code",
   "execution_count": 131,
   "metadata": {
    "hidden": true
   },
   "outputs": [
    {
     "data": {
      "text/plain": [
       "29285"
      ]
     },
     "execution_count": 131,
     "metadata": {},
     "output_type": "execute_result"
    }
   ],
   "source": [
    "len(y[newdata['contact_cellular'] == 1])"
   ]
  },
  {
   "cell_type": "code",
   "execution_count": 132,
   "metadata": {
    "hidden": true
   },
   "outputs": [
    {
     "data": {
      "text/plain": [
       "2906"
      ]
     },
     "execution_count": 132,
     "metadata": {},
     "output_type": "execute_result"
    }
   ],
   "source": [
    "len(y[newdata['contact_telephone'] == 1])"
   ]
  },
  {
   "cell_type": "code",
   "execution_count": 133,
   "metadata": {
    "hidden": true
   },
   "outputs": [
    {
     "data": {
      "text/plain": [
       "13020"
      ]
     },
     "execution_count": 133,
     "metadata": {},
     "output_type": "execute_result"
    }
   ],
   "source": [
    "len(y[newdata['contact_unknown'] == 1])"
   ]
  },
  {
   "cell_type": "code",
   "execution_count": 138,
   "metadata": {
    "code_folding": [
     0
    ],
    "hidden": true
   },
   "outputs": [
    {
     "name": "stdout",
     "output_type": "stream",
     "text": [
      "0.21516262755102042\n",
      "12544\n"
     ]
    }
   ],
   "source": [
    "# try to mix feature and compute the conditional probability\n",
    "newdata = pd.get_dummies(data, columns = ['contact', 'loan', 'housing'])\n",
    "index = (newdata['loan_no'] == 1) & (newdata['housing_no'] == 1) & (newdata['contact_cellular'] == 1)\n",
    "print(sum(y[index]) / len(y[index]))\n",
    "print(len(y[index]))"
   ]
  },
  {
   "cell_type": "code",
   "execution_count": 139,
   "metadata": {
    "code_folding": [],
    "hidden": true
   },
   "outputs": [
    {
     "name": "stdout",
     "output_type": "stream",
     "text": [
      "0.18222506393861893\n",
      "17204\n"
     ]
    }
   ],
   "source": [
    "# try to mix feature and compute the conditional probability\n",
    "newdata = pd.get_dummies(data, columns = ['contact', 'loan', 'housing'])\n",
    "index = (newdata['loan_no'] == 1) & (newdata['housing_no'] == 1)\n",
    "print(sum(y[index]) / len(y[index]))\n",
    "print(len(y[index]))"
   ]
  },
  {
   "cell_type": "code",
   "execution_count": 140,
   "metadata": {
    "code_folding": [],
    "hidden": true
   },
   "outputs": [
    {
     "name": "stdout",
     "output_type": "stream",
     "text": [
      "0.19636289333878218\n",
      "14682\n"
     ]
    }
   ],
   "source": [
    "# try to mix feature and compute the conditional probability\n",
    "newdata = pd.get_dummies(data, columns = ['contact', 'loan', 'housing'])\n",
    "index = (newdata['contact_cellular'] == 1) & (newdata['housing_no'] == 1)\n",
    "print(sum(y[index]) / len(y[index]))\n",
    "print(len(y[index]))"
   ]
  },
  {
   "cell_type": "code",
   "execution_count": 143,
   "metadata": {
    "code_folding": [],
    "hidden": true
   },
   "outputs": [
    {
     "name": "stdout",
     "output_type": "stream",
     "text": [
      "0.16258934041249745\n",
      "24485\n"
     ]
    }
   ],
   "source": [
    "# try to mix feature and compute the conditional probability\n",
    "newdata = pd.get_dummies(data, columns = ['contact', 'loan', 'housing'])\n",
    "index = (newdata['contact_cellular'] == 1) & (newdata['loan_no'] == 1)\n",
    "print(sum(y[index]) / len(y[index]))\n",
    "print(len(y[index]))"
   ]
  },
  {
   "cell_type": "code",
   "execution_count": 145,
   "metadata": {
    "code_folding": [
     0
    ],
    "hidden": true
   },
   "outputs": [
    {
     "name": "stdout",
     "output_type": "stream",
     "text": [
      "number of yes in train 4232, in test 1057, in predict 1482, mcc score is 0.5419\n",
      "number of yes in train 4242, in test 1047, in predict 1492, mcc score is 0.5189\n",
      "number of yes in train 4149, in test 1140, in predict 1608, mcc score is 0.5561\n",
      "number of yes in train 4264, in test 1025, in predict 1510, mcc score is 0.5339\n",
      "number of yes in train 4269, in test 1020, in predict 1507, mcc score is 0.5497\n",
      "mean score 0.5401\n"
     ]
    }
   ],
   "source": [
    "# rft {'cls_weasight': {0: 1, 1: 3}, 'criterion': 'gini', 'max_depth': 15, 'min_samples_leaf': 10, 'n_estimators': 100}\n",
    "para = {'class_weight': {0: 1, 1: 3}, 'criterion': 'gini', 'max_depth': 15, 'min_samples_leaf': 10, 'n_estimators': 100}\n",
    "rftree = RandomForestClassifier(**para)\n",
    "kf = KFold(n_splits=5, shuffle = True, random_state = 123)\n",
    "\n",
    "score_array = np.zeros(5)\n",
    "for (ii, (train_index, test_index)) in enumerate(kf.split(X, y)):\n",
    "#     print(\"TRAIN:\", train_index, \"TEST:\", test_index)\n",
    "    X_train, X_test = X.loc[train_index], X.loc[test_index]\n",
    "    y_train, y_test = y.iloc[train_index], y.iloc[test_index]\n",
    "    rftree.fit(X_train, y_train)\n",
    "    y_predict = rftree.predict(X_test)\n",
    "    myscore = matthews_corrcoef(y_test, y_predict)\n",
    "    score_array[ii] = myscore\n",
    "    print(\"number of yes in train {:d}, in test {:d}, in predict {:d}, mcc score is {:.4f}\".format(y_train.value_counts()[1],\\\n",
    "                                                                                                  y_test.value_counts()[1],\\\n",
    "                                                                                                  sum(y_predict),\\\n",
    "                                                                                                  myscore))\n",
    "print(\"mean score {:.4f}\".format(np.mean(score_array)))"
   ]
  },
  {
   "cell_type": "markdown",
   "metadata": {
    "heading_collapsed": true
   },
   "source": [
    "## 猜想十 day 和 month\n",
    "\n",
    "这两个作为日期的特征，在之前似乎是有效的，实在是让人难以理解\n",
    "\n",
    "按照条件概率粗犷地编码，可以到0.5763"
   ]
  },
  {
   "cell_type": "code",
   "execution_count": 147,
   "metadata": {
    "collapsed": true,
    "hidden": true
   },
   "outputs": [
    {
     "data": {
      "text/plain": [
       "day_1     0.042826\n",
       "day_2     0.012692\n",
       "day_3     0.023344\n",
       "day_4     0.023849\n",
       "day_5    -0.002888\n",
       "day_6    -0.015317\n",
       "day_7    -0.019468\n",
       "day_8    -0.005043\n",
       "day_9    -0.001362\n",
       "day_10    0.038386\n",
       "day_11    0.003087\n",
       "day_12    0.021016\n",
       "day_13    0.020796\n",
       "day_14   -0.002151\n",
       "day_15    0.014016\n",
       "day_16    0.010460\n",
       "day_17   -0.017267\n",
       "day_18   -0.013133\n",
       "day_19   -0.029748\n",
       "day_20   -0.037402\n",
       "day_21   -0.011979\n",
       "day_22    0.023648\n",
       "day_23    0.007794\n",
       "day_24    0.006752\n",
       "day_25    0.017701\n",
       "day_26   -0.002337\n",
       "day_27    0.008347\n",
       "day_28   -0.024822\n",
       "day_29   -0.026844\n",
       "day_30    0.033044\n",
       "day_31   -0.016984\n",
       "y         1.000000\n",
       "Name: y, dtype: float64"
      ]
     },
     "execution_count": 147,
     "metadata": {},
     "output_type": "execute_result"
    }
   ],
   "source": [
    "newdata = pd.get_dummies(data, columns = ['day'])\n",
    "newdata[[item for item in newdata.columns if item.split('_')[0] == 'day'] + ['y']].corr()['y']"
   ]
  },
  {
   "cell_type": "code",
   "execution_count": 148,
   "metadata": {
    "collapsed": true,
    "hidden": true
   },
   "outputs": [
    {
     "data": {
      "text/plain": [
       "month_1    -0.008783\n",
       "month_2     0.038417\n",
       "month_3     0.129456\n",
       "month_4     0.065392\n",
       "month_5    -0.102500\n",
       "month_6    -0.016805\n",
       "month_7    -0.034382\n",
       "month_8    -0.008536\n",
       "month_9     0.123185\n",
       "month_10    0.128531\n",
       "month_11   -0.014937\n",
       "month_12    0.075164\n",
       "y           1.000000\n",
       "Name: y, dtype: float64"
      ]
     },
     "execution_count": 148,
     "metadata": {},
     "output_type": "execute_result"
    }
   ],
   "source": [
    "newdata = pd.get_dummies(data, columns = ['month'])\n",
    "newdata[[item for item in newdata.columns if item.split('_')[0] == 'month'] + ['y']].corr()['y']"
   ]
  },
  {
   "cell_type": "code",
   "execution_count": 156,
   "metadata": {
    "code_folding": [
     0
    ],
    "collapsed": true,
    "hidden": true
   },
   "outputs": [
    {
     "name": "stdout",
     "output_type": "stream",
     "text": [
      "index 1, prob 0.101212, denominator1403\n",
      "index 2, prob 0.166478, denominator2649\n",
      "index 3, prob 0.519916, denominator477\n",
      "index 4, prob 0.196794, denominator2932\n",
      "index 5, prob 0.067195, denominator13766\n",
      "index 6, prob 0.102228, denominator5341\n",
      "index 7, prob 0.090935, denominator6895\n",
      "index 8, prob 0.110133, denominator6247\n",
      "index 9, prob 0.464594, denominator579\n",
      "index 10, prob 0.437669, denominator738\n",
      "index 11, prob 0.101511, denominator3970\n",
      "index 12, prob 0.467290, denominator214\n"
     ]
    }
   ],
   "source": [
    "for mon_index in range(1,13):\n",
    "    index = (newdata['month_{:d}'.format(mon_index)] == 1)\n",
    "    print(\"index {:d}, prob {:f}, denominator{:d}\".format(mon_index, sum(y[index]) / len(y[index]), len(y[index])))"
   ]
  },
  {
   "cell_type": "code",
   "execution_count": 162,
   "metadata": {
    "code_folding": [
     0
    ],
    "collapsed": true,
    "hidden": true
   },
   "outputs": [
    {
     "name": "stdout",
     "output_type": "stream",
     "text": [
      "index 1, prob 0.101212, denominator1403\n",
      "---2008 empty\n",
      "---2009 prob 0.032313, denominator1176\n",
      "---2010 prob 0.458150, denominator227\n",
      "index 2, prob 0.166478, denominator2649\n",
      "---2008 empty\n",
      "---2009 prob 0.111063, denominator2296\n",
      "---2010 prob 0.526912, denominator353\n",
      "index 3, prob 0.519916, denominator477\n",
      "---2008 empty\n",
      "---2009 prob 0.484496, denominator258\n",
      "---2010 prob 0.561644, denominator219\n",
      "index 4, prob 0.196794, denominator2932\n",
      "---2008 empty\n",
      "---2009 prob 0.165931, denominator2718\n",
      "---2010 prob 0.588785, denominator214\n",
      "index 5, prob 0.067195, denominator13766\n",
      "---2008 prob 0.032424, denominator7957\n",
      "---2009 prob 0.095605, denominator5575\n",
      "---2010 prob 0.572650, denominator234\n",
      "index 6, prob 0.102228, denominator5341\n",
      "---2008 prob 0.044806, denominator4486\n",
      "---2009 prob 0.375389, denominator642\n",
      "---2010 prob 0.488263, denominator213\n",
      "index 7, prob 0.090935, denominator6895\n",
      "---2008 prob 0.060188, denominator6380\n",
      "---2009 prob 0.367150, denominator207\n",
      "---2010 prob 0.542208, denominator308\n",
      "index 8, prob 0.110133, denominator6247\n",
      "---2008 prob 0.055225, denominator5215\n",
      "---2009 prob 0.341969, denominator772\n",
      "---2010 prob 0.523077, denominator260\n",
      "index 9, prob 0.464594, denominator579\n",
      "---2008 empty\n",
      "---2009 prob 0.436170, denominator282\n",
      "---2010 prob 0.491582, denominator297\n",
      "index 10, prob 0.437669, denominator738\n",
      "---2008 prob 0.612500, denominator80\n",
      "---2009 prob 0.420091, denominator438\n",
      "---2010 prob 0.409091, denominator220\n",
      "index 11, prob 0.101511, denominator3970\n",
      "---2008 prob 0.061145, denominator3598\n",
      "---2009 prob 0.494949, denominator297\n",
      "---2010 prob 0.480000, denominator75\n",
      "index 12, prob 0.467290, denominator214\n",
      "---2008 prob 0.076923, denominator13\n",
      "---2009 prob 0.492537, denominator201\n",
      "---2010 empty\n"
     ]
    }
   ],
   "source": [
    "for mon_index in range(1,13):\n",
    "    index = (newdata['month_{:d}'.format(mon_index)] == 1)\n",
    "    print(\"index {:d}, prob {:f}, denominator{:d}\".format(mon_index, sum(y[index]) / len(y[index]), len(y[index])))\n",
    "    \n",
    "    index = (newdata['month_{:d}'.format(mon_index)] == 1) & (newdata['year'] == 2008)\n",
    "    if len(y[index])>0:\n",
    "        print(\"---2008 prob {:f}, denominator{:d}\".format(sum(y[index]) / len(y[index]), len(y[index])))\n",
    "    else:\n",
    "        print(\"---2008 empty\")\n",
    "        \n",
    "    index = (newdata['month_{:d}'.format(mon_index)] == 1) & (newdata['year'] == 2009)\n",
    "    if len(y[index])>0:\n",
    "        print(\"---2009 prob {:f}, denominator{:d}\".format(sum(y[index]) / len(y[index]), len(y[index])))\n",
    "    else:\n",
    "        print(\"---2009 empty\")\n",
    "\n",
    "    index = (newdata['month_{:d}'.format(mon_index)] == 1) & (newdata['year'] == 2010)\n",
    "    if len(y[index])>0:\n",
    "        print(\"---2010 prob {:f}, denominator{:d}\".format(sum(y[index]) / len(y[index]), len(y[index])))\n",
    "    else:\n",
    "        print(\"---2010 empty\")"
   ]
  },
  {
   "cell_type": "markdown",
   "metadata": {
    "hidden": true
   },
   "source": [
    "可以看到即使是3, 9, 10, 12这样的月份，在不同年份的条件概率还是差很多的。\n",
    "\n",
    "甚至可以说，这主要是受year的影响。\n",
    "\n",
    "对于2008年来说， 在10月份的表现尤其好，或许这个可以提出来\n",
    "\n",
    "对于2009年来说，应该要分为三组\n",
    "> 1. 1,2,4,5\n",
    "> 2. 6,7,8\n",
    "> 3. 3,9,10,11,12\n",
    "\n",
    "对于2010来说，就没必要了\n",
    "\n",
    "这样编码下来，可以得到0.5763"
   ]
  },
  {
   "cell_type": "code",
   "execution_count": 175,
   "metadata": {
    "collapsed": true,
    "hidden": true
   },
   "outputs": [
    {
     "data": {
      "text/html": [
       "<div>\n",
       "<style scoped>\n",
       "    .dataframe tbody tr th:only-of-type {\n",
       "        vertical-align: middle;\n",
       "    }\n",
       "\n",
       "    .dataframe tbody tr th {\n",
       "        vertical-align: top;\n",
       "    }\n",
       "\n",
       "    .dataframe thead th {\n",
       "        text-align: right;\n",
       "    }\n",
       "</style>\n",
       "<table border=\"1\" class=\"dataframe\">\n",
       "  <thead>\n",
       "    <tr style=\"text-align: right;\">\n",
       "      <th></th>\n",
       "      <th>duration</th>\n",
       "      <th>age</th>\n",
       "      <th>year_2008</th>\n",
       "      <th>year_2009</th>\n",
       "      <th>year_2010</th>\n",
       "      <th>balance</th>\n",
       "      <th>job_encode_negative</th>\n",
       "      <th>job_encode_positive</th>\n",
       "      <th>job_encode_unknown</th>\n",
       "      <th>housing_yes</th>\n",
       "      <th>housing_no</th>\n",
       "      <th>contact_unknown</th>\n",
       "      <th>contact_telephone</th>\n",
       "      <th>contact_cellular</th>\n",
       "      <th>Encode-date_2008_10</th>\n",
       "      <th>Encode-date_2009_1_2_4_5</th>\n",
       "      <th>Encode-date_2009_6_7_8</th>\n",
       "    </tr>\n",
       "  </thead>\n",
       "  <tbody>\n",
       "    <tr>\n",
       "      <th>0</th>\n",
       "      <td>261</td>\n",
       "      <td>58</td>\n",
       "      <td>1</td>\n",
       "      <td>0</td>\n",
       "      <td>0</td>\n",
       "      <td>2143</td>\n",
       "      <td>0</td>\n",
       "      <td>1</td>\n",
       "      <td>0</td>\n",
       "      <td>1</td>\n",
       "      <td>0</td>\n",
       "      <td>1</td>\n",
       "      <td>0</td>\n",
       "      <td>0</td>\n",
       "      <td>0</td>\n",
       "      <td>0</td>\n",
       "      <td>0</td>\n",
       "    </tr>\n",
       "    <tr>\n",
       "      <th>1</th>\n",
       "      <td>151</td>\n",
       "      <td>44</td>\n",
       "      <td>1</td>\n",
       "      <td>0</td>\n",
       "      <td>0</td>\n",
       "      <td>29</td>\n",
       "      <td>1</td>\n",
       "      <td>0</td>\n",
       "      <td>0</td>\n",
       "      <td>1</td>\n",
       "      <td>0</td>\n",
       "      <td>1</td>\n",
       "      <td>0</td>\n",
       "      <td>0</td>\n",
       "      <td>0</td>\n",
       "      <td>0</td>\n",
       "      <td>0</td>\n",
       "    </tr>\n",
       "    <tr>\n",
       "      <th>2</th>\n",
       "      <td>76</td>\n",
       "      <td>33</td>\n",
       "      <td>1</td>\n",
       "      <td>0</td>\n",
       "      <td>0</td>\n",
       "      <td>2</td>\n",
       "      <td>1</td>\n",
       "      <td>0</td>\n",
       "      <td>0</td>\n",
       "      <td>1</td>\n",
       "      <td>0</td>\n",
       "      <td>1</td>\n",
       "      <td>0</td>\n",
       "      <td>0</td>\n",
       "      <td>0</td>\n",
       "      <td>0</td>\n",
       "      <td>0</td>\n",
       "    </tr>\n",
       "    <tr>\n",
       "      <th>3</th>\n",
       "      <td>92</td>\n",
       "      <td>47</td>\n",
       "      <td>1</td>\n",
       "      <td>0</td>\n",
       "      <td>0</td>\n",
       "      <td>1506</td>\n",
       "      <td>1</td>\n",
       "      <td>0</td>\n",
       "      <td>0</td>\n",
       "      <td>1</td>\n",
       "      <td>0</td>\n",
       "      <td>1</td>\n",
       "      <td>0</td>\n",
       "      <td>0</td>\n",
       "      <td>0</td>\n",
       "      <td>0</td>\n",
       "      <td>0</td>\n",
       "    </tr>\n",
       "    <tr>\n",
       "      <th>4</th>\n",
       "      <td>198</td>\n",
       "      <td>33</td>\n",
       "      <td>1</td>\n",
       "      <td>0</td>\n",
       "      <td>0</td>\n",
       "      <td>1</td>\n",
       "      <td>0</td>\n",
       "      <td>0</td>\n",
       "      <td>1</td>\n",
       "      <td>0</td>\n",
       "      <td>1</td>\n",
       "      <td>1</td>\n",
       "      <td>0</td>\n",
       "      <td>0</td>\n",
       "      <td>0</td>\n",
       "      <td>0</td>\n",
       "      <td>0</td>\n",
       "    </tr>\n",
       "    <tr>\n",
       "      <th>5</th>\n",
       "      <td>139</td>\n",
       "      <td>35</td>\n",
       "      <td>1</td>\n",
       "      <td>0</td>\n",
       "      <td>0</td>\n",
       "      <td>231</td>\n",
       "      <td>0</td>\n",
       "      <td>1</td>\n",
       "      <td>0</td>\n",
       "      <td>1</td>\n",
       "      <td>0</td>\n",
       "      <td>1</td>\n",
       "      <td>0</td>\n",
       "      <td>0</td>\n",
       "      <td>0</td>\n",
       "      <td>0</td>\n",
       "      <td>0</td>\n",
       "    </tr>\n",
       "    <tr>\n",
       "      <th>6</th>\n",
       "      <td>217</td>\n",
       "      <td>28</td>\n",
       "      <td>1</td>\n",
       "      <td>0</td>\n",
       "      <td>0</td>\n",
       "      <td>447</td>\n",
       "      <td>0</td>\n",
       "      <td>1</td>\n",
       "      <td>0</td>\n",
       "      <td>1</td>\n",
       "      <td>0</td>\n",
       "      <td>1</td>\n",
       "      <td>0</td>\n",
       "      <td>0</td>\n",
       "      <td>0</td>\n",
       "      <td>0</td>\n",
       "      <td>0</td>\n",
       "    </tr>\n",
       "    <tr>\n",
       "      <th>7</th>\n",
       "      <td>380</td>\n",
       "      <td>42</td>\n",
       "      <td>1</td>\n",
       "      <td>0</td>\n",
       "      <td>0</td>\n",
       "      <td>2</td>\n",
       "      <td>1</td>\n",
       "      <td>0</td>\n",
       "      <td>0</td>\n",
       "      <td>1</td>\n",
       "      <td>0</td>\n",
       "      <td>1</td>\n",
       "      <td>0</td>\n",
       "      <td>0</td>\n",
       "      <td>0</td>\n",
       "      <td>0</td>\n",
       "      <td>0</td>\n",
       "    </tr>\n",
       "    <tr>\n",
       "      <th>8</th>\n",
       "      <td>50</td>\n",
       "      <td>58</td>\n",
       "      <td>1</td>\n",
       "      <td>0</td>\n",
       "      <td>0</td>\n",
       "      <td>121</td>\n",
       "      <td>0</td>\n",
       "      <td>1</td>\n",
       "      <td>0</td>\n",
       "      <td>1</td>\n",
       "      <td>0</td>\n",
       "      <td>1</td>\n",
       "      <td>0</td>\n",
       "      <td>0</td>\n",
       "      <td>0</td>\n",
       "      <td>0</td>\n",
       "      <td>0</td>\n",
       "    </tr>\n",
       "    <tr>\n",
       "      <th>9</th>\n",
       "      <td>55</td>\n",
       "      <td>43</td>\n",
       "      <td>1</td>\n",
       "      <td>0</td>\n",
       "      <td>0</td>\n",
       "      <td>593</td>\n",
       "      <td>1</td>\n",
       "      <td>0</td>\n",
       "      <td>0</td>\n",
       "      <td>1</td>\n",
       "      <td>0</td>\n",
       "      <td>1</td>\n",
       "      <td>0</td>\n",
       "      <td>0</td>\n",
       "      <td>0</td>\n",
       "      <td>0</td>\n",
       "      <td>0</td>\n",
       "    </tr>\n",
       "  </tbody>\n",
       "</table>\n",
       "</div>"
      ],
      "text/plain": [
       "   duration  age  year_2008  year_2009  year_2010  balance  \\\n",
       "0       261   58          1          0          0     2143   \n",
       "1       151   44          1          0          0       29   \n",
       "2        76   33          1          0          0        2   \n",
       "3        92   47          1          0          0     1506   \n",
       "4       198   33          1          0          0        1   \n",
       "5       139   35          1          0          0      231   \n",
       "6       217   28          1          0          0      447   \n",
       "7       380   42          1          0          0        2   \n",
       "8        50   58          1          0          0      121   \n",
       "9        55   43          1          0          0      593   \n",
       "\n",
       "   job_encode_negative  job_encode_positive  job_encode_unknown  housing_yes  \\\n",
       "0                    0                    1                   0            1   \n",
       "1                    1                    0                   0            1   \n",
       "2                    1                    0                   0            1   \n",
       "3                    1                    0                   0            1   \n",
       "4                    0                    0                   1            0   \n",
       "5                    0                    1                   0            1   \n",
       "6                    0                    1                   0            1   \n",
       "7                    1                    0                   0            1   \n",
       "8                    0                    1                   0            1   \n",
       "9                    1                    0                   0            1   \n",
       "\n",
       "   housing_no  contact_unknown  contact_telephone  contact_cellular  \\\n",
       "0           0                1                  0                 0   \n",
       "1           0                1                  0                 0   \n",
       "2           0                1                  0                 0   \n",
       "3           0                1                  0                 0   \n",
       "4           1                1                  0                 0   \n",
       "5           0                1                  0                 0   \n",
       "6           0                1                  0                 0   \n",
       "7           0                1                  0                 0   \n",
       "8           0                1                  0                 0   \n",
       "9           0                1                  0                 0   \n",
       "\n",
       "   Encode-date_2008_10  Encode-date_2009_1_2_4_5  Encode-date_2009_6_7_8  \n",
       "0                    0                         0                       0  \n",
       "1                    0                         0                       0  \n",
       "2                    0                         0                       0  \n",
       "3                    0                         0                       0  \n",
       "4                    0                         0                       0  \n",
       "5                    0                         0                       0  \n",
       "6                    0                         0                       0  \n",
       "7                    0                         0                       0  \n",
       "8                    0                         0                       0  \n",
       "9                    0                         0                       0  "
      ]
     },
     "execution_count": 175,
     "metadata": {},
     "output_type": "execute_result"
    }
   ],
   "source": [
    "X['Encode-date_2008_10'] = data.apply(lambda x: 1 if x['year'] == 2008 and x['month'] == 10 else 0, axis = 1)\n",
    "X['Encode-date_2009_1_2_4_5'] = data.apply(lambda x: 1 if x['year'] == 2009 and x['month'] in [1, 2, 4, 5] else 0, axis = 1)\n",
    "X['Encode-date_2009_6_7_8'] = data.apply(lambda x: 1 if x['year'] == 2008 and x['month'] in [6, 7, 8] else 0, axis = 1)\n",
    "X['Encode-date_2009_6_7_8'] = data.apply(lambda x: 1 if x['year'] == 2008 and x['month'] in [3, 9, 10, 11, 12] else 0, axis = 1)\n",
    "X.head(10)"
   ]
  },
  {
   "cell_type": "code",
   "execution_count": 177,
   "metadata": {
    "hidden": true
   },
   "outputs": [
    {
     "name": "stdout",
     "output_type": "stream",
     "text": [
      "number of yes in train 4232, in test 1057, in predict 1490, mcc score is 0.5742\n",
      "number of yes in train 4242, in test 1047, in predict 1504, mcc score is 0.5595\n",
      "number of yes in train 4149, in test 1140, in predict 1557, mcc score is 0.6025\n",
      "number of yes in train 4264, in test 1025, in predict 1486, mcc score is 0.5681\n",
      "number of yes in train 4269, in test 1020, in predict 1477, mcc score is 0.5772\n",
      "mean score 0.5763\n"
     ]
    }
   ],
   "source": [
    "# rft {'cls_weasight': {0: 1, 1: 3}, 'criterion': 'gini', 'max_depth': 15, 'min_samples_leaf': 10, 'n_estimators': 100}\n",
    "para = {'class_weight': {0: 1, 1: 3}, 'criterion': 'gini', 'max_depth': 15, 'min_samples_leaf': 10, 'n_estimators': 100}\n",
    "rftree = RandomForestClassifier(**para)\n",
    "kf = KFold(n_splits=5, shuffle = True, random_state = 123)\n",
    "\n",
    "score_array = np.zeros(5)\n",
    "for (ii, (train_index, test_index)) in enumerate(kf.split(X, y)):\n",
    "#     print(\"TRAIN:\", train_index, \"TEST:\", test_index)\n",
    "    X_train, X_test = X.loc[train_index], X.loc[test_index]\n",
    "    y_train, y_test = y.iloc[train_index], y.iloc[test_index]\n",
    "    rftree.fit(X_train, y_train)\n",
    "    y_predict = rftree.predict(X_test)\n",
    "    myscore = matthews_corrcoef(y_test, y_predict)\n",
    "    score_array[ii] = myscore\n",
    "    print(\"number of yes in train {:d}, in test {:d}, in predict {:d}, mcc score is {:.4f}\".format(y_train.value_counts()[1],\\\n",
    "                                                                                                  y_test.value_counts()[1],\\\n",
    "                                                                                                  sum(y_predict),\\\n",
    "                                                                                                  myscore))\n",
    "print(\"mean score {:.4f}\".format(np.mean(score_array)))"
   ]
  },
  {
   "cell_type": "code",
   "execution_count": 178,
   "metadata": {
    "hidden": true
   },
   "outputs": [
    {
     "data": {
      "text/html": [
       "<div>\n",
       "<style scoped>\n",
       "    .dataframe tbody tr th:only-of-type {\n",
       "        vertical-align: middle;\n",
       "    }\n",
       "\n",
       "    .dataframe tbody tr th {\n",
       "        vertical-align: top;\n",
       "    }\n",
       "\n",
       "    .dataframe thead th {\n",
       "        text-align: right;\n",
       "    }\n",
       "</style>\n",
       "<table border=\"1\" class=\"dataframe\">\n",
       "  <thead>\n",
       "    <tr style=\"text-align: right;\">\n",
       "      <th></th>\n",
       "      <th>duration</th>\n",
       "      <th>age</th>\n",
       "      <th>year_2008</th>\n",
       "      <th>year_2009</th>\n",
       "      <th>year_2010</th>\n",
       "      <th>balance</th>\n",
       "      <th>job_encode_negative</th>\n",
       "      <th>job_encode_positive</th>\n",
       "      <th>job_encode_unknown</th>\n",
       "      <th>housing_yes</th>\n",
       "      <th>housing_no</th>\n",
       "      <th>contact_unknown</th>\n",
       "      <th>contact_telephone</th>\n",
       "      <th>contact_cellular</th>\n",
       "      <th>Encode-date_2008_10</th>\n",
       "      <th>Encode-date_2009_1_2_4_5</th>\n",
       "      <th>Encode-date_2009_6_7_8</th>\n",
       "    </tr>\n",
       "  </thead>\n",
       "  <tbody>\n",
       "    <tr>\n",
       "      <th>0</th>\n",
       "      <td>261</td>\n",
       "      <td>58</td>\n",
       "      <td>1</td>\n",
       "      <td>0</td>\n",
       "      <td>0</td>\n",
       "      <td>2143</td>\n",
       "      <td>0</td>\n",
       "      <td>1</td>\n",
       "      <td>0</td>\n",
       "      <td>1</td>\n",
       "      <td>0</td>\n",
       "      <td>1</td>\n",
       "      <td>0</td>\n",
       "      <td>0</td>\n",
       "      <td>0</td>\n",
       "      <td>0</td>\n",
       "      <td>0</td>\n",
       "    </tr>\n",
       "    <tr>\n",
       "      <th>1</th>\n",
       "      <td>151</td>\n",
       "      <td>44</td>\n",
       "      <td>1</td>\n",
       "      <td>0</td>\n",
       "      <td>0</td>\n",
       "      <td>29</td>\n",
       "      <td>1</td>\n",
       "      <td>0</td>\n",
       "      <td>0</td>\n",
       "      <td>1</td>\n",
       "      <td>0</td>\n",
       "      <td>1</td>\n",
       "      <td>0</td>\n",
       "      <td>0</td>\n",
       "      <td>0</td>\n",
       "      <td>0</td>\n",
       "      <td>0</td>\n",
       "    </tr>\n",
       "    <tr>\n",
       "      <th>2</th>\n",
       "      <td>76</td>\n",
       "      <td>33</td>\n",
       "      <td>1</td>\n",
       "      <td>0</td>\n",
       "      <td>0</td>\n",
       "      <td>2</td>\n",
       "      <td>1</td>\n",
       "      <td>0</td>\n",
       "      <td>0</td>\n",
       "      <td>1</td>\n",
       "      <td>0</td>\n",
       "      <td>1</td>\n",
       "      <td>0</td>\n",
       "      <td>0</td>\n",
       "      <td>0</td>\n",
       "      <td>0</td>\n",
       "      <td>0</td>\n",
       "    </tr>\n",
       "    <tr>\n",
       "      <th>3</th>\n",
       "      <td>92</td>\n",
       "      <td>47</td>\n",
       "      <td>1</td>\n",
       "      <td>0</td>\n",
       "      <td>0</td>\n",
       "      <td>1506</td>\n",
       "      <td>1</td>\n",
       "      <td>0</td>\n",
       "      <td>0</td>\n",
       "      <td>1</td>\n",
       "      <td>0</td>\n",
       "      <td>1</td>\n",
       "      <td>0</td>\n",
       "      <td>0</td>\n",
       "      <td>0</td>\n",
       "      <td>0</td>\n",
       "      <td>0</td>\n",
       "    </tr>\n",
       "    <tr>\n",
       "      <th>4</th>\n",
       "      <td>198</td>\n",
       "      <td>33</td>\n",
       "      <td>1</td>\n",
       "      <td>0</td>\n",
       "      <td>0</td>\n",
       "      <td>1</td>\n",
       "      <td>0</td>\n",
       "      <td>0</td>\n",
       "      <td>1</td>\n",
       "      <td>0</td>\n",
       "      <td>1</td>\n",
       "      <td>1</td>\n",
       "      <td>0</td>\n",
       "      <td>0</td>\n",
       "      <td>0</td>\n",
       "      <td>0</td>\n",
       "      <td>0</td>\n",
       "    </tr>\n",
       "  </tbody>\n",
       "</table>\n",
       "</div>"
      ],
      "text/plain": [
       "   duration  age  year_2008  year_2009  year_2010  balance  \\\n",
       "0       261   58          1          0          0     2143   \n",
       "1       151   44          1          0          0       29   \n",
       "2        76   33          1          0          0        2   \n",
       "3        92   47          1          0          0     1506   \n",
       "4       198   33          1          0          0        1   \n",
       "\n",
       "   job_encode_negative  job_encode_positive  job_encode_unknown  housing_yes  \\\n",
       "0                    0                    1                   0            1   \n",
       "1                    1                    0                   0            1   \n",
       "2                    1                    0                   0            1   \n",
       "3                    1                    0                   0            1   \n",
       "4                    0                    0                   1            0   \n",
       "\n",
       "   housing_no  contact_unknown  contact_telephone  contact_cellular  \\\n",
       "0           0                1                  0                 0   \n",
       "1           0                1                  0                 0   \n",
       "2           0                1                  0                 0   \n",
       "3           0                1                  0                 0   \n",
       "4           1                1                  0                 0   \n",
       "\n",
       "   Encode-date_2008_10  Encode-date_2009_1_2_4_5  Encode-date_2009_6_7_8  \n",
       "0                    0                         0                       0  \n",
       "1                    0                         0                       0  \n",
       "2                    0                         0                       0  \n",
       "3                    0                         0                       0  \n",
       "4                    0                         0                       0  "
      ]
     },
     "execution_count": 178,
     "metadata": {},
     "output_type": "execute_result"
    }
   ],
   "source": [
    "X.head()"
   ]
  },
  {
   "cell_type": "markdown",
   "metadata": {
    "heading_collapsed": true
   },
   "source": [
    "## 猜想十一:\n",
    "campaign 我有点不太理解这个特征有什么含义\n",
    "\n",
    "如果联系过很多次都没同意，那么再联系也没用了\n",
    "\n",
    "直接放入campaign， 0.5742"
   ]
  },
  {
   "cell_type": "code",
   "execution_count": 180,
   "metadata": {
    "hidden": true
   },
   "outputs": [
    {
     "data": {
      "text/html": [
       "<div>\n",
       "<style scoped>\n",
       "    .dataframe tbody tr th:only-of-type {\n",
       "        vertical-align: middle;\n",
       "    }\n",
       "\n",
       "    .dataframe tbody tr th {\n",
       "        vertical-align: top;\n",
       "    }\n",
       "\n",
       "    .dataframe thead th {\n",
       "        text-align: right;\n",
       "    }\n",
       "</style>\n",
       "<table border=\"1\" class=\"dataframe\">\n",
       "  <thead>\n",
       "    <tr style=\"text-align: right;\">\n",
       "      <th></th>\n",
       "      <th>campaign</th>\n",
       "      <th>y</th>\n",
       "    </tr>\n",
       "  </thead>\n",
       "  <tbody>\n",
       "    <tr>\n",
       "      <th>campaign</th>\n",
       "      <td>1.000000</td>\n",
       "      <td>-0.073172</td>\n",
       "    </tr>\n",
       "    <tr>\n",
       "      <th>y</th>\n",
       "      <td>-0.073172</td>\n",
       "      <td>1.000000</td>\n",
       "    </tr>\n",
       "  </tbody>\n",
       "</table>\n",
       "</div>"
      ],
      "text/plain": [
       "          campaign         y\n",
       "campaign  1.000000 -0.073172\n",
       "y        -0.073172  1.000000"
      ]
     },
     "execution_count": 180,
     "metadata": {},
     "output_type": "execute_result"
    }
   ],
   "source": [
    "data[['campaign', 'y']].corr()"
   ]
  },
  {
   "cell_type": "markdown",
   "metadata": {
    "hidden": true
   },
   "source": [
    "这看着属实有点拉胯，按理来说，如果一个人搞了很多次定期，他很有可能会惯性地继续搞定期"
   ]
  },
  {
   "cell_type": "code",
   "execution_count": 181,
   "metadata": {
    "collapsed": true,
    "hidden": true
   },
   "outputs": [
    {
     "data": {
      "text/html": [
       "<div>\n",
       "<style scoped>\n",
       "    .dataframe tbody tr th:only-of-type {\n",
       "        vertical-align: middle;\n",
       "    }\n",
       "\n",
       "    .dataframe tbody tr th {\n",
       "        vertical-align: top;\n",
       "    }\n",
       "\n",
       "    .dataframe thead th {\n",
       "        text-align: right;\n",
       "    }\n",
       "</style>\n",
       "<table border=\"1\" class=\"dataframe\">\n",
       "  <thead>\n",
       "    <tr style=\"text-align: right;\">\n",
       "      <th></th>\n",
       "      <th>campaign</th>\n",
       "      <th>y</th>\n",
       "    </tr>\n",
       "  </thead>\n",
       "  <tbody>\n",
       "    <tr>\n",
       "      <th>count</th>\n",
       "      <td>45211.000000</td>\n",
       "      <td>45211.000000</td>\n",
       "    </tr>\n",
       "    <tr>\n",
       "      <th>mean</th>\n",
       "      <td>2.763841</td>\n",
       "      <td>0.116985</td>\n",
       "    </tr>\n",
       "    <tr>\n",
       "      <th>std</th>\n",
       "      <td>3.098021</td>\n",
       "      <td>0.321406</td>\n",
       "    </tr>\n",
       "    <tr>\n",
       "      <th>min</th>\n",
       "      <td>1.000000</td>\n",
       "      <td>0.000000</td>\n",
       "    </tr>\n",
       "    <tr>\n",
       "      <th>25%</th>\n",
       "      <td>1.000000</td>\n",
       "      <td>0.000000</td>\n",
       "    </tr>\n",
       "    <tr>\n",
       "      <th>50%</th>\n",
       "      <td>2.000000</td>\n",
       "      <td>0.000000</td>\n",
       "    </tr>\n",
       "    <tr>\n",
       "      <th>75%</th>\n",
       "      <td>3.000000</td>\n",
       "      <td>0.000000</td>\n",
       "    </tr>\n",
       "    <tr>\n",
       "      <th>max</th>\n",
       "      <td>63.000000</td>\n",
       "      <td>1.000000</td>\n",
       "    </tr>\n",
       "  </tbody>\n",
       "</table>\n",
       "</div>"
      ],
      "text/plain": [
       "           campaign             y\n",
       "count  45211.000000  45211.000000\n",
       "mean       2.763841      0.116985\n",
       "std        3.098021      0.321406\n",
       "min        1.000000      0.000000\n",
       "25%        1.000000      0.000000\n",
       "50%        2.000000      0.000000\n",
       "75%        3.000000      0.000000\n",
       "max       63.000000      1.000000"
      ]
     },
     "execution_count": 181,
     "metadata": {},
     "output_type": "execute_result"
    }
   ],
   "source": [
    "data[['campaign', 'y']].describe()"
   ]
  },
  {
   "cell_type": "code",
   "execution_count": 182,
   "metadata": {
    "collapsed": true,
    "hidden": true
   },
   "outputs": [
    {
     "data": {
      "text/plain": [
       "1     17544\n",
       "2     12505\n",
       "3      5521\n",
       "4      3522\n",
       "5      1764\n",
       "6      1291\n",
       "7       735\n",
       "8       540\n",
       "9       327\n",
       "10      266\n",
       "11      201\n",
       "12      155\n",
       "13      133\n",
       "14       93\n",
       "15       84\n",
       "16       79\n",
       "17       69\n",
       "18       51\n",
       "19       44\n",
       "20       43\n",
       "21       35\n",
       "22       23\n",
       "23       22\n",
       "25       22\n",
       "24       20\n",
       "28       16\n",
       "29       16\n",
       "26       13\n",
       "31       12\n",
       "27       10\n",
       "32        9\n",
       "30        8\n",
       "33        6\n",
       "34        5\n",
       "36        4\n",
       "35        4\n",
       "43        3\n",
       "38        3\n",
       "41        2\n",
       "50        2\n",
       "37        2\n",
       "51        1\n",
       "55        1\n",
       "46        1\n",
       "58        1\n",
       "44        1\n",
       "39        1\n",
       "63        1\n",
       "Name: campaign, dtype: int64"
      ]
     },
     "execution_count": 182,
     "metadata": {},
     "output_type": "execute_result"
    }
   ],
   "source": [
    "data['campaign'].value_counts()"
   ]
  },
  {
   "cell_type": "code",
   "execution_count": 184,
   "metadata": {
    "hidden": true
   },
   "outputs": [
    {
     "data": {
      "text/plain": [
       "0.75     3.0\n",
       "0.80     4.0\n",
       "0.90     5.0\n",
       "0.99    16.0\n",
       "Name: campaign, dtype: float64"
      ]
     },
     "execution_count": 184,
     "metadata": {},
     "output_type": "execute_result"
    }
   ],
   "source": [
    "data['campaign'].quantile([0.75, 0.8, 0.9, 0.99])"
   ]
  },
  {
   "cell_type": "code",
   "execution_count": 185,
   "metadata": {
    "hidden": true
   },
   "outputs": [
    {
     "name": "stdout",
     "output_type": "stream",
     "text": [
      "prob 0.024528, denominator530\n"
     ]
    }
   ],
   "source": [
    "index = (data['campaign'] >= 16.0)\n",
    "print(\"prob {:f}, denominator{:d}\".format(sum(y[index]) / len(y[index]), len(y[index])))"
   ]
  },
  {
   "cell_type": "code",
   "execution_count": 187,
   "metadata": {
    "hidden": true
   },
   "outputs": [
    {
     "name": "stdout",
     "output_type": "stream",
     "text": [
      "prob 0.131851, denominator30049\n"
     ]
    }
   ],
   "source": [
    "index = (data['campaign'] < 3.0)\n",
    "print(\"prob {:f}, denominator{:d}\".format(sum(y[index]) / len(y[index]), len(y[index])))"
   ]
  },
  {
   "cell_type": "code",
   "execution_count": 188,
   "metadata": {
    "hidden": true
   },
   "outputs": [
    {
     "name": "stdout",
     "output_type": "stream",
     "text": [
      "prob 0.128760, denominator35570\n"
     ]
    }
   ],
   "source": [
    "index = (data['campaign'] < 4.0)\n",
    "print(\"prob {:f}, denominator{:d}\".format(sum(y[index]) / len(y[index]), len(y[index])))"
   ]
  },
  {
   "cell_type": "code",
   "execution_count": 192,
   "metadata": {
    "collapsed": true,
    "hidden": true
   },
   "outputs": [
    {
     "name": "stdout",
     "output_type": "stream",
     "text": [
      "value: 1-2, prob 0.145976, denominator17544\n",
      "value: 2-3, prob 0.112035, denominator12505\n",
      "value: 3-4, prob 0.111936, denominator5521\n",
      "value: 4-5, prob 0.090006, denominator3522\n",
      "value: 5-6, prob 0.078798, denominator1764\n",
      "value: 6-7, prob 0.071263, denominator1291\n",
      "value: 7-8, prob 0.063946, denominator735\n",
      "value: 8-9, prob 0.059259, denominator540\n",
      "value: 9-10, prob 0.064220, denominator327\n",
      "value: 10-11, prob 0.052632, denominator266\n",
      "value: 11-12, prob 0.079602, denominator201\n",
      "value: 12-13, prob 0.025806, denominator155\n",
      "value: 13-14, prob 0.045113, denominator133\n",
      "value: 14-15, prob 0.043011, denominator93\n",
      "value: 15-16, prob 0.047619, denominator84\n",
      "value: 16-17, prob 0.025316, denominator79\n",
      "value: 17-18, prob 0.086957, denominator69\n",
      "value: 18-19, prob 0.000000, denominator51\n",
      "value: 19-20, prob 0.000000, denominator44\n",
      "value: 20-21, prob 0.023256, denominator43\n",
      "value: 21-22, prob 0.028571, denominator35\n",
      "value: 22-23, prob 0.000000, denominator23\n",
      "value: 23-24, prob 0.000000, denominator22\n",
      "value: 24-25, prob 0.050000, denominator20\n",
      "value: 25-26, prob 0.000000, denominator22\n",
      "value: 26-27, prob 0.000000, denominator13\n",
      "value: 27-28, prob 0.000000, denominator10\n",
      "value: 28-29, prob 0.000000, denominator16\n",
      "value: 29-30, prob 0.062500, denominator16\n",
      "value: 30-31, prob 0.000000, denominator8\n",
      "value: 31-32, prob 0.000000, denominator12\n",
      "value: 32-33, prob 0.111111, denominator9\n",
      "value: 33-34, prob 0.000000, denominator6\n",
      "value: 34-35, prob 0.000000, denominator5\n",
      "value: 35-36, prob 0.000000, denominator4\n",
      "value: 36-37, prob 0.000000, denominator4\n",
      "value: 37-38, prob 0.000000, denominator2\n",
      "value: 38-39, prob 0.000000, denominator3\n",
      "value: 39-40, prob 0.000000, denominator1\n",
      "value: 41-42, prob 0.000000, denominator2\n",
      "value: 43-44, prob 0.000000, denominator3\n",
      "value: 44-45, prob 0.000000, denominator1\n",
      "value: 46-47, prob 0.000000, denominator1\n",
      "value: 50-51, prob 0.000000, denominator2\n",
      "value: 51-52, prob 0.000000, denominator1\n",
      "value: 55-56, prob 0.000000, denominator1\n",
      "value: 58-59, prob 0.000000, denominator1\n"
     ]
    }
   ],
   "source": [
    "for campaign_value in range(0, max(data['campaign'])):\n",
    "    index = (data['campaign'] < campaign_value + 1) & (data['campaign'] >= campaign_value)\n",
    "    if len(y[index])>0:\n",
    "        print(\"value: {:d}-{:d}, prob {:f}, denominator{:d}\".format(campaign_value, campaign_value + 1,\\\n",
    "                                                                    sum(y[index]) / len(y[index]), len(y[index])))"
   ]
  },
  {
   "cell_type": "markdown",
   "metadata": {
    "hidden": true
   },
   "source": [
    "首先试试直接把campaign加入X里面，看看有无效果"
   ]
  },
  {
   "cell_type": "code",
   "execution_count": 194,
   "metadata": {
    "hidden": true
   },
   "outputs": [],
   "source": [
    "X['campaign'] = data['campaign']"
   ]
  },
  {
   "cell_type": "code",
   "execution_count": 195,
   "metadata": {
    "code_folding": [
     0
    ],
    "hidden": true
   },
   "outputs": [
    {
     "name": "stdout",
     "output_type": "stream",
     "text": [
      "number of yes in train 4232, in test 1057, in predict 1495, mcc score is 0.5729\n",
      "number of yes in train 4242, in test 1047, in predict 1472, mcc score is 0.5557\n",
      "number of yes in train 4149, in test 1140, in predict 1558, mcc score is 0.5978\n",
      "number of yes in train 4264, in test 1025, in predict 1491, mcc score is 0.5678\n",
      "number of yes in train 4269, in test 1020, in predict 1485, mcc score is 0.5770\n",
      "mean score 0.5742\n"
     ]
    }
   ],
   "source": [
    "# rft {'cls_weasight': {0: 1, 1: 3}, 'criterion': 'gini', 'max_depth': 15, 'min_samples_leaf': 10, 'n_estimators': 100}\n",
    "para = {'class_weight': {0: 1, 1: 3}, 'criterion': 'gini', 'max_depth': 15, 'min_samples_leaf': 10, 'n_estimators': 100}\n",
    "rftree = RandomForestClassifier(**para)\n",
    "kf = KFold(n_splits=5, shuffle = True, random_state = 123)\n",
    "\n",
    "score_array = np.zeros(5)\n",
    "for (ii, (train_index, test_index)) in enumerate(kf.split(X, y)):\n",
    "#     print(\"TRAIN:\", train_index, \"TEST:\", test_index)\n",
    "    X_train, X_test = X.loc[train_index], X.loc[test_index]\n",
    "    y_train, y_test = y.iloc[train_index], y.iloc[test_index]\n",
    "    rftree.fit(X_train, y_train)\n",
    "    y_predict = rftree.predict(X_test)\n",
    "    myscore = matthews_corrcoef(y_test, y_predict)\n",
    "    score_array[ii] = myscore\n",
    "    print(\"number of yes in train {:d}, in test {:d}, in predict {:d}, mcc score is {:.4f}\".format(y_train.value_counts()[1],\\\n",
    "                                                                                                  y_test.value_counts()[1],\\\n",
    "                                                                                                  sum(y_predict),\\\n",
    "                                                                                                  myscore))\n",
    "print(\"mean score {:.4f}\".format(np.mean(score_array)))"
   ]
  },
  {
   "cell_type": "code",
   "execution_count": 196,
   "metadata": {
    "hidden": true
   },
   "outputs": [],
   "source": [
    "X.drop(columns = ['campaign'], inplace = True)"
   ]
  },
  {
   "cell_type": "markdown",
   "metadata": {
    "hidden": true
   },
   "source": [
    "然后试试把campaign编码，超过4次联系都没合同，那可以直接入土，"
   ]
  },
  {
   "cell_type": "code",
   "execution_count": 199,
   "metadata": {
    "hidden": true
   },
   "outputs": [
    {
     "name": "stdout",
     "output_type": "stream",
     "text": [
      "prob 0.064063, denominator6119\n"
     ]
    }
   ],
   "source": [
    "index = (data['campaign'] > 4.0)\n",
    "print(\"prob {:f}, denominator{:d}\".format(sum(y[index]) / len(y[index]), len(y[index])))"
   ]
  },
  {
   "cell_type": "code",
   "execution_count": 200,
   "metadata": {
    "hidden": true
   },
   "outputs": [
    {
     "name": "stdout",
     "output_type": "stream",
     "text": [
      "prob 0.108409, denominator21548\n"
     ]
    }
   ],
   "source": [
    "index = (data['campaign'] <= 4.0) & (data['campaign'] >= 2.0)\n",
    "print(\"prob {:f}, denominator{:d}\".format(sum(y[index]) / len(y[index]), len(y[index])))"
   ]
  },
  {
   "cell_type": "code",
   "execution_count": 201,
   "metadata": {
    "hidden": true
   },
   "outputs": [
    {
     "name": "stdout",
     "output_type": "stream",
     "text": [
      "prob 0.145976, denominator17544\n"
     ]
    }
   ],
   "source": [
    "index = (data['campaign'] <= 1.0)\n",
    "print(\"prob {:f}, denominator{:d}\".format(sum(y[index]) / len(y[index]), len(y[index])))"
   ]
  },
  {
   "cell_type": "code",
   "execution_count": 202,
   "metadata": {
    "hidden": true
   },
   "outputs": [],
   "source": [
    "X['campaign_1'] = data['campaign'].apply(lambda x: 1 if x <= 1.0 else 0)\n",
    "X['campaign_2-4'] = data['campaign'].apply(lambda x: 1 if x >= 2.0 and x <= 4.0 else 0)\n",
    "X['campaign_4'] = data['campaign'].apply(lambda x: 1 if x >4.0 else 0)"
   ]
  },
  {
   "cell_type": "markdown",
   "metadata": {
    "hidden": true
   },
   "source": [
    "这样编码能到效果0.5766，效果不明显"
   ]
  },
  {
   "cell_type": "code",
   "execution_count": 203,
   "metadata": {
    "collapsed": true,
    "hidden": true
   },
   "outputs": [
    {
     "data": {
      "text/html": [
       "<div>\n",
       "<style scoped>\n",
       "    .dataframe tbody tr th:only-of-type {\n",
       "        vertical-align: middle;\n",
       "    }\n",
       "\n",
       "    .dataframe tbody tr th {\n",
       "        vertical-align: top;\n",
       "    }\n",
       "\n",
       "    .dataframe thead th {\n",
       "        text-align: right;\n",
       "    }\n",
       "</style>\n",
       "<table border=\"1\" class=\"dataframe\">\n",
       "  <thead>\n",
       "    <tr style=\"text-align: right;\">\n",
       "      <th></th>\n",
       "      <th>duration</th>\n",
       "      <th>age</th>\n",
       "      <th>year_2008</th>\n",
       "      <th>year_2009</th>\n",
       "      <th>year_2010</th>\n",
       "      <th>balance</th>\n",
       "      <th>job_encode_negative</th>\n",
       "      <th>job_encode_positive</th>\n",
       "      <th>job_encode_unknown</th>\n",
       "      <th>housing_yes</th>\n",
       "      <th>housing_no</th>\n",
       "      <th>contact_unknown</th>\n",
       "      <th>contact_telephone</th>\n",
       "      <th>contact_cellular</th>\n",
       "      <th>Encode-date_2008_10</th>\n",
       "      <th>Encode-date_2009_1_2_4_5</th>\n",
       "      <th>Encode-date_2009_6_7_8</th>\n",
       "      <th>campaign_1</th>\n",
       "      <th>campaign_2-4</th>\n",
       "      <th>campaign_4</th>\n",
       "    </tr>\n",
       "  </thead>\n",
       "  <tbody>\n",
       "    <tr>\n",
       "      <th>0</th>\n",
       "      <td>261</td>\n",
       "      <td>58</td>\n",
       "      <td>1</td>\n",
       "      <td>0</td>\n",
       "      <td>0</td>\n",
       "      <td>2143</td>\n",
       "      <td>0</td>\n",
       "      <td>1</td>\n",
       "      <td>0</td>\n",
       "      <td>1</td>\n",
       "      <td>0</td>\n",
       "      <td>1</td>\n",
       "      <td>0</td>\n",
       "      <td>0</td>\n",
       "      <td>0</td>\n",
       "      <td>0</td>\n",
       "      <td>0</td>\n",
       "      <td>1</td>\n",
       "      <td>0</td>\n",
       "      <td>0</td>\n",
       "    </tr>\n",
       "    <tr>\n",
       "      <th>1</th>\n",
       "      <td>151</td>\n",
       "      <td>44</td>\n",
       "      <td>1</td>\n",
       "      <td>0</td>\n",
       "      <td>0</td>\n",
       "      <td>29</td>\n",
       "      <td>1</td>\n",
       "      <td>0</td>\n",
       "      <td>0</td>\n",
       "      <td>1</td>\n",
       "      <td>0</td>\n",
       "      <td>1</td>\n",
       "      <td>0</td>\n",
       "      <td>0</td>\n",
       "      <td>0</td>\n",
       "      <td>0</td>\n",
       "      <td>0</td>\n",
       "      <td>1</td>\n",
       "      <td>0</td>\n",
       "      <td>0</td>\n",
       "    </tr>\n",
       "    <tr>\n",
       "      <th>2</th>\n",
       "      <td>76</td>\n",
       "      <td>33</td>\n",
       "      <td>1</td>\n",
       "      <td>0</td>\n",
       "      <td>0</td>\n",
       "      <td>2</td>\n",
       "      <td>1</td>\n",
       "      <td>0</td>\n",
       "      <td>0</td>\n",
       "      <td>1</td>\n",
       "      <td>0</td>\n",
       "      <td>1</td>\n",
       "      <td>0</td>\n",
       "      <td>0</td>\n",
       "      <td>0</td>\n",
       "      <td>0</td>\n",
       "      <td>0</td>\n",
       "      <td>1</td>\n",
       "      <td>0</td>\n",
       "      <td>0</td>\n",
       "    </tr>\n",
       "    <tr>\n",
       "      <th>3</th>\n",
       "      <td>92</td>\n",
       "      <td>47</td>\n",
       "      <td>1</td>\n",
       "      <td>0</td>\n",
       "      <td>0</td>\n",
       "      <td>1506</td>\n",
       "      <td>1</td>\n",
       "      <td>0</td>\n",
       "      <td>0</td>\n",
       "      <td>1</td>\n",
       "      <td>0</td>\n",
       "      <td>1</td>\n",
       "      <td>0</td>\n",
       "      <td>0</td>\n",
       "      <td>0</td>\n",
       "      <td>0</td>\n",
       "      <td>0</td>\n",
       "      <td>1</td>\n",
       "      <td>0</td>\n",
       "      <td>0</td>\n",
       "    </tr>\n",
       "    <tr>\n",
       "      <th>4</th>\n",
       "      <td>198</td>\n",
       "      <td>33</td>\n",
       "      <td>1</td>\n",
       "      <td>0</td>\n",
       "      <td>0</td>\n",
       "      <td>1</td>\n",
       "      <td>0</td>\n",
       "      <td>0</td>\n",
       "      <td>1</td>\n",
       "      <td>0</td>\n",
       "      <td>1</td>\n",
       "      <td>1</td>\n",
       "      <td>0</td>\n",
       "      <td>0</td>\n",
       "      <td>0</td>\n",
       "      <td>0</td>\n",
       "      <td>0</td>\n",
       "      <td>1</td>\n",
       "      <td>0</td>\n",
       "      <td>0</td>\n",
       "    </tr>\n",
       "    <tr>\n",
       "      <th>5</th>\n",
       "      <td>139</td>\n",
       "      <td>35</td>\n",
       "      <td>1</td>\n",
       "      <td>0</td>\n",
       "      <td>0</td>\n",
       "      <td>231</td>\n",
       "      <td>0</td>\n",
       "      <td>1</td>\n",
       "      <td>0</td>\n",
       "      <td>1</td>\n",
       "      <td>0</td>\n",
       "      <td>1</td>\n",
       "      <td>0</td>\n",
       "      <td>0</td>\n",
       "      <td>0</td>\n",
       "      <td>0</td>\n",
       "      <td>0</td>\n",
       "      <td>1</td>\n",
       "      <td>0</td>\n",
       "      <td>0</td>\n",
       "    </tr>\n",
       "    <tr>\n",
       "      <th>6</th>\n",
       "      <td>217</td>\n",
       "      <td>28</td>\n",
       "      <td>1</td>\n",
       "      <td>0</td>\n",
       "      <td>0</td>\n",
       "      <td>447</td>\n",
       "      <td>0</td>\n",
       "      <td>1</td>\n",
       "      <td>0</td>\n",
       "      <td>1</td>\n",
       "      <td>0</td>\n",
       "      <td>1</td>\n",
       "      <td>0</td>\n",
       "      <td>0</td>\n",
       "      <td>0</td>\n",
       "      <td>0</td>\n",
       "      <td>0</td>\n",
       "      <td>1</td>\n",
       "      <td>0</td>\n",
       "      <td>0</td>\n",
       "    </tr>\n",
       "    <tr>\n",
       "      <th>7</th>\n",
       "      <td>380</td>\n",
       "      <td>42</td>\n",
       "      <td>1</td>\n",
       "      <td>0</td>\n",
       "      <td>0</td>\n",
       "      <td>2</td>\n",
       "      <td>1</td>\n",
       "      <td>0</td>\n",
       "      <td>0</td>\n",
       "      <td>1</td>\n",
       "      <td>0</td>\n",
       "      <td>1</td>\n",
       "      <td>0</td>\n",
       "      <td>0</td>\n",
       "      <td>0</td>\n",
       "      <td>0</td>\n",
       "      <td>0</td>\n",
       "      <td>1</td>\n",
       "      <td>0</td>\n",
       "      <td>0</td>\n",
       "    </tr>\n",
       "    <tr>\n",
       "      <th>8</th>\n",
       "      <td>50</td>\n",
       "      <td>58</td>\n",
       "      <td>1</td>\n",
       "      <td>0</td>\n",
       "      <td>0</td>\n",
       "      <td>121</td>\n",
       "      <td>0</td>\n",
       "      <td>1</td>\n",
       "      <td>0</td>\n",
       "      <td>1</td>\n",
       "      <td>0</td>\n",
       "      <td>1</td>\n",
       "      <td>0</td>\n",
       "      <td>0</td>\n",
       "      <td>0</td>\n",
       "      <td>0</td>\n",
       "      <td>0</td>\n",
       "      <td>1</td>\n",
       "      <td>0</td>\n",
       "      <td>0</td>\n",
       "    </tr>\n",
       "    <tr>\n",
       "      <th>9</th>\n",
       "      <td>55</td>\n",
       "      <td>43</td>\n",
       "      <td>1</td>\n",
       "      <td>0</td>\n",
       "      <td>0</td>\n",
       "      <td>593</td>\n",
       "      <td>1</td>\n",
       "      <td>0</td>\n",
       "      <td>0</td>\n",
       "      <td>1</td>\n",
       "      <td>0</td>\n",
       "      <td>1</td>\n",
       "      <td>0</td>\n",
       "      <td>0</td>\n",
       "      <td>0</td>\n",
       "      <td>0</td>\n",
       "      <td>0</td>\n",
       "      <td>1</td>\n",
       "      <td>0</td>\n",
       "      <td>0</td>\n",
       "    </tr>\n",
       "  </tbody>\n",
       "</table>\n",
       "</div>"
      ],
      "text/plain": [
       "   duration  age  year_2008  year_2009  year_2010  balance  \\\n",
       "0       261   58          1          0          0     2143   \n",
       "1       151   44          1          0          0       29   \n",
       "2        76   33          1          0          0        2   \n",
       "3        92   47          1          0          0     1506   \n",
       "4       198   33          1          0          0        1   \n",
       "5       139   35          1          0          0      231   \n",
       "6       217   28          1          0          0      447   \n",
       "7       380   42          1          0          0        2   \n",
       "8        50   58          1          0          0      121   \n",
       "9        55   43          1          0          0      593   \n",
       "\n",
       "   job_encode_negative  job_encode_positive  job_encode_unknown  housing_yes  \\\n",
       "0                    0                    1                   0            1   \n",
       "1                    1                    0                   0            1   \n",
       "2                    1                    0                   0            1   \n",
       "3                    1                    0                   0            1   \n",
       "4                    0                    0                   1            0   \n",
       "5                    0                    1                   0            1   \n",
       "6                    0                    1                   0            1   \n",
       "7                    1                    0                   0            1   \n",
       "8                    0                    1                   0            1   \n",
       "9                    1                    0                   0            1   \n",
       "\n",
       "   housing_no  contact_unknown  contact_telephone  contact_cellular  \\\n",
       "0           0                1                  0                 0   \n",
       "1           0                1                  0                 0   \n",
       "2           0                1                  0                 0   \n",
       "3           0                1                  0                 0   \n",
       "4           1                1                  0                 0   \n",
       "5           0                1                  0                 0   \n",
       "6           0                1                  0                 0   \n",
       "7           0                1                  0                 0   \n",
       "8           0                1                  0                 0   \n",
       "9           0                1                  0                 0   \n",
       "\n",
       "   Encode-date_2008_10  Encode-date_2009_1_2_4_5  Encode-date_2009_6_7_8  \\\n",
       "0                    0                         0                       0   \n",
       "1                    0                         0                       0   \n",
       "2                    0                         0                       0   \n",
       "3                    0                         0                       0   \n",
       "4                    0                         0                       0   \n",
       "5                    0                         0                       0   \n",
       "6                    0                         0                       0   \n",
       "7                    0                         0                       0   \n",
       "8                    0                         0                       0   \n",
       "9                    0                         0                       0   \n",
       "\n",
       "   campaign_1  campaign_2-4  campaign_4  \n",
       "0           1             0           0  \n",
       "1           1             0           0  \n",
       "2           1             0           0  \n",
       "3           1             0           0  \n",
       "4           1             0           0  \n",
       "5           1             0           0  \n",
       "6           1             0           0  \n",
       "7           1             0           0  \n",
       "8           1             0           0  \n",
       "9           1             0           0  "
      ]
     },
     "execution_count": 203,
     "metadata": {},
     "output_type": "execute_result"
    }
   ],
   "source": [
    "X.head(10)"
   ]
  },
  {
   "cell_type": "code",
   "execution_count": 204,
   "metadata": {
    "code_folding": [
     0
    ],
    "hidden": true
   },
   "outputs": [
    {
     "name": "stdout",
     "output_type": "stream",
     "text": [
      "number of yes in train 4232, in test 1057, in predict 1488, mcc score is 0.5765\n",
      "number of yes in train 4242, in test 1047, in predict 1489, mcc score is 0.5578\n",
      "number of yes in train 4149, in test 1140, in predict 1549, mcc score is 0.6002\n",
      "number of yes in train 4264, in test 1025, in predict 1486, mcc score is 0.5681\n",
      "number of yes in train 4269, in test 1020, in predict 1501, mcc score is 0.5803\n",
      "mean score 0.5766\n"
     ]
    }
   ],
   "source": [
    "# rft {'cls_weasight': {0: 1, 1: 3}, 'criterion': 'gini', 'max_depth': 15, 'min_samples_leaf': 10, 'n_estimators': 100}\n",
    "para = {'class_weight': {0: 1, 1: 3}, 'criterion': 'gini', 'max_depth': 15, 'min_samples_leaf': 10, 'n_estimators': 100}\n",
    "rftree = RandomForestClassifier(**para)\n",
    "kf = KFold(n_splits=5, shuffle = True, random_state = 123)\n",
    "\n",
    "score_array = np.zeros(5)\n",
    "for (ii, (train_index, test_index)) in enumerate(kf.split(X, y)):\n",
    "#     print(\"TRAIN:\", train_index, \"TEST:\", test_index)\n",
    "    X_train, X_test = X.loc[train_index], X.loc[test_index]\n",
    "    y_train, y_test = y.iloc[train_index], y.iloc[test_index]\n",
    "    rftree.fit(X_train, y_train)\n",
    "    y_predict = rftree.predict(X_test)\n",
    "    myscore = matthews_corrcoef(y_test, y_predict)\n",
    "    score_array[ii] = myscore\n",
    "    print(\"number of yes in train {:d}, in test {:d}, in predict {:d}, mcc score is {:.4f}\".format(y_train.value_counts()[1],\\\n",
    "                                                                                                  y_test.value_counts()[1],\\\n",
    "                                                                                                  sum(y_predict),\\\n",
    "                                                                                                  myscore))\n",
    "print(\"mean score {:.4f}\".format(np.mean(score_array)))"
   ]
  },
  {
   "cell_type": "code",
   "execution_count": 205,
   "metadata": {
    "collapsed": true,
    "hidden": true
   },
   "outputs": [
    {
     "data": {
      "text/plain": [
       "[('duration', 0.4549130963707166),\n",
       " ('year_2008', 0.1253982345696011),\n",
       " ('year_2010', 0.09198951486686917),\n",
       " ('Encode-date_2009_1_2_4_5', 0.07299245681344876),\n",
       " ('balance', 0.04956617250461619),\n",
       " ('age', 0.042119048465935456),\n",
       " ('year_2009', 0.03315765104849369),\n",
       " ('contact_unknown', 0.02904740749140751),\n",
       " ('housing_yes', 0.02516606217111684),\n",
       " ('housing_no', 0.02392809933402688),\n",
       " ('contact_cellular', 0.013229942907300975),\n",
       " ('Encode-date_2008_10', 0.006458679556695443),\n",
       " ('campaign_1', 0.005935910475642054),\n",
       " ('job_encode_positive', 0.005563711004416676),\n",
       " ('Encode-date_2009_6_7_8', 0.005434339390034334),\n",
       " ('job_encode_negative', 0.005221607586434781),\n",
       " ('campaign_2-4', 0.003621468752051159),\n",
       " ('contact_telephone', 0.0033320656647760813),\n",
       " ('campaign_4', 0.002842588331743798),\n",
       " ('job_encode_unknown', 8.194269467261428e-05)]"
      ]
     },
     "execution_count": 205,
     "metadata": {},
     "output_type": "execute_result"
    }
   ],
   "source": [
    "feature_importance = rftree.fit(X,y).feature_importances_\n",
    "feature_importance_list = []\n",
    "for (ii, col) in enumerate(X.columns):\n",
    "    feature_importance_list.append((col, feature_importance[ii]))\n",
    "feature_importance_list.sort(reverse=True, key=lambda occurance: occurance[1])\n",
    "feature_importance_list"
   ]
  },
  {
   "cell_type": "code",
   "execution_count": 206,
   "metadata": {
    "hidden": true
   },
   "outputs": [
    {
     "data": {
      "text/plain": [
       "array([[7308,  714],\n",
       "       [ 233,  787]], dtype=int64)"
      ]
     },
     "execution_count": 206,
     "metadata": {},
     "output_type": "execute_result"
    }
   ],
   "source": [
    "confusion_matrix(y_test, y_predict)"
   ]
  },
  {
   "cell_type": "code",
   "execution_count": 213,
   "metadata": {
    "hidden": true
   },
   "outputs": [],
   "source": [
    "X.drop(columns = ['campaign_1', 'campaign_2-4', ], inplace = True)"
   ]
  },
  {
   "cell_type": "code",
   "execution_count": 214,
   "metadata": {
    "hidden": true
   },
   "outputs": [],
   "source": [
    "X['campaign_4'] = data['campaign'].apply(lambda x: 1 if x >4.0 else 0)"
   ]
  },
  {
   "cell_type": "markdown",
   "metadata": {
    "hidden": true
   },
   "source": [
    "只在4这里切割，看看能不能对减假阳性有帮助\n",
    "\n",
    "看上去也没啥用"
   ]
  },
  {
   "cell_type": "code",
   "execution_count": 215,
   "metadata": {
    "code_folding": [
     0
    ],
    "hidden": true
   },
   "outputs": [
    {
     "name": "stdout",
     "output_type": "stream",
     "text": [
      "number of yes in train 4232, in test 1057, in predict 1478, mcc score is 0.5745\n",
      "number of yes in train 4242, in test 1047, in predict 1475, mcc score is 0.5596\n",
      "number of yes in train 4149, in test 1140, in predict 1576, mcc score is 0.6010\n",
      "number of yes in train 4264, in test 1025, in predict 1511, mcc score is 0.5720\n",
      "number of yes in train 4269, in test 1020, in predict 1482, mcc score is 0.5712\n",
      "mean score 0.5757\n"
     ]
    }
   ],
   "source": [
    "# rft {'cls_weasight': {0: 1, 1: 3}, 'criterion': 'gini', 'max_depth': 15, 'min_samples_leaf': 10, 'n_estimators': 100}\n",
    "para = {'class_weight': {0: 1, 1: 3},\n",
    "        'criterion': 'gini', \n",
    "        'max_depth': 15,\n",
    "        'min_samples_leaf': 10,\n",
    "        'n_estimators': 100,\n",
    "        'max_samples': 0.8}\n",
    "rftree = RandomForestClassifier(**para)\n",
    "kf = KFold(n_splits=5, shuffle = True, random_state = 123)\n",
    "\n",
    "score_array = np.zeros(5)\n",
    "for (ii, (train_index, test_index)) in enumerate(kf.split(X, y)):\n",
    "#     print(\"TRAIN:\", train_index, \"TEST:\", test_index)\n",
    "    X_train, X_test = X.loc[train_index], X.loc[test_index]\n",
    "    y_train, y_test = y.iloc[train_index], y.iloc[test_index]\n",
    "    rftree.fit(X_train, y_train)\n",
    "    y_predict = rftree.predict(X_test)\n",
    "    myscore = matthews_corrcoef(y_test, y_predict)\n",
    "    score_array[ii] = myscore\n",
    "    print(\"number of yes in train {:d}, in test {:d}, in predict {:d}, mcc score is {:.4f}\".format(y_train.value_counts()[1],\\\n",
    "                                                                                                  y_test.value_counts()[1],\\\n",
    "                                                                                                  sum(y_predict),\\\n",
    "                                                                                                  myscore))\n",
    "print(\"mean score {:.4f}\".format(np.mean(score_array)))"
   ]
  },
  {
   "cell_type": "code",
   "execution_count": 216,
   "metadata": {
    "hidden": true
   },
   "outputs": [],
   "source": [
    "X.drop(columns = ['campaign_4'], inplace = True)"
   ]
  },
  {
   "cell_type": "code",
   "execution_count": 217,
   "metadata": {
    "collapsed": true,
    "hidden": true
   },
   "outputs": [
    {
     "data": {
      "text/html": [
       "<div>\n",
       "<style scoped>\n",
       "    .dataframe tbody tr th:only-of-type {\n",
       "        vertical-align: middle;\n",
       "    }\n",
       "\n",
       "    .dataframe tbody tr th {\n",
       "        vertical-align: top;\n",
       "    }\n",
       "\n",
       "    .dataframe thead th {\n",
       "        text-align: right;\n",
       "    }\n",
       "</style>\n",
       "<table border=\"1\" class=\"dataframe\">\n",
       "  <thead>\n",
       "    <tr style=\"text-align: right;\">\n",
       "      <th></th>\n",
       "      <th>duration</th>\n",
       "      <th>age</th>\n",
       "      <th>year_2008</th>\n",
       "      <th>year_2009</th>\n",
       "      <th>year_2010</th>\n",
       "      <th>balance</th>\n",
       "      <th>job_encode_negative</th>\n",
       "      <th>job_encode_positive</th>\n",
       "      <th>job_encode_unknown</th>\n",
       "      <th>housing_yes</th>\n",
       "      <th>housing_no</th>\n",
       "      <th>contact_unknown</th>\n",
       "      <th>contact_telephone</th>\n",
       "      <th>contact_cellular</th>\n",
       "      <th>Encode-date_2008_10</th>\n",
       "      <th>Encode-date_2009_1_2_4_5</th>\n",
       "      <th>Encode-date_2009_6_7_8</th>\n",
       "    </tr>\n",
       "  </thead>\n",
       "  <tbody>\n",
       "    <tr>\n",
       "      <th>0</th>\n",
       "      <td>261</td>\n",
       "      <td>58</td>\n",
       "      <td>1</td>\n",
       "      <td>0</td>\n",
       "      <td>0</td>\n",
       "      <td>2143</td>\n",
       "      <td>0</td>\n",
       "      <td>1</td>\n",
       "      <td>0</td>\n",
       "      <td>1</td>\n",
       "      <td>0</td>\n",
       "      <td>1</td>\n",
       "      <td>0</td>\n",
       "      <td>0</td>\n",
       "      <td>0</td>\n",
       "      <td>0</td>\n",
       "      <td>0</td>\n",
       "    </tr>\n",
       "    <tr>\n",
       "      <th>1</th>\n",
       "      <td>151</td>\n",
       "      <td>44</td>\n",
       "      <td>1</td>\n",
       "      <td>0</td>\n",
       "      <td>0</td>\n",
       "      <td>29</td>\n",
       "      <td>1</td>\n",
       "      <td>0</td>\n",
       "      <td>0</td>\n",
       "      <td>1</td>\n",
       "      <td>0</td>\n",
       "      <td>1</td>\n",
       "      <td>0</td>\n",
       "      <td>0</td>\n",
       "      <td>0</td>\n",
       "      <td>0</td>\n",
       "      <td>0</td>\n",
       "    </tr>\n",
       "    <tr>\n",
       "      <th>2</th>\n",
       "      <td>76</td>\n",
       "      <td>33</td>\n",
       "      <td>1</td>\n",
       "      <td>0</td>\n",
       "      <td>0</td>\n",
       "      <td>2</td>\n",
       "      <td>1</td>\n",
       "      <td>0</td>\n",
       "      <td>0</td>\n",
       "      <td>1</td>\n",
       "      <td>0</td>\n",
       "      <td>1</td>\n",
       "      <td>0</td>\n",
       "      <td>0</td>\n",
       "      <td>0</td>\n",
       "      <td>0</td>\n",
       "      <td>0</td>\n",
       "    </tr>\n",
       "    <tr>\n",
       "      <th>3</th>\n",
       "      <td>92</td>\n",
       "      <td>47</td>\n",
       "      <td>1</td>\n",
       "      <td>0</td>\n",
       "      <td>0</td>\n",
       "      <td>1506</td>\n",
       "      <td>1</td>\n",
       "      <td>0</td>\n",
       "      <td>0</td>\n",
       "      <td>1</td>\n",
       "      <td>0</td>\n",
       "      <td>1</td>\n",
       "      <td>0</td>\n",
       "      <td>0</td>\n",
       "      <td>0</td>\n",
       "      <td>0</td>\n",
       "      <td>0</td>\n",
       "    </tr>\n",
       "    <tr>\n",
       "      <th>4</th>\n",
       "      <td>198</td>\n",
       "      <td>33</td>\n",
       "      <td>1</td>\n",
       "      <td>0</td>\n",
       "      <td>0</td>\n",
       "      <td>1</td>\n",
       "      <td>0</td>\n",
       "      <td>0</td>\n",
       "      <td>1</td>\n",
       "      <td>0</td>\n",
       "      <td>1</td>\n",
       "      <td>1</td>\n",
       "      <td>0</td>\n",
       "      <td>0</td>\n",
       "      <td>0</td>\n",
       "      <td>0</td>\n",
       "      <td>0</td>\n",
       "    </tr>\n",
       "    <tr>\n",
       "      <th>5</th>\n",
       "      <td>139</td>\n",
       "      <td>35</td>\n",
       "      <td>1</td>\n",
       "      <td>0</td>\n",
       "      <td>0</td>\n",
       "      <td>231</td>\n",
       "      <td>0</td>\n",
       "      <td>1</td>\n",
       "      <td>0</td>\n",
       "      <td>1</td>\n",
       "      <td>0</td>\n",
       "      <td>1</td>\n",
       "      <td>0</td>\n",
       "      <td>0</td>\n",
       "      <td>0</td>\n",
       "      <td>0</td>\n",
       "      <td>0</td>\n",
       "    </tr>\n",
       "    <tr>\n",
       "      <th>6</th>\n",
       "      <td>217</td>\n",
       "      <td>28</td>\n",
       "      <td>1</td>\n",
       "      <td>0</td>\n",
       "      <td>0</td>\n",
       "      <td>447</td>\n",
       "      <td>0</td>\n",
       "      <td>1</td>\n",
       "      <td>0</td>\n",
       "      <td>1</td>\n",
       "      <td>0</td>\n",
       "      <td>1</td>\n",
       "      <td>0</td>\n",
       "      <td>0</td>\n",
       "      <td>0</td>\n",
       "      <td>0</td>\n",
       "      <td>0</td>\n",
       "    </tr>\n",
       "    <tr>\n",
       "      <th>7</th>\n",
       "      <td>380</td>\n",
       "      <td>42</td>\n",
       "      <td>1</td>\n",
       "      <td>0</td>\n",
       "      <td>0</td>\n",
       "      <td>2</td>\n",
       "      <td>1</td>\n",
       "      <td>0</td>\n",
       "      <td>0</td>\n",
       "      <td>1</td>\n",
       "      <td>0</td>\n",
       "      <td>1</td>\n",
       "      <td>0</td>\n",
       "      <td>0</td>\n",
       "      <td>0</td>\n",
       "      <td>0</td>\n",
       "      <td>0</td>\n",
       "    </tr>\n",
       "    <tr>\n",
       "      <th>8</th>\n",
       "      <td>50</td>\n",
       "      <td>58</td>\n",
       "      <td>1</td>\n",
       "      <td>0</td>\n",
       "      <td>0</td>\n",
       "      <td>121</td>\n",
       "      <td>0</td>\n",
       "      <td>1</td>\n",
       "      <td>0</td>\n",
       "      <td>1</td>\n",
       "      <td>0</td>\n",
       "      <td>1</td>\n",
       "      <td>0</td>\n",
       "      <td>0</td>\n",
       "      <td>0</td>\n",
       "      <td>0</td>\n",
       "      <td>0</td>\n",
       "    </tr>\n",
       "    <tr>\n",
       "      <th>9</th>\n",
       "      <td>55</td>\n",
       "      <td>43</td>\n",
       "      <td>1</td>\n",
       "      <td>0</td>\n",
       "      <td>0</td>\n",
       "      <td>593</td>\n",
       "      <td>1</td>\n",
       "      <td>0</td>\n",
       "      <td>0</td>\n",
       "      <td>1</td>\n",
       "      <td>0</td>\n",
       "      <td>1</td>\n",
       "      <td>0</td>\n",
       "      <td>0</td>\n",
       "      <td>0</td>\n",
       "      <td>0</td>\n",
       "      <td>0</td>\n",
       "    </tr>\n",
       "  </tbody>\n",
       "</table>\n",
       "</div>"
      ],
      "text/plain": [
       "   duration  age  year_2008  year_2009  year_2010  balance  \\\n",
       "0       261   58          1          0          0     2143   \n",
       "1       151   44          1          0          0       29   \n",
       "2        76   33          1          0          0        2   \n",
       "3        92   47          1          0          0     1506   \n",
       "4       198   33          1          0          0        1   \n",
       "5       139   35          1          0          0      231   \n",
       "6       217   28          1          0          0      447   \n",
       "7       380   42          1          0          0        2   \n",
       "8        50   58          1          0          0      121   \n",
       "9        55   43          1          0          0      593   \n",
       "\n",
       "   job_encode_negative  job_encode_positive  job_encode_unknown  housing_yes  \\\n",
       "0                    0                    1                   0            1   \n",
       "1                    1                    0                   0            1   \n",
       "2                    1                    0                   0            1   \n",
       "3                    1                    0                   0            1   \n",
       "4                    0                    0                   1            0   \n",
       "5                    0                    1                   0            1   \n",
       "6                    0                    1                   0            1   \n",
       "7                    1                    0                   0            1   \n",
       "8                    0                    1                   0            1   \n",
       "9                    1                    0                   0            1   \n",
       "\n",
       "   housing_no  contact_unknown  contact_telephone  contact_cellular  \\\n",
       "0           0                1                  0                 0   \n",
       "1           0                1                  0                 0   \n",
       "2           0                1                  0                 0   \n",
       "3           0                1                  0                 0   \n",
       "4           1                1                  0                 0   \n",
       "5           0                1                  0                 0   \n",
       "6           0                1                  0                 0   \n",
       "7           0                1                  0                 0   \n",
       "8           0                1                  0                 0   \n",
       "9           0                1                  0                 0   \n",
       "\n",
       "   Encode-date_2008_10  Encode-date_2009_1_2_4_5  Encode-date_2009_6_7_8  \n",
       "0                    0                         0                       0  \n",
       "1                    0                         0                       0  \n",
       "2                    0                         0                       0  \n",
       "3                    0                         0                       0  \n",
       "4                    0                         0                       0  \n",
       "5                    0                         0                       0  \n",
       "6                    0                         0                       0  \n",
       "7                    0                         0                       0  \n",
       "8                    0                         0                       0  \n",
       "9                    0                         0                       0  "
      ]
     },
     "execution_count": 217,
     "metadata": {},
     "output_type": "execute_result"
    }
   ],
   "source": [
    "X.head(10)"
   ]
  },
  {
   "cell_type": "code",
   "execution_count": 218,
   "metadata": {
    "hidden": true
   },
   "outputs": [
    {
     "data": {
      "text/plain": [
       "array([[7312,  710],\n",
       "       [ 248,  772]], dtype=int64)"
      ]
     },
     "execution_count": 218,
     "metadata": {},
     "output_type": "execute_result"
    }
   ],
   "source": [
    "confusion_matrix(y_test, y_predict)"
   ]
  },
  {
   "cell_type": "code",
   "execution_count": 219,
   "metadata": {
    "hidden": true
   },
   "outputs": [
    {
     "data": {
      "text/plain": [
       "(45211, 17)"
      ]
     },
     "execution_count": 219,
     "metadata": {},
     "output_type": "execute_result"
    }
   ],
   "source": [
    "X.shape"
   ]
  },
  {
   "cell_type": "markdown",
   "metadata": {
    "heading_collapsed": true
   },
   "source": [
    "## 猜想十二:pdays\n",
    "\n",
    "不能完全把pdays当做一个连续变量来处理，毕竟它有可能是\"-1\"，看上去就很奇怪\n",
    "\n",
    "直接把pdays放入，0.5778\n",
    "\n",
    "离散化 0.57\n",
    "\n",
    "与其他特征交叉 0.57\n",
    "\n",
    "替换已有特征 0.57"
   ]
  },
  {
   "cell_type": "code",
   "execution_count": 220,
   "metadata": {
    "hidden": true
   },
   "outputs": [
    {
     "name": "stdout",
     "output_type": "stream",
     "text": [
      "prob 0.091573, denominator36954\n"
     ]
    }
   ],
   "source": [
    "index = (data['pdays'] == -1)\n",
    "print(\"prob {:f}, denominator{:d}\".format(sum(y[index]) / len(y[index]), len(y[index])))"
   ]
  },
  {
   "cell_type": "code",
   "execution_count": 221,
   "metadata": {
    "hidden": true
   },
   "outputs": [
    {
     "name": "stdout",
     "output_type": "stream",
     "text": [
      "prob 0.230713, denominator8257\n"
     ]
    }
   ],
   "source": [
    "index = (data['pdays'] != -1)\n",
    "print(\"prob {:f}, denominator{:d}\".format(sum(y[index]) / len(y[index]), len(y[index])))"
   ]
  },
  {
   "cell_type": "code",
   "execution_count": 227,
   "metadata": {
    "collapsed": true,
    "hidden": true
   },
   "outputs": [
    {
     "data": {
      "text/plain": [
       "0.25     -1.0\n",
       "0.50     -1.0\n",
       "0.75     -1.0\n",
       "0.80     -1.0\n",
       "0.82      9.0\n",
       "0.85    102.0\n",
       "0.90    185.0\n",
       "Name: pdays, dtype: float64"
      ]
     },
     "execution_count": 227,
     "metadata": {},
     "output_type": "execute_result"
    }
   ],
   "source": [
    "data['pdays'].quantile([0.25, 0.5, 0.75, 0.8, 0.82, 0.85, 0.9])"
   ]
  },
  {
   "cell_type": "code",
   "execution_count": 230,
   "metadata": {
    "collapsed": true,
    "hidden": true
   },
   "outputs": [
    {
     "name": "stdout",
     "output_type": "stream",
     "text": [
      "1      15\n",
      "2      37\n",
      "3       1\n",
      "4       2\n",
      "5      11\n",
      "       ..\n",
      "838     1\n",
      "842     1\n",
      "850     1\n",
      "854     1\n",
      "871     1\n",
      "Name: pdays, Length: 558, dtype: int64\n"
     ]
    }
   ],
   "source": [
    "data['pdays'][data['pdays']>0].value_counts().sort_index()"
   ]
  },
  {
   "cell_type": "code",
   "execution_count": 232,
   "metadata": {
    "hidden": true
   },
   "outputs": [
    {
     "data": {
      "text/plain": [
       "<AxesSubplot:>"
      ]
     },
     "execution_count": 232,
     "metadata": {},
     "output_type": "execute_result"
    },
    {
     "data": {
      "image/png": "[encoded data removed]",
      "text/plain": [
       "<Figure size 432x288 with 1 Axes>"
      ]
     },
     "metadata": {},
     "output_type": "display_data"
    }
   ],
   "source": [
    "data['pdays'][data['pdays']>0].value_counts().sort_index().plot()"
   ]
  },
  {
   "cell_type": "code",
   "execution_count": 234,
   "metadata": {
    "hidden": true
   },
   "outputs": [],
   "source": [
    "pdays_dataframe = pd.DataFrame({\"pdays_value\": data['pdays'][data['pdays']>0].unique(),\n",
    "                             \"cond_prob\": np.zeros(len(data['pdays'][data['pdays']>0].unique()))})"
   ]
  },
  {
   "cell_type": "code",
   "execution_count": 238,
   "metadata": {
    "hidden": true
   },
   "outputs": [],
   "source": [
    "pdays_dataframe[\"cond_prob\"] \\\n",
    "= pdays_dataframe[\"pdays_value\"].apply(lambda x: sum(y[data['pdays'] == x]) / len(y[data['pdays'] == x]) )"
   ]
  },
  {
   "cell_type": "code",
   "execution_count": 240,
   "metadata": {
    "hidden": true
   },
   "outputs": [],
   "source": [
    "pdays_dataframe.sort_values(\"pdays_value\", inplace = True)"
   ]
  },
  {
   "cell_type": "code",
   "execution_count": 241,
   "metadata": {
    "hidden": true
   },
   "outputs": [
    {
     "data": {
      "text/plain": [
       "[<matplotlib.lines.Line2D at 0x24e21304358>]"
      ]
     },
     "execution_count": 241,
     "metadata": {},
     "output_type": "execute_result"
    },
    {
     "data": {
      "image/png": "[encoded data removed]",
      "text/plain": [
       "<Figure size 432x288 with 1 Axes>"
      ]
     },
     "metadata": {},
     "output_type": "display_data"
    }
   ],
   "source": [
    "plt.plot(pdays_dataframe['pdays_value'], pdays_dataframe['cond_prob'])"
   ]
  },
  {
   "cell_type": "code",
   "execution_count": 242,
   "metadata": {
    "hidden": true
   },
   "outputs": [
    {
     "data": {
      "text/html": [
       "<div>\n",
       "<style scoped>\n",
       "    .dataframe tbody tr th:only-of-type {\n",
       "        vertical-align: middle;\n",
       "    }\n",
       "\n",
       "    .dataframe tbody tr th {\n",
       "        vertical-align: top;\n",
       "    }\n",
       "\n",
       "    .dataframe thead th {\n",
       "        text-align: right;\n",
       "    }\n",
       "</style>\n",
       "<table border=\"1\" class=\"dataframe\">\n",
       "  <thead>\n",
       "    <tr style=\"text-align: right;\">\n",
       "      <th></th>\n",
       "      <th>pdays_value</th>\n",
       "      <th>cond_prob</th>\n",
       "    </tr>\n",
       "  </thead>\n",
       "  <tbody>\n",
       "    <tr>\n",
       "      <th>count</th>\n",
       "      <td>558.000000</td>\n",
       "      <td>558.000000</td>\n",
       "    </tr>\n",
       "    <tr>\n",
       "      <th>mean</th>\n",
       "      <td>304.897849</td>\n",
       "      <td>0.290058</td>\n",
       "    </tr>\n",
       "    <tr>\n",
       "      <th>std</th>\n",
       "      <td>201.696330</td>\n",
       "      <td>0.322041</td>\n",
       "    </tr>\n",
       "    <tr>\n",
       "      <th>min</th>\n",
       "      <td>1.000000</td>\n",
       "      <td>0.000000</td>\n",
       "    </tr>\n",
       "    <tr>\n",
       "      <th>25%</th>\n",
       "      <td>143.250000</td>\n",
       "      <td>0.030792</td>\n",
       "    </tr>\n",
       "    <tr>\n",
       "      <th>50%</th>\n",
       "      <td>282.500000</td>\n",
       "      <td>0.166667</td>\n",
       "    </tr>\n",
       "    <tr>\n",
       "      <th>75%</th>\n",
       "      <td>427.750000</td>\n",
       "      <td>0.431467</td>\n",
       "    </tr>\n",
       "    <tr>\n",
       "      <th>max</th>\n",
       "      <td>871.000000</td>\n",
       "      <td>1.000000</td>\n",
       "    </tr>\n",
       "  </tbody>\n",
       "</table>\n",
       "</div>"
      ],
      "text/plain": [
       "       pdays_value   cond_prob\n",
       "count   558.000000  558.000000\n",
       "mean    304.897849    0.290058\n",
       "std     201.696330    0.322041\n",
       "min       1.000000    0.000000\n",
       "25%     143.250000    0.030792\n",
       "50%     282.500000    0.166667\n",
       "75%     427.750000    0.431467\n",
       "max     871.000000    1.000000"
      ]
     },
     "execution_count": 242,
     "metadata": {},
     "output_type": "execute_result"
    }
   ],
   "source": [
    "pdays_dataframe.describe()"
   ]
  },
  {
   "cell_type": "code",
   "execution_count": 244,
   "metadata": {
    "hidden": true
   },
   "outputs": [
    {
     "name": "stdout",
     "output_type": "stream",
     "text": [
      "0.35414767547857795\n",
      "0.22145432692307693\n",
      "0.11799526440410418\n"
     ]
    }
   ],
   "source": [
    "index = (data['pdays'] > 0) & (data['pdays'] <= 143)\n",
    "print(sum(y[index]) / len(y[index]))\n",
    "index = (data['pdays'] > 143) & (data['pdays'] <= 282)\n",
    "print(sum(y[index]) / len(y[index]))\n",
    "index = (data['pdays'] > 282) & (data['pdays'] <= 427)\n",
    "print(sum(y[index]) / len(y[index]))"
   ]
  },
  {
   "cell_type": "markdown",
   "metadata": {
    "hidden": true
   },
   "source": [
    "首先尝试直接把pdays放入特征"
   ]
  },
  {
   "cell_type": "code",
   "execution_count": 245,
   "metadata": {
    "hidden": true
   },
   "outputs": [],
   "source": [
    "X['pdays'] = data['pdays']"
   ]
  },
  {
   "cell_type": "code",
   "execution_count": 247,
   "metadata": {
    "code_folding": [
     0
    ],
    "hidden": true
   },
   "outputs": [
    {
     "name": "stdout",
     "output_type": "stream",
     "text": [
      "number of yes in train 4232, in test 1057, in predict 1491, mcc score is 0.5804\n",
      "number of yes in train 4242, in test 1047, in predict 1502, mcc score is 0.5573\n",
      "number of yes in train 4149, in test 1140, in predict 1572, mcc score is 0.6003\n",
      "number of yes in train 4264, in test 1025, in predict 1492, mcc score is 0.5666\n",
      "number of yes in train 4269, in test 1020, in predict 1496, mcc score is 0.5845\n",
      "mean score 0.5778\n"
     ]
    }
   ],
   "source": [
    "# rft {'cls_weasight': {0: 1, 1: 3}, 'criterion': 'gini', 'max_depth': 15, 'min_samples_leaf': 10, 'n_estimators': 100}\n",
    "para = {'class_weight': {0: 1, 1: 3},\n",
    "        'criterion': 'gini', \n",
    "        'max_depth': 15,\n",
    "        'min_samples_leaf': 10,\n",
    "        'n_estimators': 100}\n",
    "rftree = RandomForestClassifier(**para)\n",
    "kf = KFold(n_splits=5, shuffle = True, random_state = 123)\n",
    "\n",
    "score_array = np.zeros(5)\n",
    "for (ii, (train_index, test_index)) in enumerate(kf.split(X, y)):\n",
    "#     print(\"TRAIN:\", train_index, \"TEST:\", test_index)\n",
    "    X_train, X_test = X.loc[train_index], X.loc[test_index]\n",
    "    y_train, y_test = y.iloc[train_index], y.iloc[test_index]\n",
    "    rftree.fit(X_train, y_train)\n",
    "    y_predict = rftree.predict(X_test)\n",
    "    myscore = matthews_corrcoef(y_test, y_predict)\n",
    "    score_array[ii] = myscore\n",
    "    print(\"number of yes in train {:d}, in test {:d}, in predict {:d}, mcc score is {:.4f}\".format(y_train.value_counts()[1],\\\n",
    "                                                                                                  y_test.value_counts()[1],\\\n",
    "                                                                                                  sum(y_predict),\\\n",
    "                                                                                                  myscore))\n",
    "print(\"mean score {:.4f}\".format(np.mean(score_array)))"
   ]
  },
  {
   "cell_type": "markdown",
   "metadata": {
    "hidden": true
   },
   "source": [
    "应该是受到了-1的影响，因此我们首先把-1编码"
   ]
  },
  {
   "cell_type": "code",
   "execution_count": 248,
   "metadata": {
    "hidden": true
   },
   "outputs": [],
   "source": [
    "X.drop(columns = ['pdays'], inplace = True)"
   ]
  },
  {
   "cell_type": "code",
   "execution_count": 250,
   "metadata": {
    "hidden": true
   },
   "outputs": [],
   "source": [
    "X['pdays_-1'] = data['pdays'].apply(lambda x: 1 if x == -1.0 else 0)"
   ]
  },
  {
   "cell_type": "code",
   "execution_count": 251,
   "metadata": {
    "code_folding": [
     0
    ],
    "hidden": true
   },
   "outputs": [
    {
     "name": "stdout",
     "output_type": "stream",
     "text": [
      "number of yes in train 4232, in test 1057, in predict 1480, mcc score is 0.5740\n",
      "number of yes in train 4242, in test 1047, in predict 1499, mcc score is 0.5646\n",
      "number of yes in train 4149, in test 1140, in predict 1561, mcc score is 0.5961\n",
      "number of yes in train 4264, in test 1025, in predict 1507, mcc score is 0.5711\n",
      "number of yes in train 4269, in test 1020, in predict 1490, mcc score is 0.5757\n",
      "mean score 0.5763\n"
     ]
    }
   ],
   "source": [
    "# rft {'cls_weasight': {0: 1, 1: 3}, 'criterion': 'gini', 'max_depth': 15, 'min_samples_leaf': 10, 'n_estimators': 100}\n",
    "para = {'class_weight': {0: 1, 1: 3},\n",
    "        'criterion': 'gini', \n",
    "        'max_depth': 15,\n",
    "        'min_samples_leaf': 10,\n",
    "        'n_estimators': 100}\n",
    "rftree = RandomForestClassifier(**para)\n",
    "kf = KFold(n_splits=5, shuffle = True, random_state = 123)\n",
    "\n",
    "score_array = np.zeros(5)\n",
    "for (ii, (train_index, test_index)) in enumerate(kf.split(X, y)):\n",
    "#     print(\"TRAIN:\", train_index, \"TEST:\", test_index)\n",
    "    X_train, X_test = X.loc[train_index], X.loc[test_index]\n",
    "    y_train, y_test = y.iloc[train_index], y.iloc[test_index]\n",
    "    rftree.fit(X_train, y_train)\n",
    "    y_predict = rftree.predict(X_test)\n",
    "    myscore = matthews_corrcoef(y_test, y_predict)\n",
    "    score_array[ii] = myscore\n",
    "    print(\"number of yes in train {:d}, in test {:d}, in predict {:d}, mcc score is {:.4f}\".format(y_train.value_counts()[1],\\\n",
    "                                                                                                  y_test.value_counts()[1],\\\n",
    "                                                                                                  sum(y_predict),\\\n",
    "                                                                                                  myscore))\n",
    "print(\"mean score {:.4f}\".format(np.mean(score_array)))"
   ]
  },
  {
   "cell_type": "markdown",
   "metadata": {
    "hidden": true
   },
   "source": [
    "效果仍然不明显，我们继续对pdays进行编码"
   ]
  },
  {
   "cell_type": "code",
   "execution_count": 252,
   "metadata": {
    "hidden": true
   },
   "outputs": [],
   "source": [
    "X['pdays_0-143'] = data['pdays'].apply(lambda x: 1 if x >= 0 and x < 143 else 0)\n",
    "X['pdays_143-282'] = data['pdays'].apply(lambda x: 1 if x >= 143 and x < 282 else 0)\n",
    "X['pdays_282-427'] = data['pdays'].apply(lambda x: 1 if x >= 282 and x < 427 else 0)"
   ]
  },
  {
   "cell_type": "code",
   "execution_count": 253,
   "metadata": {
    "collapsed": true,
    "hidden": true
   },
   "outputs": [
    {
     "data": {
      "text/html": [
       "<div>\n",
       "<style scoped>\n",
       "    .dataframe tbody tr th:only-of-type {\n",
       "        vertical-align: middle;\n",
       "    }\n",
       "\n",
       "    .dataframe tbody tr th {\n",
       "        vertical-align: top;\n",
       "    }\n",
       "\n",
       "    .dataframe thead th {\n",
       "        text-align: right;\n",
       "    }\n",
       "</style>\n",
       "<table border=\"1\" class=\"dataframe\">\n",
       "  <thead>\n",
       "    <tr style=\"text-align: right;\">\n",
       "      <th></th>\n",
       "      <th>duration</th>\n",
       "      <th>age</th>\n",
       "      <th>year_2008</th>\n",
       "      <th>year_2009</th>\n",
       "      <th>year_2010</th>\n",
       "      <th>balance</th>\n",
       "      <th>job_encode_negative</th>\n",
       "      <th>job_encode_positive</th>\n",
       "      <th>job_encode_unknown</th>\n",
       "      <th>housing_yes</th>\n",
       "      <th>...</th>\n",
       "      <th>contact_unknown</th>\n",
       "      <th>contact_telephone</th>\n",
       "      <th>contact_cellular</th>\n",
       "      <th>Encode-date_2008_10</th>\n",
       "      <th>Encode-date_2009_1_2_4_5</th>\n",
       "      <th>Encode-date_2009_6_7_8</th>\n",
       "      <th>pdays_-1</th>\n",
       "      <th>pdays_0-143</th>\n",
       "      <th>pdays_143-282</th>\n",
       "      <th>pdays_282-427</th>\n",
       "    </tr>\n",
       "  </thead>\n",
       "  <tbody>\n",
       "    <tr>\n",
       "      <th>0</th>\n",
       "      <td>261</td>\n",
       "      <td>58</td>\n",
       "      <td>1</td>\n",
       "      <td>0</td>\n",
       "      <td>0</td>\n",
       "      <td>2143</td>\n",
       "      <td>0</td>\n",
       "      <td>1</td>\n",
       "      <td>0</td>\n",
       "      <td>1</td>\n",
       "      <td>...</td>\n",
       "      <td>1</td>\n",
       "      <td>0</td>\n",
       "      <td>0</td>\n",
       "      <td>0</td>\n",
       "      <td>0</td>\n",
       "      <td>0</td>\n",
       "      <td>1</td>\n",
       "      <td>0</td>\n",
       "      <td>0</td>\n",
       "      <td>0</td>\n",
       "    </tr>\n",
       "    <tr>\n",
       "      <th>1</th>\n",
       "      <td>151</td>\n",
       "      <td>44</td>\n",
       "      <td>1</td>\n",
       "      <td>0</td>\n",
       "      <td>0</td>\n",
       "      <td>29</td>\n",
       "      <td>1</td>\n",
       "      <td>0</td>\n",
       "      <td>0</td>\n",
       "      <td>1</td>\n",
       "      <td>...</td>\n",
       "      <td>1</td>\n",
       "      <td>0</td>\n",
       "      <td>0</td>\n",
       "      <td>0</td>\n",
       "      <td>0</td>\n",
       "      <td>0</td>\n",
       "      <td>1</td>\n",
       "      <td>0</td>\n",
       "      <td>0</td>\n",
       "      <td>0</td>\n",
       "    </tr>\n",
       "    <tr>\n",
       "      <th>2</th>\n",
       "      <td>76</td>\n",
       "      <td>33</td>\n",
       "      <td>1</td>\n",
       "      <td>0</td>\n",
       "      <td>0</td>\n",
       "      <td>2</td>\n",
       "      <td>1</td>\n",
       "      <td>0</td>\n",
       "      <td>0</td>\n",
       "      <td>1</td>\n",
       "      <td>...</td>\n",
       "      <td>1</td>\n",
       "      <td>0</td>\n",
       "      <td>0</td>\n",
       "      <td>0</td>\n",
       "      <td>0</td>\n",
       "      <td>0</td>\n",
       "      <td>1</td>\n",
       "      <td>0</td>\n",
       "      <td>0</td>\n",
       "      <td>0</td>\n",
       "    </tr>\n",
       "    <tr>\n",
       "      <th>3</th>\n",
       "      <td>92</td>\n",
       "      <td>47</td>\n",
       "      <td>1</td>\n",
       "      <td>0</td>\n",
       "      <td>0</td>\n",
       "      <td>1506</td>\n",
       "      <td>1</td>\n",
       "      <td>0</td>\n",
       "      <td>0</td>\n",
       "      <td>1</td>\n",
       "      <td>...</td>\n",
       "      <td>1</td>\n",
       "      <td>0</td>\n",
       "      <td>0</td>\n",
       "      <td>0</td>\n",
       "      <td>0</td>\n",
       "      <td>0</td>\n",
       "      <td>1</td>\n",
       "      <td>0</td>\n",
       "      <td>0</td>\n",
       "      <td>0</td>\n",
       "    </tr>\n",
       "    <tr>\n",
       "      <th>4</th>\n",
       "      <td>198</td>\n",
       "      <td>33</td>\n",
       "      <td>1</td>\n",
       "      <td>0</td>\n",
       "      <td>0</td>\n",
       "      <td>1</td>\n",
       "      <td>0</td>\n",
       "      <td>0</td>\n",
       "      <td>1</td>\n",
       "      <td>0</td>\n",
       "      <td>...</td>\n",
       "      <td>1</td>\n",
       "      <td>0</td>\n",
       "      <td>0</td>\n",
       "      <td>0</td>\n",
       "      <td>0</td>\n",
       "      <td>0</td>\n",
       "      <td>1</td>\n",
       "      <td>0</td>\n",
       "      <td>0</td>\n",
       "      <td>0</td>\n",
       "    </tr>\n",
       "    <tr>\n",
       "      <th>5</th>\n",
       "      <td>139</td>\n",
       "      <td>35</td>\n",
       "      <td>1</td>\n",
       "      <td>0</td>\n",
       "      <td>0</td>\n",
       "      <td>231</td>\n",
       "      <td>0</td>\n",
       "      <td>1</td>\n",
       "      <td>0</td>\n",
       "      <td>1</td>\n",
       "      <td>...</td>\n",
       "      <td>1</td>\n",
       "      <td>0</td>\n",
       "      <td>0</td>\n",
       "      <td>0</td>\n",
       "      <td>0</td>\n",
       "      <td>0</td>\n",
       "      <td>1</td>\n",
       "      <td>0</td>\n",
       "      <td>0</td>\n",
       "      <td>0</td>\n",
       "    </tr>\n",
       "    <tr>\n",
       "      <th>6</th>\n",
       "      <td>217</td>\n",
       "      <td>28</td>\n",
       "      <td>1</td>\n",
       "      <td>0</td>\n",
       "      <td>0</td>\n",
       "      <td>447</td>\n",
       "      <td>0</td>\n",
       "      <td>1</td>\n",
       "      <td>0</td>\n",
       "      <td>1</td>\n",
       "      <td>...</td>\n",
       "      <td>1</td>\n",
       "      <td>0</td>\n",
       "      <td>0</td>\n",
       "      <td>0</td>\n",
       "      <td>0</td>\n",
       "      <td>0</td>\n",
       "      <td>1</td>\n",
       "      <td>0</td>\n",
       "      <td>0</td>\n",
       "      <td>0</td>\n",
       "    </tr>\n",
       "    <tr>\n",
       "      <th>7</th>\n",
       "      <td>380</td>\n",
       "      <td>42</td>\n",
       "      <td>1</td>\n",
       "      <td>0</td>\n",
       "      <td>0</td>\n",
       "      <td>2</td>\n",
       "      <td>1</td>\n",
       "      <td>0</td>\n",
       "      <td>0</td>\n",
       "      <td>1</td>\n",
       "      <td>...</td>\n",
       "      <td>1</td>\n",
       "      <td>0</td>\n",
       "      <td>0</td>\n",
       "      <td>0</td>\n",
       "      <td>0</td>\n",
       "      <td>0</td>\n",
       "      <td>1</td>\n",
       "      <td>0</td>\n",
       "      <td>0</td>\n",
       "      <td>0</td>\n",
       "    </tr>\n",
       "    <tr>\n",
       "      <th>8</th>\n",
       "      <td>50</td>\n",
       "      <td>58</td>\n",
       "      <td>1</td>\n",
       "      <td>0</td>\n",
       "      <td>0</td>\n",
       "      <td>121</td>\n",
       "      <td>0</td>\n",
       "      <td>1</td>\n",
       "      <td>0</td>\n",
       "      <td>1</td>\n",
       "      <td>...</td>\n",
       "      <td>1</td>\n",
       "      <td>0</td>\n",
       "      <td>0</td>\n",
       "      <td>0</td>\n",
       "      <td>0</td>\n",
       "      <td>0</td>\n",
       "      <td>1</td>\n",
       "      <td>0</td>\n",
       "      <td>0</td>\n",
       "      <td>0</td>\n",
       "    </tr>\n",
       "    <tr>\n",
       "      <th>9</th>\n",
       "      <td>55</td>\n",
       "      <td>43</td>\n",
       "      <td>1</td>\n",
       "      <td>0</td>\n",
       "      <td>0</td>\n",
       "      <td>593</td>\n",
       "      <td>1</td>\n",
       "      <td>0</td>\n",
       "      <td>0</td>\n",
       "      <td>1</td>\n",
       "      <td>...</td>\n",
       "      <td>1</td>\n",
       "      <td>0</td>\n",
       "      <td>0</td>\n",
       "      <td>0</td>\n",
       "      <td>0</td>\n",
       "      <td>0</td>\n",
       "      <td>1</td>\n",
       "      <td>0</td>\n",
       "      <td>0</td>\n",
       "      <td>0</td>\n",
       "    </tr>\n",
       "  </tbody>\n",
       "</table>\n",
       "<p>10 rows × 21 columns</p>\n",
       "</div>"
      ],
      "text/plain": [
       "   duration  age  year_2008  year_2009  year_2010  balance  \\\n",
       "0       261   58          1          0          0     2143   \n",
       "1       151   44          1          0          0       29   \n",
       "2        76   33          1          0          0        2   \n",
       "3        92   47          1          0          0     1506   \n",
       "4       198   33          1          0          0        1   \n",
       "5       139   35          1          0          0      231   \n",
       "6       217   28          1          0          0      447   \n",
       "7       380   42          1          0          0        2   \n",
       "8        50   58          1          0          0      121   \n",
       "9        55   43          1          0          0      593   \n",
       "\n",
       "   job_encode_negative  job_encode_positive  job_encode_unknown  housing_yes  \\\n",
       "0                    0                    1                   0            1   \n",
       "1                    1                    0                   0            1   \n",
       "2                    1                    0                   0            1   \n",
       "3                    1                    0                   0            1   \n",
       "4                    0                    0                   1            0   \n",
       "5                    0                    1                   0            1   \n",
       "6                    0                    1                   0            1   \n",
       "7                    1                    0                   0            1   \n",
       "8                    0                    1                   0            1   \n",
       "9                    1                    0                   0            1   \n",
       "\n",
       "   ...  contact_unknown  contact_telephone  contact_cellular  \\\n",
       "0  ...                1                  0                 0   \n",
       "1  ...                1                  0                 0   \n",
       "2  ...                1                  0                 0   \n",
       "3  ...                1                  0                 0   \n",
       "4  ...                1                  0                 0   \n",
       "5  ...                1                  0                 0   \n",
       "6  ...                1                  0                 0   \n",
       "7  ...                1                  0                 0   \n",
       "8  ...                1                  0                 0   \n",
       "9  ...                1                  0                 0   \n",
       "\n",
       "   Encode-date_2008_10  Encode-date_2009_1_2_4_5  Encode-date_2009_6_7_8  \\\n",
       "0                    0                         0                       0   \n",
       "1                    0                         0                       0   \n",
       "2                    0                         0                       0   \n",
       "3                    0                         0                       0   \n",
       "4                    0                         0                       0   \n",
       "5                    0                         0                       0   \n",
       "6                    0                         0                       0   \n",
       "7                    0                         0                       0   \n",
       "8                    0                         0                       0   \n",
       "9                    0                         0                       0   \n",
       "\n",
       "   pdays_-1  pdays_0-143  pdays_143-282  pdays_282-427  \n",
       "0         1            0              0              0  \n",
       "1         1            0              0              0  \n",
       "2         1            0              0              0  \n",
       "3         1            0              0              0  \n",
       "4         1            0              0              0  \n",
       "5         1            0              0              0  \n",
       "6         1            0              0              0  \n",
       "7         1            0              0              0  \n",
       "8         1            0              0              0  \n",
       "9         1            0              0              0  \n",
       "\n",
       "[10 rows x 21 columns]"
      ]
     },
     "execution_count": 253,
     "metadata": {},
     "output_type": "execute_result"
    }
   ],
   "source": [
    "X.head(10)"
   ]
  },
  {
   "cell_type": "code",
   "execution_count": 254,
   "metadata": {
    "code_folding": [
     0
    ],
    "hidden": true
   },
   "outputs": [
    {
     "name": "stdout",
     "output_type": "stream",
     "text": [
      "number of yes in train 4232, in test 1057, in predict 1496, mcc score is 0.5800\n",
      "number of yes in train 4242, in test 1047, in predict 1488, mcc score is 0.5562\n",
      "number of yes in train 4149, in test 1140, in predict 1554, mcc score is 0.5980\n",
      "number of yes in train 4264, in test 1025, in predict 1477, mcc score is 0.5648\n",
      "number of yes in train 4269, in test 1020, in predict 1495, mcc score is 0.5800\n",
      "mean score 0.5758\n"
     ]
    }
   ],
   "source": [
    "# rft {'cls_weasight': {0: 1, 1: 3}, 'criterion': 'gini', 'max_depth': 15, 'min_samples_leaf': 10, 'n_estimators': 100}\n",
    "para = {'class_weight': {0: 1, 1: 3},\n",
    "        'criterion': 'gini', \n",
    "        'max_depth': 15,\n",
    "        'min_samples_leaf': 10,\n",
    "        'n_estimators': 100}\n",
    "rftree = RandomForestClassifier(**para)\n",
    "kf = KFold(n_splits=5, shuffle = True, random_state = 123)\n",
    "\n",
    "score_array = np.zeros(5)\n",
    "for (ii, (train_index, test_index)) in enumerate(kf.split(X, y)):\n",
    "#     print(\"TRAIN:\", train_index, \"TEST:\", test_index)\n",
    "    X_train, X_test = X.loc[train_index], X.loc[test_index]\n",
    "    y_train, y_test = y.iloc[train_index], y.iloc[test_index]\n",
    "    rftree.fit(X_train, y_train)\n",
    "    y_predict = rftree.predict(X_test)\n",
    "    myscore = matthews_corrcoef(y_test, y_predict)\n",
    "    score_array[ii] = myscore\n",
    "    print(\"number of yes in train {:d}, in test {:d}, in predict {:d}, mcc score is {:.4f}\".format(y_train.value_counts()[1],\\\n",
    "                                                                                                  y_test.value_counts()[1],\\\n",
    "                                                                                                  sum(y_predict),\\\n",
    "                                                                                                  myscore))\n",
    "print(\"mean score {:.4f}\".format(np.mean(score_array)))"
   ]
  },
  {
   "cell_type": "markdown",
   "metadata": {
    "hidden": true
   },
   "source": [
    "效果依然不太好"
   ]
  },
  {
   "cell_type": "code",
   "execution_count": 256,
   "metadata": {
    "collapsed": true,
    "hidden": true
   },
   "outputs": [
    {
     "data": {
      "text/plain": [
       "duration                    0.004629\n",
       "age                         0.024009\n",
       "year_2008                  -0.205286\n",
       "year_2009                   0.107676\n",
       "year_2010                   0.211388\n",
       "balance                     0.045979\n",
       "job_encode_negative        -0.078045\n",
       "job_encode_positive         0.077902\n",
       "job_encode_unknown          0.001376\n",
       "housing_yes                -0.091100\n",
       "housing_no                  0.091100\n",
       "contact_unknown            -0.140006\n",
       "contact_telephone           0.018224\n",
       "contact_cellular            0.123366\n",
       "Encode-date_2008_10        -0.002138\n",
       "Encode-date_2009_1_2_4_5   -0.028276\n",
       "Encode-date_2009_6_7_8      0.072789\n",
       "pdays_-1                   -0.477082\n",
       "pdays_0-143                 1.000000\n",
       "pdays_143-282              -0.063528\n",
       "pdays_282-427              -0.055043\n",
       "Name: pdays_0-143, dtype: float64"
      ]
     },
     "execution_count": 256,
     "metadata": {},
     "output_type": "execute_result"
    }
   ],
   "source": [
    "X.corr()['pdays_0-143']"
   ]
  },
  {
   "cell_type": "code",
   "execution_count": 261,
   "metadata": {
    "hidden": true
   },
   "outputs": [
    {
     "name": "stdout",
     "output_type": "stream",
     "text": [
      "0.38443017656500805\n",
      "1246\n"
     ]
    }
   ],
   "source": [
    "index = (data['pdays'] > 0) & (data['pdays'] <= 143) & (data['year'] <= 2010) & (X['job_encode_positive'] == 1) & (X['contact_cellular'] == 1)\n",
    "print(sum(y[index]) / len(y[index]))\n",
    "print(len(y[index]))"
   ]
  },
  {
   "cell_type": "code",
   "execution_count": 262,
   "metadata": {
    "hidden": true
   },
   "outputs": [],
   "source": [
    "X.drop(columns = ['pdays_-1', 'pdays_0-143', 'pdays_143-282', 'pdays_282-427'], inplace = True)"
   ]
  },
  {
   "cell_type": "markdown",
   "metadata": {
    "hidden": true
   },
   "source": [
    "我们考虑使用pdays来\"增强\"其他特征"
   ]
  },
  {
   "cell_type": "code",
   "execution_count": 263,
   "metadata": {
    "hidden": true
   },
   "outputs": [
    {
     "data": {
      "text/plain": [
       "Index(['duration', 'age', 'year_2008', 'year_2009', 'year_2010', 'balance',\n",
       "       'job_encode_negative', 'job_encode_positive', 'job_encode_unknown',\n",
       "       'housing_yes', 'housing_no', 'contact_unknown', 'contact_telephone',\n",
       "       'contact_cellular', 'Encode-date_2008_10', 'Encode-date_2009_1_2_4_5',\n",
       "       'Encode-date_2009_6_7_8'],\n",
       "      dtype='object')"
      ]
     },
     "execution_count": 263,
     "metadata": {},
     "output_type": "execute_result"
    }
   ],
   "source": [
    "X.columns"
   ]
  },
  {
   "cell_type": "code",
   "execution_count": 264,
   "metadata": {
    "hidden": true
   },
   "outputs": [],
   "source": [
    "X['pdays_0-143'] = data['pdays'].apply(lambda x: 1 if x >= 0 and x < 143 else 0)\n",
    "X['pdays_-1'] = data['pdays'].apply(lambda x: 1 if x == -1.0 else 0)\n",
    "\n",
    "for col in ['year_2010', 'job_encode_positive', 'housing_no', 'contact_cellular']:\n",
    "    X['pdays_0-143' + \"--\" + col] = X['pdays_0-143'] * X[col]\n",
    "    \n",
    "for col in ['year_2008', 'job_encode_negative', 'housing_yes']:\n",
    "    X['pdays_-1' + \"--\" + col] = X['pdays_-1'] * X[col]"
   ]
  },
  {
   "cell_type": "code",
   "execution_count": 265,
   "metadata": {
    "code_folding": [
     0
    ],
    "hidden": true
   },
   "outputs": [
    {
     "name": "stdout",
     "output_type": "stream",
     "text": [
      "number of yes in train 4232, in test 1057, in predict 1482, mcc score is 0.5772\n",
      "number of yes in train 4242, in test 1047, in predict 1477, mcc score is 0.5581\n",
      "number of yes in train 4149, in test 1140, in predict 1573, mcc score is 0.5974\n",
      "number of yes in train 4264, in test 1025, in predict 1488, mcc score is 0.5667\n",
      "number of yes in train 4269, in test 1020, in predict 1490, mcc score is 0.5710\n",
      "mean score 0.5741\n"
     ]
    }
   ],
   "source": [
    "# rft {'cls_weasight': {0: 1, 1: 3}, 'criterion': 'gini', 'max_depth': 15, 'min_samples_leaf': 10, 'n_estimators': 100}\n",
    "para = {'class_weight': {0: 1, 1: 3},\n",
    "        'criterion': 'gini', \n",
    "        'max_depth': 15,\n",
    "        'min_samples_leaf': 10,\n",
    "        'n_estimators': 100}\n",
    "rftree = RandomForestClassifier(**para)\n",
    "kf = KFold(n_splits=5, shuffle = True, random_state = 123)\n",
    "\n",
    "score_array = np.zeros(5)\n",
    "for (ii, (train_index, test_index)) in enumerate(kf.split(X, y)):\n",
    "#     print(\"TRAIN:\", train_index, \"TEST:\", test_index)\n",
    "    X_train, X_test = X.loc[train_index], X.loc[test_index]\n",
    "    y_train, y_test = y.iloc[train_index], y.iloc[test_index]\n",
    "    rftree.fit(X_train, y_train)\n",
    "    y_predict = rftree.predict(X_test)\n",
    "    myscore = matthews_corrcoef(y_test, y_predict)\n",
    "    score_array[ii] = myscore\n",
    "    print(\"number of yes in train {:d}, in test {:d}, in predict {:d}, mcc score is {:.4f}\".format(y_train.value_counts()[1],\\\n",
    "                                                                                                  y_test.value_counts()[1],\\\n",
    "                                                                                                  sum(y_predict),\\\n",
    "                                                                                                  myscore))\n",
    "print(\"mean score {:.4f}\".format(np.mean(score_array)))"
   ]
  },
  {
   "cell_type": "markdown",
   "metadata": {
    "hidden": true
   },
   "source": [
    "效果仍然很一般"
   ]
  },
  {
   "cell_type": "code",
   "execution_count": 266,
   "metadata": {
    "collapsed": true,
    "hidden": true
   },
   "outputs": [
    {
     "data": {
      "text/html": [
       "<div>\n",
       "<style scoped>\n",
       "    .dataframe tbody tr th:only-of-type {\n",
       "        vertical-align: middle;\n",
       "    }\n",
       "\n",
       "    .dataframe tbody tr th {\n",
       "        vertical-align: top;\n",
       "    }\n",
       "\n",
       "    .dataframe thead th {\n",
       "        text-align: right;\n",
       "    }\n",
       "</style>\n",
       "<table border=\"1\" class=\"dataframe\">\n",
       "  <thead>\n",
       "    <tr style=\"text-align: right;\">\n",
       "      <th></th>\n",
       "      <th>duration</th>\n",
       "      <th>age</th>\n",
       "      <th>year_2008</th>\n",
       "      <th>year_2009</th>\n",
       "      <th>year_2010</th>\n",
       "      <th>balance</th>\n",
       "      <th>job_encode_negative</th>\n",
       "      <th>job_encode_positive</th>\n",
       "      <th>job_encode_unknown</th>\n",
       "      <th>housing_yes</th>\n",
       "      <th>housing_no</th>\n",
       "      <th>contact_unknown</th>\n",
       "      <th>contact_telephone</th>\n",
       "      <th>contact_cellular</th>\n",
       "      <th>Encode-date_2008_10</th>\n",
       "      <th>Encode-date_2009_1_2_4_5</th>\n",
       "      <th>Encode-date_2009_6_7_8</th>\n",
       "      <th>pdays_0-143</th>\n",
       "      <th>pdays_-1</th>\n",
       "    </tr>\n",
       "  </thead>\n",
       "  <tbody>\n",
       "    <tr>\n",
       "      <th>0</th>\n",
       "      <td>261</td>\n",
       "      <td>58</td>\n",
       "      <td>1</td>\n",
       "      <td>0</td>\n",
       "      <td>0</td>\n",
       "      <td>2143</td>\n",
       "      <td>0</td>\n",
       "      <td>1</td>\n",
       "      <td>0</td>\n",
       "      <td>1</td>\n",
       "      <td>0</td>\n",
       "      <td>1</td>\n",
       "      <td>0</td>\n",
       "      <td>0</td>\n",
       "      <td>0</td>\n",
       "      <td>0</td>\n",
       "      <td>0</td>\n",
       "      <td>0</td>\n",
       "      <td>1</td>\n",
       "    </tr>\n",
       "    <tr>\n",
       "      <th>1</th>\n",
       "      <td>151</td>\n",
       "      <td>44</td>\n",
       "      <td>1</td>\n",
       "      <td>0</td>\n",
       "      <td>0</td>\n",
       "      <td>29</td>\n",
       "      <td>1</td>\n",
       "      <td>0</td>\n",
       "      <td>0</td>\n",
       "      <td>1</td>\n",
       "      <td>0</td>\n",
       "      <td>1</td>\n",
       "      <td>0</td>\n",
       "      <td>0</td>\n",
       "      <td>0</td>\n",
       "      <td>0</td>\n",
       "      <td>0</td>\n",
       "      <td>0</td>\n",
       "      <td>1</td>\n",
       "    </tr>\n",
       "    <tr>\n",
       "      <th>2</th>\n",
       "      <td>76</td>\n",
       "      <td>33</td>\n",
       "      <td>1</td>\n",
       "      <td>0</td>\n",
       "      <td>0</td>\n",
       "      <td>2</td>\n",
       "      <td>1</td>\n",
       "      <td>0</td>\n",
       "      <td>0</td>\n",
       "      <td>1</td>\n",
       "      <td>0</td>\n",
       "      <td>1</td>\n",
       "      <td>0</td>\n",
       "      <td>0</td>\n",
       "      <td>0</td>\n",
       "      <td>0</td>\n",
       "      <td>0</td>\n",
       "      <td>0</td>\n",
       "      <td>1</td>\n",
       "    </tr>\n",
       "    <tr>\n",
       "      <th>3</th>\n",
       "      <td>92</td>\n",
       "      <td>47</td>\n",
       "      <td>1</td>\n",
       "      <td>0</td>\n",
       "      <td>0</td>\n",
       "      <td>1506</td>\n",
       "      <td>1</td>\n",
       "      <td>0</td>\n",
       "      <td>0</td>\n",
       "      <td>1</td>\n",
       "      <td>0</td>\n",
       "      <td>1</td>\n",
       "      <td>0</td>\n",
       "      <td>0</td>\n",
       "      <td>0</td>\n",
       "      <td>0</td>\n",
       "      <td>0</td>\n",
       "      <td>0</td>\n",
       "      <td>1</td>\n",
       "    </tr>\n",
       "    <tr>\n",
       "      <th>4</th>\n",
       "      <td>198</td>\n",
       "      <td>33</td>\n",
       "      <td>1</td>\n",
       "      <td>0</td>\n",
       "      <td>0</td>\n",
       "      <td>1</td>\n",
       "      <td>0</td>\n",
       "      <td>0</td>\n",
       "      <td>1</td>\n",
       "      <td>0</td>\n",
       "      <td>1</td>\n",
       "      <td>1</td>\n",
       "      <td>0</td>\n",
       "      <td>0</td>\n",
       "      <td>0</td>\n",
       "      <td>0</td>\n",
       "      <td>0</td>\n",
       "      <td>0</td>\n",
       "      <td>1</td>\n",
       "    </tr>\n",
       "    <tr>\n",
       "      <th>5</th>\n",
       "      <td>139</td>\n",
       "      <td>35</td>\n",
       "      <td>1</td>\n",
       "      <td>0</td>\n",
       "      <td>0</td>\n",
       "      <td>231</td>\n",
       "      <td>0</td>\n",
       "      <td>1</td>\n",
       "      <td>0</td>\n",
       "      <td>1</td>\n",
       "      <td>0</td>\n",
       "      <td>1</td>\n",
       "      <td>0</td>\n",
       "      <td>0</td>\n",
       "      <td>0</td>\n",
       "      <td>0</td>\n",
       "      <td>0</td>\n",
       "      <td>0</td>\n",
       "      <td>1</td>\n",
       "    </tr>\n",
       "    <tr>\n",
       "      <th>6</th>\n",
       "      <td>217</td>\n",
       "      <td>28</td>\n",
       "      <td>1</td>\n",
       "      <td>0</td>\n",
       "      <td>0</td>\n",
       "      <td>447</td>\n",
       "      <td>0</td>\n",
       "      <td>1</td>\n",
       "      <td>0</td>\n",
       "      <td>1</td>\n",
       "      <td>0</td>\n",
       "      <td>1</td>\n",
       "      <td>0</td>\n",
       "      <td>0</td>\n",
       "      <td>0</td>\n",
       "      <td>0</td>\n",
       "      <td>0</td>\n",
       "      <td>0</td>\n",
       "      <td>1</td>\n",
       "    </tr>\n",
       "    <tr>\n",
       "      <th>7</th>\n",
       "      <td>380</td>\n",
       "      <td>42</td>\n",
       "      <td>1</td>\n",
       "      <td>0</td>\n",
       "      <td>0</td>\n",
       "      <td>2</td>\n",
       "      <td>1</td>\n",
       "      <td>0</td>\n",
       "      <td>0</td>\n",
       "      <td>1</td>\n",
       "      <td>0</td>\n",
       "      <td>1</td>\n",
       "      <td>0</td>\n",
       "      <td>0</td>\n",
       "      <td>0</td>\n",
       "      <td>0</td>\n",
       "      <td>0</td>\n",
       "      <td>0</td>\n",
       "      <td>1</td>\n",
       "    </tr>\n",
       "    <tr>\n",
       "      <th>8</th>\n",
       "      <td>50</td>\n",
       "      <td>58</td>\n",
       "      <td>1</td>\n",
       "      <td>0</td>\n",
       "      <td>0</td>\n",
       "      <td>121</td>\n",
       "      <td>0</td>\n",
       "      <td>1</td>\n",
       "      <td>0</td>\n",
       "      <td>1</td>\n",
       "      <td>0</td>\n",
       "      <td>1</td>\n",
       "      <td>0</td>\n",
       "      <td>0</td>\n",
       "      <td>0</td>\n",
       "      <td>0</td>\n",
       "      <td>0</td>\n",
       "      <td>0</td>\n",
       "      <td>1</td>\n",
       "    </tr>\n",
       "    <tr>\n",
       "      <th>9</th>\n",
       "      <td>55</td>\n",
       "      <td>43</td>\n",
       "      <td>1</td>\n",
       "      <td>0</td>\n",
       "      <td>0</td>\n",
       "      <td>593</td>\n",
       "      <td>1</td>\n",
       "      <td>0</td>\n",
       "      <td>0</td>\n",
       "      <td>1</td>\n",
       "      <td>0</td>\n",
       "      <td>1</td>\n",
       "      <td>0</td>\n",
       "      <td>0</td>\n",
       "      <td>0</td>\n",
       "      <td>0</td>\n",
       "      <td>0</td>\n",
       "      <td>0</td>\n",
       "      <td>1</td>\n",
       "    </tr>\n",
       "  </tbody>\n",
       "</table>\n",
       "</div>"
      ],
      "text/plain": [
       "   duration  age  year_2008  year_2009  year_2010  balance  \\\n",
       "0       261   58          1          0          0     2143   \n",
       "1       151   44          1          0          0       29   \n",
       "2        76   33          1          0          0        2   \n",
       "3        92   47          1          0          0     1506   \n",
       "4       198   33          1          0          0        1   \n",
       "5       139   35          1          0          0      231   \n",
       "6       217   28          1          0          0      447   \n",
       "7       380   42          1          0          0        2   \n",
       "8        50   58          1          0          0      121   \n",
       "9        55   43          1          0          0      593   \n",
       "\n",
       "   job_encode_negative  job_encode_positive  job_encode_unknown  housing_yes  \\\n",
       "0                    0                    1                   0            1   \n",
       "1                    1                    0                   0            1   \n",
       "2                    1                    0                   0            1   \n",
       "3                    1                    0                   0            1   \n",
       "4                    0                    0                   1            0   \n",
       "5                    0                    1                   0            1   \n",
       "6                    0                    1                   0            1   \n",
       "7                    1                    0                   0            1   \n",
       "8                    0                    1                   0            1   \n",
       "9                    1                    0                   0            1   \n",
       "\n",
       "   housing_no  contact_unknown  contact_telephone  contact_cellular  \\\n",
       "0           0                1                  0                 0   \n",
       "1           0                1                  0                 0   \n",
       "2           0                1                  0                 0   \n",
       "3           0                1                  0                 0   \n",
       "4           1                1                  0                 0   \n",
       "5           0                1                  0                 0   \n",
       "6           0                1                  0                 0   \n",
       "7           0                1                  0                 0   \n",
       "8           0                1                  0                 0   \n",
       "9           0                1                  0                 0   \n",
       "\n",
       "   Encode-date_2008_10  Encode-date_2009_1_2_4_5  Encode-date_2009_6_7_8  \\\n",
       "0                    0                         0                       0   \n",
       "1                    0                         0                       0   \n",
       "2                    0                         0                       0   \n",
       "3                    0                         0                       0   \n",
       "4                    0                         0                       0   \n",
       "5                    0                         0                       0   \n",
       "6                    0                         0                       0   \n",
       "7                    0                         0                       0   \n",
       "8                    0                         0                       0   \n",
       "9                    0                         0                       0   \n",
       "\n",
       "   pdays_0-143  pdays_-1  \n",
       "0            0         1  \n",
       "1            0         1  \n",
       "2            0         1  \n",
       "3            0         1  \n",
       "4            0         1  \n",
       "5            0         1  \n",
       "6            0         1  \n",
       "7            0         1  \n",
       "8            0         1  \n",
       "9            0         1  "
      ]
     },
     "execution_count": 266,
     "metadata": {},
     "output_type": "execute_result"
    }
   ],
   "source": [
    "X.drop(columns = ['pdays_0-143' + \"--\" + col for col in ['year_2010', 'job_encode_positive', 'housing_no', 'contact_cellular']], inplace = True)\n",
    "X.drop(columns = ['pdays_-1' + \"--\" + col for col in ['year_2008', 'job_encode_negative', 'housing_yes']], inplace = True)\n",
    "X.head(10)"
   ]
  },
  {
   "cell_type": "code",
   "execution_count": 267,
   "metadata": {
    "collapsed": true,
    "hidden": true
   },
   "outputs": [
    {
     "data": {
      "text/html": [
       "<div>\n",
       "<style scoped>\n",
       "    .dataframe tbody tr th:only-of-type {\n",
       "        vertical-align: middle;\n",
       "    }\n",
       "\n",
       "    .dataframe tbody tr th {\n",
       "        vertical-align: top;\n",
       "    }\n",
       "\n",
       "    .dataframe thead th {\n",
       "        text-align: right;\n",
       "    }\n",
       "</style>\n",
       "<table border=\"1\" class=\"dataframe\">\n",
       "  <thead>\n",
       "    <tr style=\"text-align: right;\">\n",
       "      <th></th>\n",
       "      <th>duration</th>\n",
       "      <th>age</th>\n",
       "      <th>year_2008</th>\n",
       "      <th>year_2009</th>\n",
       "      <th>year_2010</th>\n",
       "      <th>balance</th>\n",
       "      <th>job_encode_negative</th>\n",
       "      <th>job_encode_positive</th>\n",
       "      <th>job_encode_unknown</th>\n",
       "      <th>housing_yes</th>\n",
       "      <th>housing_no</th>\n",
       "      <th>contact_unknown</th>\n",
       "      <th>contact_telephone</th>\n",
       "      <th>contact_cellular</th>\n",
       "      <th>Encode-date_2008_10</th>\n",
       "      <th>Encode-date_2009_1_2_4_5</th>\n",
       "      <th>Encode-date_2009_6_7_8</th>\n",
       "    </tr>\n",
       "  </thead>\n",
       "  <tbody>\n",
       "    <tr>\n",
       "      <th>0</th>\n",
       "      <td>261</td>\n",
       "      <td>58</td>\n",
       "      <td>1</td>\n",
       "      <td>0</td>\n",
       "      <td>0</td>\n",
       "      <td>2143</td>\n",
       "      <td>0</td>\n",
       "      <td>1</td>\n",
       "      <td>0</td>\n",
       "      <td>1</td>\n",
       "      <td>0</td>\n",
       "      <td>1</td>\n",
       "      <td>0</td>\n",
       "      <td>0</td>\n",
       "      <td>0</td>\n",
       "      <td>0</td>\n",
       "      <td>0</td>\n",
       "    </tr>\n",
       "    <tr>\n",
       "      <th>1</th>\n",
       "      <td>151</td>\n",
       "      <td>44</td>\n",
       "      <td>1</td>\n",
       "      <td>0</td>\n",
       "      <td>0</td>\n",
       "      <td>29</td>\n",
       "      <td>1</td>\n",
       "      <td>0</td>\n",
       "      <td>0</td>\n",
       "      <td>1</td>\n",
       "      <td>0</td>\n",
       "      <td>1</td>\n",
       "      <td>0</td>\n",
       "      <td>0</td>\n",
       "      <td>0</td>\n",
       "      <td>0</td>\n",
       "      <td>0</td>\n",
       "    </tr>\n",
       "    <tr>\n",
       "      <th>2</th>\n",
       "      <td>76</td>\n",
       "      <td>33</td>\n",
       "      <td>1</td>\n",
       "      <td>0</td>\n",
       "      <td>0</td>\n",
       "      <td>2</td>\n",
       "      <td>1</td>\n",
       "      <td>0</td>\n",
       "      <td>0</td>\n",
       "      <td>1</td>\n",
       "      <td>0</td>\n",
       "      <td>1</td>\n",
       "      <td>0</td>\n",
       "      <td>0</td>\n",
       "      <td>0</td>\n",
       "      <td>0</td>\n",
       "      <td>0</td>\n",
       "    </tr>\n",
       "    <tr>\n",
       "      <th>3</th>\n",
       "      <td>92</td>\n",
       "      <td>47</td>\n",
       "      <td>1</td>\n",
       "      <td>0</td>\n",
       "      <td>0</td>\n",
       "      <td>1506</td>\n",
       "      <td>1</td>\n",
       "      <td>0</td>\n",
       "      <td>0</td>\n",
       "      <td>1</td>\n",
       "      <td>0</td>\n",
       "      <td>1</td>\n",
       "      <td>0</td>\n",
       "      <td>0</td>\n",
       "      <td>0</td>\n",
       "      <td>0</td>\n",
       "      <td>0</td>\n",
       "    </tr>\n",
       "    <tr>\n",
       "      <th>4</th>\n",
       "      <td>198</td>\n",
       "      <td>33</td>\n",
       "      <td>1</td>\n",
       "      <td>0</td>\n",
       "      <td>0</td>\n",
       "      <td>1</td>\n",
       "      <td>0</td>\n",
       "      <td>0</td>\n",
       "      <td>1</td>\n",
       "      <td>0</td>\n",
       "      <td>1</td>\n",
       "      <td>1</td>\n",
       "      <td>0</td>\n",
       "      <td>0</td>\n",
       "      <td>0</td>\n",
       "      <td>0</td>\n",
       "      <td>0</td>\n",
       "    </tr>\n",
       "    <tr>\n",
       "      <th>5</th>\n",
       "      <td>139</td>\n",
       "      <td>35</td>\n",
       "      <td>1</td>\n",
       "      <td>0</td>\n",
       "      <td>0</td>\n",
       "      <td>231</td>\n",
       "      <td>0</td>\n",
       "      <td>1</td>\n",
       "      <td>0</td>\n",
       "      <td>1</td>\n",
       "      <td>0</td>\n",
       "      <td>1</td>\n",
       "      <td>0</td>\n",
       "      <td>0</td>\n",
       "      <td>0</td>\n",
       "      <td>0</td>\n",
       "      <td>0</td>\n",
       "    </tr>\n",
       "    <tr>\n",
       "      <th>6</th>\n",
       "      <td>217</td>\n",
       "      <td>28</td>\n",
       "      <td>1</td>\n",
       "      <td>0</td>\n",
       "      <td>0</td>\n",
       "      <td>447</td>\n",
       "      <td>0</td>\n",
       "      <td>1</td>\n",
       "      <td>0</td>\n",
       "      <td>1</td>\n",
       "      <td>0</td>\n",
       "      <td>1</td>\n",
       "      <td>0</td>\n",
       "      <td>0</td>\n",
       "      <td>0</td>\n",
       "      <td>0</td>\n",
       "      <td>0</td>\n",
       "    </tr>\n",
       "    <tr>\n",
       "      <th>7</th>\n",
       "      <td>380</td>\n",
       "      <td>42</td>\n",
       "      <td>1</td>\n",
       "      <td>0</td>\n",
       "      <td>0</td>\n",
       "      <td>2</td>\n",
       "      <td>1</td>\n",
       "      <td>0</td>\n",
       "      <td>0</td>\n",
       "      <td>1</td>\n",
       "      <td>0</td>\n",
       "      <td>1</td>\n",
       "      <td>0</td>\n",
       "      <td>0</td>\n",
       "      <td>0</td>\n",
       "      <td>0</td>\n",
       "      <td>0</td>\n",
       "    </tr>\n",
       "    <tr>\n",
       "      <th>8</th>\n",
       "      <td>50</td>\n",
       "      <td>58</td>\n",
       "      <td>1</td>\n",
       "      <td>0</td>\n",
       "      <td>0</td>\n",
       "      <td>121</td>\n",
       "      <td>0</td>\n",
       "      <td>1</td>\n",
       "      <td>0</td>\n",
       "      <td>1</td>\n",
       "      <td>0</td>\n",
       "      <td>1</td>\n",
       "      <td>0</td>\n",
       "      <td>0</td>\n",
       "      <td>0</td>\n",
       "      <td>0</td>\n",
       "      <td>0</td>\n",
       "    </tr>\n",
       "    <tr>\n",
       "      <th>9</th>\n",
       "      <td>55</td>\n",
       "      <td>43</td>\n",
       "      <td>1</td>\n",
       "      <td>0</td>\n",
       "      <td>0</td>\n",
       "      <td>593</td>\n",
       "      <td>1</td>\n",
       "      <td>0</td>\n",
       "      <td>0</td>\n",
       "      <td>1</td>\n",
       "      <td>0</td>\n",
       "      <td>1</td>\n",
       "      <td>0</td>\n",
       "      <td>0</td>\n",
       "      <td>0</td>\n",
       "      <td>0</td>\n",
       "      <td>0</td>\n",
       "    </tr>\n",
       "  </tbody>\n",
       "</table>\n",
       "</div>"
      ],
      "text/plain": [
       "   duration  age  year_2008  year_2009  year_2010  balance  \\\n",
       "0       261   58          1          0          0     2143   \n",
       "1       151   44          1          0          0       29   \n",
       "2        76   33          1          0          0        2   \n",
       "3        92   47          1          0          0     1506   \n",
       "4       198   33          1          0          0        1   \n",
       "5       139   35          1          0          0      231   \n",
       "6       217   28          1          0          0      447   \n",
       "7       380   42          1          0          0        2   \n",
       "8        50   58          1          0          0      121   \n",
       "9        55   43          1          0          0      593   \n",
       "\n",
       "   job_encode_negative  job_encode_positive  job_encode_unknown  housing_yes  \\\n",
       "0                    0                    1                   0            1   \n",
       "1                    1                    0                   0            1   \n",
       "2                    1                    0                   0            1   \n",
       "3                    1                    0                   0            1   \n",
       "4                    0                    0                   1            0   \n",
       "5                    0                    1                   0            1   \n",
       "6                    0                    1                   0            1   \n",
       "7                    1                    0                   0            1   \n",
       "8                    0                    1                   0            1   \n",
       "9                    1                    0                   0            1   \n",
       "\n",
       "   housing_no  contact_unknown  contact_telephone  contact_cellular  \\\n",
       "0           0                1                  0                 0   \n",
       "1           0                1                  0                 0   \n",
       "2           0                1                  0                 0   \n",
       "3           0                1                  0                 0   \n",
       "4           1                1                  0                 0   \n",
       "5           0                1                  0                 0   \n",
       "6           0                1                  0                 0   \n",
       "7           0                1                  0                 0   \n",
       "8           0                1                  0                 0   \n",
       "9           0                1                  0                 0   \n",
       "\n",
       "   Encode-date_2008_10  Encode-date_2009_1_2_4_5  Encode-date_2009_6_7_8  \n",
       "0                    0                         0                       0  \n",
       "1                    0                         0                       0  \n",
       "2                    0                         0                       0  \n",
       "3                    0                         0                       0  \n",
       "4                    0                         0                       0  \n",
       "5                    0                         0                       0  \n",
       "6                    0                         0                       0  \n",
       "7                    0                         0                       0  \n",
       "8                    0                         0                       0  \n",
       "9                    0                         0                       0  "
      ]
     },
     "execution_count": 267,
     "metadata": {},
     "output_type": "execute_result"
    }
   ],
   "source": [
    "X.drop(columns = ['pdays_0-143', 'pdays_-1'], inplace = True)\n",
    "X.head(10)"
   ]
  },
  {
   "cell_type": "code",
   "execution_count": 268,
   "metadata": {
    "hidden": true
   },
   "outputs": [],
   "source": [
    "X['pdays_0-143'] = data['pdays'].apply(lambda x: 1 if x >= 0 and x < 143 else 0)\n",
    "X['pdays_0-143_year_2010_housing_no_contact_cellular'] = X['pdays_0-143'] * X['year_2010'] * \\\n",
    "                                                         X['contact_cellular'] * X['housing_no']"
   ]
  },
  {
   "cell_type": "code",
   "execution_count": 269,
   "metadata": {
    "code_folding": [
     0
    ],
    "hidden": true
   },
   "outputs": [
    {
     "name": "stdout",
     "output_type": "stream",
     "text": [
      "number of yes in train 4232, in test 1057, in predict 1490, mcc score is 0.5788\n",
      "number of yes in train 4242, in test 1047, in predict 1513, mcc score is 0.5591\n",
      "number of yes in train 4149, in test 1140, in predict 1537, mcc score is 0.5972\n",
      "number of yes in train 4264, in test 1025, in predict 1492, mcc score is 0.5685\n",
      "number of yes in train 4269, in test 1020, in predict 1491, mcc score is 0.5792\n",
      "mean score 0.5765\n"
     ]
    }
   ],
   "source": [
    "# rft {'cls_weasight': {0: 1, 1: 3}, 'criterion': 'gini', 'max_depth': 15, 'min_samples_leaf': 10, 'n_estimators': 100}\n",
    "para = {'class_weight': {0: 1, 1: 3},\n",
    "        'criterion': 'gini', \n",
    "        'max_depth': 15,\n",
    "        'min_samples_leaf': 10,\n",
    "        'n_estimators': 100}\n",
    "rftree = RandomForestClassifier(**para)\n",
    "kf = KFold(n_splits=5, shuffle = True, random_state = 123)\n",
    "\n",
    "score_array = np.zeros(5)\n",
    "for (ii, (train_index, test_index)) in enumerate(kf.split(X, y)):\n",
    "#     print(\"TRAIN:\", train_index, \"TEST:\", test_index)\n",
    "    X_train, X_test = X.loc[train_index], X.loc[test_index]\n",
    "    y_train, y_test = y.iloc[train_index], y.iloc[test_index]\n",
    "    rftree.fit(X_train, y_train)\n",
    "    y_predict = rftree.predict(X_test)\n",
    "    myscore = matthews_corrcoef(y_test, y_predict)\n",
    "    score_array[ii] = myscore\n",
    "    print(\"number of yes in train {:d}, in test {:d}, in predict {:d}, mcc score is {:.4f}\".format(y_train.value_counts()[1],\\\n",
    "                                                                                                  y_test.value_counts()[1],\\\n",
    "                                                                                                  sum(y_predict),\\\n",
    "                                                                                                  myscore))\n",
    "print(\"mean score {:.4f}\".format(np.mean(score_array)))"
   ]
  },
  {
   "cell_type": "code",
   "execution_count": 270,
   "metadata": {
    "hidden": true
   },
   "outputs": [
    {
     "data": {
      "text/plain": [
       "array([[7314,  708],\n",
       "       [ 237,  783]], dtype=int64)"
      ]
     },
     "execution_count": 270,
     "metadata": {},
     "output_type": "execute_result"
    }
   ],
   "source": [
    "confusion_matrix(y_test, y_predict)"
   ]
  },
  {
   "cell_type": "markdown",
   "metadata": {
    "hidden": true
   },
   "source": [
    "效果依然不太好， 如果我们用pdays替换其他特征会如何呢？"
   ]
  },
  {
   "cell_type": "code",
   "execution_count": 272,
   "metadata": {
    "collapsed": true,
    "hidden": true
   },
   "outputs": [
    {
     "name": "stderr",
     "output_type": "stream",
     "text": [
      "E:\\anaconda\\envs\\py36\\lib\\site-packages\\ipykernel_launcher.py:2: SettingWithCopyWarning: \n",
      "A value is trying to be set on a copy of a slice from a DataFrame.\n",
      "Try using .loc[row_indexer,col_indexer] = value instead\n",
      "\n",
      "See the caveats in the documentation: https://pandas.pydata.org/pandas-docs/stable/user_guide/indexing.html#returning-a-view-versus-a-copy\n",
      "  \n",
      "E:\\anaconda\\envs\\py36\\lib\\site-packages\\ipykernel_launcher.py:3: SettingWithCopyWarning: \n",
      "A value is trying to be set on a copy of a slice from a DataFrame.\n",
      "Try using .loc[row_indexer,col_indexer] = value instead\n",
      "\n",
      "See the caveats in the documentation: https://pandas.pydata.org/pandas-docs/stable/user_guide/indexing.html#returning-a-view-versus-a-copy\n",
      "  This is separate from the ipykernel package so we can avoid doing imports until\n",
      "E:\\anaconda\\envs\\py36\\lib\\site-packages\\ipykernel_launcher.py:4: SettingWithCopyWarning: \n",
      "A value is trying to be set on a copy of a slice from a DataFrame.\n",
      "Try using .loc[row_indexer,col_indexer] = value instead\n",
      "\n",
      "See the caveats in the documentation: https://pandas.pydata.org/pandas-docs/stable/user_guide/indexing.html#returning-a-view-versus-a-copy\n",
      "  after removing the cwd from sys.path.\n"
     ]
    }
   ],
   "source": [
    "newX = X[[col for col in X.columns if 'job' not in col.split('_')]]\n",
    "newX['pdays_-1'] = data['pdays'].apply(lambda x: 1 if x == -1.0 else 0)\n",
    "newX['pdays_0-143'] = data['pdays'].apply(lambda x: 1 if x >= 0 and x < 143 else 0)\n",
    "newX['pdays_143-282'] = data['pdays'].apply(lambda x: 1 if x >= 143 and x < 282 else 0)\n",
    "newX['pdays_282-427'] = data['pdays'].apply(lambda x: 1 if x >= 282 and x < 427 else 0)"
   ]
  },
  {
   "cell_type": "code",
   "execution_count": 274,
   "metadata": {
    "code_folding": [
     0
    ],
    "hidden": true
   },
   "outputs": [
    {
     "name": "stdout",
     "output_type": "stream",
     "text": [
      "number of yes in train 4232, in test 1057, in predict 1496, mcc score is 0.5735\n",
      "number of yes in train 4242, in test 1047, in predict 1513, mcc score is 0.5545\n",
      "number of yes in train 4149, in test 1140, in predict 1563, mcc score is 0.5965\n",
      "number of yes in train 4264, in test 1025, in predict 1507, mcc score is 0.5711\n",
      "number of yes in train 4269, in test 1020, in predict 1491, mcc score is 0.5848\n",
      "mean score 0.5761\n"
     ]
    }
   ],
   "source": [
    "# rft {'cls_weasight': {0: 1, 1: 3}, 'criterion': 'gini', 'max_depth': 15, 'min_samples_leaf': 10, 'n_estimators': 100}\n",
    "para = {'class_weight': {0: 1, 1: 3},\n",
    "        'criterion': 'gini', \n",
    "        'max_depth': 15,\n",
    "        'min_samples_leaf': 10,\n",
    "        'n_estimators': 100}\n",
    "rftree = RandomForestClassifier(**para)\n",
    "kf = KFold(n_splits=5, shuffle = True, random_state = 123)\n",
    "\n",
    "score_array = np.zeros(5)\n",
    "for (ii, (train_index, test_index)) in enumerate(kf.split(newX, y)):\n",
    "#     print(\"TRAIN:\", train_index, \"TEST:\", test_index)\n",
    "    X_train, X_test = newX.loc[train_index], newX.loc[test_index]\n",
    "    y_train, y_test = y.iloc[train_index], y.iloc[test_index]\n",
    "    rftree.fit(X_train, y_train)\n",
    "    y_predict = rftree.predict(X_test)\n",
    "    myscore = matthews_corrcoef(y_test, y_predict)\n",
    "    score_array[ii] = myscore\n",
    "    print(\"number of yes in train {:d}, in test {:d}, in predict {:d}, mcc score is {:.4f}\".format(y_train.value_counts()[1],\\\n",
    "                                                                                                  y_test.value_counts()[1],\\\n",
    "                                                                                                  sum(y_predict),\\\n",
    "                                                                                                  myscore))\n",
    "print(\"mean score {:.4f}\".format(np.mean(score_array)))"
   ]
  },
  {
   "cell_type": "markdown",
   "metadata": {
    "hidden": true
   },
   "source": [
    "效果仍然很不好"
   ]
  },
  {
   "cell_type": "code",
   "execution_count": 276,
   "metadata": {
    "hidden": true
   },
   "outputs": [],
   "source": [
    "X.drop(columns = ['pdays_0-143_year_2010_housing_no_contact_cellular'], inplace = True)"
   ]
  },
  {
   "cell_type": "code",
   "execution_count": 277,
   "metadata": {
    "hidden": true
   },
   "outputs": [
    {
     "data": {
      "text/plain": [
       "Index(['duration', 'age', 'year_2008', 'year_2009', 'year_2010', 'balance',\n",
       "       'job_encode_negative', 'job_encode_positive', 'job_encode_unknown',\n",
       "       'housing_yes', 'housing_no', 'contact_unknown', 'contact_telephone',\n",
       "       'contact_cellular', 'Encode-date_2008_10', 'Encode-date_2009_1_2_4_5',\n",
       "       'Encode-date_2009_6_7_8', 'pdays_0-143'],\n",
       "      dtype='object')"
      ]
     },
     "execution_count": 277,
     "metadata": {},
     "output_type": "execute_result"
    }
   ],
   "source": [
    "X.columns"
   ]
  },
  {
   "cell_type": "markdown",
   "metadata": {
    "heading_collapsed": true
   },
   "source": [
    "## 猜想十三\n",
    "\n",
    "previous 和 campaign有点不同\n",
    "\n",
    "campaign是描述在本次市场营销活动下与某位客户联系了多少次\n",
    "\n",
    "previous似乎在本次市场营销活动之前，与某位顾客联系了多少次\n",
    "\n",
    "直接加入previous 0.57\n",
    "\n",
    "把previous分为0和非0也是0.57"
   ]
  },
  {
   "cell_type": "code",
   "execution_count": 279,
   "metadata": {
    "hidden": true
   },
   "outputs": [
    {
     "data": {
      "text/html": [
       "<div>\n",
       "<style scoped>\n",
       "    .dataframe tbody tr th:only-of-type {\n",
       "        vertical-align: middle;\n",
       "    }\n",
       "\n",
       "    .dataframe tbody tr th {\n",
       "        vertical-align: top;\n",
       "    }\n",
       "\n",
       "    .dataframe thead th {\n",
       "        text-align: right;\n",
       "    }\n",
       "</style>\n",
       "<table border=\"1\" class=\"dataframe\">\n",
       "  <thead>\n",
       "    <tr style=\"text-align: right;\">\n",
       "      <th></th>\n",
       "      <th>previous</th>\n",
       "      <th>campaign</th>\n",
       "    </tr>\n",
       "  </thead>\n",
       "  <tbody>\n",
       "    <tr>\n",
       "      <th>count</th>\n",
       "      <td>45211.000000</td>\n",
       "      <td>45211.000000</td>\n",
       "    </tr>\n",
       "    <tr>\n",
       "      <th>mean</th>\n",
       "      <td>0.580323</td>\n",
       "      <td>2.763841</td>\n",
       "    </tr>\n",
       "    <tr>\n",
       "      <th>std</th>\n",
       "      <td>2.303441</td>\n",
       "      <td>3.098021</td>\n",
       "    </tr>\n",
       "    <tr>\n",
       "      <th>min</th>\n",
       "      <td>0.000000</td>\n",
       "      <td>1.000000</td>\n",
       "    </tr>\n",
       "    <tr>\n",
       "      <th>25%</th>\n",
       "      <td>0.000000</td>\n",
       "      <td>1.000000</td>\n",
       "    </tr>\n",
       "    <tr>\n",
       "      <th>50%</th>\n",
       "      <td>0.000000</td>\n",
       "      <td>2.000000</td>\n",
       "    </tr>\n",
       "    <tr>\n",
       "      <th>75%</th>\n",
       "      <td>0.000000</td>\n",
       "      <td>3.000000</td>\n",
       "    </tr>\n",
       "    <tr>\n",
       "      <th>max</th>\n",
       "      <td>275.000000</td>\n",
       "      <td>63.000000</td>\n",
       "    </tr>\n",
       "  </tbody>\n",
       "</table>\n",
       "</div>"
      ],
      "text/plain": [
       "           previous      campaign\n",
       "count  45211.000000  45211.000000\n",
       "mean       0.580323      2.763841\n",
       "std        2.303441      3.098021\n",
       "min        0.000000      1.000000\n",
       "25%        0.000000      1.000000\n",
       "50%        0.000000      2.000000\n",
       "75%        0.000000      3.000000\n",
       "max      275.000000     63.000000"
      ]
     },
     "execution_count": 279,
     "metadata": {},
     "output_type": "execute_result"
    }
   ],
   "source": [
    "data[['previous', 'campaign']].describe()"
   ]
  },
  {
   "cell_type": "code",
   "execution_count": 288,
   "metadata": {
    "hidden": true
   },
   "outputs": [
    {
     "data": {
      "text/plain": [
       "0.25    1.0\n",
       "0.50    2.0\n",
       "0.75    4.0\n",
       "Name: previous, dtype: float64"
      ]
     },
     "execution_count": 288,
     "metadata": {},
     "output_type": "execute_result"
    }
   ],
   "source": [
    "data[ data['previous'] > 0]['previous'].quantile([0.25, 0.5, 0.75])"
   ]
  },
  {
   "cell_type": "code",
   "execution_count": 290,
   "metadata": {
    "hidden": true
   },
   "outputs": [
    {
     "name": "stdout",
     "output_type": "stream",
     "text": [
      "prob 0.091573, denominator36954\n"
     ]
    }
   ],
   "source": [
    "index = (data['previous'] == 0)\n",
    "print(\"prob {:f}, denominator{:d}\".format(sum(y[index]) / len(y[index]), len(y[index])))"
   ]
  },
  {
   "cell_type": "code",
   "execution_count": 291,
   "metadata": {
    "hidden": true
   },
   "outputs": [
    {
     "name": "stdout",
     "output_type": "stream",
     "text": [
      "prob 0.210317, denominator2772\n"
     ]
    }
   ],
   "source": [
    "index = (data['previous'] <= 1) & (data['previous'] > 0)\n",
    "print(\"prob {:f}, denominator{:d}\".format(sum(y[index]) / len(y[index]), len(y[index])))"
   ]
  },
  {
   "cell_type": "code",
   "execution_count": 292,
   "metadata": {
    "hidden": true
   },
   "outputs": [
    {
     "name": "stdout",
     "output_type": "stream",
     "text": [
      "prob 0.216524, denominator2106\n"
     ]
    }
   ],
   "source": [
    "index = (data['previous'] <= 2) & (data['previous'] > 1)\n",
    "print(\"prob {:f}, denominator{:d}\".format(sum(y[index]) / len(y[index]), len(y[index])))"
   ]
  },
  {
   "cell_type": "code",
   "execution_count": 293,
   "metadata": {
    "hidden": true
   },
   "outputs": [
    {
     "name": "stdout",
     "output_type": "stream",
     "text": [
      "prob 0.250539, denominator1856\n"
     ]
    }
   ],
   "source": [
    "index = (data['previous'] <= 4) & (data['previous'] > 2)\n",
    "print(\"prob {:f}, denominator{:d}\".format(sum(y[index]) / len(y[index]), len(y[index])))"
   ]
  },
  {
   "cell_type": "code",
   "execution_count": 294,
   "metadata": {
    "hidden": true
   },
   "outputs": [
    {
     "name": "stdout",
     "output_type": "stream",
     "text": [
      "prob 0.263296, denominator1523\n"
     ]
    }
   ],
   "source": [
    "index = (data['previous'] > 4)\n",
    "print(\"prob {:f}, denominator{:d}\".format(sum(y[index]) / len(y[index]), len(y[index])))"
   ]
  },
  {
   "cell_type": "code",
   "execution_count": 300,
   "metadata": {
    "hidden": true
   },
   "outputs": [],
   "source": [
    "X['previous'] = data['previous']"
   ]
  },
  {
   "cell_type": "code",
   "execution_count": 301,
   "metadata": {
    "code_folding": [
     0
    ],
    "hidden": true
   },
   "outputs": [
    {
     "name": "stdout",
     "output_type": "stream",
     "text": [
      "number of yes in train 4232, in test 1057, in predict 1485, mcc score is 0.5746\n",
      "number of yes in train 4242, in test 1047, in predict 1481, mcc score is 0.5562\n",
      "number of yes in train 4149, in test 1140, in predict 1547, mcc score is 0.5980\n",
      "number of yes in train 4264, in test 1025, in predict 1465, mcc score is 0.5708\n",
      "number of yes in train 4269, in test 1020, in predict 1479, mcc score is 0.5748\n",
      "mean score 0.5749\n"
     ]
    }
   ],
   "source": [
    "# rft {'cls_weasight': {0: 1, 1: 3}, 'criterion': 'gini', 'max_depth': 15, 'min_samples_leaf': 10, 'n_estimators': 100}\n",
    "para = {'class_weight': {0: 1, 1: 3},\n",
    "        'criterion': 'gini', \n",
    "        'max_depth': 15,\n",
    "        'min_samples_leaf': 10,\n",
    "        'n_estimators': 100}\n",
    "rftree = RandomForestClassifier(**para)\n",
    "kf = KFold(n_splits=5, shuffle = True, random_state = 123)\n",
    "\n",
    "score_array = np.zeros(5)\n",
    "for (ii, (train_index, test_index)) in enumerate(kf.split(X, y)):\n",
    "#     print(\"TRAIN:\", train_index, \"TEST:\", test_index)\n",
    "    X_train, X_test = X.loc[train_index], X.loc[test_index]\n",
    "    y_train, y_test = y.iloc[train_index], y.iloc[test_index]\n",
    "    rftree.fit(X_train, y_train)\n",
    "    y_predict = rftree.predict(X_test)\n",
    "    myscore = matthews_corrcoef(y_test, y_predict)\n",
    "    score_array[ii] = myscore\n",
    "    print(\"number of yes in train {:d}, in test {:d}, in predict {:d}, mcc score is {:.4f}\".format(y_train.value_counts()[1],\\\n",
    "                                                                                                  y_test.value_counts()[1],\\\n",
    "                                                                                                  sum(y_predict),\\\n",
    "                                                                                                  myscore))\n",
    "print(\"mean score {:.4f}\".format(np.mean(score_array)))"
   ]
  },
  {
   "cell_type": "markdown",
   "metadata": {
    "hidden": true
   },
   "source": [
    "直接加入效果不太好，试试看把previous区分成为0和不为0"
   ]
  },
  {
   "cell_type": "code",
   "execution_count": 302,
   "metadata": {
    "hidden": true
   },
   "outputs": [],
   "source": [
    "X.drop(columns = ['previous'], inplace = True)"
   ]
  },
  {
   "cell_type": "code",
   "execution_count": 303,
   "metadata": {
    "hidden": true
   },
   "outputs": [],
   "source": [
    "X['previous_0'] = data['previous'].apply(lambda x: 1 if x == 0 else 1)\n",
    "X['previous_above0'] = data['previous'].apply(lambda x: 0 if x == 0 else 1)"
   ]
  },
  {
   "cell_type": "code",
   "execution_count": 305,
   "metadata": {
    "code_folding": [
     0
    ],
    "hidden": true
   },
   "outputs": [
    {
     "name": "stdout",
     "output_type": "stream",
     "text": [
      "number of yes in train 4232, in test 1057, in predict 1474, mcc score is 0.5765\n",
      "number of yes in train 4242, in test 1047, in predict 1490, mcc score is 0.5538\n",
      "number of yes in train 4149, in test 1140, in predict 1568, mcc score is 0.5943\n",
      "number of yes in train 4264, in test 1025, in predict 1492, mcc score is 0.5722\n",
      "number of yes in train 4269, in test 1020, in predict 1500, mcc score is 0.5825\n",
      "mean score 0.5759\n"
     ]
    }
   ],
   "source": [
    "# rft {'cls_weasight': {0: 1, 1: 3}, 'criterion': 'gini', 'max_depth': 15, 'min_samples_leaf': 10, 'n_estimators': 100}\n",
    "para = {'class_weight': {0: 1, 1: 3},\n",
    "        'criterion': 'gini', \n",
    "        'max_depth': 15,\n",
    "        'min_samples_leaf': 10,\n",
    "        'n_estimators': 100}\n",
    "rftree = RandomForestClassifier(**para)\n",
    "kf = KFold(n_splits=5, shuffle = True, random_state = 123)\n",
    "\n",
    "score_array = np.zeros(5)\n",
    "for (ii, (train_index, test_index)) in enumerate(kf.split(X, y)):\n",
    "#     print(\"TRAIN:\", train_index, \"TEST:\", test_index)\n",
    "    X_train, X_test = X.loc[train_index], X.loc[test_index]\n",
    "    y_train, y_test = y.iloc[train_index], y.iloc[test_index]\n",
    "    rftree.fit(X_train, y_train)\n",
    "    y_predict = rftree.predict(X_test)\n",
    "    myscore = matthews_corrcoef(y_test, y_predict)\n",
    "    score_array[ii] = myscore\n",
    "    print(\"number of yes in train {:d}, in test {:d}, in predict {:d}, mcc score is {:.4f}\".format(y_train.value_counts()[1],\\\n",
    "                                                                                                  y_test.value_counts()[1],\\\n",
    "                                                                                                  sum(y_predict),\\\n",
    "                                                                                                  myscore))\n",
    "print(\"mean score {:.4f}\".format(np.mean(score_array)))"
   ]
  },
  {
   "cell_type": "code",
   "execution_count": 309,
   "metadata": {
    "hidden": true
   },
   "outputs": [],
   "source": [
    "X.drop(columns = ['previous_0', 'previous_above0'], inplace = True)"
   ]
  },
  {
   "cell_type": "markdown",
   "metadata": {},
   "source": [
    "## 猜想十四\n",
    "\n",
    "poutcome\n",
    "\n",
    "单独给success编码，能到0.5842"
   ]
  },
  {
   "cell_type": "code",
   "execution_count": 310,
   "metadata": {},
   "outputs": [
    {
     "name": "stdout",
     "output_type": "stream",
     "text": [
      "unknown, prob 0.091615, denominator36959\n",
      "other, prob 0.166848, denominator1840\n",
      "failure, prob 0.126097, denominator4901\n",
      "success, prob 0.647253, denominator1511\n"
     ]
    }
   ],
   "source": [
    "# \"unknown\",\"other\",\"failure\",\"success\"\n",
    "index = (data['poutcome'] == \"unknown\")\n",
    "print(\"unknown, \"+\"prob {:f}, denominator{:d}\".format(sum(y[index]) / len(y[index]), len(y[index])))\n",
    "index = (data['poutcome'] == \"other\")\n",
    "print(\"other, \"+\"prob {:f}, denominator{:d}\".format(sum(y[index]) / len(y[index]), len(y[index])))\n",
    "index = (data['poutcome'] == \"failure\")\n",
    "print(\"failure, \"+\"prob {:f}, denominator{:d}\".format(sum(y[index]) / len(y[index]), len(y[index])))\n",
    "index = (data['poutcome'] == \"success\")\n",
    "print(\"success, \"+\"prob {:f}, denominator{:d}\".format(sum(y[index]) / len(y[index]), len(y[index])))"
   ]
  },
  {
   "cell_type": "code",
   "execution_count": 311,
   "metadata": {},
   "outputs": [],
   "source": [
    "X['poutcome_success'] = data['poutcome'].apply(lambda x: 1 if x == 'success' else 0)"
   ]
  },
  {
   "cell_type": "code",
   "execution_count": 312,
   "metadata": {},
   "outputs": [
    {
     "data": {
      "text/plain": [
       "Index(['duration', 'age', 'year_2008', 'year_2009', 'year_2010', 'balance',\n",
       "       'job_encode_negative', 'job_encode_positive', 'job_encode_unknown',\n",
       "       'housing_yes', 'housing_no', 'contact_unknown', 'contact_telephone',\n",
       "       'contact_cellular', 'Encode-date_2008_10', 'Encode-date_2009_1_2_4_5',\n",
       "       'Encode-date_2009_6_7_8', 'pdays_0-143', 'poutcome_success'],\n",
       "      dtype='object')"
      ]
     },
     "execution_count": 312,
     "metadata": {},
     "output_type": "execute_result"
    }
   ],
   "source": [
    "X.columns"
   ]
  },
  {
   "cell_type": "code",
   "execution_count": 313,
   "metadata": {
    "code_folding": [
     0
    ]
   },
   "outputs": [
    {
     "name": "stdout",
     "output_type": "stream",
     "text": [
      "number of yes in train 4232, in test 1057, in predict 1472, mcc score is 0.5864\n",
      "number of yes in train 4242, in test 1047, in predict 1488, mcc score is 0.5637\n",
      "number of yes in train 4149, in test 1140, in predict 1561, mcc score is 0.6023\n",
      "number of yes in train 4264, in test 1025, in predict 1494, mcc score is 0.5811\n",
      "number of yes in train 4269, in test 1020, in predict 1485, mcc score is 0.5874\n",
      "mean score 0.5842\n"
     ]
    }
   ],
   "source": [
    "# rft {'cls_weasight': {0: 1, 1: 3}, 'criterion': 'gini', 'max_depth': 15, 'min_samples_leaf': 10, 'n_estimators': 100}\n",
    "para = {'class_weight': {0: 1, 1: 3},\n",
    "        'criterion': 'gini', \n",
    "        'max_depth': 15,\n",
    "        'min_samples_leaf': 10,\n",
    "        'n_estimators': 100}\n",
    "rftree = RandomForestClassifier(**para)\n",
    "kf = KFold(n_splits=5, shuffle = True, random_state = 123)\n",
    "\n",
    "score_array = np.zeros(5)\n",
    "for (ii, (train_index, test_index)) in enumerate(kf.split(X, y)):\n",
    "#     print(\"TRAIN:\", train_index, \"TEST:\", test_index)\n",
    "    X_train, X_test = X.loc[train_index], X.loc[test_index]\n",
    "    y_train, y_test = y.iloc[train_index], y.iloc[test_index]\n",
    "    rftree.fit(X_train, y_train)\n",
    "    y_predict = rftree.predict(X_test)\n",
    "    myscore = matthews_corrcoef(y_test, y_predict)\n",
    "    score_array[ii] = myscore\n",
    "    print(\"number of yes in train {:d}, in test {:d}, in predict {:d}, mcc score is {:.4f}\".format(y_train.value_counts()[1],\\\n",
    "                                                                                                  y_test.value_counts()[1],\\\n",
    "                                                                                                  sum(y_predict),\\\n",
    "                                                                                                  myscore))\n",
    "print(\"mean score {:.4f}\".format(np.mean(score_array)))"
   ]
  },
  {
   "cell_type": "code",
   "execution_count": 314,
   "metadata": {},
   "outputs": [],
   "source": [
    "X.drop(columns = ['poutcome_success'], inplace = True)"
   ]
  },
  {
   "cell_type": "markdown",
   "metadata": {},
   "source": [
    "试试全部编码"
   ]
  },
  {
   "cell_type": "code",
   "execution_count": 316,
   "metadata": {},
   "outputs": [],
   "source": [
    "X['poutcome'] = data['poutcome']\n",
    "X = pd.get_dummies(X, columns = ['poutcome'])"
   ]
  },
  {
   "cell_type": "code",
   "execution_count": 318,
   "metadata": {
    "code_folding": [
     0
    ]
   },
   "outputs": [
    {
     "name": "stdout",
     "output_type": "stream",
     "text": [
      "number of yes in train 4232, in test 1057, in predict 1464, mcc score is 0.5886\n",
      "number of yes in train 4242, in test 1047, in predict 1508, mcc score is 0.5669\n",
      "number of yes in train 4149, in test 1140, in predict 1543, mcc score is 0.6026\n",
      "number of yes in train 4264, in test 1025, in predict 1483, mcc score is 0.5802\n",
      "number of yes in train 4269, in test 1020, in predict 1467, mcc score is 0.5770\n",
      "mean score 0.5831\n"
     ]
    }
   ],
   "source": [
    "# rft {'cls_weasight': {0: 1, 1: 3}, 'criterion': 'gini', 'max_depth': 15, 'min_samples_leaf': 10, 'n_estimators': 100}\n",
    "para = {'class_weight': {0: 1, 1: 3},\n",
    "        'criterion': 'gini', \n",
    "        'max_depth': 15,\n",
    "        'min_samples_leaf': 10,\n",
    "        'n_estimators': 100}\n",
    "rftree = RandomForestClassifier(**para)\n",
    "kf = KFold(n_splits=5, shuffle = True, random_state = 123)\n",
    "\n",
    "score_array = np.zeros(5)\n",
    "for (ii, (train_index, test_index)) in enumerate(kf.split(X, y)):\n",
    "#     print(\"TRAIN:\", train_index, \"TEST:\", test_index)\n",
    "    X_train, X_test = X.loc[train_index], X.loc[test_index]\n",
    "    y_train, y_test = y.iloc[train_index], y.iloc[test_index]\n",
    "    rftree.fit(X_train, y_train)\n",
    "    y_predict = rftree.predict(X_test)\n",
    "    myscore = matthews_corrcoef(y_test, y_predict)\n",
    "    score_array[ii] = myscore\n",
    "    print(\"number of yes in train {:d}, in test {:d}, in predict {:d}, mcc score is {:.4f}\".format(y_train.value_counts()[1],\\\n",
    "                                                                                                  y_test.value_counts()[1],\\\n",
    "                                                                                                  sum(y_predict),\\\n",
    "                                                                                                  myscore))\n",
    "print(\"mean score {:.4f}\".format(np.mean(score_array)))"
   ]
  },
  {
   "cell_type": "markdown",
   "metadata": {},
   "source": [
    "差别不大，那还是用回单独给success编码"
   ]
  },
  {
   "cell_type": "code",
   "execution_count": 319,
   "metadata": {},
   "outputs": [],
   "source": [
    "X.drop(columns = [col for col in X.columns if 'poutcome' in  col.split('_')], inplace = True)"
   ]
  },
  {
   "cell_type": "code",
   "execution_count": 320,
   "metadata": {},
   "outputs": [
    {
     "data": {
      "text/plain": [
       "Index(['duration', 'age', 'year_2008', 'year_2009', 'year_2010', 'balance',\n",
       "       'job_encode_negative', 'job_encode_positive', 'job_encode_unknown',\n",
       "       'housing_yes', 'housing_no', 'contact_unknown', 'contact_telephone',\n",
       "       'contact_cellular', 'Encode-date_2008_10', 'Encode-date_2009_1_2_4_5',\n",
       "       'Encode-date_2009_6_7_8', 'pdays_0-143'],\n",
       "      dtype='object')"
      ]
     },
     "execution_count": 320,
     "metadata": {},
     "output_type": "execute_result"
    }
   ],
   "source": [
    "X.columns"
   ]
  },
  {
   "cell_type": "code",
   "execution_count": 321,
   "metadata": {},
   "outputs": [],
   "source": [
    "X['poutcome_success'] = data['poutcome'].apply(lambda x: 1 if x == 'success' else 0)"
   ]
  },
  {
   "cell_type": "markdown",
   "metadata": {
    "heading_collapsed": true
   },
   "source": [
    "## 所有特征都搞了一遍，现在尝试用混合项进行提升"
   ]
  },
  {
   "cell_type": "code",
   "execution_count": 323,
   "metadata": {
    "hidden": true
   },
   "outputs": [],
   "source": [
    "for col in X.columns.drop(\"duration\"):\n",
    "    X['duration-' +  col] = X['duration'] * X[col]"
   ]
  },
  {
   "cell_type": "code",
   "execution_count": 324,
   "metadata": {
    "code_folding": [
     0
    ],
    "hidden": true
   },
   "outputs": [
    {
     "name": "stdout",
     "output_type": "stream",
     "text": [
      "number of yes in train 4232, in test 1057, in predict 1426, mcc score is 0.5849\n",
      "number of yes in train 4242, in test 1047, in predict 1446, mcc score is 0.5569\n",
      "number of yes in train 4149, in test 1140, in predict 1520, mcc score is 0.6124\n",
      "number of yes in train 4264, in test 1025, in predict 1465, mcc score is 0.5774\n",
      "number of yes in train 4269, in test 1020, in predict 1452, mcc score is 0.5915\n",
      "mean score 0.5846\n"
     ]
    }
   ],
   "source": [
    "# rft {'cls_weasight': {0: 1, 1: 3}, 'criterion': 'gini', 'max_depth': 15, 'min_samples_leaf': 10, 'n_estimators': 100}\n",
    "para = {'class_weight': {0: 1, 1: 3},\n",
    "        'criterion': 'gini', \n",
    "        'max_depth': 15,\n",
    "        'min_samples_leaf': 10,\n",
    "        'n_estimators': 100}\n",
    "rftree = RandomForestClassifier(**para)\n",
    "kf = KFold(n_splits=5, shuffle = True, random_state = 123)\n",
    "\n",
    "score_array = np.zeros(5)\n",
    "for (ii, (train_index, test_index)) in enumerate(kf.split(X, y)):\n",
    "#     print(\"TRAIN:\", train_index, \"TEST:\", test_index)\n",
    "    X_train, X_test = X.loc[train_index], X.loc[test_index]\n",
    "    y_train, y_test = y.iloc[train_index], y.iloc[test_index]\n",
    "    rftree.fit(X_train, y_train)\n",
    "    y_predict = rftree.predict(X_test)\n",
    "    myscore = matthews_corrcoef(y_test, y_predict)\n",
    "    score_array[ii] = myscore\n",
    "    print(\"number of yes in train {:d}, in test {:d}, in predict {:d}, mcc score is {:.4f}\".format(y_train.value_counts()[1],\\\n",
    "                                                                                                  y_test.value_counts()[1],\\\n",
    "                                                                                                  sum(y_predict),\\\n",
    "                                                                                                  myscore))\n",
    "print(\"mean score {:.4f}\".format(np.mean(score_array)))"
   ]
  },
  {
   "cell_type": "markdown",
   "metadata": {
    "hidden": true
   },
   "source": [
    "看来直接用duration生成交叉项效果并不好"
   ]
  },
  {
   "cell_type": "code",
   "execution_count": 325,
   "metadata": {
    "collapsed": true,
    "hidden": true
   },
   "outputs": [
    {
     "data": {
      "text/plain": [
       "Index(['duration', 'age', 'year_2008', 'year_2009', 'year_2010', 'balance',\n",
       "       'job_encode_negative', 'job_encode_positive', 'job_encode_unknown',\n",
       "       'housing_yes', 'housing_no', 'contact_unknown', 'contact_telephone',\n",
       "       'contact_cellular', 'Encode-date_2008_10', 'Encode-date_2009_1_2_4_5',\n",
       "       'Encode-date_2009_6_7_8', 'pdays_0-143', 'poutcome_success',\n",
       "       'duration-age', 'duration-year_2008', 'duration-year_2009',\n",
       "       'duration-year_2010', 'duration-balance',\n",
       "       'duration-job_encode_negative', 'duration-job_encode_positive',\n",
       "       'duration-job_encode_unknown', 'duration-housing_yes',\n",
       "       'duration-housing_no', 'duration-contact_unknown',\n",
       "       'duration-contact_telephone', 'duration-contact_cellular',\n",
       "       'duration-Encode-date_2008_10', 'duration-Encode-date_2009_1_2_4_5',\n",
       "       'duration-Encode-date_2009_6_7_8', 'duration-pdays_0-143',\n",
       "       'duration-poutcome_success'],\n",
       "      dtype='object')"
      ]
     },
     "execution_count": 325,
     "metadata": {},
     "output_type": "execute_result"
    }
   ],
   "source": [
    "X.columns"
   ]
  },
  {
   "cell_type": "code",
   "execution_count": 327,
   "metadata": {
    "hidden": true
   },
   "outputs": [],
   "source": [
    "X.drop(columns = [col for col in X.columns if len(col.split(\"-\"))>1 and col.split(\"-\")[0] == 'duration'], inplace = True)"
   ]
  },
  {
   "cell_type": "code",
   "execution_count": 328,
   "metadata": {
    "collapsed": true,
    "hidden": true
   },
   "outputs": [
    {
     "data": {
      "text/plain": [
       "Index(['duration', 'age', 'year_2008', 'year_2009', 'year_2010', 'balance',\n",
       "       'job_encode_negative', 'job_encode_positive', 'job_encode_unknown',\n",
       "       'housing_yes', 'housing_no', 'contact_unknown', 'contact_telephone',\n",
       "       'contact_cellular', 'Encode-date_2008_10', 'Encode-date_2009_1_2_4_5',\n",
       "       'Encode-date_2009_6_7_8', 'pdays_0-143', 'poutcome_success'],\n",
       "      dtype='object')"
      ]
     },
     "execution_count": 328,
     "metadata": {},
     "output_type": "execute_result"
    }
   ],
   "source": [
    "X.columns"
   ]
  },
  {
   "cell_type": "code",
   "execution_count": 329,
   "metadata": {
    "hidden": true
   },
   "outputs": [],
   "source": [
    "# cross term duration-age\n",
    "X['duration-age'] = X['duration'] * X['age']"
   ]
  },
  {
   "cell_type": "code",
   "execution_count": 331,
   "metadata": {
    "code_folding": [
     0
    ],
    "hidden": true
   },
   "outputs": [
    {
     "name": "stdout",
     "output_type": "stream",
     "text": [
      "number of yes in train 4232, in test 1057, in predict 1468, mcc score is 0.5837\n",
      "number of yes in train 4242, in test 1047, in predict 1470, mcc score is 0.5618\n",
      "number of yes in train 4149, in test 1140, in predict 1543, mcc score is 0.6026\n",
      "number of yes in train 4264, in test 1025, in predict 1474, mcc score is 0.5788\n",
      "number of yes in train 4269, in test 1020, in predict 1472, mcc score is 0.5785\n",
      "mean score 0.5811\n"
     ]
    }
   ],
   "source": [
    "# rft {'cls_weasight': {0: 1, 1: 3}, 'criterion': 'gini', 'max_depth': 15, 'min_samples_leaf': 10, 'n_estimators': 100}\n",
    "para = {'class_weight': {0: 1, 1: 3},\n",
    "        'criterion': 'gini', \n",
    "        'max_depth': 15,\n",
    "        'min_samples_leaf': 10,\n",
    "        'n_estimators': 100}\n",
    "rftree = RandomForestClassifier(**para)\n",
    "kf = KFold(n_splits=5, shuffle = True, random_state = 123)\n",
    "\n",
    "score_array = np.zeros(5)\n",
    "for (ii, (train_index, test_index)) in enumerate(kf.split(X, y)):\n",
    "#     print(\"TRAIN:\", train_index, \"TEST:\", test_index)\n",
    "    X_train, X_test = X.loc[train_index], X.loc[test_index]\n",
    "    y_train, y_test = y.iloc[train_index], y.iloc[test_index]\n",
    "    rftree.fit(X_train, y_train)\n",
    "    y_predict = rftree.predict(X_test)\n",
    "    myscore = matthews_corrcoef(y_test, y_predict)\n",
    "    score_array[ii] = myscore\n",
    "    print(\"number of yes in train {:d}, in test {:d}, in predict {:d}, mcc score is {:.4f}\".format(y_train.value_counts()[1],\\\n",
    "                                                                                                  y_test.value_counts()[1],\\\n",
    "                                                                                                  sum(y_predict),\\\n",
    "                                                                                                  myscore))\n",
    "print(\"mean score {:.4f}\".format(np.mean(score_array)))"
   ]
  },
  {
   "cell_type": "markdown",
   "metadata": {
    "hidden": true
   },
   "source": [
    "效果也不咋地"
   ]
  },
  {
   "cell_type": "code",
   "execution_count": 332,
   "metadata": {
    "hidden": true
   },
   "outputs": [],
   "source": [
    "X.drop(columns = ['duration-age'], inplace = True)"
   ]
  },
  {
   "cell_type": "code",
   "execution_count": 333,
   "metadata": {
    "code_folding": [
     0
    ],
    "collapsed": true,
    "hidden": true
   },
   "outputs": [
    {
     "name": "stdout",
     "output_type": "stream",
     "text": [
      "Fitting 3 folds for each of 72 candidates, totalling 216 fits\n",
      "[CV] END class_weight={0: 1, 1: 3}, criterion=gini, max_depth=5, max_samples=0.5, n_estimators=50; total time=   0.5s\n",
      "[CV] END class_weight={0: 1, 1: 3}, criterion=gini, max_depth=5, max_samples=0.5, n_estimators=50; total time=   0.5s\n",
      "[CV] END class_weight={0: 1, 1: 3}, criterion=gini, max_depth=5, max_samples=0.5, n_estimators=50; total time=   0.5s\n",
      "[CV] END class_weight={0: 1, 1: 3}, criterion=gini, max_depth=5, max_samples=0.5, n_estimators=100; total time=   1.1s\n",
      "[CV] END class_weight={0: 1, 1: 3}, criterion=gini, max_depth=5, max_samples=0.5, n_estimators=100; total time=   1.0s\n",
      "[CV] END class_weight={0: 1, 1: 3}, criterion=gini, max_depth=5, max_samples=0.5, n_estimators=100; total time=   1.1s\n",
      "[CV] END class_weight={0: 1, 1: 3}, criterion=gini, max_depth=5, max_samples=0.6, n_estimators=50; total time=   0.6s\n",
      "[CV] END class_weight={0: 1, 1: 3}, criterion=gini, max_depth=5, max_samples=0.6, n_estimators=50; total time=   0.5s\n",
      "[CV] END class_weight={0: 1, 1: 3}, criterion=gini, max_depth=5, max_samples=0.6, n_estimators=50; total time=   0.5s\n",
      "[CV] END class_weight={0: 1, 1: 3}, criterion=gini, max_depth=5, max_samples=0.6, n_estimators=100; total time=   1.1s\n",
      "[CV] END class_weight={0: 1, 1: 3}, criterion=gini, max_depth=5, max_samples=0.6, n_estimators=100; total time=   1.1s\n",
      "[CV] END class_weight={0: 1, 1: 3}, criterion=gini, max_depth=5, max_samples=0.6, n_estimators=100; total time=   1.1s\n",
      "[CV] END class_weight={0: 1, 1: 3}, criterion=gini, max_depth=5, max_samples=0.7, n_estimators=50; total time=   0.6s\n",
      "[CV] END class_weight={0: 1, 1: 3}, criterion=gini, max_depth=5, max_samples=0.7, n_estimators=50; total time=   0.6s\n",
      "[CV] END class_weight={0: 1, 1: 3}, criterion=gini, max_depth=5, max_samples=0.7, n_estimators=50; total time=   0.6s\n",
      "[CV] END class_weight={0: 1, 1: 3}, criterion=gini, max_depth=5, max_samples=0.7, n_estimators=100; total time=   1.2s\n",
      "[CV] END class_weight={0: 1, 1: 3}, criterion=gini, max_depth=5, max_samples=0.7, n_estimators=100; total time=   1.2s\n",
      "[CV] END class_weight={0: 1, 1: 3}, criterion=gini, max_depth=5, max_samples=0.7, n_estimators=100; total time=   1.2s\n",
      "[CV] END class_weight={0: 1, 1: 3}, criterion=gini, max_depth=5, max_samples=0.8, n_estimators=50; total time=   0.6s\n",
      "[CV] END class_weight={0: 1, 1: 3}, criterion=gini, max_depth=5, max_samples=0.8, n_estimators=50; total time=   0.6s\n",
      "[CV] END class_weight={0: 1, 1: 3}, criterion=gini, max_depth=5, max_samples=0.8, n_estimators=50; total time=   0.6s\n",
      "[CV] END class_weight={0: 1, 1: 3}, criterion=gini, max_depth=5, max_samples=0.8, n_estimators=100; total time=   1.2s\n",
      "[CV] END class_weight={0: 1, 1: 3}, criterion=gini, max_depth=5, max_samples=0.8, n_estimators=100; total time=   1.3s\n",
      "[CV] END class_weight={0: 1, 1: 3}, criterion=gini, max_depth=5, max_samples=0.8, n_estimators=100; total time=   1.2s\n",
      "[CV] END class_weight={0: 1, 1: 3}, criterion=gini, max_depth=10, max_samples=0.5, n_estimators=50; total time=   0.8s\n",
      "[CV] END class_weight={0: 1, 1: 3}, criterion=gini, max_depth=10, max_samples=0.5, n_estimators=50; total time=   0.8s\n",
      "[CV] END class_weight={0: 1, 1: 3}, criterion=gini, max_depth=10, max_samples=0.5, n_estimators=50; total time=   0.8s\n",
      "[CV] END class_weight={0: 1, 1: 3}, criterion=gini, max_depth=10, max_samples=0.5, n_estimators=100; total time=   1.6s\n",
      "[CV] END class_weight={0: 1, 1: 3}, criterion=gini, max_depth=10, max_samples=0.5, n_estimators=100; total time=   1.6s\n",
      "[CV] END class_weight={0: 1, 1: 3}, criterion=gini, max_depth=10, max_samples=0.5, n_estimators=100; total time=   1.6s\n",
      "[CV] END class_weight={0: 1, 1: 3}, criterion=gini, max_depth=10, max_samples=0.6, n_estimators=50; total time=   0.8s\n",
      "[CV] END class_weight={0: 1, 1: 3}, criterion=gini, max_depth=10, max_samples=0.6, n_estimators=50; total time=   0.8s\n",
      "[CV] END class_weight={0: 1, 1: 3}, criterion=gini, max_depth=10, max_samples=0.6, n_estimators=50; total time=   0.9s\n",
      "[CV] END class_weight={0: 1, 1: 3}, criterion=gini, max_depth=10, max_samples=0.6, n_estimators=100; total time=   1.7s\n",
      "[CV] END class_weight={0: 1, 1: 3}, criterion=gini, max_depth=10, max_samples=0.6, n_estimators=100; total time=   1.7s\n",
      "[CV] END class_weight={0: 1, 1: 3}, criterion=gini, max_depth=10, max_samples=0.6, n_estimators=100; total time=   1.8s\n",
      "[CV] END class_weight={0: 1, 1: 3}, criterion=gini, max_depth=10, max_samples=0.7, n_estimators=50; total time=   0.9s\n",
      "[CV] END class_weight={0: 1, 1: 3}, criterion=gini, max_depth=10, max_samples=0.7, n_estimators=50; total time=   0.9s\n",
      "[CV] END class_weight={0: 1, 1: 3}, criterion=gini, max_depth=10, max_samples=0.7, n_estimators=50; total time=   0.9s\n",
      "[CV] END class_weight={0: 1, 1: 3}, criterion=gini, max_depth=10, max_samples=0.7, n_estimators=100; total time=   1.9s\n",
      "[CV] END class_weight={0: 1, 1: 3}, criterion=gini, max_depth=10, max_samples=0.7, n_estimators=100; total time=   1.9s\n",
      "[CV] END class_weight={0: 1, 1: 3}, criterion=gini, max_depth=10, max_samples=0.7, n_estimators=100; total time=   1.9s\n",
      "[CV] END class_weight={0: 1, 1: 3}, criterion=gini, max_depth=10, max_samples=0.8, n_estimators=50; total time=   1.0s\n",
      "[CV] END class_weight={0: 1, 1: 3}, criterion=gini, max_depth=10, max_samples=0.8, n_estimators=50; total time=   1.0s\n",
      "[CV] END class_weight={0: 1, 1: 3}, criterion=gini, max_depth=10, max_samples=0.8, n_estimators=50; total time=   1.0s\n",
      "[CV] END class_weight={0: 1, 1: 3}, criterion=gini, max_depth=10, max_samples=0.8, n_estimators=100; total time=   2.0s\n",
      "[CV] END class_weight={0: 1, 1: 3}, criterion=gini, max_depth=10, max_samples=0.8, n_estimators=100; total time=   2.0s\n",
      "[CV] END class_weight={0: 1, 1: 3}, criterion=gini, max_depth=10, max_samples=0.8, n_estimators=100; total time=   2.0s\n",
      "[CV] END class_weight={0: 1, 1: 3}, criterion=gini, max_depth=15, max_samples=0.5, n_estimators=50; total time=   0.9s\n",
      "[CV] END class_weight={0: 1, 1: 3}, criterion=gini, max_depth=15, max_samples=0.5, n_estimators=50; total time=   0.9s\n",
      "[CV] END class_weight={0: 1, 1: 3}, criterion=gini, max_depth=15, max_samples=0.5, n_estimators=50; total time=   0.9s\n",
      "[CV] END class_weight={0: 1, 1: 3}, criterion=gini, max_depth=15, max_samples=0.5, n_estimators=100; total time=   1.9s\n",
      "[CV] END class_weight={0: 1, 1: 3}, criterion=gini, max_depth=15, max_samples=0.5, n_estimators=100; total time=   1.9s\n",
      "[CV] END class_weight={0: 1, 1: 3}, criterion=gini, max_depth=15, max_samples=0.5, n_estimators=100; total time=   1.9s\n",
      "[CV] END class_weight={0: 1, 1: 3}, criterion=gini, max_depth=15, max_samples=0.6, n_estimators=50; total time=   1.1s\n",
      "[CV] END class_weight={0: 1, 1: 3}, criterion=gini, max_depth=15, max_samples=0.6, n_estimators=50; total time=   1.0s\n",
      "[CV] END class_weight={0: 1, 1: 3}, criterion=gini, max_depth=15, max_samples=0.6, n_estimators=50; total time=   1.0s\n",
      "[CV] END class_weight={0: 1, 1: 3}, criterion=gini, max_depth=15, max_samples=0.6, n_estimators=100; total time=   2.1s\n",
      "[CV] END class_weight={0: 1, 1: 3}, criterion=gini, max_depth=15, max_samples=0.6, n_estimators=100; total time=   2.1s\n",
      "[CV] END class_weight={0: 1, 1: 3}, criterion=gini, max_depth=15, max_samples=0.6, n_estimators=100; total time=   2.1s\n",
      "[CV] END class_weight={0: 1, 1: 3}, criterion=gini, max_depth=15, max_samples=0.7, n_estimators=50; total time=   1.1s\n",
      "[CV] END class_weight={0: 1, 1: 3}, criterion=gini, max_depth=15, max_samples=0.7, n_estimators=50; total time=   1.1s\n",
      "[CV] END class_weight={0: 1, 1: 3}, criterion=gini, max_depth=15, max_samples=0.7, n_estimators=50; total time=   1.1s\n",
      "[CV] END class_weight={0: 1, 1: 3}, criterion=gini, max_depth=15, max_samples=0.7, n_estimators=100; total time=   2.3s\n",
      "[CV] END class_weight={0: 1, 1: 3}, criterion=gini, max_depth=15, max_samples=0.7, n_estimators=100; total time=   2.3s\n",
      "[CV] END class_weight={0: 1, 1: 3}, criterion=gini, max_depth=15, max_samples=0.7, n_estimators=100; total time=   2.3s\n",
      "[CV] END class_weight={0: 1, 1: 3}, criterion=gini, max_depth=15, max_samples=0.8, n_estimators=50; total time=   1.2s\n",
      "[CV] END class_weight={0: 1, 1: 3}, criterion=gini, max_depth=15, max_samples=0.8, n_estimators=50; total time=   1.2s\n",
      "[CV] END class_weight={0: 1, 1: 3}, criterion=gini, max_depth=15, max_samples=0.8, n_estimators=50; total time=   1.2s\n"
     ]
    },
    {
     "name": "stdout",
     "output_type": "stream",
     "text": [
      "[CV] END class_weight={0: 1, 1: 3}, criterion=gini, max_depth=15, max_samples=0.8, n_estimators=100; total time=   2.4s\n",
      "[CV] END class_weight={0: 1, 1: 3}, criterion=gini, max_depth=15, max_samples=0.8, n_estimators=100; total time=   2.5s\n",
      "[CV] END class_weight={0: 1, 1: 3}, criterion=gini, max_depth=15, max_samples=0.8, n_estimators=100; total time=   2.5s\n",
      "[CV] END class_weight={0: 1, 1: 4}, criterion=gini, max_depth=5, max_samples=0.5, n_estimators=50; total time=   0.5s\n",
      "[CV] END class_weight={0: 1, 1: 4}, criterion=gini, max_depth=5, max_samples=0.5, n_estimators=50; total time=   0.5s\n",
      "[CV] END class_weight={0: 1, 1: 4}, criterion=gini, max_depth=5, max_samples=0.5, n_estimators=50; total time=   0.5s\n",
      "[CV] END class_weight={0: 1, 1: 4}, criterion=gini, max_depth=5, max_samples=0.5, n_estimators=100; total time=   1.0s\n",
      "[CV] END class_weight={0: 1, 1: 4}, criterion=gini, max_depth=5, max_samples=0.5, n_estimators=100; total time=   1.1s\n",
      "[CV] END class_weight={0: 1, 1: 4}, criterion=gini, max_depth=5, max_samples=0.5, n_estimators=100; total time=   1.1s\n",
      "[CV] END class_weight={0: 1, 1: 4}, criterion=gini, max_depth=5, max_samples=0.6, n_estimators=50; total time=   0.5s\n",
      "[CV] END class_weight={0: 1, 1: 4}, criterion=gini, max_depth=5, max_samples=0.6, n_estimators=50; total time=   0.5s\n",
      "[CV] END class_weight={0: 1, 1: 4}, criterion=gini, max_depth=5, max_samples=0.6, n_estimators=50; total time=   0.6s\n",
      "[CV] END class_weight={0: 1, 1: 4}, criterion=gini, max_depth=5, max_samples=0.6, n_estimators=100; total time=   1.1s\n",
      "[CV] END class_weight={0: 1, 1: 4}, criterion=gini, max_depth=5, max_samples=0.6, n_estimators=100; total time=   1.1s\n",
      "[CV] END class_weight={0: 1, 1: 4}, criterion=gini, max_depth=5, max_samples=0.6, n_estimators=100; total time=   1.1s\n",
      "[CV] END class_weight={0: 1, 1: 4}, criterion=gini, max_depth=5, max_samples=0.7, n_estimators=50; total time=   0.6s\n",
      "[CV] END class_weight={0: 1, 1: 4}, criterion=gini, max_depth=5, max_samples=0.7, n_estimators=50; total time=   0.6s\n",
      "[CV] END class_weight={0: 1, 1: 4}, criterion=gini, max_depth=5, max_samples=0.7, n_estimators=50; total time=   0.6s\n",
      "[CV] END class_weight={0: 1, 1: 4}, criterion=gini, max_depth=5, max_samples=0.7, n_estimators=100; total time=   1.2s\n",
      "[CV] END class_weight={0: 1, 1: 4}, criterion=gini, max_depth=5, max_samples=0.7, n_estimators=100; total time=   1.2s\n",
      "[CV] END class_weight={0: 1, 1: 4}, criterion=gini, max_depth=5, max_samples=0.7, n_estimators=100; total time=   1.2s\n",
      "[CV] END class_weight={0: 1, 1: 4}, criterion=gini, max_depth=5, max_samples=0.8, n_estimators=50; total time=   0.6s\n",
      "[CV] END class_weight={0: 1, 1: 4}, criterion=gini, max_depth=5, max_samples=0.8, n_estimators=50; total time=   0.6s\n",
      "[CV] END class_weight={0: 1, 1: 4}, criterion=gini, max_depth=5, max_samples=0.8, n_estimators=50; total time=   0.6s\n",
      "[CV] END class_weight={0: 1, 1: 4}, criterion=gini, max_depth=5, max_samples=0.8, n_estimators=100; total time=   1.2s\n",
      "[CV] END class_weight={0: 1, 1: 4}, criterion=gini, max_depth=5, max_samples=0.8, n_estimators=100; total time=   1.2s\n",
      "[CV] END class_weight={0: 1, 1: 4}, criterion=gini, max_depth=5, max_samples=0.8, n_estimators=100; total time=   1.2s\n",
      "[CV] END class_weight={0: 1, 1: 4}, criterion=gini, max_depth=10, max_samples=0.5, n_estimators=50; total time=   0.8s\n",
      "[CV] END class_weight={0: 1, 1: 4}, criterion=gini, max_depth=10, max_samples=0.5, n_estimators=50; total time=   0.8s\n",
      "[CV] END class_weight={0: 1, 1: 4}, criterion=gini, max_depth=10, max_samples=0.5, n_estimators=50; total time=   0.8s\n",
      "[CV] END class_weight={0: 1, 1: 4}, criterion=gini, max_depth=10, max_samples=0.5, n_estimators=100; total time=   1.6s\n",
      "[CV] END class_weight={0: 1, 1: 4}, criterion=gini, max_depth=10, max_samples=0.5, n_estimators=100; total time=   1.6s\n",
      "[CV] END class_weight={0: 1, 1: 4}, criterion=gini, max_depth=10, max_samples=0.5, n_estimators=100; total time=   1.6s\n",
      "[CV] END class_weight={0: 1, 1: 4}, criterion=gini, max_depth=10, max_samples=0.6, n_estimators=50; total time=   0.8s\n",
      "[CV] END class_weight={0: 1, 1: 4}, criterion=gini, max_depth=10, max_samples=0.6, n_estimators=50; total time=   0.8s\n",
      "[CV] END class_weight={0: 1, 1: 4}, criterion=gini, max_depth=10, max_samples=0.6, n_estimators=50; total time=   0.8s\n",
      "[CV] END class_weight={0: 1, 1: 4}, criterion=gini, max_depth=10, max_samples=0.6, n_estimators=100; total time=   1.8s\n",
      "[CV] END class_weight={0: 1, 1: 4}, criterion=gini, max_depth=10, max_samples=0.6, n_estimators=100; total time=   1.7s\n",
      "[CV] END class_weight={0: 1, 1: 4}, criterion=gini, max_depth=10, max_samples=0.6, n_estimators=100; total time=   1.7s\n",
      "[CV] END class_weight={0: 1, 1: 4}, criterion=gini, max_depth=10, max_samples=0.7, n_estimators=50; total time=   0.9s\n",
      "[CV] END class_weight={0: 1, 1: 4}, criterion=gini, max_depth=10, max_samples=0.7, n_estimators=50; total time=   0.9s\n",
      "[CV] END class_weight={0: 1, 1: 4}, criterion=gini, max_depth=10, max_samples=0.7, n_estimators=50; total time=   0.9s\n",
      "[CV] END class_weight={0: 1, 1: 4}, criterion=gini, max_depth=10, max_samples=0.7, n_estimators=100; total time=   1.9s\n",
      "[CV] END class_weight={0: 1, 1: 4}, criterion=gini, max_depth=10, max_samples=0.7, n_estimators=100; total time=   1.9s\n",
      "[CV] END class_weight={0: 1, 1: 4}, criterion=gini, max_depth=10, max_samples=0.7, n_estimators=100; total time=   1.9s\n",
      "[CV] END class_weight={0: 1, 1: 4}, criterion=gini, max_depth=10, max_samples=0.8, n_estimators=50; total time=   1.0s\n",
      "[CV] END class_weight={0: 1, 1: 4}, criterion=gini, max_depth=10, max_samples=0.8, n_estimators=50; total time=   1.0s\n",
      "[CV] END class_weight={0: 1, 1: 4}, criterion=gini, max_depth=10, max_samples=0.8, n_estimators=50; total time=   1.0s\n",
      "[CV] END class_weight={0: 1, 1: 4}, criterion=gini, max_depth=10, max_samples=0.8, n_estimators=100; total time=   2.0s\n",
      "[CV] END class_weight={0: 1, 1: 4}, criterion=gini, max_depth=10, max_samples=0.8, n_estimators=100; total time=   2.0s\n",
      "[CV] END class_weight={0: 1, 1: 4}, criterion=gini, max_depth=10, max_samples=0.8, n_estimators=100; total time=   2.0s\n",
      "[CV] END class_weight={0: 1, 1: 4}, criterion=gini, max_depth=15, max_samples=0.5, n_estimators=50; total time=   0.9s\n",
      "[CV] END class_weight={0: 1, 1: 4}, criterion=gini, max_depth=15, max_samples=0.5, n_estimators=50; total time=   0.9s\n",
      "[CV] END class_weight={0: 1, 1: 4}, criterion=gini, max_depth=15, max_samples=0.5, n_estimators=50; total time=   0.9s\n",
      "[CV] END class_weight={0: 1, 1: 4}, criterion=gini, max_depth=15, max_samples=0.5, n_estimators=100; total time=   1.9s\n",
      "[CV] END class_weight={0: 1, 1: 4}, criterion=gini, max_depth=15, max_samples=0.5, n_estimators=100; total time=   1.9s\n",
      "[CV] END class_weight={0: 1, 1: 4}, criterion=gini, max_depth=15, max_samples=0.5, n_estimators=100; total time=   2.1s\n",
      "[CV] END class_weight={0: 1, 1: 4}, criterion=gini, max_depth=15, max_samples=0.6, n_estimators=50; total time=   1.1s\n",
      "[CV] END class_weight={0: 1, 1: 4}, criterion=gini, max_depth=15, max_samples=0.6, n_estimators=50; total time=   1.1s\n",
      "[CV] END class_weight={0: 1, 1: 4}, criterion=gini, max_depth=15, max_samples=0.6, n_estimators=50; total time=   1.1s\n",
      "[CV] END class_weight={0: 1, 1: 4}, criterion=gini, max_depth=15, max_samples=0.6, n_estimators=100; total time=   2.2s\n",
      "[CV] END class_weight={0: 1, 1: 4}, criterion=gini, max_depth=15, max_samples=0.6, n_estimators=100; total time=   2.2s\n",
      "[CV] END class_weight={0: 1, 1: 4}, criterion=gini, max_depth=15, max_samples=0.6, n_estimators=100; total time=   2.2s\n",
      "[CV] END class_weight={0: 1, 1: 4}, criterion=gini, max_depth=15, max_samples=0.7, n_estimators=50; total time=   1.1s\n",
      "[CV] END class_weight={0: 1, 1: 4}, criterion=gini, max_depth=15, max_samples=0.7, n_estimators=50; total time=   1.1s\n",
      "[CV] END class_weight={0: 1, 1: 4}, criterion=gini, max_depth=15, max_samples=0.7, n_estimators=50; total time=   1.1s\n",
      "[CV] END class_weight={0: 1, 1: 4}, criterion=gini, max_depth=15, max_samples=0.7, n_estimators=100; total time=   2.2s\n",
      "[CV] END class_weight={0: 1, 1: 4}, criterion=gini, max_depth=15, max_samples=0.7, n_estimators=100; total time=   2.3s\n",
      "[CV] END class_weight={0: 1, 1: 4}, criterion=gini, max_depth=15, max_samples=0.7, n_estimators=100; total time=   2.3s\n"
     ]
    },
    {
     "name": "stdout",
     "output_type": "stream",
     "text": [
      "[CV] END class_weight={0: 1, 1: 4}, criterion=gini, max_depth=15, max_samples=0.8, n_estimators=50; total time=   1.2s\n",
      "[CV] END class_weight={0: 1, 1: 4}, criterion=gini, max_depth=15, max_samples=0.8, n_estimators=50; total time=   1.2s\n",
      "[CV] END class_weight={0: 1, 1: 4}, criterion=gini, max_depth=15, max_samples=0.8, n_estimators=50; total time=   1.3s\n",
      "[CV] END class_weight={0: 1, 1: 4}, criterion=gini, max_depth=15, max_samples=0.8, n_estimators=100; total time=   2.5s\n",
      "[CV] END class_weight={0: 1, 1: 4}, criterion=gini, max_depth=15, max_samples=0.8, n_estimators=100; total time=   2.6s\n",
      "[CV] END class_weight={0: 1, 1: 4}, criterion=gini, max_depth=15, max_samples=0.8, n_estimators=100; total time=   2.5s\n",
      "[CV] END class_weight={0: 1, 1: 5}, criterion=gini, max_depth=5, max_samples=0.5, n_estimators=50; total time=   0.5s\n",
      "[CV] END class_weight={0: 1, 1: 5}, criterion=gini, max_depth=5, max_samples=0.5, n_estimators=50; total time=   0.5s\n",
      "[CV] END class_weight={0: 1, 1: 5}, criterion=gini, max_depth=5, max_samples=0.5, n_estimators=50; total time=   0.5s\n",
      "[CV] END class_weight={0: 1, 1: 5}, criterion=gini, max_depth=5, max_samples=0.5, n_estimators=100; total time=   1.0s\n",
      "[CV] END class_weight={0: 1, 1: 5}, criterion=gini, max_depth=5, max_samples=0.5, n_estimators=100; total time=   1.0s\n",
      "[CV] END class_weight={0: 1, 1: 5}, criterion=gini, max_depth=5, max_samples=0.5, n_estimators=100; total time=   1.0s\n",
      "[CV] END class_weight={0: 1, 1: 5}, criterion=gini, max_depth=5, max_samples=0.6, n_estimators=50; total time=   0.5s\n",
      "[CV] END class_weight={0: 1, 1: 5}, criterion=gini, max_depth=5, max_samples=0.6, n_estimators=50; total time=   0.5s\n",
      "[CV] END class_weight={0: 1, 1: 5}, criterion=gini, max_depth=5, max_samples=0.6, n_estimators=50; total time=   0.5s\n",
      "[CV] END class_weight={0: 1, 1: 5}, criterion=gini, max_depth=5, max_samples=0.6, n_estimators=100; total time=   1.1s\n",
      "[CV] END class_weight={0: 1, 1: 5}, criterion=gini, max_depth=5, max_samples=0.6, n_estimators=100; total time=   1.1s\n",
      "[CV] END class_weight={0: 1, 1: 5}, criterion=gini, max_depth=5, max_samples=0.6, n_estimators=100; total time=   1.1s\n",
      "[CV] END class_weight={0: 1, 1: 5}, criterion=gini, max_depth=5, max_samples=0.7, n_estimators=50; total time=   0.6s\n",
      "[CV] END class_weight={0: 1, 1: 5}, criterion=gini, max_depth=5, max_samples=0.7, n_estimators=50; total time=   0.6s\n",
      "[CV] END class_weight={0: 1, 1: 5}, criterion=gini, max_depth=5, max_samples=0.7, n_estimators=50; total time=   0.6s\n",
      "[CV] END class_weight={0: 1, 1: 5}, criterion=gini, max_depth=5, max_samples=0.7, n_estimators=100; total time=   1.2s\n",
      "[CV] END class_weight={0: 1, 1: 5}, criterion=gini, max_depth=5, max_samples=0.7, n_estimators=100; total time=   1.2s\n",
      "[CV] END class_weight={0: 1, 1: 5}, criterion=gini, max_depth=5, max_samples=0.7, n_estimators=100; total time=   1.2s\n",
      "[CV] END class_weight={0: 1, 1: 5}, criterion=gini, max_depth=5, max_samples=0.8, n_estimators=50; total time=   0.6s\n",
      "[CV] END class_weight={0: 1, 1: 5}, criterion=gini, max_depth=5, max_samples=0.8, n_estimators=50; total time=   0.6s\n",
      "[CV] END class_weight={0: 1, 1: 5}, criterion=gini, max_depth=5, max_samples=0.8, n_estimators=50; total time=   0.6s\n",
      "[CV] END class_weight={0: 1, 1: 5}, criterion=gini, max_depth=5, max_samples=0.8, n_estimators=100; total time=   1.3s\n",
      "[CV] END class_weight={0: 1, 1: 5}, criterion=gini, max_depth=5, max_samples=0.8, n_estimators=100; total time=   1.3s\n",
      "[CV] END class_weight={0: 1, 1: 5}, criterion=gini, max_depth=5, max_samples=0.8, n_estimators=100; total time=   1.3s\n",
      "[CV] END class_weight={0: 1, 1: 5}, criterion=gini, max_depth=10, max_samples=0.5, n_estimators=50; total time=   0.8s\n",
      "[CV] END class_weight={0: 1, 1: 5}, criterion=gini, max_depth=10, max_samples=0.5, n_estimators=50; total time=   0.8s\n",
      "[CV] END class_weight={0: 1, 1: 5}, criterion=gini, max_depth=10, max_samples=0.5, n_estimators=50; total time=   0.8s\n",
      "[CV] END class_weight={0: 1, 1: 5}, criterion=gini, max_depth=10, max_samples=0.5, n_estimators=100; total time=   1.6s\n",
      "[CV] END class_weight={0: 1, 1: 5}, criterion=gini, max_depth=10, max_samples=0.5, n_estimators=100; total time=   1.6s\n",
      "[CV] END class_weight={0: 1, 1: 5}, criterion=gini, max_depth=10, max_samples=0.5, n_estimators=100; total time=   1.6s\n",
      "[CV] END class_weight={0: 1, 1: 5}, criterion=gini, max_depth=10, max_samples=0.6, n_estimators=50; total time=   0.8s\n",
      "[CV] END class_weight={0: 1, 1: 5}, criterion=gini, max_depth=10, max_samples=0.6, n_estimators=50; total time=   0.8s\n",
      "[CV] END class_weight={0: 1, 1: 5}, criterion=gini, max_depth=10, max_samples=0.6, n_estimators=50; total time=   0.8s\n",
      "[CV] END class_weight={0: 1, 1: 5}, criterion=gini, max_depth=10, max_samples=0.6, n_estimators=100; total time=   1.7s\n",
      "[CV] END class_weight={0: 1, 1: 5}, criterion=gini, max_depth=10, max_samples=0.6, n_estimators=100; total time=   1.7s\n",
      "[CV] END class_weight={0: 1, 1: 5}, criterion=gini, max_depth=10, max_samples=0.6, n_estimators=100; total time=   1.7s\n",
      "[CV] END class_weight={0: 1, 1: 5}, criterion=gini, max_depth=10, max_samples=0.7, n_estimators=50; total time=   0.9s\n",
      "[CV] END class_weight={0: 1, 1: 5}, criterion=gini, max_depth=10, max_samples=0.7, n_estimators=50; total time=   0.9s\n",
      "[CV] END class_weight={0: 1, 1: 5}, criterion=gini, max_depth=10, max_samples=0.7, n_estimators=50; total time=   0.9s\n",
      "[CV] END class_weight={0: 1, 1: 5}, criterion=gini, max_depth=10, max_samples=0.7, n_estimators=100; total time=   1.9s\n",
      "[CV] END class_weight={0: 1, 1: 5}, criterion=gini, max_depth=10, max_samples=0.7, n_estimators=100; total time=   1.9s\n",
      "[CV] END class_weight={0: 1, 1: 5}, criterion=gini, max_depth=10, max_samples=0.7, n_estimators=100; total time=   1.9s\n",
      "[CV] END class_weight={0: 1, 1: 5}, criterion=gini, max_depth=10, max_samples=0.8, n_estimators=50; total time=   1.0s\n",
      "[CV] END class_weight={0: 1, 1: 5}, criterion=gini, max_depth=10, max_samples=0.8, n_estimators=50; total time=   1.0s\n",
      "[CV] END class_weight={0: 1, 1: 5}, criterion=gini, max_depth=10, max_samples=0.8, n_estimators=50; total time=   1.0s\n",
      "[CV] END class_weight={0: 1, 1: 5}, criterion=gini, max_depth=10, max_samples=0.8, n_estimators=100; total time=   2.0s\n",
      "[CV] END class_weight={0: 1, 1: 5}, criterion=gini, max_depth=10, max_samples=0.8, n_estimators=100; total time=   2.0s\n",
      "[CV] END class_weight={0: 1, 1: 5}, criterion=gini, max_depth=10, max_samples=0.8, n_estimators=100; total time=   1.9s\n",
      "[CV] END class_weight={0: 1, 1: 5}, criterion=gini, max_depth=15, max_samples=0.5, n_estimators=50; total time=   0.9s\n",
      "[CV] END class_weight={0: 1, 1: 5}, criterion=gini, max_depth=15, max_samples=0.5, n_estimators=50; total time=   0.9s\n",
      "[CV] END class_weight={0: 1, 1: 5}, criterion=gini, max_depth=15, max_samples=0.5, n_estimators=50; total time=   0.9s\n",
      "[CV] END class_weight={0: 1, 1: 5}, criterion=gini, max_depth=15, max_samples=0.5, n_estimators=100; total time=   1.9s\n",
      "[CV] END class_weight={0: 1, 1: 5}, criterion=gini, max_depth=15, max_samples=0.5, n_estimators=100; total time=   1.9s\n",
      "[CV] END class_weight={0: 1, 1: 5}, criterion=gini, max_depth=15, max_samples=0.5, n_estimators=100; total time=   1.9s\n",
      "[CV] END class_weight={0: 1, 1: 5}, criterion=gini, max_depth=15, max_samples=0.6, n_estimators=50; total time=   1.0s\n",
      "[CV] END class_weight={0: 1, 1: 5}, criterion=gini, max_depth=15, max_samples=0.6, n_estimators=50; total time=   1.0s\n",
      "[CV] END class_weight={0: 1, 1: 5}, criterion=gini, max_depth=15, max_samples=0.6, n_estimators=50; total time=   1.0s\n",
      "[CV] END class_weight={0: 1, 1: 5}, criterion=gini, max_depth=15, max_samples=0.6, n_estimators=100; total time=   2.1s\n",
      "[CV] END class_weight={0: 1, 1: 5}, criterion=gini, max_depth=15, max_samples=0.6, n_estimators=100; total time=   2.1s\n",
      "[CV] END class_weight={0: 1, 1: 5}, criterion=gini, max_depth=15, max_samples=0.6, n_estimators=100; total time=   2.1s\n",
      "[CV] END class_weight={0: 1, 1: 5}, criterion=gini, max_depth=15, max_samples=0.7, n_estimators=50; total time=   1.1s\n",
      "[CV] END class_weight={0: 1, 1: 5}, criterion=gini, max_depth=15, max_samples=0.7, n_estimators=50; total time=   1.1s\n",
      "[CV] END class_weight={0: 1, 1: 5}, criterion=gini, max_depth=15, max_samples=0.7, n_estimators=50; total time=   1.1s\n"
     ]
    },
    {
     "name": "stdout",
     "output_type": "stream",
     "text": [
      "[CV] END class_weight={0: 1, 1: 5}, criterion=gini, max_depth=15, max_samples=0.7, n_estimators=100; total time=   2.3s\n",
      "[CV] END class_weight={0: 1, 1: 5}, criterion=gini, max_depth=15, max_samples=0.7, n_estimators=100; total time=   2.3s\n",
      "[CV] END class_weight={0: 1, 1: 5}, criterion=gini, max_depth=15, max_samples=0.7, n_estimators=100; total time=   2.3s\n",
      "[CV] END class_weight={0: 1, 1: 5}, criterion=gini, max_depth=15, max_samples=0.8, n_estimators=50; total time=   1.2s\n",
      "[CV] END class_weight={0: 1, 1: 5}, criterion=gini, max_depth=15, max_samples=0.8, n_estimators=50; total time=   1.2s\n",
      "[CV] END class_weight={0: 1, 1: 5}, criterion=gini, max_depth=15, max_samples=0.8, n_estimators=50; total time=   1.2s\n",
      "[CV] END class_weight={0: 1, 1: 5}, criterion=gini, max_depth=15, max_samples=0.8, n_estimators=100; total time=   2.4s\n",
      "[CV] END class_weight={0: 1, 1: 5}, criterion=gini, max_depth=15, max_samples=0.8, n_estimators=100; total time=   2.4s\n",
      "[CV] END class_weight={0: 1, 1: 5}, criterion=gini, max_depth=15, max_samples=0.8, n_estimators=100; total time=   2.4s\n",
      "{'class_weight': {0: 1, 1: 3}, 'criterion': 'gini', 'max_depth': 10, 'max_samples': 0.5, 'n_estimators': 100}\n",
      "0.5762590824117426\n"
     ]
    }
   ],
   "source": [
    "# random forest + grid search\n",
    "from sklearn.model_selection import GridSearchCV\n",
    "def mcc_calculate(y_true, y_predicted):\n",
    "    conf_matrix = confusion_matrix(y_true, y_predicted)\n",
    "#     print(y_true.value_counts()[0], y_true.value_counts()[1])\n",
    "    TP = conf_matrix[0][0]\n",
    "    FN = conf_matrix[0][1]\n",
    "    FP = conf_matrix[1][0]\n",
    "    TN = conf_matrix[1][1]\n",
    "    if TP + FP == 0  or TP + FN == 0 or TN + FP == 0 or TN + FN == 0:\n",
    "#         print(conf_matrix)\n",
    "        return 0\n",
    "    return float(TP * TN - FP * FN ) / np.sqrt((TP+FP) * (TP+FN) * (TN+FP) * (TN+FN))\n",
    "\n",
    "# myscorer = make_scorer(matthews_corrcoef)\n",
    "myscorer = make_scorer(mcc_calculate)\n",
    "parameters = {\n",
    "    'n_estimators' : [50, 100],\n",
    "    'max_depth': [5, 10, 15],\n",
    "    'criterion' : ['gini'],\n",
    "    'class_weight': [{0: 1, 1: 3}, {0: 1, 1: 4}, {0: 1, 1: 5}],\n",
    "    'max_samples':[0.5, 0.6, 0.7, 0.8]\n",
    "}\n",
    "\n",
    "mygridsearch = GridSearchCV(estimator = RandomForestClassifier(),\\\n",
    "                            param_grid = parameters,\\\n",
    "                            scoring = myscorer,\\\n",
    "                            cv = KFold(n_splits=3, shuffle=True),\\\n",
    "                            verbose = 2)\n",
    "mygridsearch.fit(X, y)\n",
    "print(mygridsearch.best_params_)\n",
    "print(mygridsearch.best_score_)"
   ]
  },
  {
   "cell_type": "code",
   "execution_count": 334,
   "metadata": {
    "code_folding": [
     0
    ],
    "hidden": true
   },
   "outputs": [
    {
     "name": "stdout",
     "output_type": "stream",
     "text": [
      "number of yes in train 4232, in test 1057, in predict 1396, mcc score is 0.5781\n",
      "number of yes in train 4242, in test 1047, in predict 1359, mcc score is 0.5480\n",
      "number of yes in train 4149, in test 1140, in predict 1482, mcc score is 0.5969\n",
      "number of yes in train 4264, in test 1025, in predict 1389, mcc score is 0.5742\n",
      "number of yes in train 4269, in test 1020, in predict 1385, mcc score is 0.5880\n",
      "mean score 0.5770\n"
     ]
    }
   ],
   "source": [
    "# rft {'class_weight': {0: 1, 1: 3}, 'criterion': 'gini', 'max_depth': 10, 'max_samples': 0.5, 'n_estimators': 100}\n",
    "para = {'class_weight': {0: 1, 1: 3},\n",
    "        'criterion': 'gini', \n",
    "        'max_depth': 10, \n",
    "        'max_samples': 0.5, \n",
    "        'n_estimators': 100}\n",
    "rftree = RandomForestClassifier(**para)\n",
    "kf = KFold(n_splits=5, shuffle = True, random_state = 123)\n",
    "\n",
    "score_array = np.zeros(5)\n",
    "for (ii, (train_index, test_index)) in enumerate(kf.split(X, y)):\n",
    "#     print(\"TRAIN:\", train_index, \"TEST:\", test_index)\n",
    "    X_train, X_test = X.loc[train_index], X.loc[test_index]\n",
    "    y_train, y_test = y.iloc[train_index], y.iloc[test_index]\n",
    "    rftree.fit(X_train, y_train)\n",
    "    y_predict = rftree.predict(X_test)\n",
    "    myscore = matthews_corrcoef(y_test, y_predict)\n",
    "    score_array[ii] = myscore\n",
    "    print(\"number of yes in train {:d}, in test {:d}, in predict {:d}, mcc score is {:.4f}\".format(y_train.value_counts()[1],\\\n",
    "                                                                                                  y_test.value_counts()[1],\\\n",
    "                                                                                                  sum(y_predict),\\\n",
    "                                                                                                  myscore))\n",
    "print(\"mean score {:.4f}\".format(np.mean(score_array)))"
   ]
  },
  {
   "cell_type": "code",
   "execution_count": 336,
   "metadata": {
    "code_folding": [
     0
    ],
    "hidden": true
   },
   "outputs": [
    {
     "name": "stdout",
     "output_type": "stream",
     "text": [
      "number of yes in train 4274, in test 1015, in predict 1466, mcc score is 0.5736\n",
      "number of yes in train 4182, in test 1107, in predict 1462, mcc score is 0.5792\n",
      "number of yes in train 4222, in test 1067, in predict 1554, mcc score is 0.5730\n",
      "number of yes in train 4231, in test 1058, in predict 1528, mcc score is 0.5832\n",
      "number of yes in train 4247, in test 1042, in predict 1468, mcc score is 0.6028\n",
      "mean score 0.5824\n"
     ]
    }
   ],
   "source": [
    "# rft {'cls_weasight': {0: 1, 1: 3}, 'criterion': 'gini', 'max_depth': 15, 'min_samples_leaf': 10, 'n_estimators': 100}\n",
    "para = {'class_weight': {0: 1, 1: 3},\n",
    "        'criterion': 'gini', \n",
    "        'max_depth': 15,\n",
    "        'min_samples_leaf': 10,\n",
    "        'n_estimators': 100}\n",
    "rftree = RandomForestClassifier(**para)\n",
    "kf = KFold(n_splits=5, shuffle = True)\n",
    "\n",
    "score_array = np.zeros(5)\n",
    "for (ii, (train_index, test_index)) in enumerate(kf.split(X, y)):\n",
    "#     print(\"TRAIN:\", train_index, \"TEST:\", test_index)\n",
    "    X_train, X_test = X.loc[train_index], X.loc[test_index]\n",
    "    y_train, y_test = y.iloc[train_index], y.iloc[test_index]\n",
    "    rftree.fit(X_train, y_train)\n",
    "    y_predict = rftree.predict(X_test)\n",
    "    myscore = matthews_corrcoef(y_test, y_predict)\n",
    "    score_array[ii] = myscore\n",
    "    print(\"number of yes in train {:d}, in test {:d}, in predict {:d}, mcc score is {:.4f}\".format(y_train.value_counts()[1],\\\n",
    "                                                                                                  y_test.value_counts()[1],\\\n",
    "                                                                                                  sum(y_predict),\\\n",
    "                                                                                                  myscore))\n",
    "print(\"mean score {:.4f}\".format(np.mean(score_array)))"
   ]
  },
  {
   "cell_type": "code",
   "execution_count": 337,
   "metadata": {
    "hidden": true
   },
   "outputs": [
    {
     "data": {
      "text/plain": [
       "[('duration', 0.451688678360324),\n",
       " ('year_2008', 0.10545011976804973),\n",
       " ('year_2010', 0.09314808297485999),\n",
       " ('Encode-date_2009_1_2_4_5', 0.06203690545821925),\n",
       " ('poutcome_success', 0.06073413471313118),\n",
       " ('balance', 0.04124448782324363),\n",
       " ('age', 0.036204297048834044),\n",
       " ('year_2009', 0.029348396800503905),\n",
       " ('housing_yes', 0.02626500586473008),\n",
       " ('housing_no', 0.022637040129682713),\n",
       " ('contact_unknown', 0.01997766574420627),\n",
       " ('pdays_0-143', 0.01787029143610199),\n",
       " ('contact_cellular', 0.010461810738168853),\n",
       " ('Encode-date_2008_10', 0.0065252258382430045),\n",
       " ('Encode-date_2009_6_7_8', 0.005125365172374584),\n",
       " ('job_encode_negative', 0.0046219654172029575),\n",
       " ('job_encode_positive', 0.003460904918127972),\n",
       " ('contact_telephone', 0.0030490028212497096),\n",
       " ('job_encode_unknown', 0.00015061897274620324)]"
      ]
     },
     "execution_count": 337,
     "metadata": {},
     "output_type": "execute_result"
    }
   ],
   "source": [
    "feature_importance = rftree.fit(X,y).feature_importances_\n",
    "feature_importance_list = []\n",
    "for (ii, col) in enumerate(X.columns):\n",
    "    feature_importance_list.append((col, feature_importance[ii]))\n",
    "feature_importance_list.sort(reverse=True, key=lambda occurance: occurance[1])\n",
    "feature_importance_list"
   ]
  },
  {
   "cell_type": "code",
   "execution_count": 338,
   "metadata": {
    "hidden": true
   },
   "outputs": [
    {
     "data": {
      "text/plain": [
       "Index(['duration', 'age', 'year_2008', 'year_2009', 'year_2010', 'balance',\n",
       "       'job_encode_negative', 'job_encode_positive', 'job_encode_unknown',\n",
       "       'housing_yes', 'housing_no', 'contact_unknown', 'contact_telephone',\n",
       "       'contact_cellular', 'Encode-date_2008_10', 'Encode-date_2009_1_2_4_5',\n",
       "       'Encode-date_2009_6_7_8', 'pdays_0-143', 'poutcome_success'],\n",
       "      dtype='object')"
      ]
     },
     "execution_count": 338,
     "metadata": {},
     "output_type": "execute_result"
    }
   ],
   "source": [
    "X.columns"
   ]
  },
  {
   "cell_type": "code",
   "execution_count": 340,
   "metadata": {
    "hidden": true
   },
   "outputs": [
    {
     "data": {
      "text/plain": [
       "(45211, 19)"
      ]
     },
     "execution_count": 340,
     "metadata": {},
     "output_type": "execute_result"
    }
   ],
   "source": [
    "X.shape"
   ]
  },
  {
   "cell_type": "code",
   "execution_count": 343,
   "metadata": {
    "code_folding": [],
    "hidden": true,
    "scrolled": true
   },
   "outputs": [
    {
     "name": "stdout",
     "output_type": "stream",
     "text": [
      "number of yes in train 4232, in test 1057, in predict 1373, mcc score is 0.56\n",
      "number of yes in train 4242, in test 1047, in predict 1481, mcc score is 0.53\n",
      "number of yes in train 4149, in test 1140, in predict 1604, mcc score is 0.56\n",
      "number of yes in train 4264, in test 1025, in predict 1502, mcc score is 0.54\n",
      "number of yes in train 4269, in test 1020, in predict 1453, mcc score is 0.55\n",
      "mean score 0.5475\n"
     ]
    }
   ],
   "source": [
    "# decision tree {'class_weight': {0: 1, 1: 2.625}, 'criterion': 'gini', 'max_depth': 10, 'max_features': 40}\n",
    "para = {'class_weight': {0: 1, 1: 2.625}, 'criterion': 'gini', 'max_depth': 10}\n",
    "dtree = DecisionTreeClassifier(**para)\n",
    "kf = KFold(n_splits=5, shuffle = True, random_state = 123)\n",
    "\n",
    "score_array = np.zeros(5)\n",
    "for (ii, (train_index, test_index)) in enumerate(kf.split(X, y)):\n",
    "#     print(\"TRAIN:\", train_index, \"TEST:\", test_index)\n",
    "    X_train, X_test = X.loc[train_index], X.loc[test_index]\n",
    "    y_train, y_test = y.iloc[train_index], y.iloc[test_index]\n",
    "    dtree.fit(X_train, y_train)\n",
    "    y_predict = dtree.predict(X_test)\n",
    "    myscore = matthews_corrcoef(y_test, y_predict)\n",
    "    score_array[ii] = myscore\n",
    "    print(\"number of yes in train {:d}, in test {:d}, in predict {:d}, mcc score is {:.2f}\".format(y_train.value_counts()[1],\\\n",
    "                                                                                                  y_test.value_counts()[1],\\\n",
    "                                                                                                  sum(y_predict),\\\n",
    "                                                                                                  myscore))\n",
    "print(\"mean score {:.4f}\".format(np.mean(score_array)))"
   ]
  },
  {
   "cell_type": "code",
   "execution_count": null,
   "metadata": {
    "hidden": true
   },
   "outputs": [],
   "source": []
  }
 ],
 "metadata": {
  "kernelspec": {
   "display_name": "Python 3",
   "language": "python",
   "name": "python3"
  },
  "language_info": {
   "codemirror_mode": {
    "name": "ipython",
    "version": 3
   },
   "file_extension": ".py",
   "mimetype": "text/x-python",
   "name": "python",
   "nbconvert_exporter": "python",
   "pygments_lexer": "ipython3",
   "version": "3.6.5"
  }
 },
 "nbformat": 4,
 "nbformat_minor": 2
}
